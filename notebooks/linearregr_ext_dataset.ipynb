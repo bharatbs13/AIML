{
  "nbformat": 4,
  "nbformat_minor": 0,
  "metadata": {
    "kernelspec": {
      "display_name": "Python 3",
      "language": "python",
      "name": "python3"
    },
    "language_info": {
      "codemirror_mode": {
        "name": "ipython",
        "version": 3
      },
      "file_extension": ".py",
      "mimetype": "text/x-python",
      "name": "python",
      "nbconvert_exporter": "python",
      "pygments_lexer": "ipython3",
      "version": "3.7.1"
    },
    "colab": {
      "name": "linearregr_ext_dataset.ipynb",
      "provenance": []
    }
  },
  "cells": [
    {
      "cell_type": "code",
      "metadata": {
        "id": "B8AT6XJLwjEy",
        "colab_type": "code",
        "colab": {}
      },
      "source": [
        "from __future__ import print_function\n",
        "import numpy as np\n",
        "import matplotlib.pyplot as plt\n",
        "import pandas as pd"
      ],
      "execution_count": 0,
      "outputs": []
    },
    {
      "cell_type": "code",
      "metadata": {
        "id": "zIrqq4mEwjE7",
        "colab_type": "code",
        "colab": {},
        "outputId": "03d2ca38-dfc6-43ee-cf14-b9a57cd72ac4"
      },
      "source": [
        "\n"
      ],
      "execution_count": 0,
      "outputs": [
        {
          "output_type": "stream",
          "text": [
            "(21, 1)\n",
            "(9, 1)\n"
          ],
          "name": "stdout"
        }
      ]
    },
    {
      "cell_type": "code",
      "metadata": {
        "id": "VAbtkaL7x1mG",
        "colab_type": "code",
        "colab": {
          "base_uri": "https://localhost:8080/",
          "height": 295
        },
        "outputId": "69fc37ce-4778-4372-c9e5-86605d02f43c"
      },
      "source": [
        "number_of_samples = 100\n",
        "X = np.linspace(-np.pi, np.pi, number_of_samples)\n",
        "y = 0.5*X+np.sin(X)+np.random.random(X.shape)\n",
        "plt.scatter(X,y,color='black') #Plot y-vs-x in dots\n",
        "plt.xlabel('x-input feature')\n",
        "plt.ylabel('y-target values')\n",
        "plt.title('Fig 1: Data for linear regression')\n",
        "plt.show()"
      ],
      "execution_count": 8,
      "outputs": [
        {
          "output_type": "display_data",
          "data": {
            "image/png": "[encoded data removed]",
            "text/plain": [
              "<Figure size 432x288 with 1 Axes>"
            ]
          },
          "metadata": {
            "tags": []
          }
        }
      ]
    },
    {
      "cell_type": "code",
      "metadata": {
        "id": "hZ3rBscFx48v",
        "colab_type": "code",
        "colab": {
          "base_uri": "https://localhost:8080/",
          "height": 33
        },
        "outputId": "15c8fba7-e3ec-4b32-edc4-680f8f60b401"
      },
      "source": [
        "from sklearn.model_selection import train_test_split\n",
        "X_train, X_test, y_train, y_test = train_test_split (X, y, test_size = 0.3, random_state = 42)\n",
        "X_train = X_train.reshape(X_train.shape[0], 1)\n",
        "y_train = y_train.reshape(y_train.shape[0], 1)\n",
        "\n",
        "X_test = X_test.reshape(X_test.shape[0], 1)\n",
        "y_test = y_test.reshape(y_test.shape[0], 1)\n",
        "\n",
        "print (X_train.shape, X_test.shape, y_train.shape, y_test.shape)\n"
      ],
      "execution_count": 9,
      "outputs": [
        {
          "output_type": "stream",
          "text": [
            "(70, 1) (30, 1) (70, 1) (30, 1)\n"
          ],
          "name": "stdout"
        }
      ]
    },
    {
      "cell_type": "code",
      "metadata": {
        "id": "Qnbsye-JwjE-",
        "colab_type": "code",
        "colab": {
          "base_uri": "https://localhost:8080/",
          "height": 573
        },
        "outputId": "fbe7f46a-8464-4155-9546-87bad9da53a6"
      },
      "source": [
        "# Fitting Simple Linear Regression to the Training set\n",
        "from sklearn.linear_model import SGDRegressor\n",
        "\n",
        "regressor = SGDRegressor(eta0=0.1,max_iter=1000,tol=1e-3,verbose=1)\n",
        "regressor.fit(X_train, y_train )\n",
        "\n",
        "# Predicting the Test set results\n",
        "y_pred = regressor.predict(X_test)\n"
      ],
      "execution_count": 10,
      "outputs": [
        {
          "output_type": "stream",
          "text": [
            "-- Epoch 1\n",
            "Norm: 0.79, NNZs: 1, Bias: 0.539370, T: 70, Avg. loss: 0.199179\n",
            "Total training time: 0.00 seconds.\n",
            "-- Epoch 2\n",
            "Norm: 0.69, NNZs: 1, Bias: 0.443044, T: 140, Avg. loss: 0.158861\n",
            "Total training time: 0.00 seconds.\n",
            "-- Epoch 3\n",
            "Norm: 0.77, NNZs: 1, Bias: 0.468922, T: 210, Avg. loss: 0.158298\n",
            "Total training time: 0.00 seconds.\n",
            "-- Epoch 4\n",
            "Norm: 0.73, NNZs: 1, Bias: 0.507051, T: 280, Avg. loss: 0.156149\n",
            "Total training time: 0.00 seconds.\n",
            "-- Epoch 5\n",
            "Norm: 0.84, NNZs: 1, Bias: 0.447924, T: 350, Avg. loss: 0.151080\n",
            "Total training time: 0.00 seconds.\n",
            "-- Epoch 6\n",
            "Norm: 0.66, NNZs: 1, Bias: 0.449624, T: 420, Avg. loss: 0.156129\n",
            "Total training time: 0.00 seconds.\n",
            "-- Epoch 7\n",
            "Norm: 0.72, NNZs: 1, Bias: 0.469487, T: 490, Avg. loss: 0.154570\n",
            "Total training time: 0.00 seconds.\n",
            "-- Epoch 8\n",
            "Norm: 0.71, NNZs: 1, Bias: 0.505623, T: 560, Avg. loss: 0.157197\n",
            "Total training time: 0.00 seconds.\n",
            "-- Epoch 9\n",
            "Norm: 0.77, NNZs: 1, Bias: 0.501759, T: 630, Avg. loss: 0.156413\n",
            "Total training time: 0.00 seconds.\n",
            "-- Epoch 10\n",
            "Norm: 0.78, NNZs: 1, Bias: 0.481129, T: 700, Avg. loss: 0.155160\n",
            "Total training time: 0.00 seconds.\n",
            "Convergence after 10 epochs took 0.00 seconds\n"
          ],
          "name": "stdout"
        },
        {
          "output_type": "stream",
          "text": [
            "/usr/local/lib/python3.6/dist-packages/sklearn/utils/validation.py:724: DataConversionWarning: A column-vector y was passed when a 1d array was expected. Please change the shape of y to (n_samples, ), for example using ravel().\n",
            "  y = column_or_1d(y, warn=True)\n"
          ],
          "name": "stderr"
        }
      ]
    },
    {
      "cell_type": "code",
      "metadata": {
        "id": "gCL-1r1lwjFC",
        "colab_type": "code",
        "colab": {
          "base_uri": "https://localhost:8080/",
          "height": 295
        },
        "outputId": "7c789af6-2b8d-4065-a084-981c50929b38"
      },
      "source": [
        "# Visualising the Test set results\n",
        "plt.scatter(X_test, y_test, color = 'red')\n",
        "plt.plot(X_test, regressor.predict(X_test), color = 'blue')\n",
        "plt.title('X Vs y')\n",
        "plt.xlabel('X')\n",
        "plt.ylabel('y')\n",
        "plt.show()\n",
        "\n"
      ],
      "execution_count": 11,
      "outputs": [
        {
          "output_type": "display_data",
          "data": {
            "image/png": "[encoded data removed]",
            "text/plain": [
              "<Figure size 432x288 with 1 Axes>"
            ]
          },
          "metadata": {
            "tags": []
          }
        }
      ]
    },
    {
      "cell_type": "code",
      "metadata": {
        "id": "3ZkXfRVwwjFF",
        "colab_type": "code",
        "colab": {
          "base_uri": "https://localhost:8080/",
          "height": 66
        },
        "outputId": "d3d21ed5-3ecb-4090-88e8-591b3174461d"
      },
      "source": [
        "\n",
        "from sklearn import metrics\n",
        "from sklearn.metrics import mean_absolute_error,r2_score\n",
        "abs_error = mean_absolute_error(y_test, y_pred)\n",
        "print (\"Absolute error : \",abs_error)\n",
        "\n",
        "# mean_sq_error = np.mean((y_pred - y_test_np)**2)\n",
        "print (\"Mean Squared error : \",np.sqrt(metrics.mean_squared_error(y_test, y_pred)))\n",
        "\n",
        "r2 = r2_score(y_test, y_pred)\n",
        "print (\"R2 error : \",r2)\n"
      ],
      "execution_count": 12,
      "outputs": [
        {
          "output_type": "stream",
          "text": [
            "Absolute error :  0.4912269360199597\n",
            "Mean Squared error :  0.5402569518208677\n",
            "R2 error :  0.8922996473007386\n"
          ],
          "name": "stdout"
        }
      ]
    }
  ]
}