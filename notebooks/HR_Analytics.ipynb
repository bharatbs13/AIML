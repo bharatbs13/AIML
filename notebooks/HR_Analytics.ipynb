{
  "nbformat": 4,
  "nbformat_minor": 0,
  "metadata": {
    "colab": {
      "name": "HR_Analytics.ipynb",
      "provenance": [],
      "collapsed_sections": [],
      "toc_visible": true
    },
    "kernelspec": {
      "name": "python3",
      "display_name": "Python 3"
    }
  },
  "cells": [
    {
      "cell_type": "markdown",
      "metadata": {
        "id": "WbrrzFhmY3-_",
        "colab_type": "text"
      },
      "source": [
        "## **Table of Contents:**\n",
        "* Introduction\n",
        "* Import Libraries\n",
        "* Getting the Data\n",
        "* Data Exploration/Analysis\n",
        "* Data Preprocessing\n",
        "    - Check Missing Data and Visualize \n",
        "    - Check continuous and categorical data \n",
        "    - Feature Selection \n",
        "* Logestic Regression  \n",
        "    - Run LR with different degress\n",
        "    - Viz training and testing error. Check for overfit and Underfit\n",
        "    - Hyperparameter Tuning   \n",
        "* Further Evaluation \n",
        "    - Confusion Matrix\n",
        "    - Precision and Recall \n",
        "    - F-Score\n",
        "    - Precision Recall Curve\n",
        "    - ROC AUC Curve\n",
        "    - ROC AUC Score\n",
        "* Submission\n",
        "* Summary"
      ]
    },
    {
      "cell_type": "markdown",
      "metadata": {
        "id": "A5tprFHAY1Gr",
        "colab_type": "text"
      },
      "source": [
        ""
      ]
    },
    {
      "cell_type": "markdown",
      "metadata": {
        "id": "FIL0w6toZrTm",
        "colab_type": "text"
      },
      "source": [
        "# **Introduction**\n",
        "\n",
        "Develop a logistic regression model that can be used to predict candidates who are likely to join after accepting the offer. What are the varoiables having statistical significance on renege\n",
        "\n",
        "How would you interpret Sensitivity, Specivity and model accuracy. Calculate AUC. Comment on LR model developed using AUC\n",
        "\n",
        "How will u handle outlier\n",
        "\n",
        "What will be model deployment strategy\n",
        "\n"
      ]
    },
    {
      "cell_type": "code",
      "metadata": {
        "id": "MvCRolmtZ7QC",
        "colab_type": "code",
        "colab": {}
      },
      "source": [
        ""
      ],
      "execution_count": 0,
      "outputs": []
    },
    {
      "cell_type": "markdown",
      "metadata": {
        "id": "4LBlolGpZ_lo",
        "colab_type": "text"
      },
      "source": [
        "# **Import Libraries**"
      ]
    },
    {
      "cell_type": "code",
      "metadata": {
        "id": "DBspdEhUaALg",
        "colab_type": "code",
        "colab": {}
      },
      "source": [
        "import numpy as np \n",
        "import pandas as pd\n",
        "import seaborn as sns\n",
        "%matplotlib inline\n",
        "from matplotlib import pyplot as plt\n",
        "from matplotlib import style\n",
        "\n",
        "# Algorithms\n",
        "from sklearn import linear_model\n",
        "from sklearn.linear_model import LogisticRegression\n",
        "from sklearn.model_selection import train_test_split\n",
        "from sklearn.preprocessing import LabelEncoder, MinMaxScaler\n",
        "from sklearn.feature_selection import RFE\n",
        "from sklearn.model_selection import KFold, cross_val_score, cross_val_predict, cross_validate\n",
        "import warnings\n",
        "warnings.filterwarnings('ignore')\n"
      ],
      "execution_count": 0,
      "outputs": []
    },
    {
      "cell_type": "code",
      "metadata": {
        "id": "tmmuzDH_aCGc",
        "colab_type": "code",
        "outputId": "5a2c31a7-0eb3-4c30-b33f-7abc2e37cb18",
        "colab": {
          "base_uri": "https://localhost:8080/",
          "height": 224
        }
      },
      "source": [
        "file_path = '/content/sample_data/IMB533_HR Analytics without Missing Values.csv'\n",
        "df = pd.read_csv(file_path)\n",
        "df.head()"
      ],
      "execution_count": 78,
      "outputs": [
        {
          "output_type": "execute_result",
          "data": {
            "text/html": [
              "<div>\n",
              "<style scoped>\n",
              "    .dataframe tbody tr th:only-of-type {\n",
              "        vertical-align: middle;\n",
              "    }\n",
              "\n",
              "    .dataframe tbody tr th {\n",
              "        vertical-align: top;\n",
              "    }\n",
              "\n",
              "    .dataframe thead th {\n",
              "        text-align: right;\n",
              "    }\n",
              "</style>\n",
              "<table border=\"1\" class=\"dataframe\">\n",
              "  <thead>\n",
              "    <tr style=\"text-align: right;\">\n",
              "      <th></th>\n",
              "      <th>SLNO</th>\n",
              "      <th>Candidate.Ref</th>\n",
              "      <th>DOJ.Extended</th>\n",
              "      <th>Duration.to.accept.offer</th>\n",
              "      <th>Notice.period</th>\n",
              "      <th>Offered.band</th>\n",
              "      <th>Pecent.hike.expected.in.CTC</th>\n",
              "      <th>Percent.hike.offered.in.CTC</th>\n",
              "      <th>Percent.difference.CTC</th>\n",
              "      <th>Joining.Bonus</th>\n",
              "      <th>Candidate.relocate.actual</th>\n",
              "      <th>Gender</th>\n",
              "      <th>Candidate.Source</th>\n",
              "      <th>Rex.in.Yrs</th>\n",
              "      <th>LOB</th>\n",
              "      <th>Location</th>\n",
              "      <th>Age</th>\n",
              "      <th>Status</th>\n",
              "    </tr>\n",
              "  </thead>\n",
              "  <tbody>\n",
              "    <tr>\n",
              "      <th>0</th>\n",
              "      <td>1</td>\n",
              "      <td>2110407</td>\n",
              "      <td>Yes</td>\n",
              "      <td>14</td>\n",
              "      <td>30</td>\n",
              "      <td>E2</td>\n",
              "      <td>-20.79</td>\n",
              "      <td>13.16</td>\n",
              "      <td>42.86</td>\n",
              "      <td>No</td>\n",
              "      <td>No</td>\n",
              "      <td>Female</td>\n",
              "      <td>Agency</td>\n",
              "      <td>7</td>\n",
              "      <td>ERS</td>\n",
              "      <td>Noida</td>\n",
              "      <td>34</td>\n",
              "      <td>Joined</td>\n",
              "    </tr>\n",
              "    <tr>\n",
              "      <th>1</th>\n",
              "      <td>2</td>\n",
              "      <td>2112635</td>\n",
              "      <td>No</td>\n",
              "      <td>18</td>\n",
              "      <td>30</td>\n",
              "      <td>E2</td>\n",
              "      <td>50.00</td>\n",
              "      <td>320.00</td>\n",
              "      <td>180.00</td>\n",
              "      <td>No</td>\n",
              "      <td>No</td>\n",
              "      <td>Male</td>\n",
              "      <td>Employee Referral</td>\n",
              "      <td>8</td>\n",
              "      <td>INFRA</td>\n",
              "      <td>Chennai</td>\n",
              "      <td>34</td>\n",
              "      <td>Joined</td>\n",
              "    </tr>\n",
              "    <tr>\n",
              "      <th>2</th>\n",
              "      <td>3</td>\n",
              "      <td>2112838</td>\n",
              "      <td>No</td>\n",
              "      <td>3</td>\n",
              "      <td>45</td>\n",
              "      <td>E2</td>\n",
              "      <td>42.84</td>\n",
              "      <td>42.84</td>\n",
              "      <td>0.00</td>\n",
              "      <td>No</td>\n",
              "      <td>No</td>\n",
              "      <td>Male</td>\n",
              "      <td>Agency</td>\n",
              "      <td>4</td>\n",
              "      <td>INFRA</td>\n",
              "      <td>Noida</td>\n",
              "      <td>27</td>\n",
              "      <td>Joined</td>\n",
              "    </tr>\n",
              "    <tr>\n",
              "      <th>3</th>\n",
              "      <td>4</td>\n",
              "      <td>2115021</td>\n",
              "      <td>No</td>\n",
              "      <td>26</td>\n",
              "      <td>30</td>\n",
              "      <td>E2</td>\n",
              "      <td>42.84</td>\n",
              "      <td>42.84</td>\n",
              "      <td>0.00</td>\n",
              "      <td>No</td>\n",
              "      <td>No</td>\n",
              "      <td>Male</td>\n",
              "      <td>Employee Referral</td>\n",
              "      <td>4</td>\n",
              "      <td>INFRA</td>\n",
              "      <td>Noida</td>\n",
              "      <td>34</td>\n",
              "      <td>Joined</td>\n",
              "    </tr>\n",
              "    <tr>\n",
              "      <th>4</th>\n",
              "      <td>5</td>\n",
              "      <td>2115125</td>\n",
              "      <td>Yes</td>\n",
              "      <td>1</td>\n",
              "      <td>120</td>\n",
              "      <td>E2</td>\n",
              "      <td>42.59</td>\n",
              "      <td>42.59</td>\n",
              "      <td>0.00</td>\n",
              "      <td>No</td>\n",
              "      <td>Yes</td>\n",
              "      <td>Male</td>\n",
              "      <td>Employee Referral</td>\n",
              "      <td>6</td>\n",
              "      <td>INFRA</td>\n",
              "      <td>Noida</td>\n",
              "      <td>34</td>\n",
              "      <td>Joined</td>\n",
              "    </tr>\n",
              "  </tbody>\n",
              "</table>\n",
              "</div>"
            ],
            "text/plain": [
              "   SLNO  Candidate.Ref DOJ.Extended  ...  Location  Age  Status\n",
              "0     1        2110407          Yes  ...     Noida   34  Joined\n",
              "1     2        2112635           No  ...   Chennai   34  Joined\n",
              "2     3        2112838           No  ...     Noida   27  Joined\n",
              "3     4        2115021           No  ...     Noida   34  Joined\n",
              "4     5        2115125          Yes  ...     Noida   34  Joined\n",
              "\n",
              "[5 rows x 18 columns]"
            ]
          },
          "metadata": {
            "tags": []
          },
          "execution_count": 78
        }
      ]
    },
    {
      "cell_type": "code",
      "metadata": {
        "id": "dUUpLB1rbY1I",
        "colab_type": "code",
        "outputId": "fef62391-704f-4959-9800-aa37aae13d10",
        "colab": {
          "base_uri": "https://localhost:8080/",
          "height": 224
        }
      },
      "source": [
        "# drop unwanted coluns \n",
        "df = df.drop(['SLNO', 'Candidate.Ref'], axis=1)\n",
        "df.head()"
      ],
      "execution_count": 79,
      "outputs": [
        {
          "output_type": "execute_result",
          "data": {
            "text/html": [
              "<div>\n",
              "<style scoped>\n",
              "    .dataframe tbody tr th:only-of-type {\n",
              "        vertical-align: middle;\n",
              "    }\n",
              "\n",
              "    .dataframe tbody tr th {\n",
              "        vertical-align: top;\n",
              "    }\n",
              "\n",
              "    .dataframe thead th {\n",
              "        text-align: right;\n",
              "    }\n",
              "</style>\n",
              "<table border=\"1\" class=\"dataframe\">\n",
              "  <thead>\n",
              "    <tr style=\"text-align: right;\">\n",
              "      <th></th>\n",
              "      <th>DOJ.Extended</th>\n",
              "      <th>Duration.to.accept.offer</th>\n",
              "      <th>Notice.period</th>\n",
              "      <th>Offered.band</th>\n",
              "      <th>Pecent.hike.expected.in.CTC</th>\n",
              "      <th>Percent.hike.offered.in.CTC</th>\n",
              "      <th>Percent.difference.CTC</th>\n",
              "      <th>Joining.Bonus</th>\n",
              "      <th>Candidate.relocate.actual</th>\n",
              "      <th>Gender</th>\n",
              "      <th>Candidate.Source</th>\n",
              "      <th>Rex.in.Yrs</th>\n",
              "      <th>LOB</th>\n",
              "      <th>Location</th>\n",
              "      <th>Age</th>\n",
              "      <th>Status</th>\n",
              "    </tr>\n",
              "  </thead>\n",
              "  <tbody>\n",
              "    <tr>\n",
              "      <th>0</th>\n",
              "      <td>Yes</td>\n",
              "      <td>14</td>\n",
              "      <td>30</td>\n",
              "      <td>E2</td>\n",
              "      <td>-20.79</td>\n",
              "      <td>13.16</td>\n",
              "      <td>42.86</td>\n",
              "      <td>No</td>\n",
              "      <td>No</td>\n",
              "      <td>Female</td>\n",
              "      <td>Agency</td>\n",
              "      <td>7</td>\n",
              "      <td>ERS</td>\n",
              "      <td>Noida</td>\n",
              "      <td>34</td>\n",
              "      <td>Joined</td>\n",
              "    </tr>\n",
              "    <tr>\n",
              "      <th>1</th>\n",
              "      <td>No</td>\n",
              "      <td>18</td>\n",
              "      <td>30</td>\n",
              "      <td>E2</td>\n",
              "      <td>50.00</td>\n",
              "      <td>320.00</td>\n",
              "      <td>180.00</td>\n",
              "      <td>No</td>\n",
              "      <td>No</td>\n",
              "      <td>Male</td>\n",
              "      <td>Employee Referral</td>\n",
              "      <td>8</td>\n",
              "      <td>INFRA</td>\n",
              "      <td>Chennai</td>\n",
              "      <td>34</td>\n",
              "      <td>Joined</td>\n",
              "    </tr>\n",
              "    <tr>\n",
              "      <th>2</th>\n",
              "      <td>No</td>\n",
              "      <td>3</td>\n",
              "      <td>45</td>\n",
              "      <td>E2</td>\n",
              "      <td>42.84</td>\n",
              "      <td>42.84</td>\n",
              "      <td>0.00</td>\n",
              "      <td>No</td>\n",
              "      <td>No</td>\n",
              "      <td>Male</td>\n",
              "      <td>Agency</td>\n",
              "      <td>4</td>\n",
              "      <td>INFRA</td>\n",
              "      <td>Noida</td>\n",
              "      <td>27</td>\n",
              "      <td>Joined</td>\n",
              "    </tr>\n",
              "    <tr>\n",
              "      <th>3</th>\n",
              "      <td>No</td>\n",
              "      <td>26</td>\n",
              "      <td>30</td>\n",
              "      <td>E2</td>\n",
              "      <td>42.84</td>\n",
              "      <td>42.84</td>\n",
              "      <td>0.00</td>\n",
              "      <td>No</td>\n",
              "      <td>No</td>\n",
              "      <td>Male</td>\n",
              "      <td>Employee Referral</td>\n",
              "      <td>4</td>\n",
              "      <td>INFRA</td>\n",
              "      <td>Noida</td>\n",
              "      <td>34</td>\n",
              "      <td>Joined</td>\n",
              "    </tr>\n",
              "    <tr>\n",
              "      <th>4</th>\n",
              "      <td>Yes</td>\n",
              "      <td>1</td>\n",
              "      <td>120</td>\n",
              "      <td>E2</td>\n",
              "      <td>42.59</td>\n",
              "      <td>42.59</td>\n",
              "      <td>0.00</td>\n",
              "      <td>No</td>\n",
              "      <td>Yes</td>\n",
              "      <td>Male</td>\n",
              "      <td>Employee Referral</td>\n",
              "      <td>6</td>\n",
              "      <td>INFRA</td>\n",
              "      <td>Noida</td>\n",
              "      <td>34</td>\n",
              "      <td>Joined</td>\n",
              "    </tr>\n",
              "  </tbody>\n",
              "</table>\n",
              "</div>"
            ],
            "text/plain": [
              "  DOJ.Extended  Duration.to.accept.offer  Notice.period  ... Location  Age  Status\n",
              "0          Yes                        14             30  ...    Noida   34  Joined\n",
              "1           No                        18             30  ...  Chennai   34  Joined\n",
              "2           No                         3             45  ...    Noida   27  Joined\n",
              "3           No                        26             30  ...    Noida   34  Joined\n",
              "4          Yes                         1            120  ...    Noida   34  Joined\n",
              "\n",
              "[5 rows x 16 columns]"
            ]
          },
          "metadata": {
            "tags": []
          },
          "execution_count": 79
        }
      ]
    },
    {
      "cell_type": "code",
      "metadata": {
        "id": "P8rHB5aFjmDe",
        "colab_type": "code",
        "outputId": "94429763-cbd1-4fc6-934e-baaa5f8aedff",
        "colab": {
          "base_uri": "https://localhost:8080/",
          "height": 34
        }
      },
      "source": [
        "# Converting absoulte age to age group , making it categorical feature  \n",
        "\n",
        "df['Age'] = df['Age'].astype(int)\n",
        "df.loc[ df['Age'] <= 20, 'Age'] = 0\n",
        "df.loc[(df['Age'] > 20) & (df['Age'] <= 30), 'Age'] = 1\n",
        "df.loc[(df['Age'] > 30) & (df['Age'] <= 40), 'Age'] = 2\n",
        "df.loc[(df['Age'] > 40) & (df['Age'] <= 50), 'Age'] = 3\n",
        "df.loc[(df['Age'] > 50) & (df['Age'] <= 60), 'Age'] = 4\n",
        "df.loc[ df['Age'] > 60, 'Age'] = 5\n",
        "\n",
        "df.Age.unique()"
      ],
      "execution_count": 80,
      "outputs": [
        {
          "output_type": "execute_result",
          "data": {
            "text/plain": [
              "array([2, 1, 3, 0, 5, 4])"
            ]
          },
          "metadata": {
            "tags": []
          },
          "execution_count": 80
        }
      ]
    },
    {
      "cell_type": "code",
      "metadata": {
        "id": "W6gWaWm8lYBG",
        "colab_type": "code",
        "outputId": "117a82c4-e6ce-4c8d-88e0-932444d7cb69",
        "colab": {
          "base_uri": "https://localhost:8080/",
          "height": 224
        }
      },
      "source": [
        "df.head()"
      ],
      "execution_count": 81,
      "outputs": [
        {
          "output_type": "execute_result",
          "data": {
            "text/html": [
              "<div>\n",
              "<style scoped>\n",
              "    .dataframe tbody tr th:only-of-type {\n",
              "        vertical-align: middle;\n",
              "    }\n",
              "\n",
              "    .dataframe tbody tr th {\n",
              "        vertical-align: top;\n",
              "    }\n",
              "\n",
              "    .dataframe thead th {\n",
              "        text-align: right;\n",
              "    }\n",
              "</style>\n",
              "<table border=\"1\" class=\"dataframe\">\n",
              "  <thead>\n",
              "    <tr style=\"text-align: right;\">\n",
              "      <th></th>\n",
              "      <th>DOJ.Extended</th>\n",
              "      <th>Duration.to.accept.offer</th>\n",
              "      <th>Notice.period</th>\n",
              "      <th>Offered.band</th>\n",
              "      <th>Pecent.hike.expected.in.CTC</th>\n",
              "      <th>Percent.hike.offered.in.CTC</th>\n",
              "      <th>Percent.difference.CTC</th>\n",
              "      <th>Joining.Bonus</th>\n",
              "      <th>Candidate.relocate.actual</th>\n",
              "      <th>Gender</th>\n",
              "      <th>Candidate.Source</th>\n",
              "      <th>Rex.in.Yrs</th>\n",
              "      <th>LOB</th>\n",
              "      <th>Location</th>\n",
              "      <th>Age</th>\n",
              "      <th>Status</th>\n",
              "    </tr>\n",
              "  </thead>\n",
              "  <tbody>\n",
              "    <tr>\n",
              "      <th>0</th>\n",
              "      <td>Yes</td>\n",
              "      <td>14</td>\n",
              "      <td>30</td>\n",
              "      <td>E2</td>\n",
              "      <td>-20.79</td>\n",
              "      <td>13.16</td>\n",
              "      <td>42.86</td>\n",
              "      <td>No</td>\n",
              "      <td>No</td>\n",
              "      <td>Female</td>\n",
              "      <td>Agency</td>\n",
              "      <td>7</td>\n",
              "      <td>ERS</td>\n",
              "      <td>Noida</td>\n",
              "      <td>2</td>\n",
              "      <td>Joined</td>\n",
              "    </tr>\n",
              "    <tr>\n",
              "      <th>1</th>\n",
              "      <td>No</td>\n",
              "      <td>18</td>\n",
              "      <td>30</td>\n",
              "      <td>E2</td>\n",
              "      <td>50.00</td>\n",
              "      <td>320.00</td>\n",
              "      <td>180.00</td>\n",
              "      <td>No</td>\n",
              "      <td>No</td>\n",
              "      <td>Male</td>\n",
              "      <td>Employee Referral</td>\n",
              "      <td>8</td>\n",
              "      <td>INFRA</td>\n",
              "      <td>Chennai</td>\n",
              "      <td>2</td>\n",
              "      <td>Joined</td>\n",
              "    </tr>\n",
              "    <tr>\n",
              "      <th>2</th>\n",
              "      <td>No</td>\n",
              "      <td>3</td>\n",
              "      <td>45</td>\n",
              "      <td>E2</td>\n",
              "      <td>42.84</td>\n",
              "      <td>42.84</td>\n",
              "      <td>0.00</td>\n",
              "      <td>No</td>\n",
              "      <td>No</td>\n",
              "      <td>Male</td>\n",
              "      <td>Agency</td>\n",
              "      <td>4</td>\n",
              "      <td>INFRA</td>\n",
              "      <td>Noida</td>\n",
              "      <td>1</td>\n",
              "      <td>Joined</td>\n",
              "    </tr>\n",
              "    <tr>\n",
              "      <th>3</th>\n",
              "      <td>No</td>\n",
              "      <td>26</td>\n",
              "      <td>30</td>\n",
              "      <td>E2</td>\n",
              "      <td>42.84</td>\n",
              "      <td>42.84</td>\n",
              "      <td>0.00</td>\n",
              "      <td>No</td>\n",
              "      <td>No</td>\n",
              "      <td>Male</td>\n",
              "      <td>Employee Referral</td>\n",
              "      <td>4</td>\n",
              "      <td>INFRA</td>\n",
              "      <td>Noida</td>\n",
              "      <td>2</td>\n",
              "      <td>Joined</td>\n",
              "    </tr>\n",
              "    <tr>\n",
              "      <th>4</th>\n",
              "      <td>Yes</td>\n",
              "      <td>1</td>\n",
              "      <td>120</td>\n",
              "      <td>E2</td>\n",
              "      <td>42.59</td>\n",
              "      <td>42.59</td>\n",
              "      <td>0.00</td>\n",
              "      <td>No</td>\n",
              "      <td>Yes</td>\n",
              "      <td>Male</td>\n",
              "      <td>Employee Referral</td>\n",
              "      <td>6</td>\n",
              "      <td>INFRA</td>\n",
              "      <td>Noida</td>\n",
              "      <td>2</td>\n",
              "      <td>Joined</td>\n",
              "    </tr>\n",
              "  </tbody>\n",
              "</table>\n",
              "</div>"
            ],
            "text/plain": [
              "  DOJ.Extended  Duration.to.accept.offer  Notice.period  ... Location  Age  Status\n",
              "0          Yes                        14             30  ...    Noida    2  Joined\n",
              "1           No                        18             30  ...  Chennai    2  Joined\n",
              "2           No                         3             45  ...    Noida    1  Joined\n",
              "3           No                        26             30  ...    Noida    2  Joined\n",
              "4          Yes                         1            120  ...    Noida    2  Joined\n",
              "\n",
              "[5 rows x 16 columns]"
            ]
          },
          "metadata": {
            "tags": []
          },
          "execution_count": 81
        }
      ]
    },
    {
      "cell_type": "code",
      "metadata": {
        "id": "3djU5uLVdreb",
        "colab_type": "code",
        "colab": {}
      },
      "source": [
        "categorical_cols = ['DOJ.Extended', 'Age', 'Offered.band', 'Joining.Bonus', 'Candidate.Source', 'Candidate.relocate.actual', 'Gender', 'LOB', 'Location', 'Status']\n",
        "continuous_cols = list(set(df.columns) - set(categorical_cols))\n"
      ],
      "execution_count": 0,
      "outputs": []
    },
    {
      "cell_type": "code",
      "metadata": {
        "id": "_Di75yamfn0U",
        "colab_type": "code",
        "outputId": "25a55225-d1f6-4342-cdcc-b8a2ac0ba3eb",
        "colab": {
          "base_uri": "https://localhost:8080/",
          "height": 224
        }
      },
      "source": [
        "#Convert categorical strings into categorical digits \n",
        "le = LabelEncoder()\n",
        "df[categorical_cols] = df[categorical_cols].apply(lambda col: le.fit_transform(col))\n",
        "df.head()\n"
      ],
      "execution_count": 83,
      "outputs": [
        {
          "output_type": "execute_result",
          "data": {
            "text/html": [
              "<div>\n",
              "<style scoped>\n",
              "    .dataframe tbody tr th:only-of-type {\n",
              "        vertical-align: middle;\n",
              "    }\n",
              "\n",
              "    .dataframe tbody tr th {\n",
              "        vertical-align: top;\n",
              "    }\n",
              "\n",
              "    .dataframe thead th {\n",
              "        text-align: right;\n",
              "    }\n",
              "</style>\n",
              "<table border=\"1\" class=\"dataframe\">\n",
              "  <thead>\n",
              "    <tr style=\"text-align: right;\">\n",
              "      <th></th>\n",
              "      <th>DOJ.Extended</th>\n",
              "      <th>Duration.to.accept.offer</th>\n",
              "      <th>Notice.period</th>\n",
              "      <th>Offered.band</th>\n",
              "      <th>Pecent.hike.expected.in.CTC</th>\n",
              "      <th>Percent.hike.offered.in.CTC</th>\n",
              "      <th>Percent.difference.CTC</th>\n",
              "      <th>Joining.Bonus</th>\n",
              "      <th>Candidate.relocate.actual</th>\n",
              "      <th>Gender</th>\n",
              "      <th>Candidate.Source</th>\n",
              "      <th>Rex.in.Yrs</th>\n",
              "      <th>LOB</th>\n",
              "      <th>Location</th>\n",
              "      <th>Age</th>\n",
              "      <th>Status</th>\n",
              "    </tr>\n",
              "  </thead>\n",
              "  <tbody>\n",
              "    <tr>\n",
              "      <th>0</th>\n",
              "      <td>1</td>\n",
              "      <td>14</td>\n",
              "      <td>30</td>\n",
              "      <td>2</td>\n",
              "      <td>-20.79</td>\n",
              "      <td>13.16</td>\n",
              "      <td>42.86</td>\n",
              "      <td>0</td>\n",
              "      <td>0</td>\n",
              "      <td>0</td>\n",
              "      <td>0</td>\n",
              "      <td>7</td>\n",
              "      <td>4</td>\n",
              "      <td>8</td>\n",
              "      <td>2</td>\n",
              "      <td>0</td>\n",
              "    </tr>\n",
              "    <tr>\n",
              "      <th>1</th>\n",
              "      <td>0</td>\n",
              "      <td>18</td>\n",
              "      <td>30</td>\n",
              "      <td>2</td>\n",
              "      <td>50.00</td>\n",
              "      <td>320.00</td>\n",
              "      <td>180.00</td>\n",
              "      <td>0</td>\n",
              "      <td>0</td>\n",
              "      <td>1</td>\n",
              "      <td>2</td>\n",
              "      <td>8</td>\n",
              "      <td>7</td>\n",
              "      <td>2</td>\n",
              "      <td>2</td>\n",
              "      <td>0</td>\n",
              "    </tr>\n",
              "    <tr>\n",
              "      <th>2</th>\n",
              "      <td>0</td>\n",
              "      <td>3</td>\n",
              "      <td>45</td>\n",
              "      <td>2</td>\n",
              "      <td>42.84</td>\n",
              "      <td>42.84</td>\n",
              "      <td>0.00</td>\n",
              "      <td>0</td>\n",
              "      <td>0</td>\n",
              "      <td>1</td>\n",
              "      <td>0</td>\n",
              "      <td>4</td>\n",
              "      <td>7</td>\n",
              "      <td>8</td>\n",
              "      <td>1</td>\n",
              "      <td>0</td>\n",
              "    </tr>\n",
              "    <tr>\n",
              "      <th>3</th>\n",
              "      <td>0</td>\n",
              "      <td>26</td>\n",
              "      <td>30</td>\n",
              "      <td>2</td>\n",
              "      <td>42.84</td>\n",
              "      <td>42.84</td>\n",
              "      <td>0.00</td>\n",
              "      <td>0</td>\n",
              "      <td>0</td>\n",
              "      <td>1</td>\n",
              "      <td>2</td>\n",
              "      <td>4</td>\n",
              "      <td>7</td>\n",
              "      <td>8</td>\n",
              "      <td>2</td>\n",
              "      <td>0</td>\n",
              "    </tr>\n",
              "    <tr>\n",
              "      <th>4</th>\n",
              "      <td>1</td>\n",
              "      <td>1</td>\n",
              "      <td>120</td>\n",
              "      <td>2</td>\n",
              "      <td>42.59</td>\n",
              "      <td>42.59</td>\n",
              "      <td>0.00</td>\n",
              "      <td>0</td>\n",
              "      <td>1</td>\n",
              "      <td>1</td>\n",
              "      <td>2</td>\n",
              "      <td>6</td>\n",
              "      <td>7</td>\n",
              "      <td>8</td>\n",
              "      <td>2</td>\n",
              "      <td>0</td>\n",
              "    </tr>\n",
              "  </tbody>\n",
              "</table>\n",
              "</div>"
            ],
            "text/plain": [
              "   DOJ.Extended  Duration.to.accept.offer  Notice.period  ...  Location  Age  Status\n",
              "0             1                        14             30  ...         8    2       0\n",
              "1             0                        18             30  ...         2    2       0\n",
              "2             0                         3             45  ...         8    1       0\n",
              "3             0                        26             30  ...         8    2       0\n",
              "4             1                         1            120  ...         8    2       0\n",
              "\n",
              "[5 rows x 16 columns]"
            ]
          },
          "metadata": {
            "tags": []
          },
          "execution_count": 83
        }
      ]
    },
    {
      "cell_type": "code",
      "metadata": {
        "id": "uNXlwn29hnwl",
        "colab_type": "code",
        "outputId": "882d8128-7dd8-4568-ee1b-269f95f10b98",
        "colab": {
          "base_uri": "https://localhost:8080/",
          "height": 224
        }
      },
      "source": [
        "# Min_Max  Normalize continous data \n",
        "\n",
        "\n",
        "df[continuous_cols] = df[continuous_cols].apply(lambda x:(x-x.min()) / (x.max()-x.min()))\n",
        "df[continuous_cols].head()"
      ],
      "execution_count": 84,
      "outputs": [
        {
          "output_type": "execute_result",
          "data": {
            "text/html": [
              "<div>\n",
              "<style scoped>\n",
              "    .dataframe tbody tr th:only-of-type {\n",
              "        vertical-align: middle;\n",
              "    }\n",
              "\n",
              "    .dataframe tbody tr th {\n",
              "        vertical-align: top;\n",
              "    }\n",
              "\n",
              "    .dataframe thead th {\n",
              "        text-align: right;\n",
              "    }\n",
              "</style>\n",
              "<table border=\"1\" class=\"dataframe\">\n",
              "  <thead>\n",
              "    <tr style=\"text-align: right;\">\n",
              "      <th></th>\n",
              "      <th>Percent.difference.CTC</th>\n",
              "      <th>Duration.to.accept.offer</th>\n",
              "      <th>Pecent.hike.expected.in.CTC</th>\n",
              "      <th>Notice.period</th>\n",
              "      <th>Rex.in.Yrs</th>\n",
              "      <th>Percent.hike.offered.in.CTC</th>\n",
              "    </tr>\n",
              "  </thead>\n",
              "  <tbody>\n",
              "    <tr>\n",
              "      <th>0</th>\n",
              "      <td>0.299861</td>\n",
              "      <td>0.535398</td>\n",
              "      <td>0.112086</td>\n",
              "      <td>0.250</td>\n",
              "      <td>0.291667</td>\n",
              "      <td>0.138525</td>\n",
              "    </tr>\n",
              "    <tr>\n",
              "      <th>1</th>\n",
              "      <td>0.673265</td>\n",
              "      <td>0.544248</td>\n",
              "      <td>0.277252</td>\n",
              "      <td>0.250</td>\n",
              "      <td>0.333333</td>\n",
              "      <td>0.715336</td>\n",
              "    </tr>\n",
              "    <tr>\n",
              "      <th>2</th>\n",
              "      <td>0.183162</td>\n",
              "      <td>0.511062</td>\n",
              "      <td>0.260546</td>\n",
              "      <td>0.375</td>\n",
              "      <td>0.166667</td>\n",
              "      <td>0.194319</td>\n",
              "    </tr>\n",
              "    <tr>\n",
              "      <th>3</th>\n",
              "      <td>0.183162</td>\n",
              "      <td>0.561947</td>\n",
              "      <td>0.260546</td>\n",
              "      <td>0.250</td>\n",
              "      <td>0.166667</td>\n",
              "      <td>0.194319</td>\n",
              "    </tr>\n",
              "    <tr>\n",
              "      <th>4</th>\n",
              "      <td>0.183162</td>\n",
              "      <td>0.506637</td>\n",
              "      <td>0.259963</td>\n",
              "      <td>1.000</td>\n",
              "      <td>0.250000</td>\n",
              "      <td>0.193849</td>\n",
              "    </tr>\n",
              "  </tbody>\n",
              "</table>\n",
              "</div>"
            ],
            "text/plain": [
              "   Percent.difference.CTC  ...  Percent.hike.offered.in.CTC\n",
              "0                0.299861  ...                     0.138525\n",
              "1                0.673265  ...                     0.715336\n",
              "2                0.183162  ...                     0.194319\n",
              "3                0.183162  ...                     0.194319\n",
              "4                0.183162  ...                     0.193849\n",
              "\n",
              "[5 rows x 6 columns]"
            ]
          },
          "metadata": {
            "tags": []
          },
          "execution_count": 84
        }
      ]
    },
    {
      "cell_type": "markdown",
      "metadata": {
        "id": "uVgVCKiS66AV",
        "colab_type": "text"
      },
      "source": [
        "# **Feature  Selection**"
      ]
    },
    {
      "cell_type": "markdown",
      "metadata": {
        "id": "pZ-n4fLk80TV",
        "colab_type": "text"
      },
      "source": [
        ""
      ]
    },
    {
      "cell_type": "code",
      "metadata": {
        "id": "0xjGmHOU7AMV",
        "colab_type": "code",
        "colab": {
          "base_uri": "https://localhost:8080/",
          "height": 51
        },
        "outputId": "8e6141b4-9cde-4723-9516-3b893ea24794"
      },
      "source": [
        "features = df.iloc[:,0:15]\n",
        "classes = df['Status']\n",
        "X = np.array(features)\n",
        "y = np.array(classes).T\n",
        "print('Feature set shape:', X.shape)\n",
        "print('Response class shape:', y.shape)"
      ],
      "execution_count": 85,
      "outputs": [
        {
          "output_type": "stream",
          "text": [
            "Feature set shape: (9011, 15)\n",
            "Response class shape: (9011,)\n"
          ],
          "name": "stdout"
        }
      ]
    },
    {
      "cell_type": "markdown",
      "metadata": {
        "id": "kR_a_gYG8YTR",
        "colab_type": "text"
      },
      "source": [
        "Let's use Logistic Regression for feature **selection**\n",
        "\n"
      ]
    },
    {
      "cell_type": "code",
      "metadata": {
        "id": "HbFFi92_8jR0",
        "colab_type": "code",
        "colab": {
          "base_uri": "https://localhost:8080/",
          "height": 105
        },
        "outputId": "d6c5a42a-c5e3-402c-f408-dc6f2718b8ec"
      },
      "source": [
        "model = LogisticRegression()\n",
        "rfe = RFE(model, 3)\n",
        "fit = rfe.fit(X, y)\n",
        "selected_features = [val for idx,val in enumerate(features.columns) if fit.support_[idx]]\n",
        "print(\"Num Features: \"+ str(fit.n_features_))  \n",
        "print(\"Selected Features: \"+ str(selected_features)) \n",
        "print(\"All Features: \"+ str(list(features.columns)))\n",
        "print(\"Feature Ranking: \" + str(fit.ranking_))"
      ],
      "execution_count": 86,
      "outputs": [
        {
          "output_type": "stream",
          "text": [
            "Num Features: 3\n",
            "Selected Features: ['Notice.period', 'Percent.difference.CTC', 'Candidate.relocate.actual']\n",
            "All Features: ['DOJ.Extended', 'Duration.to.accept.offer', 'Notice.period', 'Offered.band', 'Pecent.hike.expected.in.CTC', 'Percent.hike.offered.in.CTC', 'Percent.difference.CTC', 'Joining.Bonus', 'Candidate.relocate.actual', 'Gender', 'Candidate.Source', 'Rex.in.Yrs', 'LOB', 'Location', 'Age']\n",
            "Feature Ranking: [ 9 11  1  5  6  2  1  7  1 10  3  4 12 13  8]\n"
          ],
          "name": "stdout"
        }
      ]
    },
    {
      "cell_type": "markdown",
      "metadata": {
        "id": "oO6Hm0vO7cwg",
        "colab_type": "text"
      },
      "source": [
        "Let's use random forest for feature **selection**"
      ]
    },
    {
      "cell_type": "code",
      "metadata": {
        "id": "nzsjfXoV7hhT",
        "colab_type": "code",
        "colab": {
          "base_uri": "https://localhost:8080/",
          "height": 272
        },
        "outputId": "e3ff0db3-8d0b-4e43-b20c-1c1fdae90e78"
      },
      "source": [
        "from sklearn.ensemble import RandomForestClassifier\n",
        "\n",
        "rfc = RandomForestClassifier()\n",
        "rfc.fit(X, y)\n",
        "\n",
        "\n",
        "\n",
        "importance_scores = rfc.feature_importances_\n",
        "feature_importances = [(feature, score) for feature, score in zip(features, importance_scores)]\n",
        "sorted(feature_importances, key=lambda x: -x[1])"
      ],
      "execution_count": 87,
      "outputs": [
        {
          "output_type": "execute_result",
          "data": {
            "text/plain": [
              "[('Duration.to.accept.offer', 0.16743070443858726),\n",
              " ('Percent.hike.offered.in.CTC', 0.14347861454029825),\n",
              " ('Pecent.hike.expected.in.CTC', 0.14209498679970453),\n",
              " ('Percent.difference.CTC', 0.11446904416067316),\n",
              " ('Rex.in.Yrs', 0.07595696815884974),\n",
              " ('Notice.period', 0.07009708582225786),\n",
              " ('LOB', 0.0576805287527129),\n",
              " ('Location', 0.05544894193178733),\n",
              " ('Candidate.Source', 0.03650637786242184),\n",
              " ('Candidate.relocate.actual', 0.03535782865167498),\n",
              " ('DOJ.Extended', 0.027752156395661184),\n",
              " ('Offered.band', 0.02449157640595072),\n",
              " ('Age', 0.0211312829245131),\n",
              " ('Gender', 0.01978683421737887),\n",
              " ('Joining.Bonus', 0.008317068937528038)]"
            ]
          },
          "metadata": {
            "tags": []
          },
          "execution_count": 87
        }
      ]
    },
    {
      "cell_type": "code",
      "metadata": {
        "id": "2lpz9mam7nJF",
        "colab_type": "code",
        "colab": {
          "base_uri": "https://localhost:8080/",
          "height": 153
        },
        "outputId": "608f37df-67b0-4154-8d68-8b93eef89144"
      },
      "source": [
        "selected_features = list(filter(lambda x: x[1] >= 0.05, feature_importances))                        \n",
        "selected_features"
      ],
      "execution_count": 88,
      "outputs": [
        {
          "output_type": "execute_result",
          "data": {
            "text/plain": [
              "[('Duration.to.accept.offer', 0.16743070443858726),\n",
              " ('Notice.period', 0.07009708582225786),\n",
              " ('Pecent.hike.expected.in.CTC', 0.14209498679970453),\n",
              " ('Percent.hike.offered.in.CTC', 0.14347861454029825),\n",
              " ('Percent.difference.CTC', 0.11446904416067316),\n",
              " ('Rex.in.Yrs', 0.07595696815884974),\n",
              " ('LOB', 0.0576805287527129),\n",
              " ('Location', 0.05544894193178733)]"
            ]
          },
          "metadata": {
            "tags": []
          },
          "execution_count": 88
        }
      ]
    },
    {
      "cell_type": "code",
      "metadata": {
        "id": "PCL53Rct8AGG",
        "colab_type": "code",
        "colab": {
          "base_uri": "https://localhost:8080/",
          "height": 224
        },
        "outputId": "bc70368c-3ecd-4e5c-ee76-818b0482ff86"
      },
      "source": [
        "a = list(zip(*selected_features))\n",
        "\n",
        "selected_features = list(a[0])\n",
        "\n",
        "df[selected_features].head()"
      ],
      "execution_count": 89,
      "outputs": [
        {
          "output_type": "execute_result",
          "data": {
            "text/html": [
              "<div>\n",
              "<style scoped>\n",
              "    .dataframe tbody tr th:only-of-type {\n",
              "        vertical-align: middle;\n",
              "    }\n",
              "\n",
              "    .dataframe tbody tr th {\n",
              "        vertical-align: top;\n",
              "    }\n",
              "\n",
              "    .dataframe thead th {\n",
              "        text-align: right;\n",
              "    }\n",
              "</style>\n",
              "<table border=\"1\" class=\"dataframe\">\n",
              "  <thead>\n",
              "    <tr style=\"text-align: right;\">\n",
              "      <th></th>\n",
              "      <th>Duration.to.accept.offer</th>\n",
              "      <th>Notice.period</th>\n",
              "      <th>Pecent.hike.expected.in.CTC</th>\n",
              "      <th>Percent.hike.offered.in.CTC</th>\n",
              "      <th>Percent.difference.CTC</th>\n",
              "      <th>Rex.in.Yrs</th>\n",
              "      <th>LOB</th>\n",
              "      <th>Location</th>\n",
              "    </tr>\n",
              "  </thead>\n",
              "  <tbody>\n",
              "    <tr>\n",
              "      <th>0</th>\n",
              "      <td>0.535398</td>\n",
              "      <td>0.250</td>\n",
              "      <td>0.112086</td>\n",
              "      <td>0.138525</td>\n",
              "      <td>0.299861</td>\n",
              "      <td>0.291667</td>\n",
              "      <td>4</td>\n",
              "      <td>8</td>\n",
              "    </tr>\n",
              "    <tr>\n",
              "      <th>1</th>\n",
              "      <td>0.544248</td>\n",
              "      <td>0.250</td>\n",
              "      <td>0.277252</td>\n",
              "      <td>0.715336</td>\n",
              "      <td>0.673265</td>\n",
              "      <td>0.333333</td>\n",
              "      <td>7</td>\n",
              "      <td>2</td>\n",
              "    </tr>\n",
              "    <tr>\n",
              "      <th>2</th>\n",
              "      <td>0.511062</td>\n",
              "      <td>0.375</td>\n",
              "      <td>0.260546</td>\n",
              "      <td>0.194319</td>\n",
              "      <td>0.183162</td>\n",
              "      <td>0.166667</td>\n",
              "      <td>7</td>\n",
              "      <td>8</td>\n",
              "    </tr>\n",
              "    <tr>\n",
              "      <th>3</th>\n",
              "      <td>0.561947</td>\n",
              "      <td>0.250</td>\n",
              "      <td>0.260546</td>\n",
              "      <td>0.194319</td>\n",
              "      <td>0.183162</td>\n",
              "      <td>0.166667</td>\n",
              "      <td>7</td>\n",
              "      <td>8</td>\n",
              "    </tr>\n",
              "    <tr>\n",
              "      <th>4</th>\n",
              "      <td>0.506637</td>\n",
              "      <td>1.000</td>\n",
              "      <td>0.259963</td>\n",
              "      <td>0.193849</td>\n",
              "      <td>0.183162</td>\n",
              "      <td>0.250000</td>\n",
              "      <td>7</td>\n",
              "      <td>8</td>\n",
              "    </tr>\n",
              "  </tbody>\n",
              "</table>\n",
              "</div>"
            ],
            "text/plain": [
              "   Duration.to.accept.offer  Notice.period  ...  LOB  Location\n",
              "0                  0.535398          0.250  ...    4         8\n",
              "1                  0.544248          0.250  ...    7         2\n",
              "2                  0.511062          0.375  ...    7         8\n",
              "3                  0.561947          0.250  ...    7         8\n",
              "4                  0.506637          1.000  ...    7         8\n",
              "\n",
              "[5 rows x 8 columns]"
            ]
          },
          "metadata": {
            "tags": []
          },
          "execution_count": 89
        }
      ]
    },
    {
      "cell_type": "markdown",
      "metadata": {
        "id": "40cHmJeK85rG",
        "colab_type": "text"
      },
      "source": [
        "# **Model Selection** "
      ]
    },
    {
      "cell_type": "code",
      "metadata": {
        "id": "1CEK8UyG88Qc",
        "colab_type": "code",
        "colab": {
          "base_uri": "https://localhost:8080/",
          "height": 34
        },
        "outputId": "601d9d6c-00f8-4806-ed4a-6883db2f38da"
      },
      "source": [
        "selected_X = np.array(df[selected_features])\n",
        "selected_y = np.array(df['Status'])\n",
        "\n",
        "selected_X.shape, selected_y.shape"
      ],
      "execution_count": 90,
      "outputs": [
        {
          "output_type": "execute_result",
          "data": {
            "text/plain": [
              "((9011, 8), (9011,))"
            ]
          },
          "metadata": {
            "tags": []
          },
          "execution_count": 90
        }
      ]
    },
    {
      "cell_type": "code",
      "metadata": {
        "id": "A84-8-uAltWg",
        "colab_type": "code",
        "colab": {}
      },
      "source": [
        "def plot_test_train_acc(x, train_acc,  test_acc):\n",
        "    plt.plot(x,train_acc,'b-',label='Train Accuracy')\n",
        "    plt.plot(x,test_acc,'r-',label='Validation Accuracy')\n",
        "    plt.xticks(fontsize=15)\n",
        "    plt.yticks(fontsize=15)\n",
        "    plt.xlabel('K',fontsize=15)\n",
        "    plt.ylabel('Mean Accuracy',fontsize=15)\n",
        "    plt.title('Train/Validation accuracies',fontsize=15)\n",
        "    plt.legend(fontsize=20)\n",
        "    plt.show()\n"
      ],
      "execution_count": 0,
      "outputs": []
    },
    {
      "cell_type": "code",
      "metadata": {
        "id": "MbZOTHQgx3Mw",
        "colab_type": "code",
        "colab": {}
      },
      "source": [
        "def plot_test_train_aucroc(x, train_roc_auc,  test_roc_auc):\n",
        "    plt.plot(x,train_roc_auc,'b-',label='Train AucRoc')\n",
        "    plt.plot(x,test_roc_auc,'r-',label='Validation AucRoc')\n",
        "    plt.xticks(fontsize=15)\n",
        "    plt.yticks(fontsize=15)\n",
        "    plt.xlabel('K',fontsize=15)\n",
        "    plt.ylabel('Mean AucRoc',fontsize=15)\n",
        "    plt.title('Train/Validation AucRoc',fontsize=15)\n",
        "    plt.legend(fontsize=20)\n",
        "    plt.show()\n"
      ],
      "execution_count": 0,
      "outputs": []
    },
    {
      "cell_type": "code",
      "metadata": {
        "id": "0FlF2FtlsVtX",
        "colab_type": "code",
        "colab": {}
      },
      "source": [
        "def train_test_LR(x,y):\n",
        "    # Perform a k-fold cross validation using Naive Bayes\n",
        "    #Plot train and test accuracy with varying k (1<=k<=10)\n",
        "    #clf = GaussianNB(priors=None, var_smoothing=1e-09)\n",
        "    models = {'LR': LogisticRegression()}\n",
        "    for key, val in models.items():\n",
        "        clf = val\n",
        "        train_accuracy = []\n",
        "        test_accuracy = []\n",
        "        train_roc_auc = []\n",
        "        test_roc_auc = []\n",
        "        for i in range(2,11):\n",
        "            score = cross_validate(clf, x, y, cv=i, scoring=('roc_auc', 'accuracy'), return_train_score=True)\n",
        "            train_accuracy.append(score['train_accuracy'].mean())\n",
        "            test_accuracy.append(score['test_accuracy'].mean())\n",
        "            train_roc_auc.append(score['train_roc_auc'].mean())\n",
        "            test_roc_auc.append(score['test_roc_auc'].mean())\n",
        "            print(\"mean train/test accuracy is %s , %s for %s  when K is %s\" %(score['train_accuracy'].mean(), score['test_accuracy'].mean(), key, i))\n",
        "            print(\"mean train/test Auc/Roc is %s , %s for %s  when K is %s\" %(score['train_roc_auc'].mean(), score['test_roc_auc'].mean(), key, i))\n",
        "            print(\"*************************\")\n",
        "        k = [i for  i in range(2,11)]\n",
        "        print(\"*********%s test/train Acc plot Line & Bar*********\" %(key))\n",
        "        plot_test_train_acc(k, train_accuracy, test_accuracy)\n",
        "        print(\"*********%s test/train roc_auc plot Line & Bar*********\" %(key))\n",
        "        plot_test_train_aucroc(k, train_roc_auc, test_roc_auc)\n",
        "        barWidth = 0.2\n",
        "        # Set position of bar on X axis\n",
        "        r1 = np.arange(len(train_accuracy))\n",
        "        r2 = [x + barWidth for x in r1]\n",
        "        #ax = plt.subplot(111)\n",
        "        fig, ax = plt.subplots(figsize=(10, 5))\n",
        "        ax.bar(r1, train_accuracy, width=barWidth, color='b', align='center', label='train_accuracy')\n",
        "        ax.bar(r2, test_accuracy, width=barWidth, color='g', align='center', label='validation_accuracy')\n",
        "        plt.xlabel('K', fontweight='bold')\n",
        "        plt.ylabel('Accuracy', fontweight='bold')\n",
        "        plt.xticks(r2, k)\n",
        "        plt.legend()\n",
        "        plt.show()    \n"
      ],
      "execution_count": 0,
      "outputs": []
    },
    {
      "cell_type": "code",
      "metadata": {
        "id": "Cvzoa2SOtTUL",
        "colab_type": "code",
        "colab": {
          "base_uri": "https://localhost:8080/",
          "height": 1000
        },
        "outputId": "08b99fb8-13a9-4154-c6fe-4f2ae403b8eb"
      },
      "source": [
        "# I am doing cross validation ranging from 2 to 11 and plotting \n",
        "train_test_LR(selected_X,selected_y)"
      ],
      "execution_count": 94,
      "outputs": [
        {
          "output_type": "stream",
          "text": [
            "mean train/test accuracy is 0.8133392743575836 , 0.8134502128867023 for LR  when K is 2\n",
            "mean train/test Auc/Roc is 0.6628919750881949 , 0.6450893518109772 for LR  when K is 2\n",
            "*************************\n",
            "mean train/test accuracy is 0.8126733580019936 , 0.8141159772318227 for LR  when K is 3\n",
            "mean train/test Auc/Roc is 0.6583826495298215 , 0.650213601442977 for LR  when K is 3\n",
            "*************************\n",
            "mean train/test accuracy is 0.8131912463310651 , 0.8136720424230006 for LR  when K is 4\n",
            "mean train/test Auc/Roc is 0.6572630691844233 , 0.6524126097298297 for LR  when K is 4\n",
            "*************************\n",
            "mean train/test accuracy is 0.8132560206142617 , 0.8133392182101232 for LR  when K is 5\n",
            "mean train/test Auc/Roc is 0.6569314984324373 , 0.6492759257883493 for LR  when K is 5\n",
            "*************************\n",
            "mean train/test accuracy is 0.8132948643311707 , 0.8135611914885564 for LR  when K is 6\n",
            "mean train/test Auc/Roc is 0.6566313048816015 , 0.6519098057131866 for LR  when K is 6\n",
            "*************************\n",
            "mean train/test accuracy is 0.8135427148986132 , 0.8135611156872133 for LR  when K is 7\n",
            "mean train/test Auc/Roc is 0.6564366679252777 , 0.6541089100796469 for LR  when K is 7\n",
            "*************************\n",
            "mean train/test accuracy is 0.8134026719171543 , 0.813893738106358 for LR  when K is 8\n",
            "mean train/test Auc/Roc is 0.6564329346367761 , 0.6539770939676277 for LR  when K is 8\n",
            "*************************\n",
            "mean train/test accuracy is 0.8133808752156182 , 0.8136720232528616 for LR  when K is 9\n",
            "mean train/test Auc/Roc is 0.6562664230262862 , 0.6549599550936449 for LR  when K is 9\n",
            "*************************\n",
            "mean train/test accuracy is 0.8135365532226764 , 0.8135607522123047 for LR  when K is 10\n",
            "mean train/test Auc/Roc is 0.6562857292730652 , 0.6521785069359508 for LR  when K is 10\n",
            "*************************\n",
            "*********LR test/train Acc plot Line & Bar*********\n"
          ],
          "name": "stdout"
        },
        {
          "output_type": "display_data",
          "data": {
            "image/png": "[encoded data removed]",
            "text/plain": [
              "<Figure size 432x288 with 1 Axes>"
            ]
          },
          "metadata": {
            "tags": []
          }
        },
        {
          "output_type": "stream",
          "text": [
            "*********LR test/train roc_auc plot Line & Bar*********\n"
          ],
          "name": "stdout"
        },
        {
          "output_type": "display_data",
          "data": {
            "image/png": "[encoded data removed]",
            "text/plain": [
              "<Figure size 432x288 with 1 Axes>"
            ]
          },
          "metadata": {
            "tags": []
          }
        },
        {
          "output_type": "display_data",
          "data": {
            "image/png": "[encoded data removed]",
            "text/plain": [
              "<Figure size 720x360 with 1 Axes>"
            ]
          },
          "metadata": {
            "tags": []
          }
        }
      ]
    },
    {
      "cell_type": "code",
      "metadata": {
        "id": "9VeMJNLt3sYz",
        "colab_type": "code",
        "colab": {}
      },
      "source": [
        ""
      ],
      "execution_count": 0,
      "outputs": []
    }
  ]
}