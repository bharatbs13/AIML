{
  "nbformat": 4,
  "nbformat_minor": 0,
  "metadata": {
    "colab": {
      "name": "HR_Analytics.ipynb",
      "provenance": [],
      "toc_visible": true
    },
    "kernelspec": {
      "name": "python3",
      "display_name": "Python 3"
    }
  },
  "cells": [
    {
      "cell_type": "markdown",
      "metadata": {
        "id": "WbrrzFhmY3-_",
        "colab_type": "text"
      },
      "source": [
        "## **Table of Contents:**\n",
        "* Introduction\n",
        "* Import Libraries\n",
        "* Getting the Data\n",
        "* Data Exploration/Analysis\n",
        "* Data Preprocessing\n",
        "    - Check Missing Data and Visualize \n",
        "    - Check continuous and categorical data \n",
        "    - Feature Selection \n",
        "* Logestic Regression  \n",
        "    - Run LR with different degress\n",
        "    - Viz training and testing error. Check for overfit and Underfit\n",
        "    - Hyperparameter Tuning   \n",
        "* Further Evaluation \n",
        "    - Confusion Matrix\n",
        "    - Precision and Recall \n",
        "    - F-Score\n",
        "    - Precision Recall Curve\n",
        "    - ROC AUC Curve\n",
        "    - ROC AUC Score\n",
        "* Submission\n",
        "* Summary"
      ]
    },
    {
      "cell_type": "markdown",
      "metadata": {
        "id": "A5tprFHAY1Gr",
        "colab_type": "text"
      },
      "source": [
        ""
      ]
    },
    {
      "cell_type": "markdown",
      "metadata": {
        "id": "FIL0w6toZrTm",
        "colab_type": "text"
      },
      "source": [
        "# **Introduction**\n",
        "\n",
        "Develop a logistic regression model that can be used to predict candidates who are likely to join after accepting the offer. What are the varoiables having statistical significance on renege\n",
        "\n",
        "How would you interpret Sensitivity, Specivity and model accuracy. Calculate AUC. Comment on LR model developed using AUC\n",
        "\n",
        "How will u handle outlier\n",
        "\n",
        "What will be model deployment strategy\n",
        "\n"
      ]
    },
    {
      "cell_type": "code",
      "metadata": {
        "id": "MvCRolmtZ7QC",
        "colab_type": "code",
        "colab": {}
      },
      "source": [
        ""
      ],
      "execution_count": 0,
      "outputs": []
    },
    {
      "cell_type": "markdown",
      "metadata": {
        "id": "4LBlolGpZ_lo",
        "colab_type": "text"
      },
      "source": [
        "# **Import Libraries**"
      ]
    },
    {
      "cell_type": "code",
      "metadata": {
        "id": "DBspdEhUaALg",
        "colab_type": "code",
        "colab": {}
      },
      "source": [
        "import numpy as np \n",
        "import pandas as pd\n",
        "import seaborn as sns\n",
        "%matplotlib inline\n",
        "from matplotlib import pyplot as plt\n",
        "from matplotlib import style\n",
        "\n",
        "# Algorithms\n",
        "from sklearn import linear_model\n",
        "from sklearn.linear_model import LogisticRegression\n",
        "from sklearn.model_selection import train_test_split\n",
        "from sklearn.preprocessing import LabelEncoder, MinMaxScaler\n",
        "from sklearn.feature_selection import RFE"
      ],
      "execution_count": 0,
      "outputs": []
    },
    {
      "cell_type": "code",
      "metadata": {
        "id": "tmmuzDH_aCGc",
        "colab_type": "code",
        "outputId": "eea4740b-560c-440e-bf49-8df03b4fee2a",
        "colab": {
          "base_uri": "https://localhost:8080/",
          "height": 224
        }
      },
      "source": [
        "file_path = '/content/sample_data/IMB533_HR Analytics without Missing Values.csv'\n",
        "df = pd.read_csv(file_path)\n",
        "df.head()"
      ],
      "execution_count": 5,
      "outputs": [
        {
          "output_type": "execute_result",
          "data": {
            "text/html": [
              "<div>\n",
              "<style scoped>\n",
              "    .dataframe tbody tr th:only-of-type {\n",
              "        vertical-align: middle;\n",
              "    }\n",
              "\n",
              "    .dataframe tbody tr th {\n",
              "        vertical-align: top;\n",
              "    }\n",
              "\n",
              "    .dataframe thead th {\n",
              "        text-align: right;\n",
              "    }\n",
              "</style>\n",
              "<table border=\"1\" class=\"dataframe\">\n",
              "  <thead>\n",
              "    <tr style=\"text-align: right;\">\n",
              "      <th></th>\n",
              "      <th>SLNO</th>\n",
              "      <th>Candidate.Ref</th>\n",
              "      <th>DOJ.Extended</th>\n",
              "      <th>Duration.to.accept.offer</th>\n",
              "      <th>Notice.period</th>\n",
              "      <th>Offered.band</th>\n",
              "      <th>Pecent.hike.expected.in.CTC</th>\n",
              "      <th>Percent.hike.offered.in.CTC</th>\n",
              "      <th>Percent.difference.CTC</th>\n",
              "      <th>Joining.Bonus</th>\n",
              "      <th>Candidate.relocate.actual</th>\n",
              "      <th>Gender</th>\n",
              "      <th>Candidate.Source</th>\n",
              "      <th>Rex.in.Yrs</th>\n",
              "      <th>LOB</th>\n",
              "      <th>Location</th>\n",
              "      <th>Age</th>\n",
              "      <th>Status</th>\n",
              "    </tr>\n",
              "  </thead>\n",
              "  <tbody>\n",
              "    <tr>\n",
              "      <th>0</th>\n",
              "      <td>1</td>\n",
              "      <td>2110407</td>\n",
              "      <td>Yes</td>\n",
              "      <td>14</td>\n",
              "      <td>30</td>\n",
              "      <td>E2</td>\n",
              "      <td>-20.79</td>\n",
              "      <td>13.16</td>\n",
              "      <td>42.86</td>\n",
              "      <td>No</td>\n",
              "      <td>No</td>\n",
              "      <td>Female</td>\n",
              "      <td>Agency</td>\n",
              "      <td>7</td>\n",
              "      <td>ERS</td>\n",
              "      <td>Noida</td>\n",
              "      <td>34</td>\n",
              "      <td>Joined</td>\n",
              "    </tr>\n",
              "    <tr>\n",
              "      <th>1</th>\n",
              "      <td>2</td>\n",
              "      <td>2112635</td>\n",
              "      <td>No</td>\n",
              "      <td>18</td>\n",
              "      <td>30</td>\n",
              "      <td>E2</td>\n",
              "      <td>50.00</td>\n",
              "      <td>320.00</td>\n",
              "      <td>180.00</td>\n",
              "      <td>No</td>\n",
              "      <td>No</td>\n",
              "      <td>Male</td>\n",
              "      <td>Employee Referral</td>\n",
              "      <td>8</td>\n",
              "      <td>INFRA</td>\n",
              "      <td>Chennai</td>\n",
              "      <td>34</td>\n",
              "      <td>Joined</td>\n",
              "    </tr>\n",
              "    <tr>\n",
              "      <th>2</th>\n",
              "      <td>3</td>\n",
              "      <td>2112838</td>\n",
              "      <td>No</td>\n",
              "      <td>3</td>\n",
              "      <td>45</td>\n",
              "      <td>E2</td>\n",
              "      <td>42.84</td>\n",
              "      <td>42.84</td>\n",
              "      <td>0.00</td>\n",
              "      <td>No</td>\n",
              "      <td>No</td>\n",
              "      <td>Male</td>\n",
              "      <td>Agency</td>\n",
              "      <td>4</td>\n",
              "      <td>INFRA</td>\n",
              "      <td>Noida</td>\n",
              "      <td>27</td>\n",
              "      <td>Joined</td>\n",
              "    </tr>\n",
              "    <tr>\n",
              "      <th>3</th>\n",
              "      <td>4</td>\n",
              "      <td>2115021</td>\n",
              "      <td>No</td>\n",
              "      <td>26</td>\n",
              "      <td>30</td>\n",
              "      <td>E2</td>\n",
              "      <td>42.84</td>\n",
              "      <td>42.84</td>\n",
              "      <td>0.00</td>\n",
              "      <td>No</td>\n",
              "      <td>No</td>\n",
              "      <td>Male</td>\n",
              "      <td>Employee Referral</td>\n",
              "      <td>4</td>\n",
              "      <td>INFRA</td>\n",
              "      <td>Noida</td>\n",
              "      <td>34</td>\n",
              "      <td>Joined</td>\n",
              "    </tr>\n",
              "    <tr>\n",
              "      <th>4</th>\n",
              "      <td>5</td>\n",
              "      <td>2115125</td>\n",
              "      <td>Yes</td>\n",
              "      <td>1</td>\n",
              "      <td>120</td>\n",
              "      <td>E2</td>\n",
              "      <td>42.59</td>\n",
              "      <td>42.59</td>\n",
              "      <td>0.00</td>\n",
              "      <td>No</td>\n",
              "      <td>Yes</td>\n",
              "      <td>Male</td>\n",
              "      <td>Employee Referral</td>\n",
              "      <td>6</td>\n",
              "      <td>INFRA</td>\n",
              "      <td>Noida</td>\n",
              "      <td>34</td>\n",
              "      <td>Joined</td>\n",
              "    </tr>\n",
              "  </tbody>\n",
              "</table>\n",
              "</div>"
            ],
            "text/plain": [
              "   SLNO  Candidate.Ref DOJ.Extended  ...  Location  Age  Status\n",
              "0     1        2110407          Yes  ...     Noida   34  Joined\n",
              "1     2        2112635           No  ...   Chennai   34  Joined\n",
              "2     3        2112838           No  ...     Noida   27  Joined\n",
              "3     4        2115021           No  ...     Noida   34  Joined\n",
              "4     5        2115125          Yes  ...     Noida   34  Joined\n",
              "\n",
              "[5 rows x 18 columns]"
            ]
          },
          "metadata": {
            "tags": []
          },
          "execution_count": 5
        }
      ]
    },
    {
      "cell_type": "code",
      "metadata": {
        "id": "dUUpLB1rbY1I",
        "colab_type": "code",
        "outputId": "ce0c8302-9585-4cf9-c463-bd3466ec25ab",
        "colab": {
          "base_uri": "https://localhost:8080/",
          "height": 224
        }
      },
      "source": [
        "# drop unwanted coluns \n",
        "df = df.drop(['SLNO', 'Candidate.Ref'], axis=1)\n",
        "df.head()"
      ],
      "execution_count": 6,
      "outputs": [
        {
          "output_type": "execute_result",
          "data": {
            "text/html": [
              "<div>\n",
              "<style scoped>\n",
              "    .dataframe tbody tr th:only-of-type {\n",
              "        vertical-align: middle;\n",
              "    }\n",
              "\n",
              "    .dataframe tbody tr th {\n",
              "        vertical-align: top;\n",
              "    }\n",
              "\n",
              "    .dataframe thead th {\n",
              "        text-align: right;\n",
              "    }\n",
              "</style>\n",
              "<table border=\"1\" class=\"dataframe\">\n",
              "  <thead>\n",
              "    <tr style=\"text-align: right;\">\n",
              "      <th></th>\n",
              "      <th>DOJ.Extended</th>\n",
              "      <th>Duration.to.accept.offer</th>\n",
              "      <th>Notice.period</th>\n",
              "      <th>Offered.band</th>\n",
              "      <th>Pecent.hike.expected.in.CTC</th>\n",
              "      <th>Percent.hike.offered.in.CTC</th>\n",
              "      <th>Percent.difference.CTC</th>\n",
              "      <th>Joining.Bonus</th>\n",
              "      <th>Candidate.relocate.actual</th>\n",
              "      <th>Gender</th>\n",
              "      <th>Candidate.Source</th>\n",
              "      <th>Rex.in.Yrs</th>\n",
              "      <th>LOB</th>\n",
              "      <th>Location</th>\n",
              "      <th>Age</th>\n",
              "      <th>Status</th>\n",
              "    </tr>\n",
              "  </thead>\n",
              "  <tbody>\n",
              "    <tr>\n",
              "      <th>0</th>\n",
              "      <td>Yes</td>\n",
              "      <td>14</td>\n",
              "      <td>30</td>\n",
              "      <td>E2</td>\n",
              "      <td>-20.79</td>\n",
              "      <td>13.16</td>\n",
              "      <td>42.86</td>\n",
              "      <td>No</td>\n",
              "      <td>No</td>\n",
              "      <td>Female</td>\n",
              "      <td>Agency</td>\n",
              "      <td>7</td>\n",
              "      <td>ERS</td>\n",
              "      <td>Noida</td>\n",
              "      <td>34</td>\n",
              "      <td>Joined</td>\n",
              "    </tr>\n",
              "    <tr>\n",
              "      <th>1</th>\n",
              "      <td>No</td>\n",
              "      <td>18</td>\n",
              "      <td>30</td>\n",
              "      <td>E2</td>\n",
              "      <td>50.00</td>\n",
              "      <td>320.00</td>\n",
              "      <td>180.00</td>\n",
              "      <td>No</td>\n",
              "      <td>No</td>\n",
              "      <td>Male</td>\n",
              "      <td>Employee Referral</td>\n",
              "      <td>8</td>\n",
              "      <td>INFRA</td>\n",
              "      <td>Chennai</td>\n",
              "      <td>34</td>\n",
              "      <td>Joined</td>\n",
              "    </tr>\n",
              "    <tr>\n",
              "      <th>2</th>\n",
              "      <td>No</td>\n",
              "      <td>3</td>\n",
              "      <td>45</td>\n",
              "      <td>E2</td>\n",
              "      <td>42.84</td>\n",
              "      <td>42.84</td>\n",
              "      <td>0.00</td>\n",
              "      <td>No</td>\n",
              "      <td>No</td>\n",
              "      <td>Male</td>\n",
              "      <td>Agency</td>\n",
              "      <td>4</td>\n",
              "      <td>INFRA</td>\n",
              "      <td>Noida</td>\n",
              "      <td>27</td>\n",
              "      <td>Joined</td>\n",
              "    </tr>\n",
              "    <tr>\n",
              "      <th>3</th>\n",
              "      <td>No</td>\n",
              "      <td>26</td>\n",
              "      <td>30</td>\n",
              "      <td>E2</td>\n",
              "      <td>42.84</td>\n",
              "      <td>42.84</td>\n",
              "      <td>0.00</td>\n",
              "      <td>No</td>\n",
              "      <td>No</td>\n",
              "      <td>Male</td>\n",
              "      <td>Employee Referral</td>\n",
              "      <td>4</td>\n",
              "      <td>INFRA</td>\n",
              "      <td>Noida</td>\n",
              "      <td>34</td>\n",
              "      <td>Joined</td>\n",
              "    </tr>\n",
              "    <tr>\n",
              "      <th>4</th>\n",
              "      <td>Yes</td>\n",
              "      <td>1</td>\n",
              "      <td>120</td>\n",
              "      <td>E2</td>\n",
              "      <td>42.59</td>\n",
              "      <td>42.59</td>\n",
              "      <td>0.00</td>\n",
              "      <td>No</td>\n",
              "      <td>Yes</td>\n",
              "      <td>Male</td>\n",
              "      <td>Employee Referral</td>\n",
              "      <td>6</td>\n",
              "      <td>INFRA</td>\n",
              "      <td>Noida</td>\n",
              "      <td>34</td>\n",
              "      <td>Joined</td>\n",
              "    </tr>\n",
              "  </tbody>\n",
              "</table>\n",
              "</div>"
            ],
            "text/plain": [
              "  DOJ.Extended  Duration.to.accept.offer  Notice.period  ... Location  Age  Status\n",
              "0          Yes                        14             30  ...    Noida   34  Joined\n",
              "1           No                        18             30  ...  Chennai   34  Joined\n",
              "2           No                         3             45  ...    Noida   27  Joined\n",
              "3           No                        26             30  ...    Noida   34  Joined\n",
              "4          Yes                         1            120  ...    Noida   34  Joined\n",
              "\n",
              "[5 rows x 16 columns]"
            ]
          },
          "metadata": {
            "tags": []
          },
          "execution_count": 6
        }
      ]
    },
    {
      "cell_type": "code",
      "metadata": {
        "id": "P8rHB5aFjmDe",
        "colab_type": "code",
        "outputId": "bb7e5fc6-e4d1-4259-92c9-f99ed8418268",
        "colab": {
          "base_uri": "https://localhost:8080/",
          "height": 34
        }
      },
      "source": [
        "# Converting absoulte age to age group , making it categorical feature  \n",
        "\n",
        "df['Age'] = df['Age'].astype(int)\n",
        "df.loc[ df['Age'] <= 20, 'Age'] = 0\n",
        "df.loc[(df['Age'] > 20) & (df['Age'] <= 30), 'Age'] = 1\n",
        "df.loc[(df['Age'] > 30) & (df['Age'] <= 40), 'Age'] = 2\n",
        "df.loc[(df['Age'] > 40) & (df['Age'] <= 50), 'Age'] = 3\n",
        "df.loc[(df['Age'] > 50) & (df['Age'] <= 60), 'Age'] = 4\n",
        "df.loc[ df['Age'] > 60, 'Age'] = 5\n",
        "\n",
        "df.Age.unique()"
      ],
      "execution_count": 7,
      "outputs": [
        {
          "output_type": "execute_result",
          "data": {
            "text/plain": [
              "array([2, 1, 3, 0, 5, 4])"
            ]
          },
          "metadata": {
            "tags": []
          },
          "execution_count": 7
        }
      ]
    },
    {
      "cell_type": "code",
      "metadata": {
        "id": "W6gWaWm8lYBG",
        "colab_type": "code",
        "outputId": "f6076fbd-4ec5-4888-f51d-eaf2146335f1",
        "colab": {
          "base_uri": "https://localhost:8080/",
          "height": 224
        }
      },
      "source": [
        "df.head()"
      ],
      "execution_count": 8,
      "outputs": [
        {
          "output_type": "execute_result",
          "data": {
            "text/html": [
              "<div>\n",
              "<style scoped>\n",
              "    .dataframe tbody tr th:only-of-type {\n",
              "        vertical-align: middle;\n",
              "    }\n",
              "\n",
              "    .dataframe tbody tr th {\n",
              "        vertical-align: top;\n",
              "    }\n",
              "\n",
              "    .dataframe thead th {\n",
              "        text-align: right;\n",
              "    }\n",
              "</style>\n",
              "<table border=\"1\" class=\"dataframe\">\n",
              "  <thead>\n",
              "    <tr style=\"text-align: right;\">\n",
              "      <th></th>\n",
              "      <th>DOJ.Extended</th>\n",
              "      <th>Duration.to.accept.offer</th>\n",
              "      <th>Notice.period</th>\n",
              "      <th>Offered.band</th>\n",
              "      <th>Pecent.hike.expected.in.CTC</th>\n",
              "      <th>Percent.hike.offered.in.CTC</th>\n",
              "      <th>Percent.difference.CTC</th>\n",
              "      <th>Joining.Bonus</th>\n",
              "      <th>Candidate.relocate.actual</th>\n",
              "      <th>Gender</th>\n",
              "      <th>Candidate.Source</th>\n",
              "      <th>Rex.in.Yrs</th>\n",
              "      <th>LOB</th>\n",
              "      <th>Location</th>\n",
              "      <th>Age</th>\n",
              "      <th>Status</th>\n",
              "    </tr>\n",
              "  </thead>\n",
              "  <tbody>\n",
              "    <tr>\n",
              "      <th>0</th>\n",
              "      <td>Yes</td>\n",
              "      <td>14</td>\n",
              "      <td>30</td>\n",
              "      <td>E2</td>\n",
              "      <td>-20.79</td>\n",
              "      <td>13.16</td>\n",
              "      <td>42.86</td>\n",
              "      <td>No</td>\n",
              "      <td>No</td>\n",
              "      <td>Female</td>\n",
              "      <td>Agency</td>\n",
              "      <td>7</td>\n",
              "      <td>ERS</td>\n",
              "      <td>Noida</td>\n",
              "      <td>2</td>\n",
              "      <td>Joined</td>\n",
              "    </tr>\n",
              "    <tr>\n",
              "      <th>1</th>\n",
              "      <td>No</td>\n",
              "      <td>18</td>\n",
              "      <td>30</td>\n",
              "      <td>E2</td>\n",
              "      <td>50.00</td>\n",
              "      <td>320.00</td>\n",
              "      <td>180.00</td>\n",
              "      <td>No</td>\n",
              "      <td>No</td>\n",
              "      <td>Male</td>\n",
              "      <td>Employee Referral</td>\n",
              "      <td>8</td>\n",
              "      <td>INFRA</td>\n",
              "      <td>Chennai</td>\n",
              "      <td>2</td>\n",
              "      <td>Joined</td>\n",
              "    </tr>\n",
              "    <tr>\n",
              "      <th>2</th>\n",
              "      <td>No</td>\n",
              "      <td>3</td>\n",
              "      <td>45</td>\n",
              "      <td>E2</td>\n",
              "      <td>42.84</td>\n",
              "      <td>42.84</td>\n",
              "      <td>0.00</td>\n",
              "      <td>No</td>\n",
              "      <td>No</td>\n",
              "      <td>Male</td>\n",
              "      <td>Agency</td>\n",
              "      <td>4</td>\n",
              "      <td>INFRA</td>\n",
              "      <td>Noida</td>\n",
              "      <td>1</td>\n",
              "      <td>Joined</td>\n",
              "    </tr>\n",
              "    <tr>\n",
              "      <th>3</th>\n",
              "      <td>No</td>\n",
              "      <td>26</td>\n",
              "      <td>30</td>\n",
              "      <td>E2</td>\n",
              "      <td>42.84</td>\n",
              "      <td>42.84</td>\n",
              "      <td>0.00</td>\n",
              "      <td>No</td>\n",
              "      <td>No</td>\n",
              "      <td>Male</td>\n",
              "      <td>Employee Referral</td>\n",
              "      <td>4</td>\n",
              "      <td>INFRA</td>\n",
              "      <td>Noida</td>\n",
              "      <td>2</td>\n",
              "      <td>Joined</td>\n",
              "    </tr>\n",
              "    <tr>\n",
              "      <th>4</th>\n",
              "      <td>Yes</td>\n",
              "      <td>1</td>\n",
              "      <td>120</td>\n",
              "      <td>E2</td>\n",
              "      <td>42.59</td>\n",
              "      <td>42.59</td>\n",
              "      <td>0.00</td>\n",
              "      <td>No</td>\n",
              "      <td>Yes</td>\n",
              "      <td>Male</td>\n",
              "      <td>Employee Referral</td>\n",
              "      <td>6</td>\n",
              "      <td>INFRA</td>\n",
              "      <td>Noida</td>\n",
              "      <td>2</td>\n",
              "      <td>Joined</td>\n",
              "    </tr>\n",
              "  </tbody>\n",
              "</table>\n",
              "</div>"
            ],
            "text/plain": [
              "  DOJ.Extended  Duration.to.accept.offer  Notice.period  ... Location  Age  Status\n",
              "0          Yes                        14             30  ...    Noida    2  Joined\n",
              "1           No                        18             30  ...  Chennai    2  Joined\n",
              "2           No                         3             45  ...    Noida    1  Joined\n",
              "3           No                        26             30  ...    Noida    2  Joined\n",
              "4          Yes                         1            120  ...    Noida    2  Joined\n",
              "\n",
              "[5 rows x 16 columns]"
            ]
          },
          "metadata": {
            "tags": []
          },
          "execution_count": 8
        }
      ]
    },
    {
      "cell_type": "code",
      "metadata": {
        "id": "3djU5uLVdreb",
        "colab_type": "code",
        "colab": {}
      },
      "source": [
        "categorical_cols = ['DOJ.Extended', 'Age', 'Offered.band', 'Joining.Bonus', 'Candidate.Source', 'Candidate.relocate.actual', 'Gender', 'LOB', 'Location', 'Status']\n",
        "continuous_cols = list(set(df.columns) - set(categorical_cols))\n"
      ],
      "execution_count": 0,
      "outputs": []
    },
    {
      "cell_type": "code",
      "metadata": {
        "id": "_Di75yamfn0U",
        "colab_type": "code",
        "outputId": "1595aaf1-dc1b-4e41-a943-ee1179473965",
        "colab": {
          "base_uri": "https://localhost:8080/",
          "height": 224
        }
      },
      "source": [
        "#Convert categorical strings into categorical digits \n",
        "le = LabelEncoder()\n",
        "df[categorical_cols] = df[categorical_cols].apply(lambda col: le.fit_transform(col))\n",
        "df.head()\n"
      ],
      "execution_count": 14,
      "outputs": [
        {
          "output_type": "execute_result",
          "data": {
            "text/html": [
              "<div>\n",
              "<style scoped>\n",
              "    .dataframe tbody tr th:only-of-type {\n",
              "        vertical-align: middle;\n",
              "    }\n",
              "\n",
              "    .dataframe tbody tr th {\n",
              "        vertical-align: top;\n",
              "    }\n",
              "\n",
              "    .dataframe thead th {\n",
              "        text-align: right;\n",
              "    }\n",
              "</style>\n",
              "<table border=\"1\" class=\"dataframe\">\n",
              "  <thead>\n",
              "    <tr style=\"text-align: right;\">\n",
              "      <th></th>\n",
              "      <th>DOJ.Extended</th>\n",
              "      <th>Duration.to.accept.offer</th>\n",
              "      <th>Notice.period</th>\n",
              "      <th>Offered.band</th>\n",
              "      <th>Pecent.hike.expected.in.CTC</th>\n",
              "      <th>Percent.hike.offered.in.CTC</th>\n",
              "      <th>Percent.difference.CTC</th>\n",
              "      <th>Joining.Bonus</th>\n",
              "      <th>Candidate.relocate.actual</th>\n",
              "      <th>Gender</th>\n",
              "      <th>Candidate.Source</th>\n",
              "      <th>Rex.in.Yrs</th>\n",
              "      <th>LOB</th>\n",
              "      <th>Location</th>\n",
              "      <th>Age</th>\n",
              "      <th>Status</th>\n",
              "    </tr>\n",
              "  </thead>\n",
              "  <tbody>\n",
              "    <tr>\n",
              "      <th>0</th>\n",
              "      <td>1</td>\n",
              "      <td>14</td>\n",
              "      <td>30</td>\n",
              "      <td>2</td>\n",
              "      <td>-20.79</td>\n",
              "      <td>13.16</td>\n",
              "      <td>42.86</td>\n",
              "      <td>0</td>\n",
              "      <td>0</td>\n",
              "      <td>0</td>\n",
              "      <td>0</td>\n",
              "      <td>7</td>\n",
              "      <td>4</td>\n",
              "      <td>8</td>\n",
              "      <td>2</td>\n",
              "      <td>0</td>\n",
              "    </tr>\n",
              "    <tr>\n",
              "      <th>1</th>\n",
              "      <td>0</td>\n",
              "      <td>18</td>\n",
              "      <td>30</td>\n",
              "      <td>2</td>\n",
              "      <td>50.00</td>\n",
              "      <td>320.00</td>\n",
              "      <td>180.00</td>\n",
              "      <td>0</td>\n",
              "      <td>0</td>\n",
              "      <td>1</td>\n",
              "      <td>2</td>\n",
              "      <td>8</td>\n",
              "      <td>7</td>\n",
              "      <td>2</td>\n",
              "      <td>2</td>\n",
              "      <td>0</td>\n",
              "    </tr>\n",
              "    <tr>\n",
              "      <th>2</th>\n",
              "      <td>0</td>\n",
              "      <td>3</td>\n",
              "      <td>45</td>\n",
              "      <td>2</td>\n",
              "      <td>42.84</td>\n",
              "      <td>42.84</td>\n",
              "      <td>0.00</td>\n",
              "      <td>0</td>\n",
              "      <td>0</td>\n",
              "      <td>1</td>\n",
              "      <td>0</td>\n",
              "      <td>4</td>\n",
              "      <td>7</td>\n",
              "      <td>8</td>\n",
              "      <td>1</td>\n",
              "      <td>0</td>\n",
              "    </tr>\n",
              "    <tr>\n",
              "      <th>3</th>\n",
              "      <td>0</td>\n",
              "      <td>26</td>\n",
              "      <td>30</td>\n",
              "      <td>2</td>\n",
              "      <td>42.84</td>\n",
              "      <td>42.84</td>\n",
              "      <td>0.00</td>\n",
              "      <td>0</td>\n",
              "      <td>0</td>\n",
              "      <td>1</td>\n",
              "      <td>2</td>\n",
              "      <td>4</td>\n",
              "      <td>7</td>\n",
              "      <td>8</td>\n",
              "      <td>2</td>\n",
              "      <td>0</td>\n",
              "    </tr>\n",
              "    <tr>\n",
              "      <th>4</th>\n",
              "      <td>1</td>\n",
              "      <td>1</td>\n",
              "      <td>120</td>\n",
              "      <td>2</td>\n",
              "      <td>42.59</td>\n",
              "      <td>42.59</td>\n",
              "      <td>0.00</td>\n",
              "      <td>0</td>\n",
              "      <td>1</td>\n",
              "      <td>1</td>\n",
              "      <td>2</td>\n",
              "      <td>6</td>\n",
              "      <td>7</td>\n",
              "      <td>8</td>\n",
              "      <td>2</td>\n",
              "      <td>0</td>\n",
              "    </tr>\n",
              "  </tbody>\n",
              "</table>\n",
              "</div>"
            ],
            "text/plain": [
              "   DOJ.Extended  Duration.to.accept.offer  Notice.period  ...  Location  Age  Status\n",
              "0             1                        14             30  ...         8    2       0\n",
              "1             0                        18             30  ...         2    2       0\n",
              "2             0                         3             45  ...         8    1       0\n",
              "3             0                        26             30  ...         8    2       0\n",
              "4             1                         1            120  ...         8    2       0\n",
              "\n",
              "[5 rows x 16 columns]"
            ]
          },
          "metadata": {
            "tags": []
          },
          "execution_count": 14
        }
      ]
    },
    {
      "cell_type": "code",
      "metadata": {
        "id": "uNXlwn29hnwl",
        "colab_type": "code",
        "outputId": "4cb7de4e-6a66-41c1-d4d8-ad13f309c537",
        "colab": {
          "base_uri": "https://localhost:8080/",
          "height": 224
        }
      },
      "source": [
        "# Min_Max  Normalize continous data \n",
        "\n",
        "\n",
        "df[continuous_cols] = df[continuous_cols].apply(lambda x:(x-x.min()) / (x.max()-x.min()))\n",
        "df[continuous_cols].head()"
      ],
      "execution_count": 15,
      "outputs": [
        {
          "output_type": "execute_result",
          "data": {
            "text/html": [
              "<div>\n",
              "<style scoped>\n",
              "    .dataframe tbody tr th:only-of-type {\n",
              "        vertical-align: middle;\n",
              "    }\n",
              "\n",
              "    .dataframe tbody tr th {\n",
              "        vertical-align: top;\n",
              "    }\n",
              "\n",
              "    .dataframe thead th {\n",
              "        text-align: right;\n",
              "    }\n",
              "</style>\n",
              "<table border=\"1\" class=\"dataframe\">\n",
              "  <thead>\n",
              "    <tr style=\"text-align: right;\">\n",
              "      <th></th>\n",
              "      <th>Percent.difference.CTC</th>\n",
              "      <th>Duration.to.accept.offer</th>\n",
              "      <th>Pecent.hike.expected.in.CTC</th>\n",
              "      <th>Notice.period</th>\n",
              "      <th>Rex.in.Yrs</th>\n",
              "      <th>Percent.hike.offered.in.CTC</th>\n",
              "    </tr>\n",
              "  </thead>\n",
              "  <tbody>\n",
              "    <tr>\n",
              "      <th>0</th>\n",
              "      <td>0.299861</td>\n",
              "      <td>0.535398</td>\n",
              "      <td>0.112086</td>\n",
              "      <td>0.250</td>\n",
              "      <td>0.291667</td>\n",
              "      <td>0.138525</td>\n",
              "    </tr>\n",
              "    <tr>\n",
              "      <th>1</th>\n",
              "      <td>0.673265</td>\n",
              "      <td>0.544248</td>\n",
              "      <td>0.277252</td>\n",
              "      <td>0.250</td>\n",
              "      <td>0.333333</td>\n",
              "      <td>0.715336</td>\n",
              "    </tr>\n",
              "    <tr>\n",
              "      <th>2</th>\n",
              "      <td>0.183162</td>\n",
              "      <td>0.511062</td>\n",
              "      <td>0.260546</td>\n",
              "      <td>0.375</td>\n",
              "      <td>0.166667</td>\n",
              "      <td>0.194319</td>\n",
              "    </tr>\n",
              "    <tr>\n",
              "      <th>3</th>\n",
              "      <td>0.183162</td>\n",
              "      <td>0.561947</td>\n",
              "      <td>0.260546</td>\n",
              "      <td>0.250</td>\n",
              "      <td>0.166667</td>\n",
              "      <td>0.194319</td>\n",
              "    </tr>\n",
              "    <tr>\n",
              "      <th>4</th>\n",
              "      <td>0.183162</td>\n",
              "      <td>0.506637</td>\n",
              "      <td>0.259963</td>\n",
              "      <td>1.000</td>\n",
              "      <td>0.250000</td>\n",
              "      <td>0.193849</td>\n",
              "    </tr>\n",
              "  </tbody>\n",
              "</table>\n",
              "</div>"
            ],
            "text/plain": [
              "   Percent.difference.CTC  ...  Percent.hike.offered.in.CTC\n",
              "0                0.299861  ...                     0.138525\n",
              "1                0.673265  ...                     0.715336\n",
              "2                0.183162  ...                     0.194319\n",
              "3                0.183162  ...                     0.194319\n",
              "4                0.183162  ...                     0.193849\n",
              "\n",
              "[5 rows x 6 columns]"
            ]
          },
          "metadata": {
            "tags": []
          },
          "execution_count": 15
        }
      ]
    },
    {
      "cell_type": "markdown",
      "metadata": {
        "id": "uVgVCKiS66AV",
        "colab_type": "text"
      },
      "source": [
        "# **Feature  Selection**"
      ]
    },
    {
      "cell_type": "markdown",
      "metadata": {
        "id": "pZ-n4fLk80TV",
        "colab_type": "text"
      },
      "source": [
        ""
      ]
    },
    {
      "cell_type": "code",
      "metadata": {
        "id": "0xjGmHOU7AMV",
        "colab_type": "code",
        "colab": {
          "base_uri": "https://localhost:8080/",
          "height": 51
        },
        "outputId": "0f7ac2f8-7a30-4861-d00b-57c93e94591d"
      },
      "source": [
        "features = df.iloc[:,0:15]\n",
        "classes = df['Status']\n",
        "X = np.array(features)\n",
        "y = np.array(classes).T\n",
        "print('Feature set shape:', X.shape)\n",
        "print('Response class shape:', y.shape)"
      ],
      "execution_count": 19,
      "outputs": [
        {
          "output_type": "stream",
          "text": [
            "Feature set shape: (9011, 15)\n",
            "Response class shape: (9011,)\n"
          ],
          "name": "stdout"
        }
      ]
    },
    {
      "cell_type": "markdown",
      "metadata": {
        "id": "kR_a_gYG8YTR",
        "colab_type": "text"
      },
      "source": [
        "Let's use Logistic Regression for feature **selection**\n",
        "\n"
      ]
    },
    {
      "cell_type": "code",
      "metadata": {
        "id": "HbFFi92_8jR0",
        "colab_type": "code",
        "colab": {
          "base_uri": "https://localhost:8080/",
          "height": 547
        },
        "outputId": "b1dea4b1-cf28-4076-ac87-476a70c2fc9a"
      },
      "source": [
        "model = LogisticRegression()\n",
        "rfe = RFE(model, 3)\n",
        "fit = rfe.fit(X, y)\n",
        "selected_features = [val for idx,val in enumerate(features.columns) if fit.support_[idx]]\n",
        "print(\"Num Features: \"+ str(fit.n_features_))  \n",
        "print(\"Selected Features: \"+ str(selected_features)) \n",
        "print(\"All Features: \"+ str(list(features.columns)))\n",
        "print(\"Feature Ranking: \" + str(fit.ranking_))"
      ],
      "execution_count": 22,
      "outputs": [
        {
          "output_type": "stream",
          "text": [
            "/usr/local/lib/python3.6/dist-packages/sklearn/linear_model/logistic.py:432: FutureWarning: Default solver will be changed to 'lbfgs' in 0.22. Specify a solver to silence this warning.\n",
            "  FutureWarning)\n",
            "/usr/local/lib/python3.6/dist-packages/sklearn/linear_model/logistic.py:432: FutureWarning: Default solver will be changed to 'lbfgs' in 0.22. Specify a solver to silence this warning.\n",
            "  FutureWarning)\n",
            "/usr/local/lib/python3.6/dist-packages/sklearn/linear_model/logistic.py:432: FutureWarning: Default solver will be changed to 'lbfgs' in 0.22. Specify a solver to silence this warning.\n",
            "  FutureWarning)\n",
            "/usr/local/lib/python3.6/dist-packages/sklearn/linear_model/logistic.py:432: FutureWarning: Default solver will be changed to 'lbfgs' in 0.22. Specify a solver to silence this warning.\n",
            "  FutureWarning)\n",
            "/usr/local/lib/python3.6/dist-packages/sklearn/linear_model/logistic.py:432: FutureWarning: Default solver will be changed to 'lbfgs' in 0.22. Specify a solver to silence this warning.\n",
            "  FutureWarning)\n",
            "/usr/local/lib/python3.6/dist-packages/sklearn/linear_model/logistic.py:432: FutureWarning: Default solver will be changed to 'lbfgs' in 0.22. Specify a solver to silence this warning.\n",
            "  FutureWarning)\n",
            "/usr/local/lib/python3.6/dist-packages/sklearn/linear_model/logistic.py:432: FutureWarning: Default solver will be changed to 'lbfgs' in 0.22. Specify a solver to silence this warning.\n",
            "  FutureWarning)\n"
          ],
          "name": "stderr"
        },
        {
          "output_type": "stream",
          "text": [
            "Num Features: 3\n",
            "Selected Features: ['Notice.period', 'Percent.difference.CTC', 'Candidate.relocate.actual']\n",
            "All Features: ['DOJ.Extended', 'Duration.to.accept.offer', 'Notice.period', 'Offered.band', 'Pecent.hike.expected.in.CTC', 'Percent.hike.offered.in.CTC', 'Percent.difference.CTC', 'Joining.Bonus', 'Candidate.relocate.actual', 'Gender', 'Candidate.Source', 'Rex.in.Yrs', 'LOB', 'Location', 'Age']\n",
            "Feature Ranking: [ 9 11  1  5  6  2  1  7  1 10  3  4 12 13  8]\n"
          ],
          "name": "stdout"
        },
        {
          "output_type": "stream",
          "text": [
            "/usr/local/lib/python3.6/dist-packages/sklearn/linear_model/logistic.py:432: FutureWarning: Default solver will be changed to 'lbfgs' in 0.22. Specify a solver to silence this warning.\n",
            "  FutureWarning)\n",
            "/usr/local/lib/python3.6/dist-packages/sklearn/linear_model/logistic.py:432: FutureWarning: Default solver will be changed to 'lbfgs' in 0.22. Specify a solver to silence this warning.\n",
            "  FutureWarning)\n",
            "/usr/local/lib/python3.6/dist-packages/sklearn/linear_model/logistic.py:432: FutureWarning: Default solver will be changed to 'lbfgs' in 0.22. Specify a solver to silence this warning.\n",
            "  FutureWarning)\n",
            "/usr/local/lib/python3.6/dist-packages/sklearn/linear_model/logistic.py:432: FutureWarning: Default solver will be changed to 'lbfgs' in 0.22. Specify a solver to silence this warning.\n",
            "  FutureWarning)\n",
            "/usr/local/lib/python3.6/dist-packages/sklearn/linear_model/logistic.py:432: FutureWarning: Default solver will be changed to 'lbfgs' in 0.22. Specify a solver to silence this warning.\n",
            "  FutureWarning)\n",
            "/usr/local/lib/python3.6/dist-packages/sklearn/linear_model/logistic.py:432: FutureWarning: Default solver will be changed to 'lbfgs' in 0.22. Specify a solver to silence this warning.\n",
            "  FutureWarning)\n"
          ],
          "name": "stderr"
        }
      ]
    },
    {
      "cell_type": "markdown",
      "metadata": {
        "id": "oO6Hm0vO7cwg",
        "colab_type": "text"
      },
      "source": [
        "Let's use random forest for feature **selection**"
      ]
    },
    {
      "cell_type": "code",
      "metadata": {
        "id": "nzsjfXoV7hhT",
        "colab_type": "code",
        "colab": {
          "base_uri": "https://localhost:8080/",
          "height": 326
        },
        "outputId": "b628120b-b10a-41f7-ae70-6a72562b080b"
      },
      "source": [
        "from sklearn.ensemble import RandomForestClassifier\n",
        "\n",
        "rfc = RandomForestClassifier()\n",
        "rfc.fit(X, y)\n",
        "\n",
        "\n",
        "\n",
        "importance_scores = rfc.feature_importances_\n",
        "feature_importances = [(feature, score) for feature, score in zip(features, importance_scores)]\n",
        "sorted(feature_importances, key=lambda x: -x[1])"
      ],
      "execution_count": 33,
      "outputs": [
        {
          "output_type": "stream",
          "text": [
            "/usr/local/lib/python3.6/dist-packages/sklearn/ensemble/forest.py:245: FutureWarning: The default value of n_estimators will change from 10 in version 0.20 to 100 in 0.22.\n",
            "  \"10 in version 0.20 to 100 in 0.22.\", FutureWarning)\n"
          ],
          "name": "stderr"
        },
        {
          "output_type": "execute_result",
          "data": {
            "text/plain": [
              "[('Duration.to.accept.offer', 0.16769265517608564),\n",
              " ('Percent.hike.offered.in.CTC', 0.14913707202123092),\n",
              " ('Pecent.hike.expected.in.CTC', 0.13664230634870175),\n",
              " ('Percent.difference.CTC', 0.1141833320884707),\n",
              " ('Rex.in.Yrs', 0.07601830102113195),\n",
              " ('Notice.period', 0.0670517864489991),\n",
              " ('LOB', 0.06013468811760439),\n",
              " ('Location', 0.05464746916643272),\n",
              " ('Candidate.relocate.actual', 0.03672242190705427),\n",
              " ('Candidate.Source', 0.034091067886480815),\n",
              " ('DOJ.Extended', 0.026735716871381918),\n",
              " ('Age', 0.023839008086709752),\n",
              " ('Offered.band', 0.023254699410263636),\n",
              " ('Gender', 0.02082353880911064),\n",
              " ('Joining.Bonus', 0.009025936640342026)]"
            ]
          },
          "metadata": {
            "tags": []
          },
          "execution_count": 33
        }
      ]
    },
    {
      "cell_type": "code",
      "metadata": {
        "id": "2lpz9mam7nJF",
        "colab_type": "code",
        "colab": {
          "base_uri": "https://localhost:8080/",
          "height": 153
        },
        "outputId": "9bedcce6-d46e-44c3-f13b-f21d75d95e8a"
      },
      "source": [
        "selected_features = list(filter(lambda x: x[1] >= 0.05, feature_importances))                        \n",
        "selected_features"
      ],
      "execution_count": 34,
      "outputs": [
        {
          "output_type": "execute_result",
          "data": {
            "text/plain": [
              "[('Duration.to.accept.offer', 0.16769265517608564),\n",
              " ('Notice.period', 0.0670517864489991),\n",
              " ('Pecent.hike.expected.in.CTC', 0.13664230634870175),\n",
              " ('Percent.hike.offered.in.CTC', 0.14913707202123092),\n",
              " ('Percent.difference.CTC', 0.1141833320884707),\n",
              " ('Rex.in.Yrs', 0.07601830102113195),\n",
              " ('LOB', 0.06013468811760439),\n",
              " ('Location', 0.05464746916643272)]"
            ]
          },
          "metadata": {
            "tags": []
          },
          "execution_count": 34
        }
      ]
    },
    {
      "cell_type": "code",
      "metadata": {
        "id": "PCL53Rct8AGG",
        "colab_type": "code",
        "colab": {
          "base_uri": "https://localhost:8080/",
          "height": 224
        },
        "outputId": "97661778-b5cb-43fc-e961-9306e68b43a9"
      },
      "source": [
        "a = list(zip(*selected_features))\n",
        "\n",
        "selected_features = list(a[0])\n",
        "\n",
        "df[selected_features].head()"
      ],
      "execution_count": 41,
      "outputs": [
        {
          "output_type": "execute_result",
          "data": {
            "text/html": [
              "<div>\n",
              "<style scoped>\n",
              "    .dataframe tbody tr th:only-of-type {\n",
              "        vertical-align: middle;\n",
              "    }\n",
              "\n",
              "    .dataframe tbody tr th {\n",
              "        vertical-align: top;\n",
              "    }\n",
              "\n",
              "    .dataframe thead th {\n",
              "        text-align: right;\n",
              "    }\n",
              "</style>\n",
              "<table border=\"1\" class=\"dataframe\">\n",
              "  <thead>\n",
              "    <tr style=\"text-align: right;\">\n",
              "      <th></th>\n",
              "      <th>Duration.to.accept.offer</th>\n",
              "      <th>Notice.period</th>\n",
              "      <th>Pecent.hike.expected.in.CTC</th>\n",
              "      <th>Percent.hike.offered.in.CTC</th>\n",
              "      <th>Percent.difference.CTC</th>\n",
              "      <th>Rex.in.Yrs</th>\n",
              "      <th>LOB</th>\n",
              "      <th>Location</th>\n",
              "    </tr>\n",
              "  </thead>\n",
              "  <tbody>\n",
              "    <tr>\n",
              "      <th>0</th>\n",
              "      <td>0.535398</td>\n",
              "      <td>0.250</td>\n",
              "      <td>0.112086</td>\n",
              "      <td>0.138525</td>\n",
              "      <td>0.299861</td>\n",
              "      <td>0.291667</td>\n",
              "      <td>4</td>\n",
              "      <td>8</td>\n",
              "    </tr>\n",
              "    <tr>\n",
              "      <th>1</th>\n",
              "      <td>0.544248</td>\n",
              "      <td>0.250</td>\n",
              "      <td>0.277252</td>\n",
              "      <td>0.715336</td>\n",
              "      <td>0.673265</td>\n",
              "      <td>0.333333</td>\n",
              "      <td>7</td>\n",
              "      <td>2</td>\n",
              "    </tr>\n",
              "    <tr>\n",
              "      <th>2</th>\n",
              "      <td>0.511062</td>\n",
              "      <td>0.375</td>\n",
              "      <td>0.260546</td>\n",
              "      <td>0.194319</td>\n",
              "      <td>0.183162</td>\n",
              "      <td>0.166667</td>\n",
              "      <td>7</td>\n",
              "      <td>8</td>\n",
              "    </tr>\n",
              "    <tr>\n",
              "      <th>3</th>\n",
              "      <td>0.561947</td>\n",
              "      <td>0.250</td>\n",
              "      <td>0.260546</td>\n",
              "      <td>0.194319</td>\n",
              "      <td>0.183162</td>\n",
              "      <td>0.166667</td>\n",
              "      <td>7</td>\n",
              "      <td>8</td>\n",
              "    </tr>\n",
              "    <tr>\n",
              "      <th>4</th>\n",
              "      <td>0.506637</td>\n",
              "      <td>1.000</td>\n",
              "      <td>0.259963</td>\n",
              "      <td>0.193849</td>\n",
              "      <td>0.183162</td>\n",
              "      <td>0.250000</td>\n",
              "      <td>7</td>\n",
              "      <td>8</td>\n",
              "    </tr>\n",
              "  </tbody>\n",
              "</table>\n",
              "</div>"
            ],
            "text/plain": [
              "   Duration.to.accept.offer  Notice.period  ...  LOB  Location\n",
              "0                  0.535398          0.250  ...    4         8\n",
              "1                  0.544248          0.250  ...    7         2\n",
              "2                  0.511062          0.375  ...    7         8\n",
              "3                  0.561947          0.250  ...    7         8\n",
              "4                  0.506637          1.000  ...    7         8\n",
              "\n",
              "[5 rows x 8 columns]"
            ]
          },
          "metadata": {
            "tags": []
          },
          "execution_count": 41
        }
      ]
    },
    {
      "cell_type": "markdown",
      "metadata": {
        "id": "40cHmJeK85rG",
        "colab_type": "text"
      },
      "source": [
        "# **Build Model** "
      ]
    },
    {
      "cell_type": "code",
      "metadata": {
        "id": "1CEK8UyG88Qc",
        "colab_type": "code",
        "colab": {}
      },
      "source": [
        ""
      ],
      "execution_count": 0,
      "outputs": []
    }
  ]
}