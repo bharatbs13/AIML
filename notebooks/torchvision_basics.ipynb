{
  "nbformat": 4,
  "nbformat_minor": 0,
  "metadata": {
    "kernelspec": {
      "display_name": "Python 3",
      "language": "python",
      "name": "python3"
    },
    "language_info": {
      "codemirror_mode": {
        "name": "ipython",
        "version": 3
      },
      "file_extension": ".py",
      "mimetype": "text/x-python",
      "name": "python",
      "nbconvert_exporter": "python",
      "pygments_lexer": "ipython3",
      "version": "3.6.7"
    },
    "colab": {
      "name": "torchvision_basics.ipynb",
      "provenance": []
    }
  },
  "cells": [
    {
      "cell_type": "code",
      "metadata": {
        "id": "bwgbDC3qzELp",
        "colab_type": "code",
        "colab": {}
      },
      "source": [
        "from __future__ import print_function\n",
        "import torch\n",
        "import torch.nn as nn\n",
        "import torch.nn.functional as F\n",
        "import torch.optim as optim"
      ],
      "execution_count": 0,
      "outputs": []
    },
    {
      "cell_type": "code",
      "metadata": {
        "id": "mbrP2w_YzELt",
        "colab_type": "code",
        "colab": {
          "base_uri": "https://localhost:8080/",
          "height": 163
        },
        "outputId": "c7469a51-1a51-4232-e9a5-f06140c4f44b"
      },
      "source": [
        "#Numpy like package\n",
        "x = torch.empty(3, 3)\n",
        "print(x)\n",
        "x = torch.randn(3, 3)\n",
        "print(x)\n",
        "x = torch.zeros(3, 3, dtype=torch.long)\n",
        "print(x)"
      ],
      "execution_count": 4,
      "outputs": [
        {
          "output_type": "stream",
          "text": [
            "tensor([[1.7020e-35, 0.0000e+00, 0.0000e+00],\n",
            "        [0.0000e+00, 0.0000e+00, 0.0000e+00],\n",
            "        [0.0000e+00, 0.0000e+00, 2.8026e-45]])\n",
            "tensor([[-0.4578,  0.5747, -0.0118],\n",
            "        [-1.2636,  0.0858, -1.1756],\n",
            "        [ 0.2020, -0.4524, -0.7865]])\n",
            "tensor([[0, 0, 0],\n",
            "        [0, 0, 0],\n",
            "        [0, 0, 0]])\n"
          ],
          "name": "stdout"
        }
      ]
    },
    {
      "cell_type": "code",
      "metadata": {
        "id": "aQxL4QWdzELz",
        "colab_type": "code",
        "colab": {
          "base_uri": "https://localhost:8080/",
          "height": 131
        },
        "outputId": "834d5620-cc58-4d68-c690-280b0ef8b4de"
      },
      "source": [
        "#tensor\n",
        "y = torch.tensor([5.5, 3])\n",
        "x = torch.tensor([5.5, 3])\n",
        "c=torch.tensor([[1,2,3],[4,5,6]])\n",
        "print(x)\n",
        "print(\"c:\",c)\n",
        "print(x.shape)\n",
        "print(c.shape)\n",
        "print(torch.add(x, y))\n",
        "print(x[0].item())"
      ],
      "execution_count": 5,
      "outputs": [
        {
          "output_type": "stream",
          "text": [
            "tensor([5.5000, 3.0000])\n",
            "c: tensor([[1, 2, 3],\n",
            "        [4, 5, 6]])\n",
            "torch.Size([2])\n",
            "torch.Size([2, 3])\n",
            "tensor([11.,  6.])\n",
            "5.5\n"
          ],
          "name": "stdout"
        }
      ]
    },
    {
      "cell_type": "code",
      "metadata": {
        "id": "bZYkYbZlzEL3",
        "colab_type": "code",
        "colab": {
          "base_uri": "https://localhost:8080/",
          "height": 131
        },
        "outputId": "9eb5bdd4-b998-4e39-c057-0ec8627a3dfc"
      },
      "source": [
        "#resize/reshape \n",
        "x = torch.randn(4, 4)\n",
        "print (x)\n",
        "y = x.view(16)\n",
        "z = x.view(-1, 8)# the size -1 is inferred from other dimensions\n",
        "print(x.size(), y.size(), z.size())\n",
        "print(y)\n"
      ],
      "execution_count": 6,
      "outputs": [
        {
          "output_type": "stream",
          "text": [
            "tensor([[ 0.2592, -0.9114, -1.3928, -0.5732],\n",
            "        [ 0.3774,  1.4340,  1.5644,  1.3881],\n",
            "        [ 0.1254, -0.4316, -0.3722, -1.2492],\n",
            "        [ 0.0776,  0.5187,  0.6730, -0.1193]])\n",
            "torch.Size([4, 4]) torch.Size([16]) torch.Size([2, 8])\n",
            "tensor([ 0.2592, -0.9114, -1.3928, -0.5732,  0.3774,  1.4340,  1.5644,  1.3881,\n",
            "         0.1254, -0.4316, -0.3722, -1.2492,  0.0776,  0.5187,  0.6730, -0.1193])\n"
          ],
          "name": "stdout"
        }
      ]
    },
    {
      "cell_type": "code",
      "metadata": {
        "id": "u3T0Zco-zEL5",
        "colab_type": "code",
        "colab": {
          "base_uri": "https://localhost:8080/",
          "height": 82
        },
        "outputId": "5a84df1a-5319-478a-c9e2-4e4af166a07d"
      },
      "source": [
        "# numpy bridge\n",
        "    #torch to numpy\n",
        "x = torch.tensor([2, 3])\n",
        "print(x)\n",
        "b = x.numpy()\n",
        "print(b)\n",
        "\n",
        "    #numpy to torch\n",
        "import numpy as np\n",
        "a = np.ones(5,dtype=np.float64)\n",
        "print (a)\n",
        "b = torch.from_numpy(a)\n",
        "print(b)"
      ],
      "execution_count": 7,
      "outputs": [
        {
          "output_type": "stream",
          "text": [
            "tensor([2, 3])\n",
            "[2 3]\n",
            "[1. 1. 1. 1. 1.]\n",
            "tensor([1., 1., 1., 1., 1.], dtype=torch.float64)\n"
          ],
          "name": "stdout"
        }
      ]
    },
    {
      "cell_type": "code",
      "metadata": {
        "id": "jf51VbN5zEL9",
        "colab_type": "code",
        "colab": {
          "base_uri": "https://localhost:8080/",
          "height": 33
        },
        "outputId": "d59a4885-45e7-4cb5-fbf1-1deaf240f33d"
      },
      "source": [
        "# CUDA Tensors\n",
        "print(torch.cuda.is_available())\n",
        "if torch.cuda.is_available():\n",
        "    device = torch.device(\"cuda\")          # a CUDA device object\n",
        "    print(device)\n",
        "    y = torch.ones_like(x, device=device)  # directly create a tensor on GPU\n",
        "    x = x.to(device)                       # or just use strings ``.to(\"cuda\")``\n",
        "    print(x, y)\n",
        "    z = x + y\n",
        "    print(z)\n",
        "    print(z.to(\"cpu\", torch.double))       # ``.to`` can also change dtype together!"
      ],
      "execution_count": 8,
      "outputs": [
        {
          "output_type": "stream",
          "text": [
            "False\n"
          ],
          "name": "stdout"
        }
      ]
    },
    {
      "cell_type": "code",
      "metadata": {
        "id": "YEzCyaGKzEMB",
        "colab_type": "code",
        "colab": {
          "base_uri": "https://localhost:8080/",
          "height": 131
        },
        "outputId": "fe2a3a7c-dc31-44b7-fa5b-2d969bcc5e9f"
      },
      "source": [
        "#To track computation\n",
        "x = torch.ones(2, 2, requires_grad=True)\n",
        "a = torch.tensor([[1.0,3.0],[14.0,5.0]])\n",
        "print(\"a:\",a.requires_grad)\n",
        "a.requires_grad_(True)\n",
        "print(\"a:\",a.requires_grad)\n",
        "print(\"x:\",x)\n",
        "y = x + a\n",
        "print(\"y:\",y)\n",
        "\n",
        "print(y.requires_grad)\n"
      ],
      "execution_count": 9,
      "outputs": [
        {
          "output_type": "stream",
          "text": [
            "a: False\n",
            "a: True\n",
            "x: tensor([[1., 1.],\n",
            "        [1., 1.]], requires_grad=True)\n",
            "y: tensor([[ 2.,  4.],\n",
            "        [15.,  6.]], grad_fn=<AddBackward0>)\n",
            "True\n"
          ],
          "name": "stdout"
        }
      ]
    },
    {
      "cell_type": "code",
      "metadata": {
        "id": "yUqKhVJCzEME",
        "colab_type": "code",
        "colab": {
          "base_uri": "https://localhost:8080/",
          "height": 115
        },
        "outputId": "6adf8a1f-f541-448c-bcee-c68eb705cf24"
      },
      "source": [
        "print(x.grad_fn)\n",
        "print(y.grad_fn)\n",
        "\n",
        "z = y * y \n",
        "#z.requires_grad_(True)\n",
        "print(z.requires_grad)\n",
        "print(\"z:\",z)\n",
        "out = z.mean()\n",
        "print(\"out:\",out)\n",
        "out.backward(retain_graph=True)"
      ],
      "execution_count": 10,
      "outputs": [
        {
          "output_type": "stream",
          "text": [
            "None\n",
            "<AddBackward0 object at 0x7f169e7537b8>\n",
            "True\n",
            "z: tensor([[  4.,  16.],\n",
            "        [225.,  36.]], grad_fn=<MulBackward0>)\n",
            "out: tensor(70.2500, grad_fn=<MeanBackward0>)\n"
          ],
          "name": "stdout"
        }
      ]
    },
    {
      "cell_type": "code",
      "metadata": {
        "id": "IsM2iBy7zEMG",
        "colab_type": "code",
        "colab": {
          "base_uri": "https://localhost:8080/",
          "height": 147
        },
        "outputId": "b02c1d8b-ad53-43a9-9d11-cd73403f6195"
      },
      "source": [
        "# Gradient \n",
        "\n",
        "print(x.grad)\n",
        "print(out.requires_grad)\n",
        "print(out.grad)\n",
        "print(z.grad)\n",
        "print(y.grad)\n",
        "print(a.grad)"
      ],
      "execution_count": 11,
      "outputs": [
        {
          "output_type": "stream",
          "text": [
            "tensor([[1.0000, 2.0000],\n",
            "        [7.5000, 3.0000]])\n",
            "True\n",
            "None\n",
            "None\n",
            "None\n",
            "tensor([[1.0000, 2.0000],\n",
            "        [7.5000, 3.0000]])\n"
          ],
          "name": "stdout"
        }
      ]
    },
    {
      "cell_type": "code",
      "metadata": {
        "id": "pP3CFoyDzEMI",
        "colab_type": "code",
        "colab": {
          "base_uri": "https://localhost:8080/",
          "height": 66
        },
        "outputId": "1164566d-4130-46df-d08d-624716968070"
      },
      "source": [
        "print(x.requires_grad)\n",
        "print((x ** 2).requires_grad)\n",
        "\n",
        "#stop autograd from tracking history on Tensors\n",
        "with torch.no_grad():\n",
        "    print((x ** 2).requires_grad)"
      ],
      "execution_count": 12,
      "outputs": [
        {
          "output_type": "stream",
          "text": [
            "True\n",
            "True\n",
            "False\n"
          ],
          "name": "stdout"
        }
      ]
    },
    {
      "cell_type": "code",
      "metadata": {
        "id": "a-Zc17CdzEML",
        "colab_type": "code",
        "colab": {
          "base_uri": "https://localhost:8080/",
          "height": 66
        },
        "outputId": "9cfc41c5-658a-4af8-b4ca-ccebbaaeb773"
      },
      "source": [
        "# different component of neural network\n",
        "input = torch.randn(1, 3, 32, 32)\n",
        "m=nn.Conv2d(in_channels=3, out_channels=32, kernel_size=3, stride=1, padding=1 )\n",
        "print (m.weight.shape)\n",
        "print (m.bias.shape)\n",
        "output=m(input)\n",
        "print(output.shape)"
      ],
      "execution_count": 13,
      "outputs": [
        {
          "output_type": "stream",
          "text": [
            "torch.Size([32, 3, 3, 3])\n",
            "torch.Size([32])\n",
            "torch.Size([1, 32, 32, 32])\n"
          ],
          "name": "stdout"
        }
      ]
    },
    {
      "cell_type": "code",
      "metadata": {
        "id": "FRCRLslbzEMN",
        "colab_type": "code",
        "colab": {
          "base_uri": "https://localhost:8080/",
          "height": 33
        },
        "outputId": "faeb7f7c-8ddb-44a4-85ba-684bdbe173f8"
      },
      "source": [
        "n=nn.MaxPool2d(kernel_size=2,stride=2)\n",
        "val=n(output)\n",
        "print(val.shape)"
      ],
      "execution_count": 14,
      "outputs": [
        {
          "output_type": "stream",
          "text": [
            "torch.Size([1, 32, 16, 16])\n"
          ],
          "name": "stdout"
        }
      ]
    },
    {
      "cell_type": "code",
      "metadata": {
        "id": "u8QO4NLCzEMT",
        "colab_type": "code",
        "colab": {
          "base_uri": "https://localhost:8080/",
          "height": 310
        },
        "outputId": "5dd487da-9b06-4168-b430-2eac74304f9d"
      },
      "source": [
        "L=nn.Linear(in_features=16*16*32, out_features=16)\n",
        "val1=L(val.view(val.size(0), -1))\n",
        "print(val1)\n",
        "print(L.weight.shape)\n",
        "print(L.bias.shape)\n",
        "for param  in L.parameters():\n",
        "    print(param)"
      ],
      "execution_count": 15,
      "outputs": [
        {
          "output_type": "stream",
          "text": [
            "tensor([[ 0.3172, -0.3326, -0.4291, -0.5483, -0.7458,  0.6135, -0.0680, -1.1482,\n",
            "         -0.2163,  0.0541, -0.5279, -0.0274, -0.3417, -0.4006,  0.2313, -0.1617]],\n",
            "       grad_fn=<AddmmBackward>)\n",
            "torch.Size([16, 8192])\n",
            "torch.Size([16])\n",
            "Parameter containing:\n",
            "tensor([[ 0.0033, -0.0036, -0.0016,  ..., -0.0066,  0.0011, -0.0054],\n",
            "        [ 0.0054, -0.0014, -0.0032,  ..., -0.0088,  0.0018,  0.0019],\n",
            "        [ 0.0083, -0.0096,  0.0080,  ...,  0.0019, -0.0080, -0.0108],\n",
            "        ...,\n",
            "        [-0.0041, -0.0010, -0.0096,  ...,  0.0049,  0.0033, -0.0092],\n",
            "        [-0.0003, -0.0023,  0.0002,  ..., -0.0020,  0.0065,  0.0109],\n",
            "        [-0.0077,  0.0060, -0.0079,  ..., -0.0093, -0.0029, -0.0007]],\n",
            "       requires_grad=True)\n",
            "Parameter containing:\n",
            "tensor([-0.0095, -0.0039, -0.0030, -0.0021, -0.0093, -0.0045,  0.0086,  0.0038,\n",
            "        -0.0039, -0.0064,  0.0058,  0.0067,  0.0003, -0.0022, -0.0082, -0.0071],\n",
            "       requires_grad=True)\n"
          ],
          "name": "stdout"
        }
      ]
    },
    {
      "cell_type": "code",
      "metadata": {
        "id": "RCxDcMpCzEMV",
        "colab_type": "code",
        "colab": {
          "base_uri": "https://localhost:8080/",
          "height": 98
        },
        "outputId": "e3b83bce-5cc1-4cb7-ac75-065f197d60b7"
      },
      "source": [
        "# loss function\n",
        "loss = nn.MSELoss()\n",
        "input = torch.randn(3, 5, requires_grad=True)\n",
        "target = torch.randn(3, 5)\n",
        "print(input, target)\n",
        "output = loss(input, target)\n",
        "output.backward()"
      ],
      "execution_count": 16,
      "outputs": [
        {
          "output_type": "stream",
          "text": [
            "tensor([[ 0.8417, -0.3573, -0.3093, -0.3507, -1.3946],\n",
            "        [ 0.1970,  0.2294, -1.2378, -0.1706,  1.1780],\n",
            "        [ 0.1001, -1.0833,  2.0406, -0.2515, -0.1425]], requires_grad=True) tensor([[-1.2413, -0.4343, -0.3804, -0.6148, -1.4388],\n",
            "        [ 0.9747, -0.7249,  0.5390, -1.5846, -1.2599],\n",
            "        [-1.4772,  1.5003,  0.8167, -1.8498,  1.5182]])\n"
          ],
          "name": "stdout"
        }
      ]
    },
    {
      "cell_type": "code",
      "metadata": {
        "id": "GHllu_D4zEMX",
        "colab_type": "code",
        "colab": {
          "base_uri": "https://localhost:8080/",
          "height": 50
        },
        "outputId": "80d7868e-2a3b-470c-ef2c-00f46ad71c18"
      },
      "source": [
        "# loss function\n",
        "loss1 = nn.CrossEntropyLoss()\n",
        "input = torch.tensor([[0.2,0.3,0.1,0.4],[0.1,0.5,0.2,0.2]], requires_grad=True)\n",
        "target = torch.tensor([1,3])\n",
        "print(input, target)\n",
        "output = loss1(input, target)\n",
        "output.backward()"
      ],
      "execution_count": 17,
      "outputs": [
        {
          "output_type": "stream",
          "text": [
            "tensor([[0.2000, 0.3000, 0.1000, 0.4000],\n",
            "        [0.1000, 0.5000, 0.2000, 0.2000]], requires_grad=True) tensor([1, 3])\n"
          ],
          "name": "stdout"
        }
      ]
    },
    {
      "cell_type": "code",
      "metadata": {
        "id": "8wF43njCzEMa",
        "colab_type": "code",
        "colab": {}
      },
      "source": [
        "target = torch.randn(1,16)\n",
        "optimizer = optim.SGD(L.parameters(), lr=0.01, momentum=0.9)\n",
        "optimizer.zero_grad()\n",
        "output = L(val.view(val.size(0), -1))\n",
        "loss = loss(output, target)\n",
        "loss.backward()\n",
        "optimizer.step()\n"
      ],
      "execution_count": 0,
      "outputs": []
    },
    {
      "cell_type": "code",
      "metadata": {
        "id": "GLXgyAZ9zEMc",
        "colab_type": "code",
        "colab": {
          "base_uri": "https://localhost:8080/",
          "height": 163
        },
        "outputId": "2dd69dce-5bf9-41bd-aa15-a11538adf750"
      },
      "source": [
        "print(L.weight.grad)\n",
        "print(L.bias.grad)"
      ],
      "execution_count": 19,
      "outputs": [
        {
          "output_type": "stream",
          "text": [
            "tensor([[ 0.0366,  0.0563,  0.0093,  ...,  0.0295,  0.0266,  0.0405],\n",
            "        [ 0.0224,  0.0345,  0.0057,  ...,  0.0181,  0.0163,  0.0248],\n",
            "        [ 0.1559,  0.2399,  0.0399,  ...,  0.1259,  0.1136,  0.1729],\n",
            "        ...,\n",
            "        [-0.1181, -0.1817, -0.0302,  ..., -0.0953, -0.0860, -0.1310],\n",
            "        [-0.0476, -0.0732, -0.0122,  ..., -0.0384, -0.0347, -0.0528],\n",
            "        [ 0.1478,  0.2274,  0.0378,  ...,  0.1193,  0.1076,  0.1638]])\n",
            "tensor([ 0.0471,  0.0288,  0.2007, -0.1784, -0.1315,  0.0210,  0.0809, -0.2643,\n",
            "        -0.0368,  0.2505, -0.3047,  0.0865, -0.0353, -0.1520, -0.0612,  0.1901])\n"
          ],
          "name": "stdout"
        }
      ]
    },
    {
      "cell_type": "code",
      "metadata": {
        "id": "KJDqy1f6zEMe",
        "colab_type": "code",
        "colab": {}
      },
      "source": [
        ""
      ],
      "execution_count": 0,
      "outputs": []
    }
  ]
}