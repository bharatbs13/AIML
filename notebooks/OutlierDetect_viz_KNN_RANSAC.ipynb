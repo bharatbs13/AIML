{
  "nbformat": 4,
  "nbformat_minor": 0,
  "metadata": {
    "kernelspec": {
      "display_name": "Python 3",
      "language": "python",
      "name": "python3"
    },
    "language_info": {
      "codemirror_mode": {
        "name": "ipython",
        "version": 3
      },
      "file_extension": ".py",
      "mimetype": "text/x-python",
      "name": "python",
      "nbconvert_exporter": "python",
      "pygments_lexer": "ipython3",
      "version": "3.7.3"
    },
    "colab": {
      "name": "OutlierDetection_viz_KNN_RANSAC.ipynb",
      "provenance": [],
      "toc_visible": true
    }
  },
  "cells": [
    {
      "cell_type": "markdown",
      "metadata": {
        "id": "vkh2RAUZ6XQJ",
        "colab_type": "text"
      },
      "source": [
        "# Outlier Detection"
      ]
    },
    {
      "cell_type": "code",
      "metadata": {
        "id": "EDm3nXEP6XQN",
        "colab_type": "code",
        "colab": {}
      },
      "source": [
        "import sys\n",
        "import pandas as pd\n",
        "import numpy as np\n",
        "from scipy import stats\n",
        "from sklearn import linear_model, datasets\n",
        "import matplotlib.pyplot as plt\n",
        "import matplotlib.font_manager\n",
        "%matplotlib inline\n",
        "from pyod.models.knn import KNN\n",
        "from pyod.utils.data import generate_data, get_outliers_inliers\n",
        "from pyod.models.cblof import CBLOF\n"
      ],
      "execution_count": 0,
      "outputs": []
    },
    {
      "cell_type": "markdown",
      "metadata": {
        "id": "ud7Hyo556XQc",
        "colab_type": "text"
      },
      "source": [
        "## Data Preparation"
      ]
    },
    {
      "cell_type": "markdown",
      "metadata": {
        "id": "Dp7p5Jra6XQg",
        "colab_type": "text"
      },
      "source": [
        "Here we perform some minor cleaning on the data like converting the required features into proper data type."
      ]
    },
    {
      "cell_type": "code",
      "metadata": {
        "id": "UF8ZKRJQ6XQj",
        "colab_type": "code",
        "colab": {}
      },
      "source": [
        "data = pd.read_csv('sample_data/scraped_data.csv')\n",
        "\n",
        "features = ['first_class.catches_taken','first_class.runs']\n",
        "for feature in features:\n",
        "    data[feature] = pd.to_numeric(data[feature], errors='coerce') #converting to numeric data\n",
        "    data[feature] = data[feature].fillna(0) #Filling the invalid characters as 0\n",
        "    data[feature] = data[feature].astype(int) #Optional Step converting to int64 type\n"
      ],
      "execution_count": 0,
      "outputs": []
    },
    {
      "cell_type": "code",
      "metadata": {
        "id": "yw0KEpUz6XQs",
        "colab_type": "code",
        "colab": {
          "base_uri": "https://localhost:8080/",
          "height": 300
        },
        "outputId": "314e6dab-3484-4f57-fde5-7be93eb59b67"
      },
      "source": [
        "#separate the two features and use it to plot the data \n",
        "F1 = np.array(data[features[0]]).reshape(-1,1)\n",
        "F2 = np.array(data[features[1]]).reshape(-1,1)\n",
        "\n",
        "# scatter plot \n",
        "plt.scatter(F1,F2)\n",
        "plt.xlabel(features[0])\n",
        "plt.ylabel(features[1]) "
      ],
      "execution_count": 8,
      "outputs": [
        {
          "output_type": "execute_result",
          "data": {
            "text/plain": [
              "Text(0, 0.5, 'first_class.runs')"
            ]
          },
          "metadata": {
            "tags": []
          },
          "execution_count": 8
        },
        {
          "output_type": "display_data",
          "data": {
            "image/png": "[encoded data removed]",
            "text/plain": [
              "<Figure size 432x288 with 1 Axes>"
            ]
          },
          "metadata": {
            "tags": []
          }
        }
      ]
    },
    {
      "cell_type": "markdown",
      "metadata": {
        "id": "6J_Ic1fH6XQ3",
        "colab_type": "text"
      },
      "source": [
        "# k-NN and clustering  based outlier detection"
      ]
    },
    {
      "cell_type": "markdown",
      "metadata": {
        "id": "FkNvUM1c6XQ5",
        "colab_type": "text"
      },
      "source": [
        " We us the pyod library for k Nearest Neighbhors kNN and clustering based (CBLOF) classfier."
      ]
    },
    {
      "cell_type": "code",
      "metadata": {
        "id": "zp44qhOF6XQ8",
        "colab_type": "code",
        "colab": {}
      },
      "source": [
        "classifiers = {\n",
        "     'CBLOF'   : CBLOF(),\n",
        "     'KNN' :  KNN()\n",
        "}"
      ],
      "execution_count": 0,
      "outputs": []
    },
    {
      "cell_type": "code",
      "metadata": {
        "id": "zdVzcSb06XRE",
        "colab_type": "code",
        "colab": {
          "base_uri": "https://localhost:8080/",
          "height": 621
        },
        "outputId": "4696c5e8-892f-474d-fa00-d6453185c1f7"
      },
      "source": [
        "#define Xtrain input for the package based on the features above\n",
        "X_train = data[features]\n",
        "\n",
        "\n",
        "#set the figure size\n",
        "plt.figure(figsize=(20, 7))\n",
        "\n",
        "for i, (clf_name,clf) in enumerate(classifiers.items()) :\n",
        "    # fit the dataset to the model\n",
        "    clf.fit(X_train)\n",
        "\n",
        "    # predict raw anomaly score\n",
        "    scores_pred = clf.decision_function(X_train)*-1\n",
        "    \n",
        "    # prediction of a datapoint category outlier(1) or inlier(0)\n",
        "    y_pred = clf.predict(X_train)\n",
        "    \n",
        "    X_train['outlier'+str(clf_name)] = y_pred\n",
        "    \n",
        "    # get outliers to be shown in red\n",
        "    allOutliers = X_train[X_train['outlier'+str(clf_name)] == 1]\n",
        "    Fout1 = np.array(allOutliers[features[0]]).reshape(-1,1)\n",
        "    Fout2 = np.array(allOutliers[features[1]]).reshape(-1,1)\n",
        "    \n",
        "    #get co-ordinates for inliners to be shown in yellow\n",
        "    allInliners = X_train[X_train['outlier'+str(clf_name)] == 0]\n",
        "    Fin1 = np.array(allInliners[features[0]]).reshape(-1,1)\n",
        "    Fin2 = np.array(allInliners[features[1]]).reshape(-1,1)\n",
        "    \n",
        "    subplot = plt.subplot(1, 2, i + 1)\n",
        "    \n",
        "    subplot.scatter(Fout1,Fout2,c='red', edgecolor='k')\n",
        "    subplot.scatter(Fin1,Fin2,c='blue', edgecolor='k')\n",
        "    subplot.set_xlabel(features[0])\n",
        "    subplot.set_ylabel(features[1]) \n",
        "    \n",
        "    subplot.set_title(clf_name)\n",
        "    \n",
        "plt.show() "
      ],
      "execution_count": 10,
      "outputs": [
        {
          "output_type": "stream",
          "text": [
            "/usr/local/lib/python3.6/dist-packages/ipykernel_launcher.py:17: SettingWithCopyWarning: \n",
            "A value is trying to be set on a copy of a slice from a DataFrame.\n",
            "Try using .loc[row_indexer,col_indexer] = value instead\n",
            "\n",
            "See the caveats in the documentation: http://pandas.pydata.org/pandas-docs/stable/indexing.html#indexing-view-versus-copy\n",
            "/usr/local/lib/python3.6/dist-packages/ipykernel_launcher.py:17: SettingWithCopyWarning: \n",
            "A value is trying to be set on a copy of a slice from a DataFrame.\n",
            "Try using .loc[row_indexer,col_indexer] = value instead\n",
            "\n",
            "See the caveats in the documentation: http://pandas.pydata.org/pandas-docs/stable/indexing.html#indexing-view-versus-copy\n"
          ],
          "name": "stderr"
        },
        {
          "output_type": "display_data",
          "data": {
            "image/png": "[encoded data removed]",
            "text/plain": [
              "<Figure size 1440x504 with 2 Axes>"
            ]
          },
          "metadata": {
            "tags": []
          }
        }
      ]
    },
    {
      "cell_type": "markdown",
      "metadata": {
        "id": "aSWWRlxI6XRI",
        "colab_type": "text"
      },
      "source": [
        "# Robust linear model estimation using RANSAC"
      ]
    },
    {
      "cell_type": "markdown",
      "metadata": {
        "id": "w7mIgyC86XRK",
        "colab_type": "text"
      },
      "source": [
        " In this example we see how to robustly fit a linear model to faulty data using the RANSAC algorithm."
      ]
    },
    {
      "cell_type": "code",
      "metadata": {
        "id": "oP3V70OI6XRL",
        "colab_type": "code",
        "colab": {
          "base_uri": "https://localhost:8080/",
          "height": 315
        },
        "outputId": "1593422e-19ca-49a5-bffb-bb333b63efa7"
      },
      "source": [
        "n_samples = 1000\n",
        "n_outliers = 50\n",
        "\n",
        "\n",
        "X, y, coef = datasets.make_regression(n_samples=n_samples, n_features=1,\n",
        "                                      n_informative=1, noise=10,\n",
        "                                      coef=True, random_state=0)\n",
        "\n",
        "# Add outlier data\n",
        "np.random.seed(0)\n",
        "X[:n_outliers] = 3 + 0.5 * np.random.normal(size=(n_outliers, 1))\n",
        "y[:n_outliers] = -3 + 10 * np.random.normal(size=n_outliers)\n",
        "\n",
        "# Fit line using all data\n",
        "#X = F1\n",
        "#y = F2\n",
        "lr = linear_model.LinearRegression()\n",
        "lr.fit(X, y)\n",
        "\n",
        "# Robustly fit linear model with RANSAC algorithm\n",
        "ransac = linear_model.RANSACRegressor()\n",
        "ransac.fit(X, y)\n",
        "inlier_mask = ransac.inlier_mask_\n",
        "outlier_mask = np.logical_not(inlier_mask)\n",
        "\n",
        "# Predict data of estimated models\n",
        "line_X = np.arange(X.min(), X.max())[:, np.newaxis]\n",
        "line_y = lr.predict(line_X)\n",
        "line_y_ransac = ransac.predict(line_X)\n",
        "\n",
        "# Compare estimated coefficients\n",
        "print(\"Estimated coefficients (true, linear regression, RANSAC):\")\n",
        "print(lr.coef_, ransac.estimator_.coef_)\n",
        "\n",
        "lw = 2\n",
        "plt.scatter(X[inlier_mask], y[inlier_mask], color='yellowgreen', marker='.',\n",
        "            label='Inliers')\n",
        "plt.scatter(X[outlier_mask], y[outlier_mask], color='gold', marker='.',\n",
        "            label='Outliers')\n",
        "plt.plot(line_X, line_y, color='navy', linewidth=lw, label='Linear regressor')\n",
        "plt.plot(line_X, line_y_ransac, color='cornflowerblue', linewidth=lw,\n",
        "         label='RANSAC regressor')\n",
        "plt.legend(loc='upper left')\n",
        "plt.xlabel(\"Input\")\n",
        "plt.ylabel(\"Response\")\n",
        "plt.show()"
      ],
      "execution_count": 11,
      "outputs": [
        {
          "output_type": "stream",
          "text": [
            "Estimated coefficients (true, linear regression, RANSAC):\n",
            "[54.17236387] [82.08533159]\n"
          ],
          "name": "stdout"
        },
        {
          "output_type": "display_data",
          "data": {
            "image/png": "[encoded data removed]",
            "text/plain": [
              "<Figure size 432x288 with 1 Axes>"
            ]
          },
          "metadata": {
            "tags": []
          }
        }
      ]
    },
    {
      "cell_type": "code",
      "metadata": {
        "id": "V6G0Lram6XRQ",
        "colab_type": "code",
        "colab": {}
      },
      "source": [
        ""
      ],
      "execution_count": 0,
      "outputs": []
    }
  ]
}