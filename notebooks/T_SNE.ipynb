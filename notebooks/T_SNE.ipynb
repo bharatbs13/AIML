{
  "nbformat": 4,
  "nbformat_minor": 0,
  "metadata": {
    "kernelspec": {
      "display_name": "Python 3",
      "language": "python",
      "name": "python3"
    },
    "language_info": {
      "codemirror_mode": {
        "name": "ipython",
        "version": 3
      },
      "file_extension": ".py",
      "mimetype": "text/x-python",
      "name": "python",
      "nbconvert_exporter": "python",
      "pygments_lexer": "ipython3",
      "version": "3.7.3"
    },
    "colab": {
      "name": "T-SNE.ipynb",
      "provenance": [],
      "toc_visible": true
    }
  },
  "cells": [
    {
      "cell_type": "markdown",
      "metadata": {
        "id": "mRY1N7nU_xmk",
        "colab_type": "text"
      },
      "source": [
        "# t-SNE: t-Distributed Stochastic Neighbor Embedding\n",
        "\n",
        "## Import Require Libraries"
      ]
    },
    {
      "cell_type": "code",
      "metadata": {
        "id": "iW2K0uBp_xmm",
        "colab_type": "code",
        "colab": {}
      },
      "source": [
        "import pandas as pd\n",
        "from sklearn.manifold import TSNE\n",
        "from sklearn.datasets import load_iris\n",
        "import seaborn as sns\n",
        "import matplotlib.pyplot as plt\n",
        "from matplotlib.colors import ListedColormap"
      ],
      "execution_count": 0,
      "outputs": []
    },
    {
      "cell_type": "markdown",
      "metadata": {
        "id": "A6R03KwR_xmp",
        "colab_type": "text"
      },
      "source": [
        "## Load iris dataset (inbuilt in sklearn)"
      ]
    },
    {
      "cell_type": "code",
      "metadata": {
        "id": "Q4z686pi_xmq",
        "colab_type": "code",
        "colab": {
          "base_uri": "https://localhost:8080/",
          "height": 191
        },
        "outputId": "cb73a523-aa8c-46e4-d8c5-7fed84dae908"
      },
      "source": [
        "dataset = load_iris()\n",
        "features = ['sepal_length', 'sepal_width', 'petal_length', 'petal_width']\n",
        "target = 'species'\n",
        "\n",
        "iris = pd.DataFrame(\n",
        "    dataset.data,\n",
        "    columns=features)\n",
        "iris[target] = dataset.target\n",
        "\n",
        "iris.head()"
      ],
      "execution_count": 2,
      "outputs": [
        {
          "output_type": "execute_result",
          "data": {
            "text/html": [
              "<div>\n",
              "<style scoped>\n",
              "    .dataframe tbody tr th:only-of-type {\n",
              "        vertical-align: middle;\n",
              "    }\n",
              "\n",
              "    .dataframe tbody tr th {\n",
              "        vertical-align: top;\n",
              "    }\n",
              "\n",
              "    .dataframe thead th {\n",
              "        text-align: right;\n",
              "    }\n",
              "</style>\n",
              "<table border=\"1\" class=\"dataframe\">\n",
              "  <thead>\n",
              "    <tr style=\"text-align: right;\">\n",
              "      <th></th>\n",
              "      <th>sepal_length</th>\n",
              "      <th>sepal_width</th>\n",
              "      <th>petal_length</th>\n",
              "      <th>petal_width</th>\n",
              "      <th>species</th>\n",
              "    </tr>\n",
              "  </thead>\n",
              "  <tbody>\n",
              "    <tr>\n",
              "      <th>0</th>\n",
              "      <td>5.1</td>\n",
              "      <td>3.5</td>\n",
              "      <td>1.4</td>\n",
              "      <td>0.2</td>\n",
              "      <td>0</td>\n",
              "    </tr>\n",
              "    <tr>\n",
              "      <th>1</th>\n",
              "      <td>4.9</td>\n",
              "      <td>3.0</td>\n",
              "      <td>1.4</td>\n",
              "      <td>0.2</td>\n",
              "      <td>0</td>\n",
              "    </tr>\n",
              "    <tr>\n",
              "      <th>2</th>\n",
              "      <td>4.7</td>\n",
              "      <td>3.2</td>\n",
              "      <td>1.3</td>\n",
              "      <td>0.2</td>\n",
              "      <td>0</td>\n",
              "    </tr>\n",
              "    <tr>\n",
              "      <th>3</th>\n",
              "      <td>4.6</td>\n",
              "      <td>3.1</td>\n",
              "      <td>1.5</td>\n",
              "      <td>0.2</td>\n",
              "      <td>0</td>\n",
              "    </tr>\n",
              "    <tr>\n",
              "      <th>4</th>\n",
              "      <td>5.0</td>\n",
              "      <td>3.6</td>\n",
              "      <td>1.4</td>\n",
              "      <td>0.2</td>\n",
              "      <td>0</td>\n",
              "    </tr>\n",
              "  </tbody>\n",
              "</table>\n",
              "</div>"
            ],
            "text/plain": [
              "   sepal_length  sepal_width  petal_length  petal_width  species\n",
              "0           5.1          3.5           1.4          0.2        0\n",
              "1           4.9          3.0           1.4          0.2        0\n",
              "2           4.7          3.2           1.3          0.2        0\n",
              "3           4.6          3.1           1.5          0.2        0\n",
              "4           5.0          3.6           1.4          0.2        0"
            ]
          },
          "metadata": {
            "tags": []
          },
          "execution_count": 2
        }
      ]
    },
    {
      "cell_type": "markdown",
      "metadata": {
        "id": "tds1riJ2_xmt",
        "colab_type": "text"
      },
      "source": [
        "## Computing t-SNE "
      ]
    },
    {
      "cell_type": "code",
      "metadata": {
        "id": "I8QIRZV0_xmu",
        "colab_type": "code",
        "colab": {}
      },
      "source": [
        "RANDOM_STATE = 42\n",
        "tsne = TSNE(n_components=2, n_iter=1000, random_state=RANDOM_STATE)\n",
        "points = tsne.fit_transform(iris[features])"
      ],
      "execution_count": 0,
      "outputs": []
    },
    {
      "cell_type": "markdown",
      "metadata": {
        "id": "CyKFFnm3_xmx",
        "colab_type": "text"
      },
      "source": [
        "## Plot output"
      ]
    },
    {
      "cell_type": "code",
      "metadata": {
        "id": "3RmjrFue_xmx",
        "colab_type": "code",
        "colab": {}
      },
      "source": [
        "sns.set()\n",
        "sns.set(rc={\"figure.figsize\": (10, 8)})\n",
        "PALETTE = sns.color_palette('deep', n_colors=3)\n",
        "CMAP = ListedColormap(PALETTE.as_hex())"
      ],
      "execution_count": 0,
      "outputs": []
    },
    {
      "cell_type": "code",
      "metadata": {
        "id": "Rf8mYG3x_xm0",
        "colab_type": "code",
        "colab": {}
      },
      "source": [
        "flower_id_map = {0: 'Iris-setosa', 1: 'Iris-versicolor', 2: 'Iris-virginica'}"
      ],
      "execution_count": 0,
      "outputs": []
    },
    {
      "cell_type": "code",
      "metadata": {
        "id": "Ef-c046v_xm2",
        "colab_type": "code",
        "colab": {
          "base_uri": "https://localhost:8080/",
          "height": 437
        },
        "outputId": "99f04254-bf52-4941-e2b2-3b569a655e5e"
      },
      "source": [
        "from matplotlib import pyplot as plt\n",
        "import numpy as np\n",
        "import math\n",
        "\n",
        "with plt.style.context('seaborn-whitegrid'):\n",
        "    plt.figure(figsize=(15, 6))\n",
        "    for lab, col in zip((0, 1, 2), \n",
        "                        ('blue', 'red', 'green')):\n",
        "        plt.scatter(points[iris['species']==lab, 0],\n",
        "                    points[iris['species']==lab, 1],\n",
        "                    label=flower_id_map[lab],\n",
        "                    c=col)\n",
        "    plt.title('Iris dataset visualized with t-SNE', fontsize=20, y=1.03)    \n",
        "    plt.xlabel('Principal Component 1')\n",
        "    plt.ylabel('Principal Component 2')\n",
        "    plt.legend(loc='upper left')\n",
        "    plt.tight_layout()\n",
        "    plt.show()"
      ],
      "execution_count": 6,
      "outputs": [
        {
          "output_type": "display_data",
          "data": {
            "image/png": "[encoded data removed]",
            "text/plain": [
              "<Figure size 1080x432 with 1 Axes>"
            ]
          },
          "metadata": {
            "tags": []
          }
        }
      ]
    },
    {
      "cell_type": "code",
      "metadata": {
        "id": "SBxqHofq_xm4",
        "colab_type": "code",
        "colab": {}
      },
      "source": [
        ""
      ],
      "execution_count": 0,
      "outputs": []
    }
  ]
}