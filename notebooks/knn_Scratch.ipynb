{
  "nbformat": 4,
  "nbformat_minor": 0,
  "metadata": {
    "kernelspec": {
      "display_name": "Python 3",
      "language": "python",
      "name": "python3"
    },
    "language_info": {
      "codemirror_mode": {
        "name": "ipython",
        "version": 3
      },
      "file_extension": ".py",
      "mimetype": "text/x-python",
      "name": "python",
      "nbconvert_exporter": "python",
      "pygments_lexer": "ipython3",
      "version": "3.5.2"
    },
    "colab": {
      "name": "knn_Scratch.ipynb",
      "provenance": []
    }
  },
  "cells": [
    {
      "cell_type": "code",
      "metadata": {
        "id": "oaQ74oK1z8wU",
        "colab_type": "code",
        "colab": {}
      },
      "source": [
        "from sklearn.datasets import load_iris\n",
        "\n",
        "iris = load_iris()\n",
        "\n",
        "features = iris.data\n",
        "classes = iris.target\n"
      ],
      "execution_count": 0,
      "outputs": []
    },
    {
      "cell_type": "code",
      "metadata": {
        "id": "F18NL3cAz8wc",
        "colab_type": "code",
        "colab": {}
      },
      "source": [
        "from sklearn.model_selection import train_test_split\n",
        "\n",
        "X_train, X_test, y_train, y_test = train_test_split(features, classes, test_size=0.2, random_state=10)\n",
        "\n"
      ],
      "execution_count": 0,
      "outputs": []
    },
    {
      "cell_type": "code",
      "metadata": {
        "id": "4RZfMCm4z8wt",
        "colab_type": "code",
        "colab": {}
      },
      "source": [
        "import math\n",
        "\n",
        "def euclidean_distance(first_object, second_object):\n",
        "    distance = 0\n",
        "    num_of_features = len(first_object)\n",
        "    for f in range(num_of_features):\n",
        "        distance += pow((first_object[f] - second_object[f]), 2)\n",
        "    return math.sqrt(distance)"
      ],
      "execution_count": 0,
      "outputs": []
    },
    {
      "cell_type": "code",
      "metadata": {
        "id": "zXFAlLj6z8ww",
        "colab_type": "code",
        "colab": {}
      },
      "source": [
        "import numpy as np\n",
        "\n",
        "def get_nearest_neighbours(train_features, focus_object, k):\n",
        "    distances = []\n",
        "    num_of_features = len(focus_object)\n",
        "    for train_object in train_features:\n",
        "        distance = euclidean_distance(train_object, focus_object)\n",
        "        distances.append(distance)\n",
        "    return np.argsort(distances[:k])"
      ],
      "execution_count": 0,
      "outputs": []
    },
    {
      "cell_type": "code",
      "metadata": {
        "id": "mEXToyUrz8wz",
        "colab_type": "code",
        "colab": {}
      },
      "source": [
        "def get_majority_class(k_nearest_neighbours):\n",
        "    votes = {}\n",
        "    for neighbour in k_nearest_neighbours:\n",
        "        neighbour_class = y_test[neighbour]\n",
        "        if neighbour_class in votes:\n",
        "            votes[neighbour_class] += 1\n",
        "        else:\n",
        "            votes[neighbour_class] = 1\n",
        "    votes = sorted(votes, reverse = True)\n",
        "    return votes[0]"
      ],
      "execution_count": 0,
      "outputs": []
    },
    {
      "cell_type": "code",
      "metadata": {
        "id": "KlQCenwUz8w1",
        "colab_type": "code",
        "colab": {}
      },
      "source": [
        "def calc_accuracy(test_classes, predicted_classes):\n",
        "    correct = 0\n",
        "    number_of_samples = len(test_classes)\n",
        "    for i in range(number_of_samples):\n",
        "        if test_classes[i] == predicted_classes[i]:\n",
        "            correct += 1\n",
        "    return correct/number_of_samples"
      ],
      "execution_count": 0,
      "outputs": []
    },
    {
      "cell_type": "code",
      "metadata": {
        "id": "H7TDwteqz8w3",
        "colab_type": "code",
        "colab": {}
      },
      "source": [
        "num_test_samples = len(X_test)\n",
        "predicted_classes = []\n",
        "for i in range(num_test_samples):\n",
        "    test_object = X_test[i]\n",
        "    k_nearest_neighbours = get_nearest_neighbours(X_train, test_object, 5)\n",
        "    predicted_class = get_majority_class(k_nearest_neighbours)\n",
        "    predicted_classes.append(predicted_class)\n",
        "    \n",
        "\n",
        "accuracy = calc_accuracy(y_test, predicted_classes)\n",
        "accuracy"
      ],
      "execution_count": 0,
      "outputs": []
    }
  ]
}