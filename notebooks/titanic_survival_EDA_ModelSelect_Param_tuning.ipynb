{
  "nbformat": 4,
  "nbformat_minor": 0,
  "metadata": {
    "kernelspec": {
      "display_name": "Python 3",
      "language": "python",
      "name": "python3"
    },
    "language_info": {
      "codemirror_mode": {
        "name": "ipython",
        "version": 3
      },
      "file_extension": ".py",
      "mimetype": "text/x-python",
      "name": "python",
      "nbconvert_exporter": "python",
      "pygments_lexer": "ipython3",
      "version": "3.7.3"
    },
    "colab": {
      "name": "titanic_survival_EDA_ModelSelect_Param_tuning.ipynb",
      "provenance": [],
      "toc_visible": true
    }
  },
  "cells": [
    {
      "cell_type": "markdown",
      "metadata": {
        "_cell_guid": "76b9080c-00b2-4a25-b61a-3aa8cfde45b4",
        "_uuid": "7fecfa4448de62057078f83cc58fa17812a8d275",
        "id": "H2p6sQmeQ69w",
        "colab_type": "text"
      },
      "source": [
        "## **Table of Contents:**\n",
        "* Introduction\n",
        "* The RMS Titanic\n",
        "* Import Libraries\n",
        "* Getting the Data\n",
        "* Data Exploration/Analysis\n",
        "* Data Preprocessing\n",
        "    - Missing Data\n",
        "    - Converting Features\n",
        "    - Creating Categories\n",
        "    - Creating new Features\n",
        "* Random Forest \n",
        "    - What is Random Forest ?\n",
        "    - Feature importance\n",
        "    - Hyperparameter Tuning   \n",
        "* Further Evaluation \n",
        "    - Confusion Matrix\n",
        "    - Precision and Recall \n",
        "    - F-Score\n",
        "    - Precision Recall Curve\n",
        "    - ROC AUC Curve\n",
        "    - ROC AUC Score\n",
        "* Submission\n",
        "* Summary"
      ]
    },
    {
      "cell_type": "markdown",
      "metadata": {
        "_cell_guid": "2ad84495-b931-4648-8fa2-ddad53e8087f",
        "_uuid": "2d55f009ba43261a43e6f93a3dc64d365786a81b",
        "id": "9ke9n16dQ69x",
        "colab_type": "text"
      },
      "source": [
        "# **Introduction**\n",
        "\n",
        "In this kernel I will go through the whole process of creating a machine learning model on the famous Titanic dataset, which is used by many people all over the world. It provides information on the fate of passengers on the Titanic, summarized according to economic status (class), sex, age and survival. In this challenge, we are asked to predict whether a passenger on the titanic would have been survived or not."
      ]
    },
    {
      "cell_type": "markdown",
      "metadata": {
        "_cell_guid": "78c7a8f4-10c4-43a1-98a7-5c75460b78bc",
        "_uuid": "1dd3539f0207ddbf047796c9c93e3f74a34a7bda",
        "id": "T9AfvIMuQ69y",
        "colab_type": "text"
      },
      "source": [
        "# **The RMS Titanic**\n",
        "\n",
        "RMS Titanic was a British passenger liner that sank in the North Atlantic Ocean in the early morning hours of 15 April 1912, after it collided with an iceberg during its maiden voyage from Southampton to New York City. There were an estimated 2,224 passengers and crew aboard the ship, and more than 1,500 died, making it one of the deadliest commercial peacetime maritime disasters in modern history. The RMS Titanic was the largest ship afloat at the time it entered service and was the second of three Olympic-class ocean liners operated by the White Star Line. The Titanic was built by the Harland and Wolff shipyard in Belfast. Thomas Andrews, her architect, died in the disaster."
      ]
    },
    {
      "cell_type": "markdown",
      "metadata": {
        "_cell_guid": "e362546d-9580-4b96-a696-65cdf7c29dbc",
        "_uuid": "939dee09a5609a1cacd0b30dc356ddec6070c187",
        "id": "782nydSMQ69z",
        "colab_type": "text"
      },
      "source": [
        "# **Import Libraries**"
      ]
    },
    {
      "cell_type": "code",
      "metadata": {
        "_cell_guid": "b2738823-6a25-443f-91a3-28311d8a24b3",
        "_uuid": "25d3b2548cb11c6f001cd375f3cae145e1ee654f",
        "id": "4zyvzHQKQ690",
        "colab_type": "code",
        "colab": {}
      },
      "source": [
        "# linear algebra\n",
        "import numpy as np \n",
        "\n",
        "# data processing\n",
        "import pandas as pd \n",
        "\n",
        "# data visualization\n",
        "import seaborn as sns\n",
        "%matplotlib inline\n",
        "from matplotlib import pyplot as plt\n",
        "from matplotlib import style\n",
        "\n",
        "# Algorithms\n",
        "from sklearn import linear_model\n",
        "from sklearn.linear_model import LogisticRegression\n",
        "from sklearn.ensemble import RandomForestClassifier\n",
        "from sklearn.linear_model import Perceptron\n",
        "from sklearn.linear_model import SGDClassifier\n",
        "from sklearn.tree import DecisionTreeClassifier\n",
        "from sklearn.neighbors import KNeighborsClassifier\n",
        "from sklearn.svm import SVC, LinearSVC\n",
        "from sklearn.naive_bayes import GaussianNB\n",
        "from sklearn.model_selection import train_test_split"
      ],
      "execution_count": 0,
      "outputs": []
    },
    {
      "cell_type": "markdown",
      "metadata": {
        "_cell_guid": "227d7f10-fe41-41e5-85ae-0210b9e76952",
        "_uuid": "d9a879115c199d8ad15c305e4781ed490c6a3375",
        "id": "FMDF2RXEQ692",
        "colab_type": "text"
      },
      "source": [
        "# **Getting the Data**"
      ]
    },
    {
      "cell_type": "code",
      "metadata": {
        "id": "DP52L7DTRzE5",
        "colab_type": "code",
        "colab": {
          "base_uri": "https://localhost:8080/",
          "height": 118
        },
        "outputId": "aaeea2d6-aab6-47f9-c596-efd1e4e30dd2"
      },
      "source": [
        "# upload titanic dataset from https://www.kaggle.com/c/titanic on Google drive\n",
        "from google.colab import drive\n",
        "drive.mount('/content/drive/')"
      ],
      "execution_count": 1,
      "outputs": [
        {
          "output_type": "stream",
          "text": [
            "Go to this URL in a browser: https://accounts.google.com/o/oauth2/auth?client_id=947318989803-6bn6qk8qdgf4n4g3pfee6491hc0brc4i.apps.googleusercontent.com&redirect_uri=urn%3Aietf%3Awg%3Aoauth%3A2.0%3Aoob&scope=email%20https%3A%2F%2Fwww.googleapis.com%2Fauth%2Fdocs.test%20https%3A%2F%2Fwww.googleapis.com%2Fauth%2Fdrive%20https%3A%2F%2Fwww.googleapis.com%2Fauth%2Fdrive.photos.readonly%20https%3A%2F%2Fwww.googleapis.com%2Fauth%2Fpeopleapi.readonly&response_type=code\n",
            "\n",
            "Enter your authorization code:\n",
            "··········\n",
            "Mounted at /content/drive/\n"
          ],
          "name": "stdout"
        }
      ]
    },
    {
      "cell_type": "code",
      "metadata": {
        "id": "39JNkOyWSUXR",
        "colab_type": "code",
        "colab": {}
      },
      "source": [
        "base_path = base_dir = '/content/drive/My Drive/projects_data/titanic_dataset/'"
      ],
      "execution_count": 0,
      "outputs": []
    },
    {
      "cell_type": "code",
      "metadata": {
        "_cell_guid": "ee34c36a-ee74-4ae6-b845-d5362ba8190a",
        "_uuid": "93749aa6715208ead3060a353c5a7f603cd17e7d",
        "id": "3F0Go9LPQ693",
        "colab_type": "code",
        "colab": {}
      },
      "source": [
        "\n",
        "test_df = pd.read_csv(base_path+\"titanic_test.csv\")\n",
        "train_df = pd.read_csv(base_path+\"titanic_train.csv\")"
      ],
      "execution_count": 0,
      "outputs": []
    },
    {
      "cell_type": "markdown",
      "metadata": {
        "_cell_guid": "62f89cae-b3e3-46c1-87ae-3c8990838920",
        "_uuid": "e2f23328c73d39632df3f6939e29e4ffeb636b15",
        "id": "qFWCZ_ohQ695",
        "colab_type": "text"
      },
      "source": [
        "# **Data Exploration/Analysis**"
      ]
    },
    {
      "cell_type": "code",
      "metadata": {
        "_cell_guid": "1a58b34a-f713-421d-8679-c4ed6ab54597",
        "_uuid": "c422707db69bd9105f085702de2465adf816ab82",
        "id": "FBynoRdUQ696",
        "colab_type": "code",
        "colab": {}
      },
      "source": [
        "train_df.info()"
      ],
      "execution_count": 0,
      "outputs": []
    },
    {
      "cell_type": "markdown",
      "metadata": {
        "_cell_guid": "3b73d9a3-bcff-490c-ace9-14d7c2c8978e",
        "_uuid": "2f467f6178dfb5ee63ea7c7fb06e82def53b09ee",
        "id": "CmVWYE4FQ698",
        "colab_type": "text"
      },
      "source": [
        "**The training-set has 891 examples and 11 features + the target variable (survived)**. 2 of the features are floats, 5 are integers and 5 are objects. Below I have listed the features with a short description:\n",
        "\n",
        "    survival:\tSurvival\n",
        "    PassengerId: Unique Id of a passenger.\n",
        "    pclass:\tTicket class\t\n",
        "    sex:\tSex\t\n",
        "    Age:\tAge in years\t\n",
        "    sibsp:\t# of siblings / spouses aboard the Titanic\t\n",
        "    parch:\t# of parents / children aboard the Titanic\t\n",
        "    ticket:\tTicket number\t\n",
        "    fare:\tPassenger fare\t\n",
        "    cabin:\tCabin number\t\n",
        "    embarked:\tPort of Embarkation"
      ]
    },
    {
      "cell_type": "code",
      "metadata": {
        "_cell_guid": "aab921bd-5733-426e-83e1-38ee65e75ddf",
        "_uuid": "52e48c3a6b2cdba172b090efca8728414e0d0f3e",
        "id": "tOlioI60Q699",
        "colab_type": "code",
        "colab": {
          "base_uri": "https://localhost:8080/",
          "height": 277
        },
        "outputId": "c15d6cea-781d-4cde-8e08-83660c4245c3"
      },
      "source": [
        "train_df.describe()"
      ],
      "execution_count": 6,
      "outputs": [
        {
          "output_type": "execute_result",
          "data": {
            "text/html": [
              "<div>\n",
              "<style scoped>\n",
              "    .dataframe tbody tr th:only-of-type {\n",
              "        vertical-align: middle;\n",
              "    }\n",
              "\n",
              "    .dataframe tbody tr th {\n",
              "        vertical-align: top;\n",
              "    }\n",
              "\n",
              "    .dataframe thead th {\n",
              "        text-align: right;\n",
              "    }\n",
              "</style>\n",
              "<table border=\"1\" class=\"dataframe\">\n",
              "  <thead>\n",
              "    <tr style=\"text-align: right;\">\n",
              "      <th></th>\n",
              "      <th>PassengerId</th>\n",
              "      <th>Survived</th>\n",
              "      <th>Pclass</th>\n",
              "      <th>Age</th>\n",
              "      <th>SibSp</th>\n",
              "      <th>Parch</th>\n",
              "      <th>Fare</th>\n",
              "    </tr>\n",
              "  </thead>\n",
              "  <tbody>\n",
              "    <tr>\n",
              "      <th>count</th>\n",
              "      <td>891.000000</td>\n",
              "      <td>891.000000</td>\n",
              "      <td>891.000000</td>\n",
              "      <td>714.000000</td>\n",
              "      <td>891.000000</td>\n",
              "      <td>891.000000</td>\n",
              "      <td>891.000000</td>\n",
              "    </tr>\n",
              "    <tr>\n",
              "      <th>mean</th>\n",
              "      <td>446.000000</td>\n",
              "      <td>0.383838</td>\n",
              "      <td>2.308642</td>\n",
              "      <td>29.699118</td>\n",
              "      <td>0.523008</td>\n",
              "      <td>0.381594</td>\n",
              "      <td>32.204208</td>\n",
              "    </tr>\n",
              "    <tr>\n",
              "      <th>std</th>\n",
              "      <td>257.353842</td>\n",
              "      <td>0.486592</td>\n",
              "      <td>0.836071</td>\n",
              "      <td>14.526497</td>\n",
              "      <td>1.102743</td>\n",
              "      <td>0.806057</td>\n",
              "      <td>49.693429</td>\n",
              "    </tr>\n",
              "    <tr>\n",
              "      <th>min</th>\n",
              "      <td>1.000000</td>\n",
              "      <td>0.000000</td>\n",
              "      <td>1.000000</td>\n",
              "      <td>0.420000</td>\n",
              "      <td>0.000000</td>\n",
              "      <td>0.000000</td>\n",
              "      <td>0.000000</td>\n",
              "    </tr>\n",
              "    <tr>\n",
              "      <th>25%</th>\n",
              "      <td>223.500000</td>\n",
              "      <td>0.000000</td>\n",
              "      <td>2.000000</td>\n",
              "      <td>20.125000</td>\n",
              "      <td>0.000000</td>\n",
              "      <td>0.000000</td>\n",
              "      <td>7.910400</td>\n",
              "    </tr>\n",
              "    <tr>\n",
              "      <th>50%</th>\n",
              "      <td>446.000000</td>\n",
              "      <td>0.000000</td>\n",
              "      <td>3.000000</td>\n",
              "      <td>28.000000</td>\n",
              "      <td>0.000000</td>\n",
              "      <td>0.000000</td>\n",
              "      <td>14.454200</td>\n",
              "    </tr>\n",
              "    <tr>\n",
              "      <th>75%</th>\n",
              "      <td>668.500000</td>\n",
              "      <td>1.000000</td>\n",
              "      <td>3.000000</td>\n",
              "      <td>38.000000</td>\n",
              "      <td>1.000000</td>\n",
              "      <td>0.000000</td>\n",
              "      <td>31.000000</td>\n",
              "    </tr>\n",
              "    <tr>\n",
              "      <th>max</th>\n",
              "      <td>891.000000</td>\n",
              "      <td>1.000000</td>\n",
              "      <td>3.000000</td>\n",
              "      <td>80.000000</td>\n",
              "      <td>8.000000</td>\n",
              "      <td>6.000000</td>\n",
              "      <td>512.329200</td>\n",
              "    </tr>\n",
              "  </tbody>\n",
              "</table>\n",
              "</div>"
            ],
            "text/plain": [
              "       PassengerId    Survived      Pclass  ...       SibSp       Parch        Fare\n",
              "count   891.000000  891.000000  891.000000  ...  891.000000  891.000000  891.000000\n",
              "mean    446.000000    0.383838    2.308642  ...    0.523008    0.381594   32.204208\n",
              "std     257.353842    0.486592    0.836071  ...    1.102743    0.806057   49.693429\n",
              "min       1.000000    0.000000    1.000000  ...    0.000000    0.000000    0.000000\n",
              "25%     223.500000    0.000000    2.000000  ...    0.000000    0.000000    7.910400\n",
              "50%     446.000000    0.000000    3.000000  ...    0.000000    0.000000   14.454200\n",
              "75%     668.500000    1.000000    3.000000  ...    1.000000    0.000000   31.000000\n",
              "max     891.000000    1.000000    3.000000  ...    8.000000    6.000000  512.329200\n",
              "\n",
              "[8 rows x 7 columns]"
            ]
          },
          "metadata": {
            "tags": []
          },
          "execution_count": 6
        }
      ]
    },
    {
      "cell_type": "markdown",
      "metadata": {
        "_cell_guid": "6b7b9fcc-6c7e-45ab-b4d0-5d0cba45cf31",
        "_uuid": "9130eebea06a0aeb3473ee4507b6b1460b441151",
        "id": "neEUPtsHQ6-A",
        "colab_type": "text"
      },
      "source": [
        "Above we can see that **38% out of the training-set survived the Titanic**. We can also see that the passenger ages range from 0.4 to 80. On top of that we can already detect some features, that contain missing values, like the 'Age' feature."
      ]
    },
    {
      "cell_type": "code",
      "metadata": {
        "_cell_guid": "db076e57-f10c-4d6d-b0f6-0d2d187489cd",
        "_uuid": "592a6f64ecac22476f6e614bf0093de0166ab010",
        "id": "icYyHdkmQ6-B",
        "colab_type": "code",
        "colab": {
          "base_uri": "https://localhost:8080/",
          "height": 478
        },
        "outputId": "e3662fd1-5a7e-4cff-bd51-99c55277c0c1"
      },
      "source": [
        "train_df.head(15)"
      ],
      "execution_count": 7,
      "outputs": [
        {
          "output_type": "execute_result",
          "data": {
            "text/html": [
              "<div>\n",
              "<style scoped>\n",
              "    .dataframe tbody tr th:only-of-type {\n",
              "        vertical-align: middle;\n",
              "    }\n",
              "\n",
              "    .dataframe tbody tr th {\n",
              "        vertical-align: top;\n",
              "    }\n",
              "\n",
              "    .dataframe thead th {\n",
              "        text-align: right;\n",
              "    }\n",
              "</style>\n",
              "<table border=\"1\" class=\"dataframe\">\n",
              "  <thead>\n",
              "    <tr style=\"text-align: right;\">\n",
              "      <th></th>\n",
              "      <th>PassengerId</th>\n",
              "      <th>Survived</th>\n",
              "      <th>Pclass</th>\n",
              "      <th>Name</th>\n",
              "      <th>Sex</th>\n",
              "      <th>Age</th>\n",
              "      <th>SibSp</th>\n",
              "      <th>Parch</th>\n",
              "      <th>Ticket</th>\n",
              "      <th>Fare</th>\n",
              "      <th>Cabin</th>\n",
              "      <th>Embarked</th>\n",
              "    </tr>\n",
              "  </thead>\n",
              "  <tbody>\n",
              "    <tr>\n",
              "      <th>0</th>\n",
              "      <td>1</td>\n",
              "      <td>0</td>\n",
              "      <td>3</td>\n",
              "      <td>Braund, Mr. Owen Harris</td>\n",
              "      <td>male</td>\n",
              "      <td>22.0</td>\n",
              "      <td>1</td>\n",
              "      <td>0</td>\n",
              "      <td>A/5 21171</td>\n",
              "      <td>7.2500</td>\n",
              "      <td>NaN</td>\n",
              "      <td>S</td>\n",
              "    </tr>\n",
              "    <tr>\n",
              "      <th>1</th>\n",
              "      <td>2</td>\n",
              "      <td>1</td>\n",
              "      <td>1</td>\n",
              "      <td>Cumings, Mrs. John Bradley (Florence Briggs Th...</td>\n",
              "      <td>female</td>\n",
              "      <td>38.0</td>\n",
              "      <td>1</td>\n",
              "      <td>0</td>\n",
              "      <td>PC 17599</td>\n",
              "      <td>71.2833</td>\n",
              "      <td>C85</td>\n",
              "      <td>C</td>\n",
              "    </tr>\n",
              "    <tr>\n",
              "      <th>2</th>\n",
              "      <td>3</td>\n",
              "      <td>1</td>\n",
              "      <td>3</td>\n",
              "      <td>Heikkinen, Miss. Laina</td>\n",
              "      <td>female</td>\n",
              "      <td>26.0</td>\n",
              "      <td>0</td>\n",
              "      <td>0</td>\n",
              "      <td>STON/O2. 3101282</td>\n",
              "      <td>7.9250</td>\n",
              "      <td>NaN</td>\n",
              "      <td>S</td>\n",
              "    </tr>\n",
              "    <tr>\n",
              "      <th>3</th>\n",
              "      <td>4</td>\n",
              "      <td>1</td>\n",
              "      <td>1</td>\n",
              "      <td>Futrelle, Mrs. Jacques Heath (Lily May Peel)</td>\n",
              "      <td>female</td>\n",
              "      <td>35.0</td>\n",
              "      <td>1</td>\n",
              "      <td>0</td>\n",
              "      <td>113803</td>\n",
              "      <td>53.1000</td>\n",
              "      <td>C123</td>\n",
              "      <td>S</td>\n",
              "    </tr>\n",
              "    <tr>\n",
              "      <th>4</th>\n",
              "      <td>5</td>\n",
              "      <td>0</td>\n",
              "      <td>3</td>\n",
              "      <td>Allen, Mr. William Henry</td>\n",
              "      <td>male</td>\n",
              "      <td>35.0</td>\n",
              "      <td>0</td>\n",
              "      <td>0</td>\n",
              "      <td>373450</td>\n",
              "      <td>8.0500</td>\n",
              "      <td>NaN</td>\n",
              "      <td>S</td>\n",
              "    </tr>\n",
              "    <tr>\n",
              "      <th>5</th>\n",
              "      <td>6</td>\n",
              "      <td>0</td>\n",
              "      <td>3</td>\n",
              "      <td>Moran, Mr. James</td>\n",
              "      <td>male</td>\n",
              "      <td>NaN</td>\n",
              "      <td>0</td>\n",
              "      <td>0</td>\n",
              "      <td>330877</td>\n",
              "      <td>8.4583</td>\n",
              "      <td>NaN</td>\n",
              "      <td>Q</td>\n",
              "    </tr>\n",
              "    <tr>\n",
              "      <th>6</th>\n",
              "      <td>7</td>\n",
              "      <td>0</td>\n",
              "      <td>1</td>\n",
              "      <td>McCarthy, Mr. Timothy J</td>\n",
              "      <td>male</td>\n",
              "      <td>54.0</td>\n",
              "      <td>0</td>\n",
              "      <td>0</td>\n",
              "      <td>17463</td>\n",
              "      <td>51.8625</td>\n",
              "      <td>E46</td>\n",
              "      <td>S</td>\n",
              "    </tr>\n",
              "    <tr>\n",
              "      <th>7</th>\n",
              "      <td>8</td>\n",
              "      <td>0</td>\n",
              "      <td>3</td>\n",
              "      <td>Palsson, Master. Gosta Leonard</td>\n",
              "      <td>male</td>\n",
              "      <td>2.0</td>\n",
              "      <td>3</td>\n",
              "      <td>1</td>\n",
              "      <td>349909</td>\n",
              "      <td>21.0750</td>\n",
              "      <td>NaN</td>\n",
              "      <td>S</td>\n",
              "    </tr>\n",
              "    <tr>\n",
              "      <th>8</th>\n",
              "      <td>9</td>\n",
              "      <td>1</td>\n",
              "      <td>3</td>\n",
              "      <td>Johnson, Mrs. Oscar W (Elisabeth Vilhelmina Berg)</td>\n",
              "      <td>female</td>\n",
              "      <td>27.0</td>\n",
              "      <td>0</td>\n",
              "      <td>2</td>\n",
              "      <td>347742</td>\n",
              "      <td>11.1333</td>\n",
              "      <td>NaN</td>\n",
              "      <td>S</td>\n",
              "    </tr>\n",
              "    <tr>\n",
              "      <th>9</th>\n",
              "      <td>10</td>\n",
              "      <td>1</td>\n",
              "      <td>2</td>\n",
              "      <td>Nasser, Mrs. Nicholas (Adele Achem)</td>\n",
              "      <td>female</td>\n",
              "      <td>14.0</td>\n",
              "      <td>1</td>\n",
              "      <td>0</td>\n",
              "      <td>237736</td>\n",
              "      <td>30.0708</td>\n",
              "      <td>NaN</td>\n",
              "      <td>C</td>\n",
              "    </tr>\n",
              "    <tr>\n",
              "      <th>10</th>\n",
              "      <td>11</td>\n",
              "      <td>1</td>\n",
              "      <td>3</td>\n",
              "      <td>Sandstrom, Miss. Marguerite Rut</td>\n",
              "      <td>female</td>\n",
              "      <td>4.0</td>\n",
              "      <td>1</td>\n",
              "      <td>1</td>\n",
              "      <td>PP 9549</td>\n",
              "      <td>16.7000</td>\n",
              "      <td>G6</td>\n",
              "      <td>S</td>\n",
              "    </tr>\n",
              "    <tr>\n",
              "      <th>11</th>\n",
              "      <td>12</td>\n",
              "      <td>1</td>\n",
              "      <td>1</td>\n",
              "      <td>Bonnell, Miss. Elizabeth</td>\n",
              "      <td>female</td>\n",
              "      <td>58.0</td>\n",
              "      <td>0</td>\n",
              "      <td>0</td>\n",
              "      <td>113783</td>\n",
              "      <td>26.5500</td>\n",
              "      <td>C103</td>\n",
              "      <td>S</td>\n",
              "    </tr>\n",
              "    <tr>\n",
              "      <th>12</th>\n",
              "      <td>13</td>\n",
              "      <td>0</td>\n",
              "      <td>3</td>\n",
              "      <td>Saundercock, Mr. William Henry</td>\n",
              "      <td>male</td>\n",
              "      <td>20.0</td>\n",
              "      <td>0</td>\n",
              "      <td>0</td>\n",
              "      <td>A/5. 2151</td>\n",
              "      <td>8.0500</td>\n",
              "      <td>NaN</td>\n",
              "      <td>S</td>\n",
              "    </tr>\n",
              "    <tr>\n",
              "      <th>13</th>\n",
              "      <td>14</td>\n",
              "      <td>0</td>\n",
              "      <td>3</td>\n",
              "      <td>Andersson, Mr. Anders Johan</td>\n",
              "      <td>male</td>\n",
              "      <td>39.0</td>\n",
              "      <td>1</td>\n",
              "      <td>5</td>\n",
              "      <td>347082</td>\n",
              "      <td>31.2750</td>\n",
              "      <td>NaN</td>\n",
              "      <td>S</td>\n",
              "    </tr>\n",
              "    <tr>\n",
              "      <th>14</th>\n",
              "      <td>15</td>\n",
              "      <td>0</td>\n",
              "      <td>3</td>\n",
              "      <td>Vestrom, Miss. Hulda Amanda Adolfina</td>\n",
              "      <td>female</td>\n",
              "      <td>14.0</td>\n",
              "      <td>0</td>\n",
              "      <td>0</td>\n",
              "      <td>350406</td>\n",
              "      <td>7.8542</td>\n",
              "      <td>NaN</td>\n",
              "      <td>S</td>\n",
              "    </tr>\n",
              "  </tbody>\n",
              "</table>\n",
              "</div>"
            ],
            "text/plain": [
              "    PassengerId  Survived  Pclass  ...     Fare Cabin  Embarked\n",
              "0             1         0       3  ...   7.2500   NaN         S\n",
              "1             2         1       1  ...  71.2833   C85         C\n",
              "2             3         1       3  ...   7.9250   NaN         S\n",
              "3             4         1       1  ...  53.1000  C123         S\n",
              "4             5         0       3  ...   8.0500   NaN         S\n",
              "5             6         0       3  ...   8.4583   NaN         Q\n",
              "6             7         0       1  ...  51.8625   E46         S\n",
              "7             8         0       3  ...  21.0750   NaN         S\n",
              "8             9         1       3  ...  11.1333   NaN         S\n",
              "9            10         1       2  ...  30.0708   NaN         C\n",
              "10           11         1       3  ...  16.7000    G6         S\n",
              "11           12         1       1  ...  26.5500  C103         S\n",
              "12           13         0       3  ...   8.0500   NaN         S\n",
              "13           14         0       3  ...  31.2750   NaN         S\n",
              "14           15         0       3  ...   7.8542   NaN         S\n",
              "\n",
              "[15 rows x 12 columns]"
            ]
          },
          "metadata": {
            "tags": []
          },
          "execution_count": 7
        }
      ]
    },
    {
      "cell_type": "markdown",
      "metadata": {
        "_cell_guid": "6eeedf1c-666d-424e-86bc-276eafdee446",
        "_uuid": "b1d1e2b884f3ac9ae420073b4b4afffb3f857b00",
        "id": "QItfKaqOQ6-D",
        "colab_type": "text"
      },
      "source": [
        "From the table above, we can note a few things. First of all, that we **need to convert a lot of features into numeric** ones later on, so that the machine learning algorithms can process them. Furthermore, we can see that the **features have widely different ranges**, that we will need to convert into roughly the same scale. We can also spot some more features, that contain missing values (NaN = not a number), that wee need to deal with.\n",
        "\n",
        "**Let's take a more detailed look at what data is actually missing:**"
      ]
    },
    {
      "cell_type": "code",
      "metadata": {
        "_cell_guid": "73b3b4f6-890b-4ac3-aac8-d31345160510",
        "_uuid": "41f831ad3925e07a636c7ece7e1a40ef8d85e2be",
        "id": "dUmARMkNQ6-D",
        "colab_type": "code",
        "colab": {
          "base_uri": "https://localhost:8080/",
          "height": 191
        },
        "outputId": "b3012b49-0952-49ce-ccba-3825898aea09"
      },
      "source": [
        "total = train_df.isnull().sum().sort_values(ascending=False)\n",
        "percent_1 = train_df.isnull().sum()/train_df.isnull().count()*100\n",
        "percent_2 = (round(percent_1, 1)).sort_values(ascending=False)\n",
        "missing_data = pd.concat([total, percent_2], axis=1, keys=['Total', '%'])\n",
        "missing_data.head(5)"
      ],
      "execution_count": 8,
      "outputs": [
        {
          "output_type": "execute_result",
          "data": {
            "text/html": [
              "<div>\n",
              "<style scoped>\n",
              "    .dataframe tbody tr th:only-of-type {\n",
              "        vertical-align: middle;\n",
              "    }\n",
              "\n",
              "    .dataframe tbody tr th {\n",
              "        vertical-align: top;\n",
              "    }\n",
              "\n",
              "    .dataframe thead th {\n",
              "        text-align: right;\n",
              "    }\n",
              "</style>\n",
              "<table border=\"1\" class=\"dataframe\">\n",
              "  <thead>\n",
              "    <tr style=\"text-align: right;\">\n",
              "      <th></th>\n",
              "      <th>Total</th>\n",
              "      <th>%</th>\n",
              "    </tr>\n",
              "  </thead>\n",
              "  <tbody>\n",
              "    <tr>\n",
              "      <th>Cabin</th>\n",
              "      <td>687</td>\n",
              "      <td>77.1</td>\n",
              "    </tr>\n",
              "    <tr>\n",
              "      <th>Age</th>\n",
              "      <td>177</td>\n",
              "      <td>19.9</td>\n",
              "    </tr>\n",
              "    <tr>\n",
              "      <th>Embarked</th>\n",
              "      <td>2</td>\n",
              "      <td>0.2</td>\n",
              "    </tr>\n",
              "    <tr>\n",
              "      <th>Fare</th>\n",
              "      <td>0</td>\n",
              "      <td>0.0</td>\n",
              "    </tr>\n",
              "    <tr>\n",
              "      <th>Ticket</th>\n",
              "      <td>0</td>\n",
              "      <td>0.0</td>\n",
              "    </tr>\n",
              "  </tbody>\n",
              "</table>\n",
              "</div>"
            ],
            "text/plain": [
              "          Total     %\n",
              "Cabin       687  77.1\n",
              "Age         177  19.9\n",
              "Embarked      2   0.2\n",
              "Fare          0   0.0\n",
              "Ticket        0   0.0"
            ]
          },
          "metadata": {
            "tags": []
          },
          "execution_count": 8
        }
      ]
    },
    {
      "cell_type": "markdown",
      "metadata": {
        "_cell_guid": "90dc2ad8-1df7-4cc1-96bf-49c8f6c3323f",
        "_uuid": "d1241bc758b3d2bfe41677f2edf31c94eea62871",
        "id": "kvOovtkMQ6-G",
        "colab_type": "text"
      },
      "source": [
        "The Embarked feature has only 2 missing values, which can easily be filled. It will be much more tricky, to deal with the 'Age' feature, which has 177 missing values. The 'Cabin' feature needs further investigation, but it looks like that we might want to drop it from the dataset, since 77 % of it are missing."
      ]
    },
    {
      "cell_type": "code",
      "metadata": {
        "_cell_guid": "a620bb6e-7a3f-484b-bf58-12247ee11d16",
        "_uuid": "77fd1da99de1e1fd076faed32a884081b015d6d2",
        "id": "q_G9LecgQ6-G",
        "colab_type": "code",
        "colab": {
          "base_uri": "https://localhost:8080/",
          "height": 50
        },
        "outputId": "34ad3301-30f3-4a6a-a7f2-e300ad203464"
      },
      "source": [
        "train_df.columns.values"
      ],
      "execution_count": 9,
      "outputs": [
        {
          "output_type": "execute_result",
          "data": {
            "text/plain": [
              "array(['PassengerId', 'Survived', 'Pclass', 'Name', 'Sex', 'Age', 'SibSp',\n",
              "       'Parch', 'Ticket', 'Fare', 'Cabin', 'Embarked'], dtype=object)"
            ]
          },
          "metadata": {
            "tags": []
          },
          "execution_count": 9
        }
      ]
    },
    {
      "cell_type": "markdown",
      "metadata": {
        "_cell_guid": "f05a4744-63f3-41a6-8fd5-2067c7932865",
        "_uuid": "e947a94fb6e97aa165247de56fdd0de14aa7609c",
        "id": "5g_QtrD_Q6-J",
        "colab_type": "text"
      },
      "source": [
        "Above you can see the 11 features + the target variable (survived). **What features could contribute to a high survival rate ?** \n",
        "\n",
        "To me it would make sense if everything except 'PassengerId', 'Ticket' and 'Name'  would be correlated with a high survival rate. "
      ]
    },
    {
      "cell_type": "markdown",
      "metadata": {
        "_cell_guid": "f88dabca-a13a-4820-8165-57899961513e",
        "_uuid": "e14037fb0688c37440ad644be1b97c697302ab15",
        "id": "loZe0Ej1Q6-J",
        "colab_type": "text"
      },
      "source": [
        "**1. Age and Sex:**"
      ]
    },
    {
      "cell_type": "code",
      "metadata": {
        "_cell_guid": "db0c2956-aaca-49c9-8003-de094117e1d7",
        "_uuid": "d2a2d6c63c89d676824f6c45e3c425db05bf29be",
        "id": "PJZANk1bQ6-K",
        "colab_type": "code",
        "colab": {
          "base_uri": "https://localhost:8080/",
          "height": 295
        },
        "outputId": "20769250-c88b-401c-e77f-9b2669eb2779"
      },
      "source": [
        "survived = 'survived'\n",
        "not_survived = 'not survived'\n",
        "fig, axes = plt.subplots(nrows=1, ncols=2,figsize=(10, 4))\n",
        "women = train_df[train_df['Sex']=='female']\n",
        "men = train_df[train_df['Sex']=='male']\n",
        "ax = sns.distplot(women[women['Survived']==1].Age.dropna(), bins=18, label = survived, ax = axes[0], kde =False)\n",
        "ax = sns.distplot(women[women['Survived']==0].Age.dropna(), bins=40, label = not_survived, ax = axes[0], kde =False)\n",
        "ax.legend()\n",
        "ax.set_title('Female')\n",
        "ax = sns.distplot(men[men['Survived']==1].Age.dropna(), bins=18, label = survived, ax = axes[1], kde = False)\n",
        "ax = sns.distplot(men[men['Survived']==0].Age.dropna(), bins=40, label = not_survived, ax = axes[1], kde = False)\n",
        "ax.legend()\n",
        "_ = ax.set_title('Male')"
      ],
      "execution_count": 10,
      "outputs": [
        {
          "output_type": "display_data",
          "data": {
            "image/png": "[encoded data removed]",
            "text/plain": [
              "<Figure size 720x288 with 2 Axes>"
            ]
          },
          "metadata": {
            "tags": []
          }
        }
      ]
    },
    {
      "cell_type": "markdown",
      "metadata": {
        "_cell_guid": "e12f4fb2-92d1-4e79-88e0-38945b72a312",
        "_uuid": "97645d9ea8a7108c4c22e26771643a6052641d78",
        "id": "G78tgKI2Q6-M",
        "colab_type": "text"
      },
      "source": [
        "You can see that men have a high probability of survival when they are between 18 and 30 years old, which is also a little bit true for women but not fully. For women the survival chances are higher between 14 and 40.\n",
        "\n",
        "For men the probability of survival is very low between the age of 5 and 18, but that isn't true for women. Another thing to note is that infants also have a little bit higher probability of survival.\n",
        "\n",
        "Since there seem to be **certain ages, which have increased odds of survival** and because I want every feature to be roughly on the same scale, I will create age groups later on."
      ]
    },
    {
      "cell_type": "markdown",
      "metadata": {
        "_cell_guid": "fef7f00a-1d00-42ec-a47f-714af41fb6f4",
        "_uuid": "39df0bc74e5110658e788ea1639290e44d063603",
        "id": "dKAVmf2sQ6-N",
        "colab_type": "text"
      },
      "source": [
        "**3. Embarked, Pclass  and Sex:**"
      ]
    },
    {
      "cell_type": "code",
      "metadata": {
        "_cell_guid": "fa79a5d7-d71c-44ef-8b1c-1da85f6f8608",
        "_uuid": "c436dd359a6a0119d314666e282ae229a142379c",
        "id": "RMOensZhQ6-O",
        "colab_type": "code",
        "colab": {
          "base_uri": "https://localhost:8080/",
          "height": 1000
        },
        "outputId": "f800c75d-86a2-4677-ad31-1ec476952b6f"
      },
      "source": [
        "FacetGrid = sns.FacetGrid(train_df, row='Embarked', size=4.5, aspect=1.6)\n",
        "FacetGrid.map(sns.pointplot, 'Pclass', 'Survived', 'Sex', palette=None,  order=None, hue_order=None )\n",
        "FacetGrid.add_legend()"
      ],
      "execution_count": 11,
      "outputs": [
        {
          "output_type": "stream",
          "text": [
            "/usr/local/lib/python3.6/dist-packages/seaborn/axisgrid.py:230: UserWarning: The `size` paramter has been renamed to `height`; please update your code.\n",
            "  warnings.warn(msg, UserWarning)\n"
          ],
          "name": "stderr"
        },
        {
          "output_type": "execute_result",
          "data": {
            "text/plain": [
              "<seaborn.axisgrid.FacetGrid at 0x7f1aec115978>"
            ]
          },
          "metadata": {
            "tags": []
          },
          "execution_count": 11
        },
        {
          "output_type": "display_data",
          "data": {
            "image/png": "[encoded data removed]",
            "text/plain": [
              "<Figure size 588.9x972 with 3 Axes>"
            ]
          },
          "metadata": {
            "tags": []
          }
        }
      ]
    },
    {
      "cell_type": "markdown",
      "metadata": {
        "_cell_guid": "35e6bd93-3ce7-48a5-b995-31717c9f57d3",
        "_uuid": "529808b9e05ae8f192f0fda99a78c3024785ed90",
        "id": "Q1q-BHSZQ6-S",
        "colab_type": "text"
      },
      "source": [
        "Embarked seems to be correlated with survival, depending on the gender. \n",
        "\n",
        "Women on port Q and on port S have a higher chance of survival. The inverse is true, if they are at port C. Men have a high survival probability if they are on port C, but a low probability if they are on port Q or S. \n",
        "\n",
        "Pclass also seems to be correlated with survival. We will generate another plot of it below."
      ]
    },
    {
      "cell_type": "markdown",
      "metadata": {
        "_cell_guid": "28cb004f-0739-4c02-bd6b-f46260c72781",
        "_uuid": "1c3bcaffdee6ae56ddb8376a0e13a768e5704d63",
        "id": "IR2EyockQ6-S",
        "colab_type": "text"
      },
      "source": [
        "**4. Pclass:**"
      ]
    },
    {
      "cell_type": "code",
      "metadata": {
        "_cell_guid": "583abad5-c7c1-48a9-822a-dc9286d4332f",
        "_uuid": "44f9e864d2af56453e785d3b13cb5881633ff26e",
        "id": "dkP9-glJQ6-T",
        "colab_type": "code",
        "colab": {
          "base_uri": "https://localhost:8080/",
          "height": 298
        },
        "outputId": "cd0f3dc6-1360-4f5c-86e1-a29e99067e4f"
      },
      "source": [
        "sns.barplot(x='Pclass', y='Survived', data=train_df)"
      ],
      "execution_count": 12,
      "outputs": [
        {
          "output_type": "execute_result",
          "data": {
            "text/plain": [
              "<matplotlib.axes._subplots.AxesSubplot at 0x7f1ae86081d0>"
            ]
          },
          "metadata": {
            "tags": []
          },
          "execution_count": 12
        },
        {
          "output_type": "display_data",
          "data": {
            "image/png": "[encoded data removed]",
            "text/plain": [
              "<Figure size 432x288 with 1 Axes>"
            ]
          },
          "metadata": {
            "tags": []
          }
        }
      ]
    },
    {
      "cell_type": "markdown",
      "metadata": {
        "_cell_guid": "988bb1f0-b224-4be5-94bb-860373caa877",
        "_uuid": "6f4aaacfe5966fa6ada7209a284cf4172b893b78",
        "id": "D0cEp4FxQ6-V",
        "colab_type": "text"
      },
      "source": [
        "Here we see clearly, that Pclass is contributing to a persons chance of survival, especially if this person is in class 1. We will create another pclass plot below."
      ]
    },
    {
      "cell_type": "code",
      "metadata": {
        "_cell_guid": "243b50d0-c0d5-4a45-b577-635b83a5ee74",
        "_uuid": "e76182d379641367551bc868b890293cc008b587",
        "id": "e76gGJyiQ6-W",
        "colab_type": "code",
        "colab": {
          "base_uri": "https://localhost:8080/",
          "height": 517
        },
        "outputId": "5e9060c0-6073-418b-ed3d-ffd0f07a0c65"
      },
      "source": [
        "grid = sns.FacetGrid(train_df, col='Survived', row='Pclass', size=2.2, aspect=1.6)\n",
        "grid.map(plt.hist, 'Age', alpha=.5, bins=20)\n",
        "grid.add_legend();"
      ],
      "execution_count": 13,
      "outputs": [
        {
          "output_type": "stream",
          "text": [
            "/usr/local/lib/python3.6/dist-packages/seaborn/axisgrid.py:230: UserWarning: The `size` paramter has been renamed to `height`; please update your code.\n",
            "  warnings.warn(msg, UserWarning)\n"
          ],
          "name": "stderr"
        },
        {
          "output_type": "display_data",
          "data": {
            "image/png": "[encoded data removed]",
            "text/plain": [
              "<Figure size 514.88x475.2 with 6 Axes>"
            ]
          },
          "metadata": {
            "tags": []
          }
        }
      ]
    },
    {
      "cell_type": "markdown",
      "metadata": {
        "_cell_guid": "b5c38433-bd7d-4fb3-94e4-9080d91bcd3a",
        "_uuid": "f6ed807951fb2b95dccdc7e49aefa119a6d4c32b",
        "id": "ovrVHZRPQ6-Y",
        "colab_type": "text"
      },
      "source": [
        "The plot above confirms our assumption about pclass 1, but we can also spot a high probability that a person in pclass 3 will not survive."
      ]
    },
    {
      "cell_type": "markdown",
      "metadata": {
        "_cell_guid": "6e787eb7-1832-42d2-be41-2f95d6f3b6f3",
        "_uuid": "ec13368f45c29997ec80aa514f3b625d19777c33",
        "id": "_vEKoOLtQ6-Z",
        "colab_type": "text"
      },
      "source": [
        "**5.  SibSp and Parch:**\n",
        "\n",
        "SibSp and Parch would make more sense as a combined feature, that shows the total number of relatives, a person has on the Titanic. I will create it below and also a feature that sows if someone is not alone."
      ]
    },
    {
      "cell_type": "code",
      "metadata": {
        "_cell_guid": "4df84979-0c9b-4b64-b60d-fce8d6d10255",
        "_uuid": "005bc3953c4145218c17342494fc299303f36772",
        "id": "Yq81nbI-Q6-Z",
        "colab_type": "code",
        "colab": {}
      },
      "source": [
        "data = [train_df, test_df]\n",
        "for dataset in data:\n",
        "    dataset['relatives'] = dataset['SibSp'] + dataset['Parch']\n",
        "    dataset.loc[dataset['relatives'] > 0, 'not_alone'] = 0\n",
        "    dataset.loc[dataset['relatives'] == 0, 'not_alone'] = 1\n",
        "    dataset['not_alone'] = dataset['not_alone'].astype(int)"
      ],
      "execution_count": 0,
      "outputs": []
    },
    {
      "cell_type": "code",
      "metadata": {
        "_cell_guid": "ac040a43-1e1d-41f9-9ba3-d31150b899ff",
        "_uuid": "55d50664c85ca17203cb766e5d6fb4c04a523e31",
        "id": "gsrUzUiLQ6-c",
        "colab_type": "code",
        "colab": {
          "base_uri": "https://localhost:8080/",
          "height": 66
        },
        "outputId": "14efb0c2-bbef-4f5f-c32e-58b5f178c3cf"
      },
      "source": [
        "train_df['not_alone'].value_counts()"
      ],
      "execution_count": 15,
      "outputs": [
        {
          "output_type": "execute_result",
          "data": {
            "text/plain": [
              "1    537\n",
              "0    354\n",
              "Name: not_alone, dtype: int64"
            ]
          },
          "metadata": {
            "tags": []
          },
          "execution_count": 15
        }
      ]
    },
    {
      "cell_type": "code",
      "metadata": {
        "_cell_guid": "dc69748a-f403-47fa-bd3c-98af966982ff",
        "_uuid": "b7864ec24529ce8f061679f44129829b41fd3433",
        "id": "2mzWAfCbQ6-e",
        "colab_type": "code",
        "colab": {
          "base_uri": "https://localhost:8080/",
          "height": 421
        },
        "outputId": "27f7d800-badf-4ae6-fca0-9cb684f8e555"
      },
      "source": [
        "axes = sns.factorplot('relatives','Survived', \n",
        "                      data=train_df, aspect = 2.5, )"
      ],
      "execution_count": 16,
      "outputs": [
        {
          "output_type": "stream",
          "text": [
            "/usr/local/lib/python3.6/dist-packages/seaborn/categorical.py:3666: UserWarning: The `factorplot` function has been renamed to `catplot`. The original name will be removed in a future release. Please update your code. Note that the default `kind` in `factorplot` (`'point'`) has changed `'strip'` in `catplot`.\n",
            "  warnings.warn(msg)\n"
          ],
          "name": "stderr"
        },
        {
          "output_type": "display_data",
          "data": {
            "image/png": "[encoded data removed]",
            "text/plain": [
              "<Figure size 900x360 with 1 Axes>"
            ]
          },
          "metadata": {
            "tags": []
          }
        }
      ]
    },
    {
      "cell_type": "markdown",
      "metadata": {
        "_cell_guid": "2babca6e-1919-4294-add7-dc6022333a55",
        "_uuid": "9bbb409373cdefa1c8c9823c3835ae903d11442d",
        "id": "S3V1F_e0Q6-h",
        "colab_type": "text"
      },
      "source": [
        "Here we can see that you had a high probabilty of survival with 1 to 3 realitves, but a lower one if you had less than 1 or more than 3 (except for some cases with 6 relatives)."
      ]
    },
    {
      "cell_type": "markdown",
      "metadata": {
        "_cell_guid": "2ae83279-c954-4451-bcd5-5dc752ffafc9",
        "_uuid": "ac0f8f3a4e828a093996c70133224f8e2da13aa6",
        "id": "uIWCT9dYQ6-i",
        "colab_type": "text"
      },
      "source": [
        "# **Data Preprocessing**"
      ]
    },
    {
      "cell_type": "markdown",
      "metadata": {
        "_cell_guid": "25932f24-9fd1-43f2-b01d-2d2061b7e1a1",
        "_uuid": "b49227787e9baf8674b46ab0ef272f6a7704e3a7",
        "id": "Fxosmw3OQ6-j",
        "colab_type": "text"
      },
      "source": [
        "First, I will drop 'PassengerId' from the train set, because it does not contribute to a persons survival probability. I will not drop it from the test set, since it is required there for the submission"
      ]
    },
    {
      "cell_type": "code",
      "metadata": {
        "_cell_guid": "fae561e2-8324-4640-a766-7e32be2450a3",
        "_uuid": "300037c5dd5b20f2c5677e6f999da9a1eefd7c56",
        "id": "ua_27ZRxQ6-m",
        "colab_type": "code",
        "colab": {}
      },
      "source": [
        "train_df = train_df.drop(['PassengerId'], axis=1)"
      ],
      "execution_count": 0,
      "outputs": []
    },
    {
      "cell_type": "code",
      "metadata": {
        "_cell_guid": "483d307f-13ff-4386-bebd-cefe8c54d09d",
        "_uuid": "01042bf201b68ddef22a9d397ae9cdd67df00fab",
        "id": "hxEplN-XQ6-q",
        "colab_type": "code",
        "colab": {}
      },
      "source": [
        "import re\n",
        "deck = {\"A\": 1, \"B\": 2, \"C\": 3, \"D\": 4, \"E\": 5, \"F\": 6, \"G\": 7, \"U\": 8}\n",
        "data = [train_df, test_df]\n",
        "\n",
        "for dataset in data:\n",
        "    dataset['Cabin'] = dataset['Cabin'].fillna(\"U0\")\n",
        "    dataset['Deck'] = dataset['Cabin'].map(lambda x: re.compile(\"([a-zA-Z]+)\").search(x).group())\n",
        "    dataset['Deck'] = dataset['Deck'].map(deck)\n",
        "    dataset['Deck'] = dataset['Deck'].fillna(0)\n",
        "    dataset['Deck'] = dataset['Deck'].astype(int) "
      ],
      "execution_count": 0,
      "outputs": []
    },
    {
      "cell_type": "code",
      "metadata": {
        "_cell_guid": "7168f428-bc2c-451f-8b3a-44300c65358e",
        "_uuid": "47726b8358b929a3b1e1a1d7948b49d2c23dde16",
        "id": "L99MHHTKQ6-s",
        "colab_type": "code",
        "colab": {}
      },
      "source": [
        "# we can now drop the cabin feature\n",
        "train_df = train_df.drop(['Cabin'], axis=1)\n",
        "test_df = test_df.drop(['Cabin'], axis=1)"
      ],
      "execution_count": 0,
      "outputs": []
    },
    {
      "cell_type": "markdown",
      "metadata": {
        "_cell_guid": "9c225cb2-b37f-45c5-adde-2cddefd47857",
        "_uuid": "48f697a34429db4a0496b9c65226d7126f688848",
        "id": "jnWYNWJBQ6-u",
        "colab_type": "text"
      },
      "source": [
        "### Age:\n",
        "\n",
        "Now we can tackle the issue with the age features missing values. I will create an array that contains random numbers, which are computed based on the mean age value in regards to the standard deviation and is_null."
      ]
    },
    {
      "cell_type": "code",
      "metadata": {
        "_cell_guid": "6529c2c6-a04a-4541-9bec-f34b0d5279af",
        "_uuid": "adda6f3f3a574cf10946a1e05f9538edabe4a9e3",
        "id": "XvW2CbmrQ6-v",
        "colab_type": "code",
        "colab": {}
      },
      "source": [
        "data = [train_df, test_df]\n",
        "\n",
        "for dataset in data:\n",
        "    mean = train_df[\"Age\"].mean()\n",
        "    std = test_df[\"Age\"].std()\n",
        "    is_null = dataset[\"Age\"].isnull().sum()\n",
        "    # compute random numbers between the mean, std and is_null\n",
        "    rand_age = np.random.randint(mean - std, mean + std, size = is_null)\n",
        "    # fill NaN values in Age column with random values generated\n",
        "    age_slice = dataset[\"Age\"].copy()\n",
        "    age_slice[np.isnan(age_slice)] = rand_age\n",
        "    dataset[\"Age\"] = age_slice\n",
        "    dataset[\"Age\"] = train_df[\"Age\"].astype(int)"
      ],
      "execution_count": 0,
      "outputs": []
    },
    {
      "cell_type": "code",
      "metadata": {
        "_cell_guid": "69188285-f999-4d1e-b930-5f0a4e8351d3",
        "_uuid": "83d59d3769705508b5826d504699bee5f7af247d",
        "id": "rc-KWYdlQ6-y",
        "colab_type": "code",
        "colab": {
          "base_uri": "https://localhost:8080/",
          "height": 33
        },
        "outputId": "8eff13a9-d093-4d6f-d16b-dcd5a32ccc20"
      },
      "source": [
        "train_df[\"Age\"].isnull().sum()"
      ],
      "execution_count": 22,
      "outputs": [
        {
          "output_type": "execute_result",
          "data": {
            "text/plain": [
              "0"
            ]
          },
          "metadata": {
            "tags": []
          },
          "execution_count": 22
        }
      ]
    },
    {
      "cell_type": "markdown",
      "metadata": {
        "_cell_guid": "76cb2b8b-017e-4d5e-9346-61309bf01909",
        "_uuid": "f9f7db668ce16e7544691faf85d4cd61a8610096",
        "id": "LAeKN_yoQ6-0",
        "colab_type": "text"
      },
      "source": [
        "### Embarked:\n",
        "\n",
        "Since the Embarked feature has only 2 missing values, we will just fill these with the most common one."
      ]
    },
    {
      "cell_type": "code",
      "metadata": {
        "_cell_guid": "64c90fe8-01cd-4808-91c1-5c519fabf0c6",
        "_uuid": "4cd9c70765b830bd0522022387ad7985ee810731",
        "id": "rDcCTtzkQ6-0",
        "colab_type": "code",
        "colab": {
          "base_uri": "https://localhost:8080/",
          "height": 98
        },
        "outputId": "acfc63d2-3ded-4874-97e0-580aa09e3846"
      },
      "source": [
        "train_df['Embarked'].describe()"
      ],
      "execution_count": 23,
      "outputs": [
        {
          "output_type": "execute_result",
          "data": {
            "text/plain": [
              "count     889\n",
              "unique      3\n",
              "top         S\n",
              "freq      644\n",
              "Name: Embarked, dtype: object"
            ]
          },
          "metadata": {
            "tags": []
          },
          "execution_count": 23
        }
      ]
    },
    {
      "cell_type": "code",
      "metadata": {
        "_cell_guid": "ac7c3b55-52ab-4a10-bfd4-28972813a847",
        "_uuid": "6b265174437d7a5363849a3d3772b39618eba7be",
        "id": "zqVqQuU5Q6-2",
        "colab_type": "code",
        "colab": {}
      },
      "source": [
        "common_value = 'S'\n",
        "data = [train_df, test_df]\n",
        "\n",
        "for dataset in data:\n",
        "    dataset['Embarked'] = dataset['Embarked'].fillna(common_value)"
      ],
      "execution_count": 0,
      "outputs": []
    },
    {
      "cell_type": "markdown",
      "metadata": {
        "_cell_guid": "e4ad0020-5f0a-4223-ad72-0d0189ea0ed1",
        "_uuid": "29044d6922518e777935489fd83861d40c46e18e",
        "id": "fx8UsR-yQ6-4",
        "colab_type": "text"
      },
      "source": [
        "## Converting Features:"
      ]
    },
    {
      "cell_type": "code",
      "metadata": {
        "_cell_guid": "28a2b2eb-01d9-4ca9-b8b3-2229b6a0585f",
        "_uuid": "f2ad2ea4e38c5cbcd144777bb6622949ae1c3b55",
        "id": "dsKws5FLQ6-5",
        "colab_type": "code",
        "colab": {
          "base_uri": "https://localhost:8080/",
          "height": 310
        },
        "outputId": "48347bb9-40cd-4715-b417-fe3efacb9f76"
      },
      "source": [
        "train_df.info()"
      ],
      "execution_count": 25,
      "outputs": [
        {
          "output_type": "stream",
          "text": [
            "<class 'pandas.core.frame.DataFrame'>\n",
            "RangeIndex: 891 entries, 0 to 890\n",
            "Data columns (total 13 columns):\n",
            "Survived     891 non-null int64\n",
            "Pclass       891 non-null int64\n",
            "Name         891 non-null object\n",
            "Sex          891 non-null object\n",
            "Age          891 non-null int64\n",
            "SibSp        891 non-null int64\n",
            "Parch        891 non-null int64\n",
            "Ticket       891 non-null object\n",
            "Fare         891 non-null float64\n",
            "Embarked     891 non-null object\n",
            "relatives    891 non-null int64\n",
            "not_alone    891 non-null int64\n",
            "Deck         891 non-null int64\n",
            "dtypes: float64(1), int64(8), object(4)\n",
            "memory usage: 90.6+ KB\n"
          ],
          "name": "stdout"
        }
      ]
    },
    {
      "cell_type": "markdown",
      "metadata": {
        "_cell_guid": "d3f82cdd-fe69-4286-b86c-5f0ee11bf5c1",
        "_uuid": "31228426d4ebd3fad493ba02d64434638e890c14",
        "id": "n6_dtUydQ6-7",
        "colab_type": "text"
      },
      "source": [
        "Above you can see that 'Fare' is a float and we have to deal with 4 categorical features: Name, Sex, Ticket and Embarked. Lets investigate and transfrom one after another."
      ]
    },
    {
      "cell_type": "markdown",
      "metadata": {
        "_cell_guid": "775fd594-1697-45a0-a6a7-59cbda405531",
        "_uuid": "f12cd1be16356b4d35120936d87683715d3df869",
        "id": "ODfn5OX-Q6-8",
        "colab_type": "text"
      },
      "source": [
        "### Fare:\n",
        "\n",
        "Converting \"Fare\" from float to int64, using the \"astype()\" function pandas provides:"
      ]
    },
    {
      "cell_type": "code",
      "metadata": {
        "_cell_guid": "c2805c53-6e47-41e0-b911-4b25e0a704a6",
        "_uuid": "2e75f2b009ed6b803aeaaca6f65a0442eca5add0",
        "id": "l-_2n0iOQ6-9",
        "colab_type": "code",
        "colab": {}
      },
      "source": [
        "data = [train_df, test_df]\n",
        "\n",
        "for dataset in data:\n",
        "    dataset['Fare'] = dataset['Fare'].fillna(0)\n",
        "    dataset['Fare'] = dataset['Fare'].astype(int)"
      ],
      "execution_count": 0,
      "outputs": []
    },
    {
      "cell_type": "markdown",
      "metadata": {
        "_cell_guid": "a078b1e1-b794-4ac7-857c-a821dacd7698",
        "_uuid": "6b92d5fe0487bfcdc4f582a6d767ef9a5d0be4f0",
        "id": "_wSHn2LrQ6_C",
        "colab_type": "text"
      },
      "source": [
        "### Name:\n",
        "We will use the Name feature to extract the Titles from the Name, so that we can build a new feature out of that."
      ]
    },
    {
      "cell_type": "code",
      "metadata": {
        "_cell_guid": "bb122a6f-e3d1-4088-9e4c-cf17c5ec8b06",
        "_uuid": "b3ae73f9c43d498b0c608d38c2dcaeadd41e01f9",
        "id": "I-fiy7iaQ6_C",
        "colab_type": "code",
        "colab": {}
      },
      "source": [
        "data = [train_df, test_df]\n",
        "titles = {\"Mr\": 1, \"Miss\": 2, \"Mrs\": 3, \"Master\": 4, \"Rare\": 5}\n",
        "\n",
        "for dataset in data:\n",
        "    # extract titles\n",
        "    dataset['Title'] = dataset.Name.str.extract(' ([A-Za-z]+)\\.', expand=False)\n",
        "    # replace titles with a more common title or as Rare\n",
        "    dataset['Title'] = dataset['Title'].replace(['Lady', 'Countess','Capt', 'Col','Don', 'Dr',\\\n",
        "                                            'Major', 'Rev', 'Sir', 'Jonkheer', 'Dona'], 'Rare')\n",
        "    dataset['Title'] = dataset['Title'].replace('Mlle', 'Miss')\n",
        "    dataset['Title'] = dataset['Title'].replace('Ms', 'Miss')\n",
        "    dataset['Title'] = dataset['Title'].replace('Mme', 'Mrs')\n",
        "    # convert titles into numbers\n",
        "    dataset['Title'] = dataset['Title'].map(titles)\n",
        "    # filling NaN with 0, to get safe\n",
        "    dataset['Title'] = dataset['Title'].fillna(0)"
      ],
      "execution_count": 0,
      "outputs": []
    },
    {
      "cell_type": "code",
      "metadata": {
        "_cell_guid": "09eb121a-bd68-47a2-ac68-08759f40c8a9",
        "_uuid": "c21d9c2a6e7c1ee04fc1cd38c06015a2cf713ebe",
        "id": "dgONonIpQ6_E",
        "colab_type": "code",
        "colab": {}
      },
      "source": [
        "train_df = train_df.drop(['Name'], axis=1)\n",
        "test_df = test_df.drop(['Name'], axis=1)"
      ],
      "execution_count": 0,
      "outputs": []
    },
    {
      "cell_type": "markdown",
      "metadata": {
        "_cell_guid": "fd1e21e4-9d0f-484c-8d1a-9fc088ae6ef2",
        "_uuid": "31507a077d715fa81b4de8d13995a786dedd0c40",
        "id": "dc6W-LBvQ6_H",
        "colab_type": "text"
      },
      "source": [
        "### Sex:\n",
        "\n",
        "Convert 'Sex' feature into numeric."
      ]
    },
    {
      "cell_type": "code",
      "metadata": {
        "_cell_guid": "50b80858-0535-4f44-afc1-a289b971610d",
        "_uuid": "9589bd3170c60b1bf1e22f60853fcf6717ae0f99",
        "id": "BQoMZvMBQ6_I",
        "colab_type": "code",
        "colab": {}
      },
      "source": [
        "genders = {\"male\": 0, \"female\": 1}\n",
        "data = [train_df, test_df]\n",
        "\n",
        "for dataset in data:\n",
        "    dataset['Sex'] = dataset['Sex'].map(genders)"
      ],
      "execution_count": 0,
      "outputs": []
    },
    {
      "cell_type": "markdown",
      "metadata": {
        "_cell_guid": "9f342269-39df-4b95-a935-e24a2449a854",
        "_uuid": "62adb33552d2ddce01f1662d2c831966d58e9fbb",
        "id": "lWPNBlUyQ6_K",
        "colab_type": "text"
      },
      "source": [
        "### Ticket:"
      ]
    },
    {
      "cell_type": "code",
      "metadata": {
        "_cell_guid": "27235f77-254f-451a-8bb0-7a590dba0568",
        "_uuid": "ce1de633177ef9993ee6302e5fcf0d7213032b36",
        "id": "GehcYH-oQ6_L",
        "colab_type": "code",
        "colab": {
          "base_uri": "https://localhost:8080/",
          "height": 98
        },
        "outputId": "e7b1c1ad-b7aa-4102-cedd-e32b825f1311"
      },
      "source": [
        "train_df['Ticket'].describe()"
      ],
      "execution_count": 30,
      "outputs": [
        {
          "output_type": "execute_result",
          "data": {
            "text/plain": [
              "count      891\n",
              "unique     681\n",
              "top       1601\n",
              "freq         7\n",
              "Name: Ticket, dtype: object"
            ]
          },
          "metadata": {
            "tags": []
          },
          "execution_count": 30
        }
      ]
    },
    {
      "cell_type": "markdown",
      "metadata": {
        "_cell_guid": "70942bd5-1627-47ad-a435-0d094d0b62ec",
        "_uuid": "ae8b33ce9a05534bc21cd95780e7204d7a6064d4",
        "id": "tfWQBleOQ6_N",
        "colab_type": "text"
      },
      "source": [
        "Since the Ticket attribute has 681 unique tickets, it will be a bit tricky to convert them into useful categories. So we will drop it from the dataset."
      ]
    },
    {
      "cell_type": "code",
      "metadata": {
        "_cell_guid": "8248056f-6894-497d-912d-0eb37f779f28",
        "_uuid": "f311262ad85ec68f8ec6c36174e72cfa02aec657",
        "id": "4NNEjoM1Q6_O",
        "colab_type": "code",
        "colab": {}
      },
      "source": [
        "train_df = train_df.drop(['Ticket'], axis=1)\n",
        "test_df = test_df.drop(['Ticket'], axis=1)"
      ],
      "execution_count": 0,
      "outputs": []
    },
    {
      "cell_type": "markdown",
      "metadata": {
        "_cell_guid": "a7f616fa-8f18-4f98-b326-d76f4a774e42",
        "_uuid": "78509c842b36b4ca53b7a938fbea6ff56bb68836",
        "id": "WscveaXoQ6_Q",
        "colab_type": "text"
      },
      "source": [
        "### Embarked:\n",
        "Convert 'Embarked' feature into numeric."
      ]
    },
    {
      "cell_type": "code",
      "metadata": {
        "_cell_guid": "597ef315-687e-4b90-b41c-306bf04abd65",
        "_uuid": "3a1f417463ad74a7522f66df3d6c52be250d34b7",
        "id": "I-Gw5_v3Q6_Q",
        "colab_type": "code",
        "colab": {}
      },
      "source": [
        "ports = {\"S\": 0, \"C\": 1, \"Q\": 2}\n",
        "data = [train_df, test_df]\n",
        "\n",
        "for dataset in data:\n",
        "    dataset['Embarked'] = dataset['Embarked'].map(ports)"
      ],
      "execution_count": 0,
      "outputs": []
    },
    {
      "cell_type": "markdown",
      "metadata": {
        "_cell_guid": "ba4003ee-0629-4a99-b6ad-ce1e397dd1fe",
        "_uuid": "0b1ea96dd22fe245051610033b2b097eb133ac75",
        "id": "GUNzSmihQ6_T",
        "colab_type": "text"
      },
      "source": [
        "## Creating Categories:\n",
        "\n",
        "We will now create categories within the following features:\n",
        "\n",
        "### Age:\n",
        "Now we need to convert the 'age' feature. First we will convert it from float into integer. Then we will create the new 'AgeGroup\" variable, by categorizing every age into a group. Note that it is important to place attention on how you form these groups, since you don't want for example that 80% of your data falls into group 1."
      ]
    },
    {
      "cell_type": "code",
      "metadata": {
        "_cell_guid": "0278930a-269e-42b0-a935-621004c0da49",
        "_uuid": "904a60da17b1ae9dd27fe4bca993627dd9a8d2cb",
        "id": "lk3---feQ6_T",
        "colab_type": "code",
        "colab": {}
      },
      "source": [
        "data = [train_df, test_df]\n",
        "for dataset in data:\n",
        "    dataset['Age'] = dataset['Age'].astype(int)\n",
        "    dataset.loc[ dataset['Age'] <= 11, 'Age'] = 0\n",
        "    dataset.loc[(dataset['Age'] > 11) & (dataset['Age'] <= 18), 'Age'] = 1\n",
        "    dataset.loc[(dataset['Age'] > 18) & (dataset['Age'] <= 22), 'Age'] = 2\n",
        "    dataset.loc[(dataset['Age'] > 22) & (dataset['Age'] <= 27), 'Age'] = 3\n",
        "    dataset.loc[(dataset['Age'] > 27) & (dataset['Age'] <= 33), 'Age'] = 4\n",
        "    dataset.loc[(dataset['Age'] > 33) & (dataset['Age'] <= 40), 'Age'] = 5\n",
        "    dataset.loc[(dataset['Age'] > 40) & (dataset['Age'] <= 66), 'Age'] = 6\n",
        "    dataset.loc[ dataset['Age'] > 66, 'Age'] = 6"
      ],
      "execution_count": 0,
      "outputs": []
    },
    {
      "cell_type": "code",
      "metadata": {
        "_cell_guid": "105fc25f-d630-4b9e-8752-80be1ea47f14",
        "_uuid": "b08ea376a3e9a955ca0e5cd89a3bfbd1e7956550",
        "id": "vVSPWmQTQ6_W",
        "colab_type": "code",
        "colab": {
          "base_uri": "https://localhost:8080/",
          "height": 147
        },
        "outputId": "90a43a77-830f-4449-abdf-9ece6353f543"
      },
      "source": [
        "# let's see how it's distributed\n",
        "train_df['Age'].value_counts()"
      ],
      "execution_count": 34,
      "outputs": [
        {
          "output_type": "execute_result",
          "data": {
            "text/plain": [
              "6    166\n",
              "4    160\n",
              "5    153\n",
              "3    140\n",
              "2    117\n",
              "1     87\n",
              "0     68\n",
              "Name: Age, dtype: int64"
            ]
          },
          "metadata": {
            "tags": []
          },
          "execution_count": 34
        }
      ]
    },
    {
      "cell_type": "markdown",
      "metadata": {
        "_cell_guid": "dd4d3229-707f-4e8b-98a8-293f4886acc3",
        "_uuid": "cb41b648c0896903211a91f92e9b153fc98969c1",
        "id": "GNvIaGBxQ6_Z",
        "colab_type": "text"
      },
      "source": [
        "### Fare:\n",
        "For the 'Fare' feature, we need to do the same as with the 'Age' feature.  But it isn't that easy, because if we cut the range of the fare values into a few equally big categories, 80% of the values would fall into the first category. Fortunately, we can use sklearn \"qcut()\" function, that we can use to see, how we can form the categories."
      ]
    },
    {
      "cell_type": "code",
      "metadata": {
        "_cell_guid": "3366198b-0a0f-497d-bcf7-c7892f0b14db",
        "_uuid": "a232d75d3bf9d825967798f1a411efad4dc9220f",
        "id": "wyAhUFAZQ6_a",
        "colab_type": "code",
        "colab": {
          "base_uri": "https://localhost:8080/",
          "height": 335
        },
        "outputId": "574800ef-2bcb-46ea-8e53-bdc30fb6deda"
      },
      "source": [
        "train_df.head(10)"
      ],
      "execution_count": 35,
      "outputs": [
        {
          "output_type": "execute_result",
          "data": {
            "text/html": [
              "<div>\n",
              "<style scoped>\n",
              "    .dataframe tbody tr th:only-of-type {\n",
              "        vertical-align: middle;\n",
              "    }\n",
              "\n",
              "    .dataframe tbody tr th {\n",
              "        vertical-align: top;\n",
              "    }\n",
              "\n",
              "    .dataframe thead th {\n",
              "        text-align: right;\n",
              "    }\n",
              "</style>\n",
              "<table border=\"1\" class=\"dataframe\">\n",
              "  <thead>\n",
              "    <tr style=\"text-align: right;\">\n",
              "      <th></th>\n",
              "      <th>Survived</th>\n",
              "      <th>Pclass</th>\n",
              "      <th>Sex</th>\n",
              "      <th>Age</th>\n",
              "      <th>SibSp</th>\n",
              "      <th>Parch</th>\n",
              "      <th>Fare</th>\n",
              "      <th>Embarked</th>\n",
              "      <th>relatives</th>\n",
              "      <th>not_alone</th>\n",
              "      <th>Deck</th>\n",
              "      <th>Title</th>\n",
              "    </tr>\n",
              "  </thead>\n",
              "  <tbody>\n",
              "    <tr>\n",
              "      <th>0</th>\n",
              "      <td>0</td>\n",
              "      <td>3</td>\n",
              "      <td>0</td>\n",
              "      <td>2</td>\n",
              "      <td>1</td>\n",
              "      <td>0</td>\n",
              "      <td>7</td>\n",
              "      <td>0</td>\n",
              "      <td>1</td>\n",
              "      <td>0</td>\n",
              "      <td>8</td>\n",
              "      <td>1</td>\n",
              "    </tr>\n",
              "    <tr>\n",
              "      <th>1</th>\n",
              "      <td>1</td>\n",
              "      <td>1</td>\n",
              "      <td>1</td>\n",
              "      <td>5</td>\n",
              "      <td>1</td>\n",
              "      <td>0</td>\n",
              "      <td>71</td>\n",
              "      <td>1</td>\n",
              "      <td>1</td>\n",
              "      <td>0</td>\n",
              "      <td>3</td>\n",
              "      <td>3</td>\n",
              "    </tr>\n",
              "    <tr>\n",
              "      <th>2</th>\n",
              "      <td>1</td>\n",
              "      <td>3</td>\n",
              "      <td>1</td>\n",
              "      <td>3</td>\n",
              "      <td>0</td>\n",
              "      <td>0</td>\n",
              "      <td>7</td>\n",
              "      <td>0</td>\n",
              "      <td>0</td>\n",
              "      <td>1</td>\n",
              "      <td>8</td>\n",
              "      <td>2</td>\n",
              "    </tr>\n",
              "    <tr>\n",
              "      <th>3</th>\n",
              "      <td>1</td>\n",
              "      <td>1</td>\n",
              "      <td>1</td>\n",
              "      <td>5</td>\n",
              "      <td>1</td>\n",
              "      <td>0</td>\n",
              "      <td>53</td>\n",
              "      <td>0</td>\n",
              "      <td>1</td>\n",
              "      <td>0</td>\n",
              "      <td>3</td>\n",
              "      <td>3</td>\n",
              "    </tr>\n",
              "    <tr>\n",
              "      <th>4</th>\n",
              "      <td>0</td>\n",
              "      <td>3</td>\n",
              "      <td>0</td>\n",
              "      <td>5</td>\n",
              "      <td>0</td>\n",
              "      <td>0</td>\n",
              "      <td>8</td>\n",
              "      <td>0</td>\n",
              "      <td>0</td>\n",
              "      <td>1</td>\n",
              "      <td>8</td>\n",
              "      <td>1</td>\n",
              "    </tr>\n",
              "    <tr>\n",
              "      <th>5</th>\n",
              "      <td>0</td>\n",
              "      <td>3</td>\n",
              "      <td>0</td>\n",
              "      <td>6</td>\n",
              "      <td>0</td>\n",
              "      <td>0</td>\n",
              "      <td>8</td>\n",
              "      <td>2</td>\n",
              "      <td>0</td>\n",
              "      <td>1</td>\n",
              "      <td>8</td>\n",
              "      <td>1</td>\n",
              "    </tr>\n",
              "    <tr>\n",
              "      <th>6</th>\n",
              "      <td>0</td>\n",
              "      <td>1</td>\n",
              "      <td>0</td>\n",
              "      <td>6</td>\n",
              "      <td>0</td>\n",
              "      <td>0</td>\n",
              "      <td>51</td>\n",
              "      <td>0</td>\n",
              "      <td>0</td>\n",
              "      <td>1</td>\n",
              "      <td>5</td>\n",
              "      <td>1</td>\n",
              "    </tr>\n",
              "    <tr>\n",
              "      <th>7</th>\n",
              "      <td>0</td>\n",
              "      <td>3</td>\n",
              "      <td>0</td>\n",
              "      <td>0</td>\n",
              "      <td>3</td>\n",
              "      <td>1</td>\n",
              "      <td>21</td>\n",
              "      <td>0</td>\n",
              "      <td>4</td>\n",
              "      <td>0</td>\n",
              "      <td>8</td>\n",
              "      <td>4</td>\n",
              "    </tr>\n",
              "    <tr>\n",
              "      <th>8</th>\n",
              "      <td>1</td>\n",
              "      <td>3</td>\n",
              "      <td>1</td>\n",
              "      <td>3</td>\n",
              "      <td>0</td>\n",
              "      <td>2</td>\n",
              "      <td>11</td>\n",
              "      <td>0</td>\n",
              "      <td>2</td>\n",
              "      <td>0</td>\n",
              "      <td>8</td>\n",
              "      <td>3</td>\n",
              "    </tr>\n",
              "    <tr>\n",
              "      <th>9</th>\n",
              "      <td>1</td>\n",
              "      <td>2</td>\n",
              "      <td>1</td>\n",
              "      <td>1</td>\n",
              "      <td>1</td>\n",
              "      <td>0</td>\n",
              "      <td>30</td>\n",
              "      <td>1</td>\n",
              "      <td>1</td>\n",
              "      <td>0</td>\n",
              "      <td>8</td>\n",
              "      <td>3</td>\n",
              "    </tr>\n",
              "  </tbody>\n",
              "</table>\n",
              "</div>"
            ],
            "text/plain": [
              "   Survived  Pclass  Sex  Age  ...  relatives  not_alone  Deck  Title\n",
              "0         0       3    0    2  ...          1          0     8      1\n",
              "1         1       1    1    5  ...          1          0     3      3\n",
              "2         1       3    1    3  ...          0          1     8      2\n",
              "3         1       1    1    5  ...          1          0     3      3\n",
              "4         0       3    0    5  ...          0          1     8      1\n",
              "5         0       3    0    6  ...          0          1     8      1\n",
              "6         0       1    0    6  ...          0          1     5      1\n",
              "7         0       3    0    0  ...          4          0     8      4\n",
              "8         1       3    1    3  ...          2          0     8      3\n",
              "9         1       2    1    1  ...          1          0     8      3\n",
              "\n",
              "[10 rows x 12 columns]"
            ]
          },
          "metadata": {
            "tags": []
          },
          "execution_count": 35
        }
      ]
    },
    {
      "cell_type": "code",
      "metadata": {
        "_cell_guid": "a62a2874-e771-4e16-9504-ab8dab1d518b",
        "_uuid": "7c6e947aac99d71d9db42df3d5d49aaad110a5f2",
        "id": "hQIZiSWEQ6_c",
        "colab_type": "code",
        "colab": {}
      },
      "source": [
        "data = [train_df, test_df]\n",
        "\n",
        "for dataset in data:\n",
        "    dataset.loc[ dataset['Fare'] <= 7.91, 'Fare'] = 0\n",
        "    dataset.loc[(dataset['Fare'] > 7.91) & (dataset['Fare'] <= 14.454), 'Fare'] = 1\n",
        "    dataset.loc[(dataset['Fare'] > 14.454) & (dataset['Fare'] <= 31), 'Fare']   = 2\n",
        "    dataset.loc[(dataset['Fare'] > 31) & (dataset['Fare'] <= 99), 'Fare']   = 3\n",
        "    dataset.loc[(dataset['Fare'] > 99) & (dataset['Fare'] <= 250), 'Fare']   = 4\n",
        "    dataset.loc[ dataset['Fare'] > 250, 'Fare'] = 5\n",
        "    dataset['Fare'] = dataset['Fare'].astype(int)"
      ],
      "execution_count": 0,
      "outputs": []
    },
    {
      "cell_type": "markdown",
      "metadata": {
        "_cell_guid": "2d09ca50-c485-4832-bfa2-9f567945a2cb",
        "_uuid": "4467d926f8891030858093c67bd4e0e3c5d396e0",
        "id": "VH6QJ3KYQ6_e",
        "colab_type": "text"
      },
      "source": [
        "# Creating new Features\n",
        "\n",
        "I will add two new features to the dataset, that I compute out of other features.\n",
        "\n",
        "### 1. Age times Class"
      ]
    },
    {
      "cell_type": "code",
      "metadata": {
        "_cell_guid": "16ddf682-84a5-4db7-b417-4250eeda1cf7",
        "_uuid": "55f8dbae3b698732b2402c5616354ebd36b49531",
        "id": "gBM8olVvQ6_g",
        "colab_type": "code",
        "colab": {}
      },
      "source": [
        "data = [train_df, test_df]\n",
        "for dataset in data:\n",
        "    dataset['Age_Class']= dataset['Age']* dataset['Pclass']"
      ],
      "execution_count": 0,
      "outputs": []
    },
    {
      "cell_type": "markdown",
      "metadata": {
        "_cell_guid": "d5121c2a-3040-447c-a014-73c028852062",
        "_uuid": "b8b15cbcc866ae16563bf78b510c2e6df6b3ae78",
        "id": "SGla9OU-Q6_i",
        "colab_type": "text"
      },
      "source": [
        "### 2.  Fare per Person"
      ]
    },
    {
      "cell_type": "code",
      "metadata": {
        "_cell_guid": "d0128cd6-aef4-4c68-81e0-4fff4a43a2dd",
        "_uuid": "602d715d68e71d55074c4b00c71d6fb803c7a28b",
        "id": "7BRlRlWdQ6_i",
        "colab_type": "code",
        "colab": {}
      },
      "source": [
        "for dataset in data:\n",
        "    dataset['Fare_Per_Person'] = dataset['Fare']/(dataset['relatives']+1)\n",
        "    dataset['Fare_Per_Person'] = dataset['Fare_Per_Person'].astype(int)"
      ],
      "execution_count": 0,
      "outputs": []
    },
    {
      "cell_type": "code",
      "metadata": {
        "_cell_guid": "80df97f6-532d-4cbd-af4e-f16298bad486",
        "_uuid": "afcc28924a228ddba1be18125ff7e740740bd981",
        "id": "3eTXNMPCQ6_l",
        "colab_type": "code",
        "colab": {
          "base_uri": "https://localhost:8080/",
          "height": 33
        },
        "outputId": "605335cd-eec9-4e0f-f558-f69171598b08"
      },
      "source": [
        "# Let's take a last look at the training set, before we start training the models.\n",
        "train_df.head(20)\n",
        "print(train_df.size)"
      ],
      "execution_count": 39,
      "outputs": [
        {
          "output_type": "stream",
          "text": [
            "12474\n"
          ],
          "name": "stdout"
        }
      ]
    },
    {
      "cell_type": "markdown",
      "metadata": {
        "_cell_guid": "a1e3dec4-e257-47bd-b1c2-0a6b72f3321b",
        "_uuid": "66de841b916f0c2a556f43bbfdfbc314e1bea7b7",
        "id": "IvpVQMjKQ6_o",
        "colab_type": "text"
      },
      "source": [
        "# **Building Machine Learning Models**"
      ]
    },
    {
      "cell_type": "code",
      "metadata": {
        "_cell_guid": "fb40cd24-9f0f-4544-b505-902b897fbf0f",
        "_uuid": "6f90f5d59f638f2b1e425b952339a1ae2585a72c",
        "id": "3PosmWdnQ6_o",
        "colab_type": "code",
        "colab": {}
      },
      "source": [
        "X = train_df.drop(\"Survived\", axis=1)\n",
        "Y = train_df[\"Survived\"]\n",
        "\n",
        "X_train, X_test, Y_train, Y_test = train_test_split(X, Y, test_size=0.20, random_state=42)\n",
        "#X_test  = test_df.drop(\"PassengerId\", axis=1).copy()\n",
        "#Y_test = test_df[\"Survived\"]"
      ],
      "execution_count": 0,
      "outputs": []
    },
    {
      "cell_type": "code",
      "metadata": {
        "_cell_guid": "c9e515ea-2b4e-4cbb-bd4d-5277a0c5a8af",
        "_uuid": "bf3fe1539b5c164d28a2c3330d7f12cb620b6439",
        "id": "0rPfEltTQ6_r",
        "colab_type": "code",
        "colab": {
          "base_uri": "https://localhost:8080/",
          "height": 33
        },
        "outputId": "8c48dc6f-fc6e-43c5-e424-24312f051e41"
      },
      "source": [
        "# Random Forest\n",
        "random_forest = RandomForestClassifier(n_estimators=100)\n",
        "random_forest.fit(X_train, Y_train)\n",
        "\n",
        "Y_prediction = random_forest.predict(X_test)\n",
        "\n",
        "random_forest.score(X_train, Y_train)\n",
        "acc_random_forest = round(random_forest.score(X_train, Y_train) * 100, 2)\n",
        "print(round(acc_random_forest,2,), \"%\")"
      ],
      "execution_count": 41,
      "outputs": [
        {
          "output_type": "stream",
          "text": [
            "92.7 %\n"
          ],
          "name": "stdout"
        }
      ]
    },
    {
      "cell_type": "code",
      "metadata": {
        "_cell_guid": "141a296e-358e-4632-9291-bbf80b7e4458",
        "_uuid": "3c9043a82f2ac85447df12ccbf20865e9bbc1c4d",
        "id": "mduFbPIAQ6_v",
        "colab_type": "code",
        "colab": {}
      },
      "source": [
        "# KNN\n",
        "knn = KNeighborsClassifier(n_neighbors = 3)\n",
        "knn.fit(X_train, Y_train)\n",
        "\n",
        "Y_pred = knn.predict(X_test)\n",
        "\n",
        "acc_knn = round(knn.score(X_train, Y_train) * 100, 2)\n",
        "print(round(acc_knn,2,), \"%\")"
      ],
      "execution_count": 0,
      "outputs": []
    },
    {
      "cell_type": "code",
      "metadata": {
        "_cell_guid": "f2f3ddb6-17c0-4d3d-b69e-1141749d4755",
        "_uuid": "06ff96189d6403e9a23b1f1bd71e411c176e2b68",
        "id": "0i_mc25FQ6_w",
        "colab_type": "code",
        "colab": {
          "base_uri": "https://localhost:8080/",
          "height": 33
        },
        "outputId": "39ce2c3e-1037-4166-be33-de8147b8fb8a"
      },
      "source": [
        "# Gaussian Naive Bayes\n",
        "gaussian = GaussianNB()\n",
        "gaussian.fit(X_train, Y_train)\n",
        "\n",
        "Y_pred = gaussian.predict(X_test)\n",
        "\n",
        "acc_gaussian = round(gaussian.score(X_train, Y_train) * 100, 2)\n",
        "print(round(acc_gaussian,2,), \"%\")"
      ],
      "execution_count": 43,
      "outputs": [
        {
          "output_type": "stream",
          "text": [
            "77.81 %\n"
          ],
          "name": "stdout"
        }
      ]
    },
    {
      "cell_type": "code",
      "metadata": {
        "_cell_guid": "423280b8-2b83-4caa-a1b7-37ce84836a43",
        "_uuid": "cfcac0bcc63a9d21b587c2d35d72e6f4675824b1",
        "id": "NcOjX2q2Q6_y",
        "colab_type": "code",
        "colab": {
          "base_uri": "https://localhost:8080/",
          "height": 86
        },
        "outputId": "3d3a71e0-ef5b-4884-c0b1-324128783025"
      },
      "source": [
        "# Perceptron\n",
        "perceptron = Perceptron(max_iter=5)\n",
        "perceptron.fit(X_train, Y_train)\n",
        "\n",
        "Y_pred = perceptron.predict(X_test)\n",
        "\n",
        "acc_perceptron = round(perceptron.score(X_train, Y_train) * 100, 2)\n",
        "print(round(acc_perceptron,2,), \"%\")"
      ],
      "execution_count": 44,
      "outputs": [
        {
          "output_type": "stream",
          "text": [
            "41.15 %\n"
          ],
          "name": "stdout"
        },
        {
          "output_type": "stream",
          "text": [
            "/usr/local/lib/python3.6/dist-packages/sklearn/linear_model/stochastic_gradient.py:561: ConvergenceWarning: Maximum number of iteration reached before convergence. Consider increasing max_iter to improve the fit.\n",
            "  ConvergenceWarning)\n"
          ],
          "name": "stderr"
        }
      ]
    },
    {
      "cell_type": "code",
      "metadata": {
        "_cell_guid": "ff7cd488-a755-4841-9370-40f0fc97832a",
        "_uuid": "5748b5992ccd67a3185b753014eb8c24deec09d0",
        "id": "V6GHi-VEQ6_2",
        "colab_type": "code",
        "colab": {
          "base_uri": "https://localhost:8080/",
          "height": 66
        },
        "outputId": "a939926d-0fcc-4498-fa9a-839298cdeb53"
      },
      "source": [
        "# Linear SVC\n",
        "linear_svc = LinearSVC()\n",
        "linear_svc.fit(X_train, Y_train)\n",
        "\n",
        "Y_pred = linear_svc.predict(X_test)\n",
        "\n",
        "acc_linear_svc = round(linear_svc.score(X_train, Y_train) * 100, 2)\n",
        "print(round(acc_linear_svc,2,), \"%\")"
      ],
      "execution_count": 45,
      "outputs": [
        {
          "output_type": "stream",
          "text": [
            "81.6 %\n"
          ],
          "name": "stdout"
        },
        {
          "output_type": "stream",
          "text": [
            "/usr/local/lib/python3.6/dist-packages/sklearn/svm/base.py:929: ConvergenceWarning: Liblinear failed to converge, increase the number of iterations.\n",
            "  \"the number of iterations.\", ConvergenceWarning)\n"
          ],
          "name": "stderr"
        }
      ]
    },
    {
      "cell_type": "code",
      "metadata": {
        "_cell_guid": "16f5c980-b0a2-4bba-b2d3-023ce3857125",
        "_uuid": "73af0864600646402335e50325cce7ab5e751d43",
        "id": "XGxyht9-Q6_3",
        "colab_type": "code",
        "colab": {
          "base_uri": "https://localhost:8080/",
          "height": 33
        },
        "outputId": "f2064a0d-84b7-403a-bfb2-0859f3e7b498"
      },
      "source": [
        "# Decision Tree\n",
        "decision_tree = DecisionTreeClassifier()\n",
        "decision_tree.fit(X_train, Y_train)\n",
        "\n",
        "Y_pred = decision_tree.predict(X_test)\n",
        "\n",
        "acc_decision_tree = round(decision_tree.score(X_train, Y_train) * 100, 2)\n",
        "print(round(acc_decision_tree,2,), \"%\")"
      ],
      "execution_count": 46,
      "outputs": [
        {
          "output_type": "stream",
          "text": [
            "92.7 %\n"
          ],
          "name": "stdout"
        }
      ]
    },
    {
      "cell_type": "markdown",
      "metadata": {
        "_cell_guid": "2dc0173d-9751-4f4a-9ab4-e9a4f343ac72",
        "_uuid": "c6c9e0898d94f63b1accaa8192572f11a2d0a128",
        "id": "SXS2ShbwQ6_5",
        "colab_type": "text"
      },
      "source": [
        "##  Which is the best Model ?"
      ]
    },
    {
      "cell_type": "code",
      "metadata": {
        "_cell_guid": "08f4ff0b-a8fe-4945-a63c-283f5cd0f946",
        "_uuid": "7f5898ba81bc3c5a29356b2864a1262f25ec21ba",
        "id": "F_FESWHEQ6_5",
        "colab_type": "code",
        "colab": {
          "base_uri": "https://localhost:8080/",
          "height": 220
        },
        "outputId": "0bbc4a7f-cbdd-4e0d-acfb-6a8aac45c1a4"
      },
      "source": [
        "results = pd.DataFrame({\n",
        "    'Model': ['Support Vector Machines', 'KNN',\n",
        "              'Random Forest', 'Naive Bayes', \n",
        "              'Decision Tree'],\n",
        "    'Score': [acc_linear_svc, acc_knn, \n",
        "              acc_random_forest, acc_gaussian,\n",
        "              acc_decision_tree]})\n",
        "result_df = results.sort_values(by='Score', ascending=False)\n",
        "result_df = result_df.set_index('Score')\n",
        "result_df.head()"
      ],
      "execution_count": 47,
      "outputs": [
        {
          "output_type": "execute_result",
          "data": {
            "text/html": [
              "<div>\n",
              "<style scoped>\n",
              "    .dataframe tbody tr th:only-of-type {\n",
              "        vertical-align: middle;\n",
              "    }\n",
              "\n",
              "    .dataframe tbody tr th {\n",
              "        vertical-align: top;\n",
              "    }\n",
              "\n",
              "    .dataframe thead th {\n",
              "        text-align: right;\n",
              "    }\n",
              "</style>\n",
              "<table border=\"1\" class=\"dataframe\">\n",
              "  <thead>\n",
              "    <tr style=\"text-align: right;\">\n",
              "      <th></th>\n",
              "      <th>Model</th>\n",
              "    </tr>\n",
              "    <tr>\n",
              "      <th>Score</th>\n",
              "      <th></th>\n",
              "    </tr>\n",
              "  </thead>\n",
              "  <tbody>\n",
              "    <tr>\n",
              "      <th>92.70</th>\n",
              "      <td>Random Forest</td>\n",
              "    </tr>\n",
              "    <tr>\n",
              "      <th>92.70</th>\n",
              "      <td>Decision Tree</td>\n",
              "    </tr>\n",
              "    <tr>\n",
              "      <th>88.20</th>\n",
              "      <td>KNN</td>\n",
              "    </tr>\n",
              "    <tr>\n",
              "      <th>81.60</th>\n",
              "      <td>Support Vector Machines</td>\n",
              "    </tr>\n",
              "    <tr>\n",
              "      <th>77.81</th>\n",
              "      <td>Naive Bayes</td>\n",
              "    </tr>\n",
              "  </tbody>\n",
              "</table>\n",
              "</div>"
            ],
            "text/plain": [
              "                         Model\n",
              "Score                         \n",
              "92.70            Random Forest\n",
              "92.70            Decision Tree\n",
              "88.20                      KNN\n",
              "81.60  Support Vector Machines\n",
              "77.81              Naive Bayes"
            ]
          },
          "metadata": {
            "tags": []
          },
          "execution_count": 47
        }
      ]
    },
    {
      "cell_type": "markdown",
      "metadata": {
        "_cell_guid": "dd78d645-cfe4-4172-b9d6-f41fac169967",
        "_uuid": "d4f50ab769af4d3a2cb9b1e2cecdbb976e11a90e",
        "id": "W3nzk6VXQ6_6",
        "colab_type": "text"
      },
      "source": [
        "As we can see, the Random Forest classifier goes on the first place. But first, let us check, how random-forest performs, when we use cross validation. "
      ]
    },
    {
      "cell_type": "markdown",
      "metadata": {
        "_cell_guid": "ef885a65-d919-43b1-8d51-2eedf6ec59a7",
        "_uuid": "d795c02549cedcb48ebe0be181f5923d1b3cd346",
        "id": "f90qN9ZKQ6_7",
        "colab_type": "text"
      },
      "source": [
        "## K-Fold Cross Validation:\n",
        "\n",
        "K-Fold Cross Validation randomly splits the training data into **K subsets called folds**. Let's image we would split our data into 4 folds (K = 4).  Our random forest model would be trained and evaluated 4 times, using a different fold for evaluation everytime, while it would be trained on the remaining 3 folds. \n",
        "\n",
        "The image below shows the process, using 4 folds (K = 4). Every row represents one training + evaluation process. In the first row, the model get's trained on the first, second and third subset and evaluated on the fourth. In the second row, the model get's trained on the second, third and fourth subset and evaluated on the first. K-Fold Cross Validation repeats this process till every fold acted once as an evaluation fold.\n",
        "\n",
        "\n",
        "![cross-v.](https://img3.picload.org/image/ddwrppcl/bildschirmfoto2018-02-02um10.0.png)\n",
        "\n",
        "The result of our K-Fold Cross Validation example would be an array that contains 4 different scores. We then need to compute the mean and the standard deviation for these scores. \n",
        "\n",
        "The code below perform K-Fold Cross Validation on our random forest model, using 10 folds (K = 10). Therefore it outputs an array with 10 different scores."
      ]
    },
    {
      "cell_type": "code",
      "metadata": {
        "_cell_guid": "66e0da50-edea-4b95-8db1-7f6b83aa4203",
        "_uuid": "08d8f21784b6eb30a7729acd13857caab569f302",
        "id": "M17n2Ar6Q6_7",
        "colab_type": "code",
        "colab": {}
      },
      "source": [
        "from sklearn.model_selection import cross_val_score\n",
        "rf = RandomForestClassifier(n_estimators=100)\n",
        "scores = cross_val_score(rf, X_train, Y_train, cv=10, scoring = \"accuracy\")"
      ],
      "execution_count": 0,
      "outputs": []
    },
    {
      "cell_type": "code",
      "metadata": {
        "_cell_guid": "49bb54f9-b2cb-4bf8-b3b8-7cc0f09ee6d3",
        "_uuid": "c1c931b1d481d8375ca2f0e17c727f1a689bc432",
        "id": "Zlth4zxyQ6_8",
        "colab_type": "code",
        "colab": {
          "base_uri": "https://localhost:8080/",
          "height": 82
        },
        "outputId": "d84149f6-cb50-4c28-9278-fdfd0975d6d0"
      },
      "source": [
        "print(\"Scores:\", scores)\n",
        "print(\"Mean:\", scores.mean())\n",
        "print(\"Standard Deviation:\", scores.std())"
      ],
      "execution_count": 49,
      "outputs": [
        {
          "output_type": "stream",
          "text": [
            "Scores: [0.81944444 0.77777778 0.77777778 0.83333333 0.81690141 0.8028169\n",
            " 0.8028169  0.81690141 0.78571429 0.92857143]\n",
            "Mean: 0.8162055667337358\n",
            "Standard Deviation: 0.0414397476827649\n"
          ],
          "name": "stdout"
        }
      ]
    },
    {
      "cell_type": "markdown",
      "metadata": {
        "_cell_guid": "453f7c5f-67d2-41b7-a720-57397a022b51",
        "_uuid": "a5b34daafe8bf6207dc2416a701f2a458db848a4",
        "id": "t6xKHvHTQ6_-",
        "colab_type": "text"
      },
      "source": [
        "This looks much more realistic than before.  Our model has a average accuracy of 82% with a standard deviation of 4 %. The standard deviation shows us, how precise the estimates are . \n",
        "\n",
        "This means in our case that the accuracy of our model can differ **+ -** 4%.\n",
        "\n",
        "I think the accuracy is still really good and since random forest is an easy to use model, we will try to increase it's performance even further in the following section."
      ]
    },
    {
      "cell_type": "markdown",
      "metadata": {
        "_cell_guid": "28857d0b-0efc-4a0f-9697-fa2255d745c2",
        "_uuid": "37d7974b1846a87174193980bdad1cb47c4ae68d",
        "id": "F6o0jpmRQ6__",
        "colab_type": "text"
      },
      "source": [
        "# **Random Forest**\n",
        "\n",
        "## What is Random Forest ?\n",
        "\n",
        "Random Forest is a supervised learning algorithm. Like you can already see from it’s name, it creates a forest and makes it somehow random. The „forest“ it builds, is an ensemble of Decision Trees, most of the time trained with the “bagging” method. The general idea of the bagging method is that a combination of learning models increases the overall result.\n",
        "\n",
        "To say it in simple words: Random forest builds multiple decision trees and merges them together to get a more accurate and stable prediction.\n",
        "\n",
        "One big advantage of random forest is, that it can be used for both classification and regression problems, which form the majority of current machine learning systems.  With a few exceptions a random-forest classifier has all the hyperparameters of a decision-tree classifier and also all the hyperparameters of a bagging classifier, to control the ensemble itself. \n",
        "\n",
        "The random-forest algorithm brings extra randomness into the model, when it is growing the trees. Instead of searching for the best feature while splitting a node, it searches for the best feature among a random subset of features. This process creates a wide diversity, which generally results in a better model. Therefore when you are growing a tree in random forest, only a random subset of the features is considered for splitting a node. You can even make trees more random, by using random thresholds on top of it, for each feature rather than searching for the best possible thresholds (like a normal decision tree does)."
      ]
    },
    {
      "cell_type": "markdown",
      "metadata": {
        "_cell_guid": "050023e6-c1f7-491e-a807-3498f10dcaf6",
        "_uuid": "b767c42df201580f6154d032d300078efac7f051",
        "id": "PcQ-lE2OQ6__",
        "colab_type": "text"
      },
      "source": [
        "## Feature Importance\n",
        "\n",
        "Another great quality of random forest is that  they make it very easy to measure the relative importance of each feature. Sklearn measure a features importance by looking at how much the treee nodes, that use that feature, reduce impurity on average (across all trees in the forest). It computes this score automaticall for each feature after training and scales the results  so that the sum of all importances is equal to 1.  We will acces this below:"
      ]
    },
    {
      "cell_type": "code",
      "metadata": {
        "_cell_guid": "7f67dca2-cf58-40bf-a9fa-f6b90cece265",
        "_uuid": "dae8c11d4be10b3ff95476e19b2fa92b767558c5",
        "id": "MQ85-tgaQ7AA",
        "colab_type": "code",
        "colab": {}
      },
      "source": [
        "importances = pd.DataFrame({'feature':X_train.columns,'importance':np.round(random_forest.feature_importances_,3)})\n",
        "importances = importances.sort_values('importance',ascending=False).set_index('feature')"
      ],
      "execution_count": 0,
      "outputs": []
    },
    {
      "cell_type": "code",
      "metadata": {
        "_cell_guid": "0b2a6bab-bc2e-49df-ada2-7d8052588a27",
        "_uuid": "0edf0821debecc6bf3725c81e8c85d1808f07f43",
        "id": "ilgas9hBQ7AB",
        "colab_type": "code",
        "colab": {
          "base_uri": "https://localhost:8080/",
          "height": 450
        },
        "outputId": "834d760b-f342-4239-f2bd-47cf678e8b8a"
      },
      "source": [
        "importances.head(15)"
      ],
      "execution_count": 51,
      "outputs": [
        {
          "output_type": "execute_result",
          "data": {
            "text/html": [
              "<div>\n",
              "<style scoped>\n",
              "    .dataframe tbody tr th:only-of-type {\n",
              "        vertical-align: middle;\n",
              "    }\n",
              "\n",
              "    .dataframe tbody tr th {\n",
              "        vertical-align: top;\n",
              "    }\n",
              "\n",
              "    .dataframe thead th {\n",
              "        text-align: right;\n",
              "    }\n",
              "</style>\n",
              "<table border=\"1\" class=\"dataframe\">\n",
              "  <thead>\n",
              "    <tr style=\"text-align: right;\">\n",
              "      <th></th>\n",
              "      <th>importance</th>\n",
              "    </tr>\n",
              "    <tr>\n",
              "      <th>feature</th>\n",
              "      <th></th>\n",
              "    </tr>\n",
              "  </thead>\n",
              "  <tbody>\n",
              "    <tr>\n",
              "      <th>Title</th>\n",
              "      <td>0.186</td>\n",
              "    </tr>\n",
              "    <tr>\n",
              "      <th>Sex</th>\n",
              "      <td>0.185</td>\n",
              "    </tr>\n",
              "    <tr>\n",
              "      <th>Age_Class</th>\n",
              "      <td>0.095</td>\n",
              "    </tr>\n",
              "    <tr>\n",
              "      <th>Deck</th>\n",
              "      <td>0.090</td>\n",
              "    </tr>\n",
              "    <tr>\n",
              "      <th>Pclass</th>\n",
              "      <td>0.077</td>\n",
              "    </tr>\n",
              "    <tr>\n",
              "      <th>Age</th>\n",
              "      <td>0.075</td>\n",
              "    </tr>\n",
              "    <tr>\n",
              "      <th>Fare</th>\n",
              "      <td>0.066</td>\n",
              "    </tr>\n",
              "    <tr>\n",
              "      <th>relatives</th>\n",
              "      <td>0.058</td>\n",
              "    </tr>\n",
              "    <tr>\n",
              "      <th>Embarked</th>\n",
              "      <td>0.054</td>\n",
              "    </tr>\n",
              "    <tr>\n",
              "      <th>Fare_Per_Person</th>\n",
              "      <td>0.039</td>\n",
              "    </tr>\n",
              "    <tr>\n",
              "      <th>SibSp</th>\n",
              "      <td>0.038</td>\n",
              "    </tr>\n",
              "    <tr>\n",
              "      <th>Parch</th>\n",
              "      <td>0.027</td>\n",
              "    </tr>\n",
              "    <tr>\n",
              "      <th>not_alone</th>\n",
              "      <td>0.012</td>\n",
              "    </tr>\n",
              "  </tbody>\n",
              "</table>\n",
              "</div>"
            ],
            "text/plain": [
              "                 importance\n",
              "feature                    \n",
              "Title                 0.186\n",
              "Sex                   0.185\n",
              "Age_Class             0.095\n",
              "Deck                  0.090\n",
              "Pclass                0.077\n",
              "Age                   0.075\n",
              "Fare                  0.066\n",
              "relatives             0.058\n",
              "Embarked              0.054\n",
              "Fare_Per_Person       0.039\n",
              "SibSp                 0.038\n",
              "Parch                 0.027\n",
              "not_alone             0.012"
            ]
          },
          "metadata": {
            "tags": []
          },
          "execution_count": 51
        }
      ]
    },
    {
      "cell_type": "code",
      "metadata": {
        "_cell_guid": "114fd806-6138-4444-9734-5135be3345ce",
        "_uuid": "3fcb09c5c45dc89848c805f06bed41713b9bfe0c",
        "id": "wgnjRvQ-Q7AF",
        "colab_type": "code",
        "colab": {}
      },
      "source": [
        "importances.plot.bar()"
      ],
      "execution_count": 0,
      "outputs": []
    },
    {
      "cell_type": "markdown",
      "metadata": {
        "_cell_guid": "7ce1066e-6ccb-4c9c-bab3-37e259b3ac16",
        "_uuid": "2381fed0c444249061e1c2123bb084fd44159b0f",
        "id": "m4xB56m6Q7AK",
        "colab_type": "text"
      },
      "source": [
        "**Conclusion:**\n",
        "\n",
        "not_alone and Parch doesn't play a significant role in our random forest classifiers prediction process. Because of that I will drop them from the dataset and train the classifier again. We could also remove more or less features, but this would need a more detailed investigation of the features effect on our model. But I think it's just fine to remove only Alone and Parch."
      ]
    },
    {
      "cell_type": "code",
      "metadata": {
        "_cell_guid": "998c6bf7-6692-4e42-8fb0-2b9fb0e8ca81",
        "_uuid": "bfd51b86064f6a78233643b7eef446406c3e7530",
        "id": "M3Hl3uNcQ7AL",
        "colab_type": "code",
        "colab": {}
      },
      "source": [
        "train_df  = train_df.drop(\"not_alone\", axis=1)\n",
        "test_df  = test_df.drop(\"not_alone\", axis=1)\n",
        "\n",
        "train_df  = train_df.drop(\"Parch\", axis=1)\n",
        "test_df  = test_df.drop(\"Parch\", axis=1)"
      ],
      "execution_count": 0,
      "outputs": []
    },
    {
      "cell_type": "markdown",
      "metadata": {
        "_cell_guid": "6d6092b4-5df5-42ad-9913-22fb8f663adf",
        "_uuid": "a5074372a41f0995ee9dda566f2d0e093f765d98",
        "id": "yiocuTI6Q7AM",
        "colab_type": "text"
      },
      "source": [
        "**Training random forest again:**"
      ]
    },
    {
      "cell_type": "code",
      "metadata": {
        "_cell_guid": "a885bda7-8526-4db4-83d8-9a1f700cd946",
        "_uuid": "b02eed60c01e213863e2103677fb1a61d5b1739e",
        "id": "xZXFkpU0Q7AN",
        "colab_type": "code",
        "colab": {
          "base_uri": "https://localhost:8080/",
          "height": 33
        },
        "outputId": "1b96bbfe-6083-4a6f-90f5-0f0a2151cf6c"
      },
      "source": [
        "# Random Forest\n",
        "\n",
        "random_forest = RandomForestClassifier(n_estimators=100, oob_score = True)\n",
        "random_forest.fit(X_train, Y_train)\n",
        "Y_prediction = random_forest.predict(X_test)\n",
        "\n",
        "random_forest.score(X_train, Y_train)\n",
        "\n",
        "acc_random_forest = round(random_forest.score(X_train, Y_train) * 100, 2)\n",
        "print(round(acc_random_forest,2,), \"%\")"
      ],
      "execution_count": 53,
      "outputs": [
        {
          "output_type": "stream",
          "text": [
            "92.7 %\n"
          ],
          "name": "stdout"
        }
      ]
    },
    {
      "cell_type": "markdown",
      "metadata": {
        "_cell_guid": "eefb6b89-05dc-407a-81d9-32d16da2d672",
        "_uuid": "d800894c9cf424a23e8c9b867fe048b5fe0a5890",
        "id": "QH9otmetQ7AP",
        "colab_type": "text"
      },
      "source": [
        "Our random forest model predicts as good as it did before. A general rule is that,  **the more features you have, the more likely your model will suffer from overfitting** and vice versa. But I think our data looks fine for now and hasn't too much features.\n",
        "\n",
        "There is also another way to evaluate a random-forest classifier, which is probably much more accurate than the score we used before. What I am talking about is the **out-of-bag samples** to estimate the generalization accuracy. I will not go into details here about how it works. Just note that out-of-bag estimate is as accurate as using a test set of the same size as the training set. Therefore, using the out-of-bag error estimate removes the need for a set aside test set."
      ]
    },
    {
      "cell_type": "code",
      "metadata": {
        "_cell_guid": "fa0e9c61-0f6f-42f1-ada6-9a1b9c4c9c46",
        "_uuid": "bdef1659f7f4d56e6c643842df77edb1f4e4c579",
        "id": "YhS39DWsQ7AP",
        "colab_type": "code",
        "colab": {
          "base_uri": "https://localhost:8080/",
          "height": 33
        },
        "outputId": "6e5d7384-46e9-4aa0-9527-a58532a13a04"
      },
      "source": [
        "print(\"oob score:\", round(random_forest.oob_score_, 4)*100, \"%\")"
      ],
      "execution_count": 54,
      "outputs": [
        {
          "output_type": "stream",
          "text": [
            "oob score: 80.62 %\n"
          ],
          "name": "stdout"
        }
      ]
    },
    {
      "cell_type": "markdown",
      "metadata": {
        "_cell_guid": "e4ebd98e-c3e9-46f8-aa91-63f8f343a404",
        "_uuid": "4fe515bd1a1192b68382c079560384c01b51c236",
        "id": "xKMMU9cdQ7AR",
        "colab_type": "text"
      },
      "source": [
        "Now we can start tuning the hyperameters of random forest. "
      ]
    },
    {
      "cell_type": "markdown",
      "metadata": {
        "_cell_guid": "81419037-d5ba-4f9e-bbe5-1676e2bf3841",
        "_uuid": "61016b3537274b724c1bdce758fec376efbe4172",
        "id": "MTV2gS-eQ7AR",
        "colab_type": "text"
      },
      "source": [
        "## Hyperparameter Tuning\n",
        "\n",
        "Below you can see the code of the hyperparamter tuning for the parameters criterion, min_samples_leaf, min_samples_split and n_estimators. \n",
        "\n",
        "I put this code into a markdown cell and not into a code cell, because it takes a long time to run it. Directly underneeth it, I put a screenshot of the gridsearch's output."
      ]
    },
    {
      "cell_type": "markdown",
      "metadata": {
        "_cell_guid": "e6b71458-8131-4cc5-824d-84a546ade71c",
        "_uuid": "9e84ee487a82908bea6a0b8d078f024fd154a8fd",
        "collapsed": true,
        "id": "M_bPXVb0Q7AR",
        "colab_type": "text"
      },
      "source": [
        "param_grid = { \"criterion\" : [\"gini\", \"entropy\"], \n",
        "              \"min_samples_leaf\" : [1, 5, 10, 25, 50, 70], \n",
        "              \"min_samples_split\" : [2, 4, 10, 12, 16, 18, 25, 35], \n",
        "              \"n_estimators\": [100, 400, 700, 1000, 1500]}\n",
        "\n",
        "\n",
        "from sklearn.model_selection import GridSearchCV, cross_val_score\n",
        "\n",
        "rf = RandomForestClassifier(n_estimators=100, max_features='auto', oob_score=True, random_state=1, n_jobs=-1)\n",
        "\n",
        "clf = GridSearchCV(estimator=rf, param_grid=param_grid,\n",
        "                    n_jobs=-1)\n",
        "\n",
        "clf.fit(X_train, Y_train)        \n",
        "\n",
        "clf.best_params_\n",
        "\n",
        "![GridSearch Output](https://img2.picload.org/image/ddwglili/bildschirmfoto2018-02-01um15.4.png)"
      ]
    },
    {
      "cell_type": "markdown",
      "metadata": {
        "_cell_guid": "97927e40-50b2-4d47-9308-12a1482b21ae",
        "_uuid": "f124995fceaf2b4be782aca7bcd595d210d8a96e",
        "id": "LLPz43IcQ7AT",
        "colab_type": "text"
      },
      "source": [
        "**Test new paramters:**"
      ]
    },
    {
      "cell_type": "code",
      "metadata": {
        "_cell_guid": "c4152aa3-b0b8-44dc-b241-5a664ba8673d",
        "_uuid": "273f82e2a31c542268c2df521066e8094f4d295c",
        "id": "Fscs6b_UQ7AU",
        "colab_type": "code",
        "colab": {
          "base_uri": "https://localhost:8080/",
          "height": 33
        },
        "outputId": "7bd0e3d9-8e7e-41bd-b297-e86164a6f40d"
      },
      "source": [
        "# Random Forest\n",
        "random_forest = RandomForestClassifier(criterion = \"gini\", \n",
        "                                       min_samples_leaf = 1, \n",
        "                                       min_samples_split = 10,   \n",
        "                                       n_estimators=100, \n",
        "                                       max_features='auto', \n",
        "                                       oob_score=True, \n",
        "                                       random_state=1, \n",
        "                                       n_jobs=-1)\n",
        "\n",
        "random_forest.fit(X_train, Y_train)\n",
        "Y_prediction = random_forest.predict(X_test)\n",
        "\n",
        "random_forest.score(X_train, Y_train)\n",
        "\n",
        "print(\"oob score:\", round(random_forest.oob_score_, 4)*100, \"%\")"
      ],
      "execution_count": 55,
      "outputs": [
        {
          "output_type": "stream",
          "text": [
            "oob score: 82.87 %\n"
          ],
          "name": "stdout"
        }
      ]
    },
    {
      "cell_type": "markdown",
      "metadata": {
        "_cell_guid": "973a181a-e562-41f3-9d17-aec964a04eee",
        "_uuid": "00cc5781c02ca1194ea41ae33e8c8fe407872c3e",
        "id": "uf53CsDzQ7AW",
        "colab_type": "text"
      },
      "source": [
        "Now that we have a proper model, we can start evaluating it's performace in a more accurate way. Previously we only used accuracy and the oob score, which is just another form of accuracy. The problem is just, that it's more complicated to evaluate a classification model than a regression model. We will talk about this in the following section."
      ]
    },
    {
      "cell_type": "markdown",
      "metadata": {
        "_cell_guid": "58a23eb6-c16a-49e6-aa34-85b44f564756",
        "_uuid": "4afd8e6aa3424735e511b33ca2b3ecdcb80cca1a",
        "id": "XtSpt5PtQ7AX",
        "colab_type": "text"
      },
      "source": [
        "# **Further Evaluation**\n",
        "\n"
      ]
    },
    {
      "cell_type": "markdown",
      "metadata": {
        "_cell_guid": "cb952ec8-5bc9-416c-a945-9b90d7c9a9f9",
        "_uuid": "c4a35dadd0aaa4538d1a9629a4379a7d456d5fa8",
        "id": "1inM08mHQ7AY",
        "colab_type": "text"
      },
      "source": [
        "## Confusion Matrix:"
      ]
    },
    {
      "cell_type": "code",
      "metadata": {
        "_cell_guid": "9403aeb2-08b8-432d-b2b1-c36f4251c051",
        "_uuid": "95578da3e105a02b82920e4288968c5975bd8591",
        "id": "_DA1sTKKQ7AZ",
        "colab_type": "code",
        "colab": {
          "base_uri": "https://localhost:8080/",
          "height": 50
        },
        "outputId": "1abcec1c-73db-4ddf-95fd-59b9a23f39e6"
      },
      "source": [
        "from sklearn.model_selection import cross_val_predict\n",
        "from sklearn.metrics import confusion_matrix\n",
        "predictions = cross_val_predict(random_forest, X_train, Y_train, cv=3)\n",
        "confusion_matrix(Y_train, predictions)"
      ],
      "execution_count": 56,
      "outputs": [
        {
          "output_type": "execute_result",
          "data": {
            "text/plain": [
              "array([[403,  41],\n",
              "       [ 81, 187]])"
            ]
          },
          "metadata": {
            "tags": []
          },
          "execution_count": 56
        }
      ]
    },
    {
      "cell_type": "markdown",
      "metadata": {
        "_cell_guid": "7ebba30b-e3fb-47af-9393-194eaff046c8",
        "_uuid": "a4fcbb20ae886428b7979e17c964a97023417cae",
        "id": "TomwEpTeQ7Ab",
        "colab_type": "text"
      },
      "source": [
        "The first row is about the not-survived-predictions: **493 passengers were correctly classified as not survived** (called true negatives)  and **56 where wrongly classified as not survived** (false negatives).\n",
        "\n",
        "The second row is about the survived-predictions: **93 passengers where wrongly classified as survived** (false positives) and **249 where correctly classified as survived** (true positives).\n",
        "\n",
        "A confusion matrix gives you a lot of information about how well your model does, but theres a way to get even more, like computing the classifiers precision."
      ]
    },
    {
      "cell_type": "markdown",
      "metadata": {
        "_cell_guid": "93320b63-20f5-4a5d-af2d-c6e5f8a09f7c",
        "_uuid": "e79f5f5d3e28dfc5b2e87beeee9a218f31fd5b24",
        "id": "_Hl6xPSXQ7Ac",
        "colab_type": "text"
      },
      "source": [
        "## Precision and Recall:"
      ]
    },
    {
      "cell_type": "code",
      "metadata": {
        "_cell_guid": "5a4e68c6-4e6a-4846-8144-3701a9a7e05d",
        "_uuid": "d693cffc92bcf5df44fe332878d415507a6a28f8",
        "id": "3--KptFQQ7Ad",
        "colab_type": "code",
        "colab": {
          "base_uri": "https://localhost:8080/",
          "height": 50
        },
        "outputId": "47e2b122-07b2-416e-ff95-85d06d596315"
      },
      "source": [
        "from sklearn.metrics import precision_score, recall_score\n",
        "\n",
        "print(\"Precision:\", precision_score(Y_train, predictions))\n",
        "print(\"Recall:\",recall_score(Y_train, predictions))"
      ],
      "execution_count": 57,
      "outputs": [
        {
          "output_type": "stream",
          "text": [
            "Precision: 0.8201754385964912\n",
            "Recall: 0.6977611940298507\n"
          ],
          "name": "stdout"
        }
      ]
    },
    {
      "cell_type": "markdown",
      "metadata": {
        "_cell_guid": "617e11cb-54fe-4ecd-b3d6-4fdca6ffbe39",
        "_uuid": "f6d952cbfef684eace64e121d7d702a8d3a6dad2",
        "id": "_AnRV-GJQ7Ag",
        "colab_type": "text"
      },
      "source": [
        "Our model predicts 81% of the time, a passengers survival correctly (precision). The recall tells us that it predicted the survival of 73 % of the people who actually survived. "
      ]
    },
    {
      "cell_type": "markdown",
      "metadata": {
        "_cell_guid": "037bc7fd-ce42-43d2-b293-55fa369a14a3",
        "_uuid": "406eb68ee1bb49c188e236e2c6a6abf072d3fd5f",
        "id": "aicyOHg8Q7Ah",
        "colab_type": "text"
      },
      "source": [
        "## F-Score\n",
        "\n",
        "You can combine precision and recall into one score, which is called the F-score. The F-score is computed with the harmonic mean of precision and recall. Note that it assigns much more weight to low values. As a result of that, the classifier will only get a high F-score, if both recall and precision are high."
      ]
    },
    {
      "cell_type": "code",
      "metadata": {
        "_cell_guid": "d29ec2d6-50a2-43ba-b1ff-9efb93102683",
        "_uuid": "01af31eadd094232ddb6062df31d6a6a3f09ede1",
        "id": "283DuP2aQ7Ah",
        "colab_type": "code",
        "colab": {
          "base_uri": "https://localhost:8080/",
          "height": 33
        },
        "outputId": "4a16feac-cef2-4cd0-ec2e-b2bd50c7292a"
      },
      "source": [
        "from sklearn.metrics import f1_score\n",
        "f1_score(Y_train, predictions)"
      ],
      "execution_count": 58,
      "outputs": [
        {
          "output_type": "execute_result",
          "data": {
            "text/plain": [
              "0.7540322580645161"
            ]
          },
          "metadata": {
            "tags": []
          },
          "execution_count": 58
        }
      ]
    },
    {
      "cell_type": "markdown",
      "metadata": {
        "_cell_guid": "df4e0535-ad01-44f3-aefc-c93ffe3923b4",
        "_uuid": "e61454e41664a991ee9906569abd2487f5f86f29",
        "id": "b4ODLyesQ7Aj",
        "colab_type": "text"
      },
      "source": [
        "There we have it, a 77 % F-score. The score is not that high, because we have a recall of 73%.\n",
        "\n",
        "But unfortunately the F-score is not perfect, because it favors classifiers that have a similar precision and recall. This is a problem, because you sometimes want a high precision and sometimes a high recall. The thing is that an increasing precision, sometimes results in an decreasing recall and vice versa (depending on the threshold). This is called the precision/recall tradeoff. We will discuss this in the following section.\n"
      ]
    },
    {
      "cell_type": "markdown",
      "metadata": {
        "_cell_guid": "c732f134-c153-493f-a456-fdd7ee88abca",
        "_uuid": "b6fedd70775a80f69e81d051ebc0eb654d238c30",
        "id": "zvXifGO-Q7Aj",
        "colab_type": "text"
      },
      "source": [
        "## Precision Recall Curve\n",
        "\n",
        "For each person the Random Forest algorithm has to classify, it computes a probability based on a function and it classifies the person as survived (when the score is bigger the than threshold) or as not survived (when the score is smaller than the threshold). That's why the threshold plays an important part.\n",
        "\n",
        "We will plot the precision and recall with the threshold using matplotlib:"
      ]
    },
    {
      "cell_type": "code",
      "metadata": {
        "_cell_guid": "5787e784-0902-4f66-89f0-94cd999738d0",
        "_uuid": "13335d5acd6d2a049ca7e39fc25e155ae025dfe4",
        "id": "wYZbDyNCQ7Ak",
        "colab_type": "code",
        "colab": {}
      },
      "source": [
        "from sklearn.metrics import precision_recall_curve\n",
        "\n",
        "# getting the probabilities of our predictions\n",
        "y_scores = random_forest.predict_proba(X_train)\n",
        "y_scores = y_scores[:,1]\n",
        "\n",
        "precision, recall, threshold = precision_recall_curve(Y_train, y_scores)"
      ],
      "execution_count": 0,
      "outputs": []
    },
    {
      "cell_type": "code",
      "metadata": {
        "_cell_guid": "4b66575f-56bd-4211-84d5-fbd5ef5988bb",
        "_uuid": "6f46117cbd824769abb839c4958fb2042dc67f5f",
        "id": "NB0u-aX9Q7Am",
        "colab_type": "code",
        "colab": {
          "base_uri": "https://localhost:8080/",
          "height": 455
        },
        "outputId": "2b4511f2-771c-4115-c30e-9bedcfadbddc"
      },
      "source": [
        "def plot_precision_and_recall(precision, recall, threshold):\n",
        "    plt.plot(threshold, precision[:-1], \"r-\", label=\"precision\", linewidth=5)\n",
        "    plt.plot(threshold, recall[:-1], \"b\", label=\"recall\", linewidth=5)\n",
        "    plt.xlabel(\"threshold\", fontsize=19)\n",
        "    plt.legend(loc=\"upper right\", fontsize=19)\n",
        "    plt.ylim([0, 1])\n",
        "\n",
        "plt.figure(figsize=(14, 7))\n",
        "plot_precision_and_recall(precision, recall, threshold)\n",
        "plt.show()"
      ],
      "execution_count": 60,
      "outputs": [
        {
          "output_type": "display_data",
          "data": {
            "image/png": "[encoded data removed]",
            "text/plain": [
              "<Figure size 1008x504 with 1 Axes>"
            ]
          },
          "metadata": {
            "tags": []
          }
        }
      ]
    },
    {
      "cell_type": "markdown",
      "metadata": {
        "_cell_guid": "be4d1a62-bcda-43e3-995b-496d31115b5b",
        "_uuid": "d684853daddbbd63499820a406a5db983c38e99c",
        "id": "SsLValmDQ7Ao",
        "colab_type": "text"
      },
      "source": [
        "Above you can clearly see that the recall is falling of rapidly at a precision of around 85%.  Because of that you may want to select the precision/recall tradeoff before that - maybe at around 75 %.\n",
        "\n",
        "You are now able to choose a threshold, that gives you the best precision/recall tradeoff for your current machine learning problem. If you want for example a precision of 80%, you can easily look at the plots and see that you would need a threshold of around 0.4.  Then you could train a model with exactly that threshold and would get the desired accuracy.\n"
      ]
    },
    {
      "cell_type": "markdown",
      "metadata": {
        "_cell_guid": "5ca703d8-2865-4f4e-ac75-034e98b1bc4f",
        "_uuid": "fd03e1bda861adc47601748c753b3c578297aeae",
        "id": "ajMG3WrcQ7Ap",
        "colab_type": "text"
      },
      "source": [
        "## ROC AUC Curve\n",
        "\n",
        "Another way to evaluate and compare your binary classifier is provided by the ROC AUC Curve. This curve plots the true positive rate (also called recall) against the false positive rate (ratio of incorrectly classified negative instances), instead of plotting the precision versus the recall."
      ]
    },
    {
      "cell_type": "code",
      "metadata": {
        "_cell_guid": "2d1d02ce-c29a-4682-b3ee-ce07b40ff682",
        "_uuid": "ccb0abc19d6c403059f4b29ed68503b1796894c1",
        "id": "737yU1ugQ7Ap",
        "colab_type": "code",
        "colab": {}
      },
      "source": [
        "from sklearn.metrics import roc_curve\n",
        "# compute true positive rate and false positive rate\n",
        "false_positive_rate, true_positive_rate, thresholds = roc_curve(Y_train, y_scores)"
      ],
      "execution_count": 0,
      "outputs": []
    },
    {
      "cell_type": "code",
      "metadata": {
        "_cell_guid": "b894a28e-327b-4030-9606-3d69a398225b",
        "_uuid": "725b917d1fdb19531db5940119cdfd5960a9a3af",
        "id": "ROE9UOH9Q7Aq",
        "colab_type": "code",
        "colab": {
          "base_uri": "https://localhost:8080/",
          "height": 451
        },
        "outputId": "3532b643-bf20-4026-e5fd-8e39c3af62f7"
      },
      "source": [
        "# plotting them against each other\n",
        "def plot_roc_curve(false_positive_rate, true_positive_rate, label=None):\n",
        "    plt.plot(false_positive_rate, true_positive_rate, linewidth=2, label=label)\n",
        "    plt.plot([0, 1], [0, 1], 'r', linewidth=4)\n",
        "    plt.axis([0, 1, 0, 1])\n",
        "    plt.xlabel('False Positive Rate (FPR)', fontsize=16)\n",
        "    plt.ylabel('True Positive Rate (TPR)', fontsize=16)\n",
        "\n",
        "plt.figure(figsize=(14, 7))\n",
        "plot_roc_curve(false_positive_rate, true_positive_rate)\n",
        "plt.show()"
      ],
      "execution_count": 62,
      "outputs": [
        {
          "output_type": "display_data",
          "data": {
            "image/png": "[encoded data removed]",
            "text/plain": [
              "<Figure size 1008x504 with 1 Axes>"
            ]
          },
          "metadata": {
            "tags": []
          }
        }
      ]
    },
    {
      "cell_type": "markdown",
      "metadata": {
        "_cell_guid": "ee29a5d6-303d-4717-ab88-900d7a6107de",
        "_uuid": "fb8625171200fcdf02ad5512cfb34d570ba72f65",
        "id": "Lwu2R6-bQ7At",
        "colab_type": "text"
      },
      "source": [
        "The red line in the middel represents a purely random classifier (e.g a coin flip) and therefore your classifier should be as far away from it as possible. Our Random Forest model seems to do a good job. \n",
        "\n",
        "Of course we also have a tradeoff here, because the classifier produces more false positives, the higher the true positive rate is. "
      ]
    },
    {
      "cell_type": "markdown",
      "metadata": {
        "_cell_guid": "85ed75bc-64d7-4174-8475-25f2dab29758",
        "_uuid": "a71ebb290babf1228063deb488fc778b0c46bbe1",
        "id": "Yb-RSxwMQ7Au",
        "colab_type": "text"
      },
      "source": [
        "## ROC AUC Score\n",
        "The ROC AUC Score is the corresponding score to the ROC AUC Curve. It is simply computed by measuring the area under the curve, which is called AUC. \n",
        "\n",
        "A classifiers that is 100% correct, would have a ROC AUC Score of 1 and a completely random classiffier would have a score of 0.5."
      ]
    },
    {
      "cell_type": "code",
      "metadata": {
        "_cell_guid": "61b87dc9-8d24-4388-8b79-6fa4d44d09f3",
        "_uuid": "0e2754f265442fca809628d49bd99b168676d78d",
        "id": "ig8egt9zQ7Au",
        "colab_type": "code",
        "colab": {
          "base_uri": "https://localhost:8080/",
          "height": 33
        },
        "outputId": "272152d5-2c44-4c1e-c5b8-9c763660e6b7"
      },
      "source": [
        "from sklearn.metrics import roc_auc_score\n",
        "r_a_score = roc_auc_score(Y_train, y_scores)\n",
        "print(\"ROC-AUC-Score:\", r_a_score)"
      ],
      "execution_count": 63,
      "outputs": [
        {
          "output_type": "stream",
          "text": [
            "ROC-AUC-Score: 0.9449458787145354\n"
          ],
          "name": "stdout"
        }
      ]
    },
    {
      "cell_type": "code",
      "metadata": {
        "id": "nCHs9LtEQ7Aw",
        "colab_type": "code",
        "colab": {}
      },
      "source": [
        ""
      ],
      "execution_count": 0,
      "outputs": []
    }
  ]
}