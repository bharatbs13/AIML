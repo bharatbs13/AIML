{
  "nbformat": 4,
  "nbformat_minor": 0,
  "metadata": {
    "kernelspec": {
      "display_name": "Python 3",
      "language": "python",
      "name": "python3"
    },
    "language_info": {
      "codemirror_mode": {
        "name": "ipython",
        "version": 3
      },
      "file_extension": ".py",
      "mimetype": "text/x-python",
      "name": "python",
      "nbconvert_exporter": "python",
      "pygments_lexer": "ipython3",
      "version": "3.6.8"
    },
    "colab": {
      "name": "crossvalidation_and_Model_Selection_technique.ipynb",
      "provenance": [],
      "toc_visible": true
    }
  },
  "cells": [
    {
      "cell_type": "markdown",
      "metadata": {
        "id": "Nuvxeoy-Nx_8",
        "colab_type": "text"
      },
      "source": [
        "## SKLearn\n",
        "The following notes list utilities to generate indices that can be used to generate dataset splits according to different cross validation strategies.\n",
        "### K-Fold\n",
        "KFold divides all the samples in $k$ groups of samples, called folds (if $k=n$, this is equivalent to the Leave One Out strategy), of equal sizes (if possible). The prediction function is learned using $k-1$ folds, and the fold left out is used for test.\n",
        "\n"
      ]
    },
    {
      "cell_type": "code",
      "metadata": {
        "id": "mQgDljNGNx_-",
        "colab_type": "code",
        "colab": {
          "base_uri": "https://localhost:8080/",
          "height": 50
        },
        "outputId": "5186f8d0-2ef5-4ad0-8837-a037f91fc0e0"
      },
      "source": [
        "import sklearn\n",
        "from sklearn.model_selection import KFold\n",
        "X = [\"a\", \"b\", \"c\", \"d\"]\n",
        "kf = KFold(n_splits=2)\n",
        "for train, test in kf.split(X):\n",
        "    print(\"%s %s\" % (train, test))"
      ],
      "execution_count": 1,
      "outputs": [
        {
          "output_type": "stream",
          "text": [
            "[2 3] [0 1]\n",
            "[0 1] [2 3]\n"
          ],
          "name": "stdout"
        }
      ]
    },
    {
      "cell_type": "markdown",
      "metadata": {
        "id": "7NSTW5KsNyAC",
        "colab_type": "text"
      },
      "source": [
        "Each fold is constituted by two arrays: the first one is related to the training set, and the second one to the test set. Thus, one can create the training/test sets using numpy indexing:"
      ]
    },
    {
      "cell_type": "code",
      "metadata": {
        "id": "uIUeUu9mNyAE",
        "colab_type": "code",
        "colab": {}
      },
      "source": [
        "import numpy as np\n",
        "X = np.array([[0., 0.], [1., 1.], [-1., -1.], [2., 2.]])\n",
        "y = np.array([0, 1, 0, 1])\n",
        "X_train, X_test, y_train, y_test = X[train], X[test], y[train], y[test]"
      ],
      "execution_count": 0,
      "outputs": []
    },
    {
      "cell_type": "markdown",
      "metadata": {
        "id": "rUxsqFNWNyAH",
        "colab_type": "text"
      },
      "source": [
        "### Repeated K-Fold\n",
        "RepeatedKFold repeats K-Fold n times. It can be used when one requires to run KFold n times, producing different splits in each repetition.\n",
        "\n",
        "Example of 2-fold K-Fold repeated 2 times:"
      ]
    },
    {
      "cell_type": "code",
      "metadata": {
        "id": "Hv0khBFbNyAI",
        "colab_type": "code",
        "colab": {
          "base_uri": "https://localhost:8080/",
          "height": 82
        },
        "outputId": "c2ae7389-6f0c-419d-bc23-badcee848cc3"
      },
      "source": [
        "import numpy as np\n",
        "from sklearn.model_selection import RepeatedKFold\n",
        "X = np.array([[1, 2], [3, 4], [1, 2], [3, 4]])\n",
        "random_state = 12883823\n",
        "rkf = RepeatedKFold(n_splits=2, n_repeats=2, random_state=random_state)\n",
        "for train, test in rkf.split(X):\n",
        "    print(\"%s %s\" % (train, test))"
      ],
      "execution_count": 3,
      "outputs": [
        {
          "output_type": "stream",
          "text": [
            "[2 3] [0 1]\n",
            "[0 1] [2 3]\n",
            "[0 2] [1 3]\n",
            "[1 3] [0 2]\n"
          ],
          "name": "stdout"
        }
      ]
    },
    {
      "cell_type": "markdown",
      "metadata": {
        "id": "5MIWNQfXNyAK",
        "colab_type": "text"
      },
      "source": [
        "Similarly, RepeatedStratifiedKFold repeats Stratified K-Fold n times with different randomization in each repetition."
      ]
    },
    {
      "cell_type": "markdown",
      "metadata": {
        "id": "hVqcPln8NyAL",
        "colab_type": "text"
      },
      "source": [
        "### Leave One Out (LOO)\n",
        "LeaveOneOut (or LOO) is a simple cross-validation. Each learning set is created by taking all the samples except one, the test set being the sample left out. Thus, for $n$ samples, we have $n$ different training sets and $n$ different tests set. This cross-validation procedure does not waste much data as only one sample is removed from the training set:"
      ]
    },
    {
      "cell_type": "code",
      "metadata": {
        "id": "4HtQQDPxNyAM",
        "colab_type": "code",
        "colab": {},
        "outputId": "95293e43-823d-465d-e2c0-e8d89f04dc0d"
      },
      "source": [
        "from sklearn.model_selection import LeaveOneOut\n",
        "\n",
        "X = [1, 2, 3, 4]\n",
        "loo = LeaveOneOut()\n",
        "for train, test in loo.split(X):\n",
        "    print(\"%s %s\" % (train, test))"
      ],
      "execution_count": 0,
      "outputs": [
        {
          "output_type": "stream",
          "text": [
            "[1 2 3] [0]\n",
            "[0 2 3] [1]\n",
            "[0 1 3] [2]\n",
            "[0 1 2] [3]\n"
          ],
          "name": "stdout"
        }
      ]
    },
    {
      "cell_type": "markdown",
      "metadata": {
        "id": "bK_uOPzhNyAO",
        "colab_type": "text"
      },
      "source": [
        "Potential users of LOO for model selection should weigh a few known caveats. When compared with $k$-fold cross validation, one builds $n$ models from  samples instead of $k$ models, where $n>k$. Moreover, each is trained on $n-1$ samples rather than $(k-1)n/k$. In both ways, assuming $k$ is not too large and $k<n$, LOO is more computationally expensive than $k$-fold cross validation.\n",
        "\n",
        "In terms of accuracy, LOO often results in high variance as an estimator for the test error. Intuitively, since $n-1$ of the $n$ samples are used to build each model, models constructed from folds are virtually identical to each other and to the model built from the entire training set.\n",
        "\n",
        "However, if the learning curve is steep for the training size in question, then 5- or 10- fold cross validation can overestimate the generalization error.\n",
        "\n",
        "As a general rule, most authors, and empirical evidence, suggest that 5- or 10- fold cross validation should be preferred to LOO."
      ]
    },
    {
      "cell_type": "markdown",
      "metadata": {
        "id": "-5QMDIX6NyAP",
        "colab_type": "text"
      },
      "source": [
        "### Leave P Out (LPO)\n",
        "LeavePOut is very similar to LeaveOneOut as it creates all the possible training/test sets by removing $p$ samples from the complete set. For $n$ samples, this produces $n\\choose p$ train-test pairs. Unlike LeaveOneOut and KFold, the test sets will overlap for $p>1$.\n",
        "Example of Leave-2-Out on a dataset with 4 samples:"
      ]
    },
    {
      "cell_type": "code",
      "metadata": {
        "id": "n-ZVsHjCNyAQ",
        "colab_type": "code",
        "colab": {
          "base_uri": "https://localhost:8080/",
          "height": 115
        },
        "outputId": "e5b82fea-6684-4a0d-8102-d22253a5edca"
      },
      "source": [
        "from sklearn.model_selection import LeavePOut\n",
        "\n",
        "X = np.ones(4)\n",
        "lpo = LeavePOut(p=2)\n",
        "for train, test in lpo.split(X):\n",
        "    print(\"%s %s\" % (train, test))"
      ],
      "execution_count": 4,
      "outputs": [
        {
          "output_type": "stream",
          "text": [
            "[2 3] [0 1]\n",
            "[1 3] [0 2]\n",
            "[1 2] [0 3]\n",
            "[0 3] [1 2]\n",
            "[0 2] [1 3]\n",
            "[0 1] [2 3]\n"
          ],
          "name": "stdout"
        }
      ]
    },
    {
      "cell_type": "markdown",
      "metadata": {
        "id": "b7o4C6KnNyAS",
        "colab_type": "text"
      },
      "source": [
        "###  Random permutations cross-validation a.k.a. Shuffle & Split\n",
        "ShuffleSplit\n",
        "\n",
        "The ShuffleSplit iterator will generate a user defined number of independent train / test dataset splits. Samples are first shuffled and then split into a pair of train and test sets.\n",
        "\n",
        "It is possible to control the randomness for reproducibility of the results by explicitly seeding the random_state pseudo random number generator.\n",
        "\n",
        "Here is a usage example:"
      ]
    },
    {
      "cell_type": "code",
      "metadata": {
        "id": "EB-iE4XvNyAT",
        "colab_type": "code",
        "colab": {
          "base_uri": "https://localhost:8080/",
          "height": 98
        },
        "outputId": "d2aef0ef-893d-4f28-b450-03ece8011356"
      },
      "source": [
        "from sklearn.model_selection import ShuffleSplit\n",
        "X = np.arange(10)\n",
        "ss = ShuffleSplit(n_splits=5, test_size=0.25,\n",
        "    random_state=0)\n",
        "for train_index, test_index in ss.split(X):\n",
        "    print(\"%s %s\" % (train_index, test_index))"
      ],
      "execution_count": 5,
      "outputs": [
        {
          "output_type": "stream",
          "text": [
            "[9 1 6 7 3 0 5] [2 8 4]\n",
            "[2 9 8 0 6 7 4] [3 5 1]\n",
            "[4 5 1 0 6 9 7] [2 3 8]\n",
            "[2 7 5 8 0 3 4] [6 1 9]\n",
            "[4 1 0 6 8 9 3] [5 2 7]\n"
          ],
          "name": "stdout"
        }
      ]
    },
    {
      "cell_type": "markdown",
      "metadata": {
        "id": "N1TUhXCMNyAY",
        "colab_type": "text"
      },
      "source": [
        "ShuffleSplit is thus a good alternative to KFold cross validation that allows a finer control on the number of iterations and the proportion of samples on each side of the train / test split."
      ]
    },
    {
      "cell_type": "markdown",
      "metadata": {
        "id": "vWVimQMxNyAY",
        "colab_type": "text"
      },
      "source": [
        "### Cross-validation iterators with stratification based on class labels.\n",
        "Some classification problems can exhibit a large imbalance in the distribution of the target classes: for instance there could be several times more negative samples than positive samples. In such cases it is recommended to use stratified sampling as implemented in StratifiedKFold and StratifiedShuffleSplit to ensure that relative class frequencies is approximately preserved in each train and validation fold.\n",
        "#### Stratified k-fold\n",
        "StratifiedKFold is a variation of k-fold which returns stratified folds: each set contains approximately the same percentage of samples of each target class as the complete set.\n",
        "\n",
        "Example of stratified 3-fold cross-validation on a dataset with 10 samples from two slightly unbalanced classes:"
      ]
    },
    {
      "cell_type": "code",
      "metadata": {
        "id": "SO_ygDl3NyAZ",
        "colab_type": "code",
        "colab": {
          "base_uri": "https://localhost:8080/",
          "height": 66
        },
        "outputId": "33beb943-1743-4f6c-e02c-5832a3c69547"
      },
      "source": [
        "from sklearn.model_selection import StratifiedKFold\n",
        "\n",
        "X = np.ones(10)\n",
        "y = [0, 0, 0, 0, 1, 1, 1, 1, 1, 1]\n",
        "skf = StratifiedKFold(n_splits=3)\n",
        "for train, test in skf.split(X, y):\n",
        "    print(\"%s %s\" % (train, test))"
      ],
      "execution_count": 6,
      "outputs": [
        {
          "output_type": "stream",
          "text": [
            "[2 3 6 7 8 9] [0 1 4 5]\n",
            "[0 1 3 4 5 8 9] [2 6 7]\n",
            "[0 1 2 4 5 6 7] [3 8 9]\n"
          ],
          "name": "stdout"
        }
      ]
    },
    {
      "cell_type": "markdown",
      "metadata": {
        "id": "ZHVb9XI6NyAc",
        "colab_type": "text"
      },
      "source": [
        "#### Stratified Shuffle Split\n",
        "StratifiedShuffleSplit is a variation of ShuffleSplit, which returns stratified splits, i.e which creates splits by preserving the same percentage for each target class as in the complete set."
      ]
    },
    {
      "cell_type": "markdown",
      "metadata": {
        "id": "Msg1jZCaNyAc",
        "colab_type": "text"
      },
      "source": [
        "###  Cross-validation iterators for grouped data.\n",
        "The i.i.d. assumption is broken if the underlying generative process yield groups of dependent samples.\n",
        "\n",
        "Such a grouping of data is domain specific. An example would be when there is medical data collected from multiple patients, with multiple samples taken from each patient. And such data is likely to be dependent on the individual group. In our example, the patient id for each sample will be its group identifier.\n",
        "\n",
        "In this case we would like to know if a model trained on a particular set of groups generalizes well to the unseen groups. To measure this, we need to ensure that all the samples in the validation fold come from groups that are not represented at all in the paired training fold.\n",
        "\n",
        "The following cross-validation splitters can be used to do that. The grouping identifier for the samples is specified via the groups parameter.\n",
        "#### GroupKFold\n",
        "GroupKFold is a variation of [k-fold](https://scikit-learn.org/stable/modules/generated/sklearn.model_selection.KFold.html) which ensures that the same group is not represented in both testing and training sets. For example if the data is obtained from different subjects with several samples per-subject and if the model is flexible enough to learn from highly person specific features it could fail to generalize to new subjects. GroupKFold makes it possible to detect this kind of overfitting situations."
      ]
    },
    {
      "cell_type": "code",
      "metadata": {
        "id": "VWGPNtgPNyAd",
        "colab_type": "code",
        "colab": {
          "base_uri": "https://localhost:8080/",
          "height": 66
        },
        "outputId": "a585528c-6962-48f3-aad0-1f4c2803b986"
      },
      "source": [
        "from sklearn.model_selection import GroupKFold\n",
        "X = [0.1, 0.2, 2.2, 2.4, 2.3, 4.55, 5.8, 8.8, 9, 10]\n",
        "y = [\"a\", \"b\", \"b\", \"b\", \"c\", \"c\", \"c\", \"d\", \"d\", \"d\"]\n",
        "groups = [1, 1, 1, 2, 2, 2, 3, 3, 3, 3]\n",
        "\n",
        "gkf = GroupKFold(n_splits=3)\n",
        "for train, test in gkf.split(X, y, groups=groups):\n",
        "    print(\"%s %s\" % (train, test))"
      ],
      "execution_count": 7,
      "outputs": [
        {
          "output_type": "stream",
          "text": [
            "[0 1 2 3 4 5] [6 7 8 9]\n",
            "[0 1 2 6 7 8 9] [3 4 5]\n",
            "[3 4 5 6 7 8 9] [0 1 2]\n"
          ],
          "name": "stdout"
        }
      ]
    },
    {
      "cell_type": "markdown",
      "metadata": {
        "id": "yI8FMcXGNyAf",
        "colab_type": "text"
      },
      "source": [
        "Each subject is in a different testing fold, and the same subject is never in both testing and training. Notice that the folds do not have exactly the same size due to the imbalance in the data."
      ]
    },
    {
      "cell_type": "markdown",
      "metadata": {
        "id": "JCtcWn1XNyAg",
        "colab_type": "text"
      },
      "source": [
        "#### Leave One Group Out\n",
        "LeaveOneGroupOut is a cross-validation scheme which holds out the samples according to a third-party provided array of integer groups. This group information can be used to encode arbitrary domain specific pre-defined cross-validation folds.\n",
        "\n",
        "Each training set is thus constituted by all the samples except the ones related to a specific group.\n",
        "\n",
        "For example, in the cases of multiple experiments, LeaveOneGroupOut can be used to create a cross-validation based on the different experiments: we create a training set using the samples of all the experiments except one:"
      ]
    },
    {
      "cell_type": "code",
      "metadata": {
        "id": "IYt8IkY8NyAh",
        "colab_type": "code",
        "colab": {
          "base_uri": "https://localhost:8080/",
          "height": 66
        },
        "outputId": "6b1d5f0e-aea9-4bb4-c7bf-238e9155646e"
      },
      "source": [
        "from sklearn.model_selection import LeaveOneGroupOut\n",
        "\n",
        "X = [1, 5, 10, 50, 60, 70, 80]\n",
        "y = [0, 1, 1, 2, 2, 2, 2]\n",
        "groups = [1, 1, 2, 2, 3, 3, 3]\n",
        "logo = LeaveOneGroupOut()\n",
        "for train, test in logo.split(X, y, groups=groups):\n",
        "    print(\"%s %s\" % (train, test))"
      ],
      "execution_count": 8,
      "outputs": [
        {
          "output_type": "stream",
          "text": [
            "[2 3 4 5 6] [0 1]\n",
            "[0 1 4 5 6] [2 3]\n",
            "[0 1 2 3] [4 5 6]\n"
          ],
          "name": "stdout"
        }
      ]
    },
    {
      "cell_type": "markdown",
      "metadata": {
        "id": "WF-ePHpmNyAj",
        "colab_type": "text"
      },
      "source": [
        "Another common application is to use time information: for instance the groups could be the year of collection of the samples and thus allow for cross-validation against time-based splits.\n",
        "#### Leave P Groups Out\n",
        "LeavePGroupsOut is similar as LeaveOneGroupOut, but removes samples related to  groups for each training/test set.\n",
        "\n",
        "Example of Leave-2-Group Out:"
      ]
    },
    {
      "cell_type": "code",
      "metadata": {
        "id": "wyNinjQbNyAk",
        "colab_type": "code",
        "colab": {
          "base_uri": "https://localhost:8080/",
          "height": 66
        },
        "outputId": "7968faf9-a5ee-4634-89a6-4cc035cd3f0d"
      },
      "source": [
        "from sklearn.model_selection import LeavePGroupsOut\n",
        "\n",
        "X = np.arange(6)\n",
        "y = [1, 1, 1, 2, 2, 2]\n",
        "groups = [1, 1, 2, 2, 3, 3]\n",
        "lpgo = LeavePGroupsOut(n_groups=2)\n",
        "for train, test in lpgo.split(X, y, groups=groups):\n",
        "    print(\"%s %s\" % (train, test))"
      ],
      "execution_count": 9,
      "outputs": [
        {
          "output_type": "stream",
          "text": [
            "[4 5] [0 1 2 3]\n",
            "[2 3] [0 1 4 5]\n",
            "[0 1] [2 3 4 5]\n"
          ],
          "name": "stdout"
        }
      ]
    },
    {
      "cell_type": "markdown",
      "metadata": {
        "id": "ru9eSi89NyAm",
        "colab_type": "text"
      },
      "source": [
        "### GroupShuffleSplit\n",
        "The GroupShuffleSplit iterator behaves as a combination of ShuffleSplit and LeavePGroupsOut, and generates a sequence of randomized partitions in which a subset of groups are held out for each split.\n",
        "\n",
        "Here is a usage example:"
      ]
    },
    {
      "cell_type": "code",
      "metadata": {
        "id": "jXsgqFinNyAn",
        "colab_type": "code",
        "colab": {
          "base_uri": "https://localhost:8080/",
          "height": 82
        },
        "outputId": "aa4dbb46-a3b4-4cb4-b45f-73cde0ca8fbb"
      },
      "source": [
        "from sklearn.model_selection import GroupShuffleSplit\n",
        "\n",
        "X = [0.1, 0.2, 2.2, 2.4, 2.3, 4.55, 5.8, 0.001]\n",
        "y = [\"a\", \"b\", \"b\", \"b\", \"c\", \"c\", \"c\", \"a\"]\n",
        "groups = [1, 1, 2, 2, 3, 3, 4, 4]\n",
        "gss = GroupShuffleSplit(n_splits=4, test_size=0.5, random_state=0)\n",
        "for train, test in gss.split(X, y, groups=groups):\n",
        "    print(\"%s %s\" % (train, test))"
      ],
      "execution_count": 10,
      "outputs": [
        {
          "output_type": "stream",
          "text": [
            "[0 1 2 3] [4 5 6 7]\n",
            "[2 3 6 7] [0 1 4 5]\n",
            "[2 3 4 5] [0 1 6 7]\n",
            "[4 5 6 7] [0 1 2 3]\n"
          ],
          "name": "stdout"
        }
      ]
    },
    {
      "cell_type": "markdown",
      "metadata": {
        "id": "O07mX57fNyAp",
        "colab_type": "text"
      },
      "source": [
        "### Real world example:\n",
        "**To check which model works best as a classifier best using K-Fold**\n",
        "\n",
        "This dataset is originally from the National Institute of Diabetes and Digestive and Kidney Diseases. The objective of the dataset is to diagnostically predict whether or not a patient has diabetes, based on certain diagnostic measurements included in the dataset. Several constraints were placed on the selection of these instances from a larger database. In particular, all patients here are females at least 21 years old of Pima Indian heritage."
      ]
    },
    {
      "cell_type": "code",
      "metadata": {
        "id": "cOat7IN6NyAq",
        "colab_type": "code",
        "colab": {
          "base_uri": "https://localhost:8080/",
          "height": 391
        },
        "outputId": "50fadd42-132d-4ee4-f1ca-0de7e78587dc"
      },
      "source": [
        "import pandas\n",
        "import matplotlib.pyplot as plt\n",
        "from sklearn import model_selection\n",
        "from sklearn.linear_model import LogisticRegression\n",
        "from sklearn.tree import DecisionTreeClassifier\n",
        "from sklearn.neighbors import KNeighborsClassifier\n",
        "from sklearn.discriminant_analysis import LinearDiscriminantAnalysis\n",
        "from sklearn.naive_bayes import GaussianNB\n",
        "from sklearn.svm import SVC\n",
        "import warnings\n",
        "warnings.filterwarnings('ignore')\n",
        "%matplotlib inline\n",
        "\n",
        "# load dataset\n",
        "url = \"https://raw.githubusercontent.com/jbrownlee/Datasets/master/pima-indians-diabetes.data.csv\"\n",
        "names = ['preg', 'plas', 'pres', 'skin', 'test', 'mass', 'pedi', 'age', 'class']\n",
        "dataframe = pandas.read_csv(url, names=names)\n",
        "array = dataframe.values\n",
        "X = array[:,0:8]\n",
        "Y = array[:,8]\n",
        "# prepare configuration for cross validation test harness\n",
        "seed = 7\n",
        "# prepare models\n",
        "models = []\n",
        "models.append(('LR', LogisticRegression()))\n",
        "models.append(('LDA', LinearDiscriminantAnalysis()))\n",
        "models.append(('KNN', KNeighborsClassifier()))\n",
        "models.append(('CART', DecisionTreeClassifier()))\n",
        "models.append(('NB', GaussianNB()))\n",
        "models.append(('SVM', SVC()))\n",
        "# evaluate each model in turn\n",
        "results = []\n",
        "names = []\n",
        "scoring = 'accuracy'\n",
        "for name, model in models:\n",
        "    kfold = model_selection.KFold(n_splits=10, random_state=seed)\n",
        "    cv_results = model_selection.cross_val_score(model, X, Y, cv=kfold, scoring=scoring)\n",
        "    results.append(cv_results)\n",
        "    names.append(name)\n",
        "    msg = \"%s: %f (%f)\" % (name, cv_results.mean(), cv_results.std())\n",
        "    print(msg)\n",
        "# boxplot algorithm comparison\n",
        "fig = plt.figure()\n",
        "fig.suptitle('Algorithm Comparison')\n",
        "ax = fig.add_subplot(111)\n",
        "plt.boxplot(results)\n",
        "ax.set_xticklabels(names)\n",
        "plt.show()"
      ],
      "execution_count": 11,
      "outputs": [
        {
          "output_type": "stream",
          "text": [
            "LR: 0.769515 (0.048411)\n",
            "LDA: 0.773462 (0.051592)\n",
            "KNN: 0.726555 (0.061821)\n",
            "CART: 0.686090 (0.064056)\n",
            "NB: 0.755178 (0.042766)\n",
            "SVM: 0.651025 (0.072141)\n"
          ],
          "name": "stdout"
        },
        {
          "output_type": "display_data",
          "data": {
            "image/png": "[encoded data removed]",
            "text/plain": [
              "<Figure size 432x288 with 1 Axes>"
            ]
          },
          "metadata": {
            "tags": []
          }
        }
      ]
    },
    {
      "cell_type": "markdown",
      "metadata": {
        "id": "jjVhE8C6NyAs",
        "colab_type": "text"
      },
      "source": [
        "So we are getting best results from LinearDiscriminantAnalysis and LogisticRegression on the diabetes classification problem."
      ]
    },
    {
      "cell_type": "markdown",
      "metadata": {
        "id": "1jCcpJnPNyAt",
        "colab_type": "text"
      },
      "source": [
        "## Naive Bayes\n",
        "Naive Bayes methods are a set of supervised learning algorithms based on applying Bayes’ theorem with the “naive” assumption of conditional independence between every pair of features given the value of the class variable.\n",
        "\n",
        "$$\n",
        "P(y \\mid x_1, \\dots, x_n) = \\frac{P(y) P(x_1, \\dots x_n \\mid y)}\n",
        "                                 {P(x_1, \\dots, x_n)}\n",
        "$$\n",
        "\n",
        "\n",
        "<p>Using the naive conditional independence assumption that</p>\n",
        "$$\n",
        "P(x_i | y, x_1, \\dots, x_{i-1}, x_{i+1}, \\dots, x_n) = P(x_i | y),$$\n",
        "for all $i$, this relationship is simplified to\n",
        "$$\n",
        "P(y \\mid x_1, \\dots, x_n) = \\frac{P(y) \\prod_{i=1}^{n} P(x_i \\mid y)}\n",
        "                                 {P(x_1, \\dots, x_n)}\n",
        "$$\n",
        "                                 \n",
        "Since $P(x_1, \\dots, x_n)$ is constant given the input,\n",
        "we can use the following classification rule:\n",
        "\n",
        "$$\\begin{align}\\begin{aligned}P(y \\mid x_1, \\dots, x_n) \\propto P(y) \\prod_{i=1}^{n} P(x_i \\mid y)\\\\\\Downarrow\\\\\\hat{y} = \\arg\\max_y P(y) \\prod_{i=1}^{n} P(x_i \\mid y),\\end{aligned}\\end{align}\n",
        "$$\n",
        "and we can use Maximum A Posteriori (MAP) estimation to estimate $P(y)$ and $P(x_i \\mid y)$;\n",
        "the former is then the relative frequency of class $(y)$\n",
        "in the training set.\n",
        "\n",
        "The different naive Bayes classifiers differ mainly by the assumptions they\n",
        "make regarding the distribution of $P(x_i \\mid y)$\n",
        "\n",
        "In spite of their apparently over-simplified assumptions, naive Bayes classifiers have worked quite well in many real-world situations, famously document classification and spam filtering. They require a small amount of training data to estimate the necessary parameters.\n",
        "\n",
        "Naive Bayes learners and classifiers can be extremely fast compared to more sophisticated methods. The decoupling of the class conditional feature distributions means that each distribution can be independently estimated as a one dimensional distribution. This in turn helps to alleviate problems stemming from the curse of dimensionality.\n",
        "\n",
        "On the flip side, although naive Bayes is known as a decent classifier, it is known to be a bad estimator, so the probability outputs from predict_proba are not to be taken too seriously."
      ]
    },
    {
      "cell_type": "markdown",
      "metadata": {
        "id": "K7aRB20gNyAt",
        "colab_type": "text"
      },
      "source": [
        "### Naive Bayes on Pima Indians Diabetes Data"
      ]
    },
    {
      "cell_type": "code",
      "metadata": {
        "id": "ELBTBhwPNyAu",
        "colab_type": "code",
        "colab": {
          "base_uri": "https://localhost:8080/",
          "height": 147
        },
        "outputId": "0d47d96a-a17a-481e-ecb0-57987ccf6104"
      },
      "source": [
        "import pandas as pd\n",
        "url = 'https://gist.githubusercontent.com/ktisha/c21e73a1bd1700294ef790c56c8aec1f/raw/819b69b5736821ccee93d05b51de0510bea00294/pima-indians-diabetes.csv'\n",
        "col_names = ['pregnant', 'glucose', 'bp', 'skin', 'insulin', 'bmi', 'pedigree', 'age', 'label']\n",
        "pima = pd.read_csv(url, header=None, names=col_names, skiprows=9)\n",
        "\n",
        "# notice that all features are continuous\n",
        "print(pima.head())\n",
        "\n",
        "# create X and y\n",
        "X = pima.drop('label', axis=1)\n",
        "y = pima.label\n",
        "\n",
        "# split into training and testing sets\n",
        "from sklearn.model_selection import train_test_split\n",
        "X_train, X_test, y_train, y_test = train_test_split(X, y, random_state=1)\n",
        "\n",
        "# import both Multinomial and Gaussian Naive Bayes\n",
        "from sklearn.naive_bayes import MultinomialNB, GaussianNB\n",
        "from sklearn import metrics\n",
        "\n",
        "# testing accuracy of Multinomial Naive Bayes\n",
        "mnb = MultinomialNB()\n",
        "mnb.fit(X_train, y_train)\n",
        "y_pred_class = mnb.predict(X_test)\n",
        "print(\"testing accuracy of Multinomial Naive Bayes: \", metrics.accuracy_score(y_test, y_pred_class))\n",
        "\n",
        "\n",
        "# testing accuracy of Gaussian Naive Bayes\n",
        "gnb = GaussianNB()\n",
        "gnb.fit(X_train, y_train)\n",
        "y_pred_class = gnb.predict(X_test)\n",
        "print(\"testing accuracy of Gaussian Naive Bayes: \", metrics.accuracy_score(y_test, y_pred_class))\n"
      ],
      "execution_count": 12,
      "outputs": [
        {
          "output_type": "stream",
          "text": [
            "   pregnant  glucose  bp  skin  insulin   bmi  pedigree  age  label\n",
            "0         6      148  72    35        0  33.6     0.627   50      1\n",
            "1         1       85  66    29        0  26.6     0.351   31      0\n",
            "2         8      183  64     0        0  23.3     0.672   32      1\n",
            "3         1       89  66    23       94  28.1     0.167   21      0\n",
            "4         0      137  40    35      168  43.1     2.288   33      1\n",
            "testing accuracy of Multinomial Naive Bayes:  0.5416666666666666\n",
            "testing accuracy of Gaussian Naive Bayes:  0.7916666666666666\n"
          ],
          "name": "stdout"
        }
      ]
    },
    {
      "cell_type": "markdown",
      "metadata": {
        "id": "-_IPj8n9NyAx",
        "colab_type": "text"
      },
      "source": [
        "**Conclusion:** When applying Naive Bayes classification to a dataset with **continuous features**, it is better to use Gaussian Naive Bayes than Multinomial Naive Bayes. The latter is suitable for datasets containing **discrete features** (e.g., word counts).\n"
      ]
    },
    {
      "cell_type": "markdown",
      "metadata": {
        "id": "iC7m27GHNyAx",
        "colab_type": "text"
      },
      "source": [
        "## Nearest Neighbors\n",
        "The principle behind nearest neighbor methods is to find a predefined number of training samples closest in distance to the new point, and predict the label from these. \n",
        "he number of samples can be a user-defined constant (k-nearest neighbor learning), or vary based on the local density of points (radius-based neighbor learning). The distance can, in general, be any metric measure: standard Euclidean distance is the most common choice. Neighbors-based methods are known as non-generalizing machine learning methods, since they simply “remember” all of its training data (possibly transformed into a fast indexing structure such as a Ball Tree or KD Tree).\n",
        "\n",
        "Despite its simplicity, nearest neighbors has been successful in a large number of classification and regression problems, including handwritten digits and satellite image scenes. Being a non-parametric method, it is often successful in classification situations where the decision boundary is very irregular.\n",
        "\n"
      ]
    },
    {
      "cell_type": "code",
      "metadata": {
        "id": "kVK03QodNyAy",
        "colab_type": "code",
        "colab": {
          "base_uri": "https://localhost:8080/",
          "height": 211
        },
        "outputId": "1f95e74b-c220-4234-ee90-94b5d7818e39"
      },
      "source": [
        "import numpy as np\n",
        "import pylab as pl\n",
        "from sklearn import neighbors, datasets\n",
        "iris = datasets.load_iris()\n",
        "X = iris.data[:, :2] # we only take the first two features. \n",
        "Y = iris.target\n",
        "\n",
        "h = .02 # step size in the mesh\n",
        "knn=neighbors.KNeighborsClassifier()\n",
        "\n",
        "# we create an instance of Neighbours Classifier and fit the data.\n",
        "knn.fit(X, Y)\n",
        "\n",
        "# Plot the decision boundary. For that, we will asign a color to each\n",
        "# point in the mesh [x_min, m_max]x[y_min, y_max].\n",
        "x_min, x_max = X[:,0].min() - .5, X[:,0].max() + .5\n",
        "y_min, y_max = X[:,1].min() - .5, X[:,1].max() + .5\n",
        "\n",
        "xx, yy = np.meshgrid(np.arange(x_min, x_max, h), np.arange(y_min, y_max, h))\n",
        "Z = knn.predict(np.c_[xx.ravel(), yy.ravel()])\n",
        "\n",
        "# Put the result into a color plot\n",
        "Z = Z.reshape(xx.shape)\n",
        "pl.figure(1, figsize=(4, 3))\n",
        "pl.set_cmap(pl.cm.Paired)\n",
        "pl.pcolormesh(xx, yy, Z)\n",
        "\n",
        "# Plot also the training points\n",
        "pl.scatter(X[:,0], X[:,1],c=Y )\n",
        "pl.xlabel('Sepal length')\n",
        "pl.ylabel('Sepal width')\n",
        "\n",
        "pl.xlim(xx.min(), xx.max())\n",
        "pl.ylim(yy.min(), yy.max())\n",
        "pl.xticks(())\n",
        "pl.yticks(())\n",
        "\n",
        "pl.show()"
      ],
      "execution_count": 13,
      "outputs": [
        {
          "output_type": "display_data",
          "data": {
            "image/png": "[encoded data removed]",
            "text/plain": [
              "<Figure size 288x216 with 1 Axes>"
            ]
          },
          "metadata": {
            "tags": []
          }
        }
      ]
    },
    {
      "cell_type": "code",
      "metadata": {
        "id": "sIW6a7WSNyA2",
        "colab_type": "code",
        "colab": {}
      },
      "source": [
        ""
      ],
      "execution_count": 0,
      "outputs": []
    }
  ]
}