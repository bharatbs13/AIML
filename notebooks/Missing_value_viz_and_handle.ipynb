{
  "nbformat": 4,
  "nbformat_minor": 0,
  "metadata": {
    "kernelspec": {
      "display_name": "Python 3",
      "language": "python",
      "name": "python3"
    },
    "language_info": {
      "codemirror_mode": {
        "name": "ipython",
        "version": 3
      },
      "file_extension": ".py",
      "mimetype": "text/x-python",
      "name": "python",
      "nbconvert_exporter": "python",
      "pygments_lexer": "ipython3",
      "version": "3.7.3"
    },
    "colab": {
      "name": "Missing_value_viz_and_handle.ipynb",
      "provenance": [],
      "toc_visible": true
    }
  },
  "cells": [
    {
      "cell_type": "markdown",
      "metadata": {
        "id": "dnFeYHnr3iPN",
        "colab_type": "text"
      },
      "source": [
        "# Here's what we're going to do on missing value treatment:\n",
        "\n",
        "### 1) Take a first look at the data\n",
        "### 2) See how many missing data points we have\n",
        "### 3) Figure out why the data is missing\n",
        "### 4) Drop missing values\n",
        "### 5) Filling in missing values"
      ]
    },
    {
      "cell_type": "markdown",
      "metadata": {
        "id": "C32RghD23iPO",
        "colab_type": "text"
      },
      "source": [
        "### Take a first look at the data\n",
        "#### We will use a python library called pandas which is a datastructure and data analysis tool. More on pandas in the A11 course\n",
        "#### Few other libraries we will use are seaborn, matplotlib for visualisation"
      ]
    },
    {
      "cell_type": "code",
      "metadata": {
        "id": "hKfN7vIz3iPP",
        "colab_type": "code",
        "colab": {
          "base_uri": "https://localhost:8080/",
          "height": 17
        },
        "outputId": "f2c48078-53a0-421a-ffcd-2740b0154c9f"
      },
      "source": [
        "import pandas as pd\n",
        "import numpy as np\n",
        "import seaborn as sns\n",
        "import matplotlib.pyplot as plt\n",
        "%matplotlib inline\n",
        "import plotly.offline as py\n",
        "py.init_notebook_mode(connected=True)\n",
        "import plotly.graph_objs as go\n",
        "import plotly.tools as tls"
      ],
      "execution_count": 2,
      "outputs": [
        {
          "output_type": "display_data",
          "data": {
            "text/html": [
              "        <script type=\"text/javascript\">\n",
              "        window.PlotlyConfig = {MathJaxConfig: 'local'};\n",
              "        if (window.MathJax) {MathJax.Hub.Config({SVG: {font: \"STIX-Web\"}});}\n",
              "        if (typeof require !== 'undefined') {\n",
              "        require.undef(\"plotly\");\n",
              "        requirejs.config({\n",
              "            paths: {\n",
              "                'plotly': ['https://cdn.plot.ly/plotly-latest.min']\n",
              "            }\n",
              "        });\n",
              "        require(['plotly'], function(Plotly) {\n",
              "            window._Plotly = Plotly;\n",
              "        });\n",
              "        }\n",
              "        </script>\n",
              "        "
            ]
          },
          "metadata": {
            "tags": []
          }
        }
      ]
    },
    {
      "cell_type": "markdown",
      "metadata": {
        "id": "yQjZQHZ43iPT",
        "colab_type": "text"
      },
      "source": [
        "### load the data"
      ]
    },
    {
      "cell_type": "code",
      "metadata": {
        "id": "pF0vJM7T3iPU",
        "colab_type": "code",
        "colab": {}
      },
      "source": [
        "data = pd.read_csv(\"sample_data/scraped_data.csv\")"
      ],
      "execution_count": 0,
      "outputs": []
    },
    {
      "cell_type": "code",
      "metadata": {
        "id": "uScOwzDz3iPX",
        "colab_type": "code",
        "colab": {
          "base_uri": "https://localhost:8080/",
          "height": 326
        },
        "outputId": "2943fc87-aea0-43e4-fe24-57cf74496efa"
      },
      "source": [
        "data.dtypes"
      ],
      "execution_count": 4,
      "outputs": [
        {
          "output_type": "execute_result",
          "data": {
            "text/plain": [
              "name                         object\n",
              "url                          object\n",
              "born                         object\n",
              "teams                        object\n",
              "first_class.average          object\n",
              "first_class.balls_faced      object\n",
              "first_class.boundaries       object\n",
              "first_class.catches_taken     int64\n",
              "first_class.fifties          object\n",
              "first_class.highest          object\n",
              "first_class.hundreds         object\n",
              "first_class.inns             object\n",
              "first_class.matches           int64\n",
              "first_class.not_outs         object\n",
              "first_class.runs             object\n",
              "first_class.sixes            object\n",
              "first_class.strike_rate      object\n",
              "first_class.stumps            int64\n",
              "dtype: object"
            ]
          },
          "metadata": {
            "tags": []
          },
          "execution_count": 4
        }
      ]
    },
    {
      "cell_type": "code",
      "metadata": {
        "id": "89noWIgt3iPZ",
        "colab_type": "code",
        "colab": {
          "base_uri": "https://localhost:8080/",
          "height": 357
        },
        "outputId": "f8e2222d-171e-4056-98be-608d72c20b44"
      },
      "source": [
        "data.head()"
      ],
      "execution_count": 5,
      "outputs": [
        {
          "output_type": "execute_result",
          "data": {
            "text/html": [
              "<div>\n",
              "<style scoped>\n",
              "    .dataframe tbody tr th:only-of-type {\n",
              "        vertical-align: middle;\n",
              "    }\n",
              "\n",
              "    .dataframe tbody tr th {\n",
              "        vertical-align: top;\n",
              "    }\n",
              "\n",
              "    .dataframe thead th {\n",
              "        text-align: right;\n",
              "    }\n",
              "</style>\n",
              "<table border=\"1\" class=\"dataframe\">\n",
              "  <thead>\n",
              "    <tr style=\"text-align: right;\">\n",
              "      <th></th>\n",
              "      <th>name</th>\n",
              "      <th>url</th>\n",
              "      <th>born</th>\n",
              "      <th>teams</th>\n",
              "      <th>first_class.average</th>\n",
              "      <th>first_class.balls_faced</th>\n",
              "      <th>first_class.boundaries</th>\n",
              "      <th>first_class.catches_taken</th>\n",
              "      <th>first_class.fifties</th>\n",
              "      <th>first_class.highest</th>\n",
              "      <th>first_class.hundreds</th>\n",
              "      <th>first_class.inns</th>\n",
              "      <th>first_class.matches</th>\n",
              "      <th>first_class.not_outs</th>\n",
              "      <th>first_class.runs</th>\n",
              "      <th>first_class.sixes</th>\n",
              "      <th>first_class.strike_rate</th>\n",
              "      <th>first_class.stumps</th>\n",
              "    </tr>\n",
              "  </thead>\n",
              "  <tbody>\n",
              "    <tr>\n",
              "      <th>0</th>\n",
              "      <td>Abhisek Banerjee</td>\n",
              "      <td>http://www.espncricinfo.com/ci/content/player/...</td>\n",
              "      <td>May 18, 1984, Durgapur</td>\n",
              "      <td>Bengal,</td>\n",
              "      <td>23.75</td>\n",
              "      <td>122</td>\n",
              "      <td>14</td>\n",
              "      <td>2</td>\n",
              "      <td>1</td>\n",
              "      <td>68</td>\n",
              "      <td>0</td>\n",
              "      <td>4</td>\n",
              "      <td>4</td>\n",
              "      <td>0</td>\n",
              "      <td>95</td>\n",
              "      <td>0</td>\n",
              "      <td>77.86</td>\n",
              "      <td>0</td>\n",
              "    </tr>\n",
              "    <tr>\n",
              "      <th>1</th>\n",
              "      <td>Reagan Pinto</td>\n",
              "      <td>http://www.espncricinfo.com/ci/content/player/...</td>\n",
              "      <td>September 21, 1991, Bombay (now Mumbai), Mahar...</td>\n",
              "      <td>Goa</td>\n",
              "      <td>32.55</td>\n",
              "      <td>2772</td>\n",
              "      <td>159</td>\n",
              "      <td>11</td>\n",
              "      <td>7</td>\n",
              "      <td>154</td>\n",
              "      <td>3</td>\n",
              "      <td>47</td>\n",
              "      <td>31</td>\n",
              "      <td>4</td>\n",
              "      <td>1400</td>\n",
              "      <td>10</td>\n",
              "      <td>50.50</td>\n",
              "      <td>0</td>\n",
              "    </tr>\n",
              "    <tr>\n",
              "      <th>2</th>\n",
              "      <td>Anupam Patel</td>\n",
              "      <td>http://www.espncricinfo.com/ci/content/player/...</td>\n",
              "      <td>May 1, 1985, Jamshedpur, Bihar</td>\n",
              "      <td>Gujarat</td>\n",
              "      <td>-</td>\n",
              "      <td>0</td>\n",
              "      <td>0</td>\n",
              "      <td>0</td>\n",
              "      <td>0</td>\n",
              "      <td>0*</td>\n",
              "      <td>0</td>\n",
              "      <td>1</td>\n",
              "      <td>2</td>\n",
              "      <td>1</td>\n",
              "      <td>0</td>\n",
              "      <td>0</td>\n",
              "      <td>-</td>\n",
              "      <td>0</td>\n",
              "    </tr>\n",
              "    <tr>\n",
              "      <th>3</th>\n",
              "      <td>Utkarsh Patel</td>\n",
              "      <td>http://www.espncricinfo.com/ci/content/player/...</td>\n",
              "      <td>October 11, 1987, Paradi, Gujarat</td>\n",
              "      <td>Baroda</td>\n",
              "      <td>20.75</td>\n",
              "      <td>321</td>\n",
              "      <td>21</td>\n",
              "      <td>3</td>\n",
              "      <td>1</td>\n",
              "      <td>53</td>\n",
              "      <td>0</td>\n",
              "      <td>10</td>\n",
              "      <td>7</td>\n",
              "      <td>2</td>\n",
              "      <td>166</td>\n",
              "      <td>2</td>\n",
              "      <td>51.71</td>\n",
              "      <td>0</td>\n",
              "    </tr>\n",
              "    <tr>\n",
              "      <th>4</th>\n",
              "      <td>Penta Rao</td>\n",
              "      <td>http://www.espncricinfo.com/ci/content/player/...</td>\n",
              "      <td>May 10, 1985, Vishakapatnam</td>\n",
              "      <td>Services</td>\n",
              "      <td>34.50</td>\n",
              "      <td>314</td>\n",
              "      <td>14</td>\n",
              "      <td>0</td>\n",
              "      <td>1</td>\n",
              "      <td>89</td>\n",
              "      <td>0</td>\n",
              "      <td>5</td>\n",
              "      <td>3</td>\n",
              "      <td>1</td>\n",
              "      <td>138</td>\n",
              "      <td>0</td>\n",
              "      <td>43.94</td>\n",
              "      <td>0</td>\n",
              "    </tr>\n",
              "  </tbody>\n",
              "</table>\n",
              "</div>"
            ],
            "text/plain": [
              "               name  ... first_class.stumps\n",
              "0  Abhisek Banerjee  ...                  0\n",
              "1      Reagan Pinto  ...                  0\n",
              "2      Anupam Patel  ...                  0\n",
              "3     Utkarsh Patel  ...                  0\n",
              "4         Penta Rao  ...                  0\n",
              "\n",
              "[5 rows x 18 columns]"
            ]
          },
          "metadata": {
            "tags": []
          },
          "execution_count": 5
        }
      ]
    },
    {
      "cell_type": "markdown",
      "metadata": {
        "id": "lRegT7Ua3iPb",
        "colab_type": "text"
      },
      "source": [
        "### Cleaning"
      ]
    },
    {
      "cell_type": "code",
      "metadata": {
        "id": "ECU9_tRS3iPc",
        "colab_type": "code",
        "colab": {}
      },
      "source": [
        "dataCopy = data.copy()\n",
        "dataCopy = dataCopy.replace('-', np.NaN)"
      ],
      "execution_count": 0,
      "outputs": []
    },
    {
      "cell_type": "code",
      "metadata": {
        "id": "cwmaBXl63iPe",
        "colab_type": "code",
        "colab": {},
        "outputId": "26b6e259-4927-4887-a18e-57eb8cd6c64f"
      },
      "source": [
        "dataCopy.head()"
      ],
      "execution_count": 0,
      "outputs": [
        {
          "output_type": "execute_result",
          "data": {
            "text/html": [
              "<div>\n",
              "<style scoped>\n",
              "    .dataframe tbody tr th:only-of-type {\n",
              "        vertical-align: middle;\n",
              "    }\n",
              "\n",
              "    .dataframe tbody tr th {\n",
              "        vertical-align: top;\n",
              "    }\n",
              "\n",
              "    .dataframe thead th {\n",
              "        text-align: right;\n",
              "    }\n",
              "</style>\n",
              "<table border=\"1\" class=\"dataframe\">\n",
              "  <thead>\n",
              "    <tr style=\"text-align: right;\">\n",
              "      <th></th>\n",
              "      <th>name</th>\n",
              "      <th>url</th>\n",
              "      <th>born</th>\n",
              "      <th>teams</th>\n",
              "      <th>first_class.average</th>\n",
              "      <th>first_class.balls_faced</th>\n",
              "      <th>first_class.boundaries</th>\n",
              "      <th>first_class.catches_taken</th>\n",
              "      <th>first_class.fifties</th>\n",
              "      <th>first_class.highest</th>\n",
              "      <th>first_class.hundreds</th>\n",
              "      <th>first_class.inns</th>\n",
              "      <th>first_class.matches</th>\n",
              "      <th>first_class.not_outs</th>\n",
              "      <th>first_class.runs</th>\n",
              "      <th>first_class.sixes</th>\n",
              "      <th>first_class.strike_rate</th>\n",
              "      <th>first_class.stumps</th>\n",
              "    </tr>\n",
              "  </thead>\n",
              "  <tbody>\n",
              "    <tr>\n",
              "      <th>0</th>\n",
              "      <td>Abhisek Banerjee</td>\n",
              "      <td>http://www.espncricinfo.com/ci/content/player/...</td>\n",
              "      <td>May 18, 1984, Durgapur</td>\n",
              "      <td>Bengal,</td>\n",
              "      <td>23.75</td>\n",
              "      <td>122</td>\n",
              "      <td>14</td>\n",
              "      <td>2</td>\n",
              "      <td>1</td>\n",
              "      <td>68</td>\n",
              "      <td>0</td>\n",
              "      <td>4</td>\n",
              "      <td>4</td>\n",
              "      <td>0</td>\n",
              "      <td>95</td>\n",
              "      <td>0</td>\n",
              "      <td>77.86</td>\n",
              "      <td>0</td>\n",
              "    </tr>\n",
              "    <tr>\n",
              "      <th>1</th>\n",
              "      <td>Reagan Pinto</td>\n",
              "      <td>http://www.espncricinfo.com/ci/content/player/...</td>\n",
              "      <td>September 21, 1991, Bombay (now Mumbai), Mahar...</td>\n",
              "      <td>Goa</td>\n",
              "      <td>32.55</td>\n",
              "      <td>2772</td>\n",
              "      <td>159</td>\n",
              "      <td>11</td>\n",
              "      <td>7</td>\n",
              "      <td>154</td>\n",
              "      <td>3</td>\n",
              "      <td>47</td>\n",
              "      <td>31</td>\n",
              "      <td>4</td>\n",
              "      <td>1400</td>\n",
              "      <td>10</td>\n",
              "      <td>50.50</td>\n",
              "      <td>0</td>\n",
              "    </tr>\n",
              "    <tr>\n",
              "      <th>2</th>\n",
              "      <td>Anupam Patel</td>\n",
              "      <td>http://www.espncricinfo.com/ci/content/player/...</td>\n",
              "      <td>May 1, 1985, Jamshedpur, Bihar</td>\n",
              "      <td>Gujarat</td>\n",
              "      <td>NaN</td>\n",
              "      <td>0</td>\n",
              "      <td>0</td>\n",
              "      <td>0</td>\n",
              "      <td>0</td>\n",
              "      <td>0*</td>\n",
              "      <td>0</td>\n",
              "      <td>1</td>\n",
              "      <td>2</td>\n",
              "      <td>1</td>\n",
              "      <td>0</td>\n",
              "      <td>0</td>\n",
              "      <td>NaN</td>\n",
              "      <td>0</td>\n",
              "    </tr>\n",
              "    <tr>\n",
              "      <th>3</th>\n",
              "      <td>Utkarsh Patel</td>\n",
              "      <td>http://www.espncricinfo.com/ci/content/player/...</td>\n",
              "      <td>October 11, 1987, Paradi, Gujarat</td>\n",
              "      <td>Baroda</td>\n",
              "      <td>20.75</td>\n",
              "      <td>321</td>\n",
              "      <td>21</td>\n",
              "      <td>3</td>\n",
              "      <td>1</td>\n",
              "      <td>53</td>\n",
              "      <td>0</td>\n",
              "      <td>10</td>\n",
              "      <td>7</td>\n",
              "      <td>2</td>\n",
              "      <td>166</td>\n",
              "      <td>2</td>\n",
              "      <td>51.71</td>\n",
              "      <td>0</td>\n",
              "    </tr>\n",
              "    <tr>\n",
              "      <th>4</th>\n",
              "      <td>Penta Rao</td>\n",
              "      <td>http://www.espncricinfo.com/ci/content/player/...</td>\n",
              "      <td>May 10, 1985, Vishakapatnam</td>\n",
              "      <td>Services</td>\n",
              "      <td>34.50</td>\n",
              "      <td>314</td>\n",
              "      <td>14</td>\n",
              "      <td>0</td>\n",
              "      <td>1</td>\n",
              "      <td>89</td>\n",
              "      <td>0</td>\n",
              "      <td>5</td>\n",
              "      <td>3</td>\n",
              "      <td>1</td>\n",
              "      <td>138</td>\n",
              "      <td>0</td>\n",
              "      <td>43.94</td>\n",
              "      <td>0</td>\n",
              "    </tr>\n",
              "  </tbody>\n",
              "</table>\n",
              "</div>"
            ],
            "text/plain": [
              "               name                                                url  \\\n",
              "0  Abhisek Banerjee  http://www.espncricinfo.com/ci/content/player/...   \n",
              "1      Reagan Pinto  http://www.espncricinfo.com/ci/content/player/...   \n",
              "2      Anupam Patel  http://www.espncricinfo.com/ci/content/player/...   \n",
              "3     Utkarsh Patel  http://www.espncricinfo.com/ci/content/player/...   \n",
              "4         Penta Rao  http://www.espncricinfo.com/ci/content/player/...   \n",
              "\n",
              "                                                born     teams  \\\n",
              "0                            May 18, 1984, Durgapur    Bengal,   \n",
              "1  September 21, 1991, Bombay (now Mumbai), Mahar...       Goa   \n",
              "2                    May 1, 1985, Jamshedpur, Bihar    Gujarat   \n",
              "3                 October 11, 1987, Paradi, Gujarat     Baroda   \n",
              "4                       May 10, 1985, Vishakapatnam   Services   \n",
              "\n",
              "  first_class.average first_class.balls_faced first_class.boundaries  \\\n",
              "0               23.75                     122                     14   \n",
              "1               32.55                    2772                    159   \n",
              "2                 NaN                       0                      0   \n",
              "3               20.75                     321                     21   \n",
              "4               34.50                     314                     14   \n",
              "\n",
              "   first_class.catches_taken first_class.fifties first_class.highest  \\\n",
              "0                          2                   1                  68   \n",
              "1                         11                   7                 154   \n",
              "2                          0                   0                  0*   \n",
              "3                          3                   1                  53   \n",
              "4                          0                   1                  89   \n",
              "\n",
              "  first_class.hundreds first_class.inns  first_class.matches  \\\n",
              "0                    0                4                    4   \n",
              "1                    3               47                   31   \n",
              "2                    0                1                    2   \n",
              "3                    0               10                    7   \n",
              "4                    0                5                    3   \n",
              "\n",
              "  first_class.not_outs first_class.runs first_class.sixes  \\\n",
              "0                    0               95                 0   \n",
              "1                    4             1400                10   \n",
              "2                    1                0                 0   \n",
              "3                    2              166                 2   \n",
              "4                    1              138                 0   \n",
              "\n",
              "  first_class.strike_rate  first_class.stumps  \n",
              "0                   77.86                   0  \n",
              "1                   50.50                   0  \n",
              "2                     NaN                   0  \n",
              "3                   51.71                   0  \n",
              "4                   43.94                   0  "
            ]
          },
          "metadata": {
            "tags": []
          },
          "execution_count": 6
        }
      ]
    },
    {
      "cell_type": "code",
      "metadata": {
        "id": "rhTTaN2M3iPh",
        "colab_type": "code",
        "colab": {
          "base_uri": "https://localhost:8080/",
          "height": 543
        },
        "outputId": "3e713c6c-4608-4835-9bfd-ec40ee9021cb"
      },
      "source": [
        "#missingno is a python library for nice visulaisation of missing number in the data\n",
        "import missingno as msno\n",
        "\n",
        "# Nullity or missing values by columns\n",
        "msno.matrix(df=dataCopy.iloc[:,2:18], figsize=(15, 6))"
      ],
      "execution_count": 7,
      "outputs": [
        {
          "output_type": "execute_result",
          "data": {
            "text/plain": [
              "<matplotlib.axes._subplots.AxesSubplot at 0x7f0b37c54080>"
            ]
          },
          "metadata": {
            "tags": []
          },
          "execution_count": 7
        },
        {
          "output_type": "display_data",
          "data": {
            "image/png": "[encoded data removed]",
            "text/plain": [
              "<Figure size 1080x432 with 2 Axes>"
            ]
          },
          "metadata": {
            "tags": []
          }
        }
      ]
    },
    {
      "cell_type": "markdown",
      "metadata": {
        "id": "MAhZgzuZ3iPj",
        "colab_type": "text"
      },
      "source": [
        "# So how many missing datapoints we have"
      ]
    },
    {
      "cell_type": "code",
      "metadata": {
        "id": "wAAdpay53iPk",
        "colab_type": "code",
        "colab": {
          "base_uri": "https://localhost:8080/",
          "height": 310
        },
        "outputId": "71f1d0ea-9634-48a3-a33a-5daea9e540e9"
      },
      "source": [
        "# get the number of missing data points per column\n",
        "missing_values_count = dataCopy.isnull().sum()\n",
        "\n",
        "# look at the # of missing points in the first ten columns\n",
        "missing_values_count[0:17]"
      ],
      "execution_count": 8,
      "outputs": [
        {
          "output_type": "execute_result",
          "data": {
            "text/plain": [
              "name                         0\n",
              "url                          0\n",
              "born                         0\n",
              "teams                        0\n",
              "first_class.average          9\n",
              "first_class.balls_faced      4\n",
              "first_class.boundaries       4\n",
              "first_class.catches_taken    0\n",
              "first_class.fifties          4\n",
              "first_class.highest          4\n",
              "first_class.hundreds         4\n",
              "first_class.inns             4\n",
              "first_class.matches          0\n",
              "first_class.not_outs         4\n",
              "first_class.runs             4\n",
              "first_class.sixes            4\n",
              "first_class.strike_rate      5\n",
              "dtype: int64"
            ]
          },
          "metadata": {
            "tags": []
          },
          "execution_count": 8
        }
      ]
    },
    {
      "cell_type": "markdown",
      "metadata": {
        "id": "iQALDz_f3iPm",
        "colab_type": "text"
      },
      "source": [
        "## Remove incomplete rows"
      ]
    },
    {
      "cell_type": "code",
      "metadata": {
        "id": "dH1Urhvb3iPn",
        "colab_type": "code",
        "colab": {
          "base_uri": "https://localhost:8080/",
          "height": 542
        },
        "outputId": "c46a9fdd-4a6e-4185-8afc-4006821a48db"
      },
      "source": [
        "#Dropping all rows with any NA values is easy\n",
        "\n",
        "dataCopyDropAll = dataCopy.copy()\n",
        "dataCopyDropAll.dropna(inplace=True)\n",
        "\n",
        "msno.matrix(df=dataCopyDropAll.iloc[:,2:18], figsize=(12, 6), color=(0.42, 0.1, 0.05))"
      ],
      "execution_count": 9,
      "outputs": [
        {
          "output_type": "execute_result",
          "data": {
            "text/plain": [
              "<matplotlib.axes._subplots.AxesSubplot at 0x7f0b353c7400>"
            ]
          },
          "metadata": {
            "tags": []
          },
          "execution_count": 9
        },
        {
          "output_type": "display_data",
          "data": {
            "image/png": "[encoded data removed]",
            "text/plain": [
              "<Figure size 864x432 with 2 Axes>"
            ]
          },
          "metadata": {
            "tags": []
          }
        }
      ]
    },
    {
      "cell_type": "code",
      "metadata": {
        "id": "HwSZTWox3iPq",
        "colab_type": "code",
        "colab": {
          "base_uri": "https://localhost:8080/",
          "height": 543
        },
        "outputId": "ab5e6c73-4695-45a7-849c-d387d1f854cb"
      },
      "source": [
        "# This might drop a lot of rows which might hamper our analysis\n",
        "\n",
        "# We can drop rows with all NULLs, thats not the case here\n",
        "dataCopyDropRowWithAllNA = dataCopy.copy()\n",
        "dataCopyDropRowWithAllNA.dropna(how='all',inplace=True)\n",
        "\n",
        "msno.matrix(df=dataCopyDropRowWithAllNA.iloc[:,2:18], figsize=(12, 6), color=(0.42, 0.1, 0.05))"
      ],
      "execution_count": 10,
      "outputs": [
        {
          "output_type": "execute_result",
          "data": {
            "text/plain": [
              "<matplotlib.axes._subplots.AxesSubplot at 0x7f0b352faba8>"
            ]
          },
          "metadata": {
            "tags": []
          },
          "execution_count": 10
        },
        {
          "output_type": "display_data",
          "data": {
            "image/png": "[encoded data removed]",
            "text/plain": [
              "<Figure size 864x432 with 2 Axes>"
            ]
          },
          "metadata": {
            "tags": []
          }
        }
      ]
    },
    {
      "cell_type": "code",
      "metadata": {
        "id": "32OG3vhk3iPs",
        "colab_type": "code",
        "colab": {
          "base_uri": "https://localhost:8080/",
          "height": 542
        },
        "outputId": "85f7f424-8a90-4756-87f4-ceec58ec8cb7"
      },
      "source": [
        "#We also can remove rows with a threshold value\n",
        "\n",
        "dataCopyDropRowWithThres = dataCopy.copy()\n",
        "dataCopyDropRowWithThres.dropna(thresh=10,inplace=True)\n",
        "\n",
        "msno.matrix(df=dataCopyDropRowWithThres.iloc[:,2:18], figsize=(12, 6), color=(0.42, 0.1, 0.05))"
      ],
      "execution_count": 11,
      "outputs": [
        {
          "output_type": "execute_result",
          "data": {
            "text/plain": [
              "<matplotlib.axes._subplots.AxesSubplot at 0x7f0b35234048>"
            ]
          },
          "metadata": {
            "tags": []
          },
          "execution_count": 11
        },
        {
          "output_type": "display_data",
          "data": {
            "image/png": "[encoded data removed]",
            "text/plain": [
              "<Figure size 864x432 with 2 Axes>"
            ]
          },
          "metadata": {
            "tags": []
          }
        }
      ]
    },
    {
      "cell_type": "code",
      "metadata": {
        "id": "d_3TSHMt3iPv",
        "colab_type": "code",
        "colab": {
          "base_uri": "https://localhost:8080/",
          "height": 543
        },
        "outputId": "50fde937-ca52-4ec8-f439-0e13e1e1a4c3"
      },
      "source": [
        "#Sometimes it makes sense to drop\n",
        "\n",
        "# Drop the columns with that are all NA values\n",
        "dataCopyDropColAllNA = dataCopy.copy()\n",
        "dataCopyDropColAllNA.dropna(axis=1, how='all', inplace=True)\n",
        "\n",
        "msno.matrix(df=dataCopyDropColAllNA.iloc[:,2:18], figsize=(12, 6), color=(0.42, 0.1, 0.05))"
      ],
      "execution_count": 12,
      "outputs": [
        {
          "output_type": "execute_result",
          "data": {
            "text/plain": [
              "<matplotlib.axes._subplots.AxesSubplot at 0x7f0b35162588>"
            ]
          },
          "metadata": {
            "tags": []
          },
          "execution_count": 12
        },
        {
          "output_type": "display_data",
          "data": {
            "image/png": "[encoded data removed]",
            "text/plain": [
              "<Figure size 864x432 with 2 Axes>"
            ]
          },
          "metadata": {
            "tags": []
          }
        }
      ]
    },
    {
      "cell_type": "code",
      "metadata": {
        "id": "pcu7pRsi3iPx",
        "colab_type": "code",
        "colab": {
          "base_uri": "https://localhost:8080/",
          "height": 543
        },
        "outputId": "3d91975f-5bbb-4e11-8280-721bb79f8b0a"
      },
      "source": [
        "# Drop all columns with any NA values:\n",
        "dataCopyDropColAnyNA = dataCopy.copy()\n",
        "dataCopyDropColAnyNA.dropna(axis=1, how='any', inplace=True)\n",
        "\n",
        "msno.matrix(df=dataCopyDropColAnyNA.iloc[:,2:18], figsize=(12, 6), color=(0.42, 0.1, 0.05))"
      ],
      "execution_count": 13,
      "outputs": [
        {
          "output_type": "execute_result",
          "data": {
            "text/plain": [
              "<matplotlib.axes._subplots.AxesSubplot at 0x7f0b3508ea20>"
            ]
          },
          "metadata": {
            "tags": []
          },
          "execution_count": 13
        },
        {
          "output_type": "display_data",
          "data": {
            "image/png": "[encoded data removed]",
            "text/plain": [
              "<Figure size 864x432 with 2 Axes>"
            ]
          },
          "metadata": {
            "tags": []
          }
        }
      ]
    },
    {
      "cell_type": "code",
      "metadata": {
        "id": "ANoaSOSr3iP0",
        "colab_type": "code",
        "colab": {
          "base_uri": "https://localhost:8080/",
          "height": 543
        },
        "outputId": "a5ac6d97-d0eb-46a1-d1fa-dc92dd4b8c6b"
      },
      "source": [
        "#The threshold thing also can be applied here\n",
        "\n",
        "dataCopyDropColWithThres = dataCopy.copy()\n",
        "dataCopyDropColWithThres.dropna(axis=1, thresh=5, inplace=True)\n",
        "\n",
        "msno.matrix(df=dataCopyDropColWithThres.iloc[:,2:18], figsize=(12, 6), color=(0.42, 0.1, 0.05))"
      ],
      "execution_count": 14,
      "outputs": [
        {
          "output_type": "execute_result",
          "data": {
            "text/plain": [
              "<matplotlib.axes._subplots.AxesSubplot at 0x7f0b3508bbe0>"
            ]
          },
          "metadata": {
            "tags": []
          },
          "execution_count": 14
        },
        {
          "output_type": "display_data",
          "data": {
            "image/png": "[encoded data removed]",
            "text/plain": [
              "<Figure size 864x432 with 2 Axes>"
            ]
          },
          "metadata": {
            "tags": []
          }
        }
      ]
    },
    {
      "cell_type": "markdown",
      "metadata": {
        "id": "0m7kWYjH3iP2",
        "colab_type": "text"
      },
      "source": [
        "## Imputation of missing values"
      ]
    },
    {
      "cell_type": "markdown",
      "metadata": {
        "id": "ZZfIJE4T3iP3",
        "colab_type": "text"
      },
      "source": [
        "##### This is the point at which we get into the part of data science that I like to call \"data intution\", by which I mean \"really looking at your data and trying to figure out why it is the way it is and how that will affect your analysis\". It can be a frustrating part of data science, especially if you're newer to the field and don't have a lot of experience. For dealing with missing values, you'll need to use your intution to figure out why the value is missing. One of the most important question you can ask yourself to help figure this out is this:\n",
        "\n",
        "Is this value missing becuase it wasn't recorded or becuase it dosen't exist?\n",
        "\n",
        "If a value is missing because it doens't exist (like the height of the oldest child of someone who doesn't have any children) then it doesn't make sense to try and guess what it might be. These values you probalby do want to keep as NaN. On the other hand, if a value is missing becuase it wasn't recorded, then you can try to guess what it might have been based on the other values in that column and row. (This is called \"imputation\" and we'll learn how to do it next! :)"
      ]
    },
    {
      "cell_type": "markdown",
      "metadata": {
        "id": "lHt_ClQp3iP4",
        "colab_type": "text"
      },
      "source": [
        "### Fill with Zero"
      ]
    },
    {
      "cell_type": "code",
      "metadata": {
        "id": "6cJP0qPw3iP4",
        "colab_type": "code",
        "colab": {
          "base_uri": "https://localhost:8080/",
          "height": 357
        },
        "outputId": "d062742e-d155-4723-f58c-602a2a3a028f"
      },
      "source": [
        "# A simple imputation to make the nan values 0, but not a good idea always\n",
        "dataCopyFillNAZero = dataCopy.copy()\n",
        "dataCopyFillNAZero = dataCopyFillNAZero.fillna(0)\n",
        "dataCopyFillNAZero.head()"
      ],
      "execution_count": 15,
      "outputs": [
        {
          "output_type": "execute_result",
          "data": {
            "text/html": [
              "<div>\n",
              "<style scoped>\n",
              "    .dataframe tbody tr th:only-of-type {\n",
              "        vertical-align: middle;\n",
              "    }\n",
              "\n",
              "    .dataframe tbody tr th {\n",
              "        vertical-align: top;\n",
              "    }\n",
              "\n",
              "    .dataframe thead th {\n",
              "        text-align: right;\n",
              "    }\n",
              "</style>\n",
              "<table border=\"1\" class=\"dataframe\">\n",
              "  <thead>\n",
              "    <tr style=\"text-align: right;\">\n",
              "      <th></th>\n",
              "      <th>name</th>\n",
              "      <th>url</th>\n",
              "      <th>born</th>\n",
              "      <th>teams</th>\n",
              "      <th>first_class.average</th>\n",
              "      <th>first_class.balls_faced</th>\n",
              "      <th>first_class.boundaries</th>\n",
              "      <th>first_class.catches_taken</th>\n",
              "      <th>first_class.fifties</th>\n",
              "      <th>first_class.highest</th>\n",
              "      <th>first_class.hundreds</th>\n",
              "      <th>first_class.inns</th>\n",
              "      <th>first_class.matches</th>\n",
              "      <th>first_class.not_outs</th>\n",
              "      <th>first_class.runs</th>\n",
              "      <th>first_class.sixes</th>\n",
              "      <th>first_class.strike_rate</th>\n",
              "      <th>first_class.stumps</th>\n",
              "    </tr>\n",
              "  </thead>\n",
              "  <tbody>\n",
              "    <tr>\n",
              "      <th>0</th>\n",
              "      <td>Abhisek Banerjee</td>\n",
              "      <td>http://www.espncricinfo.com/ci/content/player/...</td>\n",
              "      <td>May 18, 1984, Durgapur</td>\n",
              "      <td>Bengal,</td>\n",
              "      <td>23.75</td>\n",
              "      <td>122</td>\n",
              "      <td>14</td>\n",
              "      <td>2</td>\n",
              "      <td>1</td>\n",
              "      <td>68</td>\n",
              "      <td>0</td>\n",
              "      <td>4</td>\n",
              "      <td>4</td>\n",
              "      <td>0</td>\n",
              "      <td>95</td>\n",
              "      <td>0</td>\n",
              "      <td>77.86</td>\n",
              "      <td>0</td>\n",
              "    </tr>\n",
              "    <tr>\n",
              "      <th>1</th>\n",
              "      <td>Reagan Pinto</td>\n",
              "      <td>http://www.espncricinfo.com/ci/content/player/...</td>\n",
              "      <td>September 21, 1991, Bombay (now Mumbai), Mahar...</td>\n",
              "      <td>Goa</td>\n",
              "      <td>32.55</td>\n",
              "      <td>2772</td>\n",
              "      <td>159</td>\n",
              "      <td>11</td>\n",
              "      <td>7</td>\n",
              "      <td>154</td>\n",
              "      <td>3</td>\n",
              "      <td>47</td>\n",
              "      <td>31</td>\n",
              "      <td>4</td>\n",
              "      <td>1400</td>\n",
              "      <td>10</td>\n",
              "      <td>50.50</td>\n",
              "      <td>0</td>\n",
              "    </tr>\n",
              "    <tr>\n",
              "      <th>2</th>\n",
              "      <td>Anupam Patel</td>\n",
              "      <td>http://www.espncricinfo.com/ci/content/player/...</td>\n",
              "      <td>May 1, 1985, Jamshedpur, Bihar</td>\n",
              "      <td>Gujarat</td>\n",
              "      <td>0</td>\n",
              "      <td>0</td>\n",
              "      <td>0</td>\n",
              "      <td>0</td>\n",
              "      <td>0</td>\n",
              "      <td>0*</td>\n",
              "      <td>0</td>\n",
              "      <td>1</td>\n",
              "      <td>2</td>\n",
              "      <td>1</td>\n",
              "      <td>0</td>\n",
              "      <td>0</td>\n",
              "      <td>0</td>\n",
              "      <td>0</td>\n",
              "    </tr>\n",
              "    <tr>\n",
              "      <th>3</th>\n",
              "      <td>Utkarsh Patel</td>\n",
              "      <td>http://www.espncricinfo.com/ci/content/player/...</td>\n",
              "      <td>October 11, 1987, Paradi, Gujarat</td>\n",
              "      <td>Baroda</td>\n",
              "      <td>20.75</td>\n",
              "      <td>321</td>\n",
              "      <td>21</td>\n",
              "      <td>3</td>\n",
              "      <td>1</td>\n",
              "      <td>53</td>\n",
              "      <td>0</td>\n",
              "      <td>10</td>\n",
              "      <td>7</td>\n",
              "      <td>2</td>\n",
              "      <td>166</td>\n",
              "      <td>2</td>\n",
              "      <td>51.71</td>\n",
              "      <td>0</td>\n",
              "    </tr>\n",
              "    <tr>\n",
              "      <th>4</th>\n",
              "      <td>Penta Rao</td>\n",
              "      <td>http://www.espncricinfo.com/ci/content/player/...</td>\n",
              "      <td>May 10, 1985, Vishakapatnam</td>\n",
              "      <td>Services</td>\n",
              "      <td>34.50</td>\n",
              "      <td>314</td>\n",
              "      <td>14</td>\n",
              "      <td>0</td>\n",
              "      <td>1</td>\n",
              "      <td>89</td>\n",
              "      <td>0</td>\n",
              "      <td>5</td>\n",
              "      <td>3</td>\n",
              "      <td>1</td>\n",
              "      <td>138</td>\n",
              "      <td>0</td>\n",
              "      <td>43.94</td>\n",
              "      <td>0</td>\n",
              "    </tr>\n",
              "  </tbody>\n",
              "</table>\n",
              "</div>"
            ],
            "text/plain": [
              "               name  ... first_class.stumps\n",
              "0  Abhisek Banerjee  ...                  0\n",
              "1      Reagan Pinto  ...                  0\n",
              "2      Anupam Patel  ...                  0\n",
              "3     Utkarsh Patel  ...                  0\n",
              "4         Penta Rao  ...                  0\n",
              "\n",
              "[5 rows x 18 columns]"
            ]
          },
          "metadata": {
            "tags": []
          },
          "execution_count": 15
        }
      ]
    },
    {
      "cell_type": "markdown",
      "metadata": {
        "id": "7EtRPoHs3iP7",
        "colab_type": "text"
      },
      "source": [
        "### Fill with Mean, median, mode"
      ]
    },
    {
      "cell_type": "code",
      "metadata": {
        "id": "Vp5WVxA93iP7",
        "colab_type": "code",
        "colab": {
          "base_uri": "https://localhost:8080/",
          "height": 357
        },
        "outputId": "c944639c-474a-4a31-ccb0-319caf3fcf50"
      },
      "source": [
        "# The values can also be replace with mean, media, mode or frquent values in the column\n",
        "dataCopyFillNAMean = dataCopy.copy()\n",
        "dataCopyFillNAMean[\"first_class.strike_rate\"] = pd.to_numeric(dataCopyFillNAMean[\"first_class.strike_rate\"])\n",
        "dataCopyFillNAMean = dataCopyFillNAMean.fillna(dataCopyFillNAMean.mean())\n",
        "\n",
        "dataCopyFillNAMean.head()"
      ],
      "execution_count": 16,
      "outputs": [
        {
          "output_type": "execute_result",
          "data": {
            "text/html": [
              "<div>\n",
              "<style scoped>\n",
              "    .dataframe tbody tr th:only-of-type {\n",
              "        vertical-align: middle;\n",
              "    }\n",
              "\n",
              "    .dataframe tbody tr th {\n",
              "        vertical-align: top;\n",
              "    }\n",
              "\n",
              "    .dataframe thead th {\n",
              "        text-align: right;\n",
              "    }\n",
              "</style>\n",
              "<table border=\"1\" class=\"dataframe\">\n",
              "  <thead>\n",
              "    <tr style=\"text-align: right;\">\n",
              "      <th></th>\n",
              "      <th>name</th>\n",
              "      <th>url</th>\n",
              "      <th>born</th>\n",
              "      <th>teams</th>\n",
              "      <th>first_class.average</th>\n",
              "      <th>first_class.balls_faced</th>\n",
              "      <th>first_class.boundaries</th>\n",
              "      <th>first_class.catches_taken</th>\n",
              "      <th>first_class.fifties</th>\n",
              "      <th>first_class.highest</th>\n",
              "      <th>first_class.hundreds</th>\n",
              "      <th>first_class.inns</th>\n",
              "      <th>first_class.matches</th>\n",
              "      <th>first_class.not_outs</th>\n",
              "      <th>first_class.runs</th>\n",
              "      <th>first_class.sixes</th>\n",
              "      <th>first_class.strike_rate</th>\n",
              "      <th>first_class.stumps</th>\n",
              "    </tr>\n",
              "  </thead>\n",
              "  <tbody>\n",
              "    <tr>\n",
              "      <th>0</th>\n",
              "      <td>Abhisek Banerjee</td>\n",
              "      <td>http://www.espncricinfo.com/ci/content/player/...</td>\n",
              "      <td>May 18, 1984, Durgapur</td>\n",
              "      <td>Bengal,</td>\n",
              "      <td>23.75</td>\n",
              "      <td>122</td>\n",
              "      <td>14</td>\n",
              "      <td>2</td>\n",
              "      <td>1</td>\n",
              "      <td>68</td>\n",
              "      <td>0</td>\n",
              "      <td>4</td>\n",
              "      <td>4</td>\n",
              "      <td>0</td>\n",
              "      <td>95</td>\n",
              "      <td>0</td>\n",
              "      <td>77.86000</td>\n",
              "      <td>0</td>\n",
              "    </tr>\n",
              "    <tr>\n",
              "      <th>1</th>\n",
              "      <td>Reagan Pinto</td>\n",
              "      <td>http://www.espncricinfo.com/ci/content/player/...</td>\n",
              "      <td>September 21, 1991, Bombay (now Mumbai), Mahar...</td>\n",
              "      <td>Goa</td>\n",
              "      <td>32.55</td>\n",
              "      <td>2772</td>\n",
              "      <td>159</td>\n",
              "      <td>11</td>\n",
              "      <td>7</td>\n",
              "      <td>154</td>\n",
              "      <td>3</td>\n",
              "      <td>47</td>\n",
              "      <td>31</td>\n",
              "      <td>4</td>\n",
              "      <td>1400</td>\n",
              "      <td>10</td>\n",
              "      <td>50.50000</td>\n",
              "      <td>0</td>\n",
              "    </tr>\n",
              "    <tr>\n",
              "      <th>2</th>\n",
              "      <td>Anupam Patel</td>\n",
              "      <td>http://www.espncricinfo.com/ci/content/player/...</td>\n",
              "      <td>May 1, 1985, Jamshedpur, Bihar</td>\n",
              "      <td>Gujarat</td>\n",
              "      <td>NaN</td>\n",
              "      <td>0</td>\n",
              "      <td>0</td>\n",
              "      <td>0</td>\n",
              "      <td>0</td>\n",
              "      <td>0*</td>\n",
              "      <td>0</td>\n",
              "      <td>1</td>\n",
              "      <td>2</td>\n",
              "      <td>1</td>\n",
              "      <td>0</td>\n",
              "      <td>0</td>\n",
              "      <td>47.16506</td>\n",
              "      <td>0</td>\n",
              "    </tr>\n",
              "    <tr>\n",
              "      <th>3</th>\n",
              "      <td>Utkarsh Patel</td>\n",
              "      <td>http://www.espncricinfo.com/ci/content/player/...</td>\n",
              "      <td>October 11, 1987, Paradi, Gujarat</td>\n",
              "      <td>Baroda</td>\n",
              "      <td>20.75</td>\n",
              "      <td>321</td>\n",
              "      <td>21</td>\n",
              "      <td>3</td>\n",
              "      <td>1</td>\n",
              "      <td>53</td>\n",
              "      <td>0</td>\n",
              "      <td>10</td>\n",
              "      <td>7</td>\n",
              "      <td>2</td>\n",
              "      <td>166</td>\n",
              "      <td>2</td>\n",
              "      <td>51.71000</td>\n",
              "      <td>0</td>\n",
              "    </tr>\n",
              "    <tr>\n",
              "      <th>4</th>\n",
              "      <td>Penta Rao</td>\n",
              "      <td>http://www.espncricinfo.com/ci/content/player/...</td>\n",
              "      <td>May 10, 1985, Vishakapatnam</td>\n",
              "      <td>Services</td>\n",
              "      <td>34.50</td>\n",
              "      <td>314</td>\n",
              "      <td>14</td>\n",
              "      <td>0</td>\n",
              "      <td>1</td>\n",
              "      <td>89</td>\n",
              "      <td>0</td>\n",
              "      <td>5</td>\n",
              "      <td>3</td>\n",
              "      <td>1</td>\n",
              "      <td>138</td>\n",
              "      <td>0</td>\n",
              "      <td>43.94000</td>\n",
              "      <td>0</td>\n",
              "    </tr>\n",
              "  </tbody>\n",
              "</table>\n",
              "</div>"
            ],
            "text/plain": [
              "               name  ... first_class.stumps\n",
              "0  Abhisek Banerjee  ...                  0\n",
              "1      Reagan Pinto  ...                  0\n",
              "2      Anupam Patel  ...                  0\n",
              "3     Utkarsh Patel  ...                  0\n",
              "4         Penta Rao  ...                  0\n",
              "\n",
              "[5 rows x 18 columns]"
            ]
          },
          "metadata": {
            "tags": []
          },
          "execution_count": 16
        }
      ]
    },
    {
      "cell_type": "code",
      "metadata": {
        "id": "w48o5YVz3iP-",
        "colab_type": "code",
        "colab": {
          "base_uri": "https://localhost:8080/",
          "height": 357
        },
        "outputId": "48815497-3ab4-47c5-9bc5-50519df03fda"
      },
      "source": [
        "dataCopy.head()"
      ],
      "execution_count": 17,
      "outputs": [
        {
          "output_type": "execute_result",
          "data": {
            "text/html": [
              "<div>\n",
              "<style scoped>\n",
              "    .dataframe tbody tr th:only-of-type {\n",
              "        vertical-align: middle;\n",
              "    }\n",
              "\n",
              "    .dataframe tbody tr th {\n",
              "        vertical-align: top;\n",
              "    }\n",
              "\n",
              "    .dataframe thead th {\n",
              "        text-align: right;\n",
              "    }\n",
              "</style>\n",
              "<table border=\"1\" class=\"dataframe\">\n",
              "  <thead>\n",
              "    <tr style=\"text-align: right;\">\n",
              "      <th></th>\n",
              "      <th>name</th>\n",
              "      <th>url</th>\n",
              "      <th>born</th>\n",
              "      <th>teams</th>\n",
              "      <th>first_class.average</th>\n",
              "      <th>first_class.balls_faced</th>\n",
              "      <th>first_class.boundaries</th>\n",
              "      <th>first_class.catches_taken</th>\n",
              "      <th>first_class.fifties</th>\n",
              "      <th>first_class.highest</th>\n",
              "      <th>first_class.hundreds</th>\n",
              "      <th>first_class.inns</th>\n",
              "      <th>first_class.matches</th>\n",
              "      <th>first_class.not_outs</th>\n",
              "      <th>first_class.runs</th>\n",
              "      <th>first_class.sixes</th>\n",
              "      <th>first_class.strike_rate</th>\n",
              "      <th>first_class.stumps</th>\n",
              "    </tr>\n",
              "  </thead>\n",
              "  <tbody>\n",
              "    <tr>\n",
              "      <th>0</th>\n",
              "      <td>Abhisek Banerjee</td>\n",
              "      <td>http://www.espncricinfo.com/ci/content/player/...</td>\n",
              "      <td>May 18, 1984, Durgapur</td>\n",
              "      <td>Bengal,</td>\n",
              "      <td>23.75</td>\n",
              "      <td>122</td>\n",
              "      <td>14</td>\n",
              "      <td>2</td>\n",
              "      <td>1</td>\n",
              "      <td>68</td>\n",
              "      <td>0</td>\n",
              "      <td>4</td>\n",
              "      <td>4</td>\n",
              "      <td>0</td>\n",
              "      <td>95</td>\n",
              "      <td>0</td>\n",
              "      <td>77.86</td>\n",
              "      <td>0</td>\n",
              "    </tr>\n",
              "    <tr>\n",
              "      <th>1</th>\n",
              "      <td>Reagan Pinto</td>\n",
              "      <td>http://www.espncricinfo.com/ci/content/player/...</td>\n",
              "      <td>September 21, 1991, Bombay (now Mumbai), Mahar...</td>\n",
              "      <td>Goa</td>\n",
              "      <td>32.55</td>\n",
              "      <td>2772</td>\n",
              "      <td>159</td>\n",
              "      <td>11</td>\n",
              "      <td>7</td>\n",
              "      <td>154</td>\n",
              "      <td>3</td>\n",
              "      <td>47</td>\n",
              "      <td>31</td>\n",
              "      <td>4</td>\n",
              "      <td>1400</td>\n",
              "      <td>10</td>\n",
              "      <td>50.50</td>\n",
              "      <td>0</td>\n",
              "    </tr>\n",
              "    <tr>\n",
              "      <th>2</th>\n",
              "      <td>Anupam Patel</td>\n",
              "      <td>http://www.espncricinfo.com/ci/content/player/...</td>\n",
              "      <td>May 1, 1985, Jamshedpur, Bihar</td>\n",
              "      <td>Gujarat</td>\n",
              "      <td>NaN</td>\n",
              "      <td>0</td>\n",
              "      <td>0</td>\n",
              "      <td>0</td>\n",
              "      <td>0</td>\n",
              "      <td>0*</td>\n",
              "      <td>0</td>\n",
              "      <td>1</td>\n",
              "      <td>2</td>\n",
              "      <td>1</td>\n",
              "      <td>0</td>\n",
              "      <td>0</td>\n",
              "      <td>NaN</td>\n",
              "      <td>0</td>\n",
              "    </tr>\n",
              "    <tr>\n",
              "      <th>3</th>\n",
              "      <td>Utkarsh Patel</td>\n",
              "      <td>http://www.espncricinfo.com/ci/content/player/...</td>\n",
              "      <td>October 11, 1987, Paradi, Gujarat</td>\n",
              "      <td>Baroda</td>\n",
              "      <td>20.75</td>\n",
              "      <td>321</td>\n",
              "      <td>21</td>\n",
              "      <td>3</td>\n",
              "      <td>1</td>\n",
              "      <td>53</td>\n",
              "      <td>0</td>\n",
              "      <td>10</td>\n",
              "      <td>7</td>\n",
              "      <td>2</td>\n",
              "      <td>166</td>\n",
              "      <td>2</td>\n",
              "      <td>51.71</td>\n",
              "      <td>0</td>\n",
              "    </tr>\n",
              "    <tr>\n",
              "      <th>4</th>\n",
              "      <td>Penta Rao</td>\n",
              "      <td>http://www.espncricinfo.com/ci/content/player/...</td>\n",
              "      <td>May 10, 1985, Vishakapatnam</td>\n",
              "      <td>Services</td>\n",
              "      <td>34.50</td>\n",
              "      <td>314</td>\n",
              "      <td>14</td>\n",
              "      <td>0</td>\n",
              "      <td>1</td>\n",
              "      <td>89</td>\n",
              "      <td>0</td>\n",
              "      <td>5</td>\n",
              "      <td>3</td>\n",
              "      <td>1</td>\n",
              "      <td>138</td>\n",
              "      <td>0</td>\n",
              "      <td>43.94</td>\n",
              "      <td>0</td>\n",
              "    </tr>\n",
              "  </tbody>\n",
              "</table>\n",
              "</div>"
            ],
            "text/plain": [
              "               name  ... first_class.stumps\n",
              "0  Abhisek Banerjee  ...                  0\n",
              "1      Reagan Pinto  ...                  0\n",
              "2      Anupam Patel  ...                  0\n",
              "3     Utkarsh Patel  ...                  0\n",
              "4         Penta Rao  ...                  0\n",
              "\n",
              "[5 rows x 18 columns]"
            ]
          },
          "metadata": {
            "tags": []
          },
          "execution_count": 17
        }
      ]
    },
    {
      "cell_type": "markdown",
      "metadata": {
        "id": "aWxIj_xn3iQA",
        "colab_type": "text"
      },
      "source": [
        "### A simple imputer from sklearn can be used, Detailed sklearn will be covered in the next module"
      ]
    },
    {
      "cell_type": "markdown",
      "metadata": {
        "id": "c4JMcb753iQC",
        "colab_type": "text"
      },
      "source": [
        "class sklearn.impute.SimpleImputer(missing_values=nan, strategy=’mean’, fill_value=None, verbose=0, copy=True, add_indicator=False)\n",
        "\n",
        "missing_values : number, string, np.nan (default) or None\n",
        "The placeholder for the missing values. All occurrences of missing_values will be imputed.\n",
        "\n",
        "strategy : string, optional (default=”mean”)\n",
        "The imputation strategy.\n",
        "\n",
        "If “mean”, then replace missing values using the mean along each column. Can only be used with numeric data.\n",
        "If “median”, then replace missing values using the median along each column. Can only be used with numeric data.\n",
        "If “most_frequent”, then replace missing using the most frequent value along each column. Can be used with strings or numeric data.\n",
        "If “constant”, then replace missing values with fill_value. Can be used with strings or numeric data.\n",
        "New in version 0.20: strategy=”constant” for fixed value imputation.\n",
        "\n",
        "fill_value : string or numerical value, optional (default=None)\n",
        "When strategy == “constant”, fill_value is used to replace all occurrences of missing_values. If left to the default, fill_value will be 0 when imputing numerical data and “missing_value” for strings or object data types.\n",
        "\n",
        "verbose : integer, optional (default=0)\n",
        "Controls the verbosity of the imputer.\n",
        "\n",
        "copy : boolean, optional (default=True)\n",
        "If True, a copy of X will be created. If False, imputation will be done in-place whenever possible. Note that, in the following cases, a new copy will always be made, even if copy=False:\n",
        "\n",
        "If X is not an array of floating values;\n",
        "If X is encoded as a CSR matrix;\n",
        "If add_indicator=True.\n",
        "add_indicator : boolean, optional (default=False)\n",
        "If True, a MissingIndicator transform will stack onto output of the imputer’s transform. This allows a predictive estimator to account for missingness despite imputation. If a feature has no missing values at fit/train time, the feature won’t appear on the missing indicator even if there are missing values at transform/test time."
      ]
    },
    {
      "cell_type": "code",
      "metadata": {
        "id": "kyNu4YBh3iQE",
        "colab_type": "code",
        "colab": {}
      },
      "source": [
        "from sklearn.impute import SimpleImputer\n",
        "dataCopyImputation = dataCopy.copy()\n",
        "my_imputer = SimpleImputer()\n",
        "dataCopyImputation['first_class.average'] = dataCopyImputation['first_class.average'].astype('float')\n",
        "dataCopyImputation['first_class.strike_rate'] = dataCopyImputation['first_class.strike_rate'].astype('float')\n",
        "data_with_imputed_values = my_imputer.fit_transform(dataCopyImputation[['first_class.average','first_class.strike_rate']])"
      ],
      "execution_count": 0,
      "outputs": []
    },
    {
      "cell_type": "code",
      "metadata": {
        "id": "SeKA0ySL3iQI",
        "colab_type": "code",
        "colab": {
          "base_uri": "https://localhost:8080/",
          "height": 1000
        },
        "outputId": "d01860d3-7175-4ba0-a657-8f4fe9fb4065"
      },
      "source": [
        "dataCopyImputation[['first_class.average','first_class.strike_rate']]"
      ],
      "execution_count": 19,
      "outputs": [
        {
          "output_type": "execute_result",
          "data": {
            "text/html": [
              "<div>\n",
              "<style scoped>\n",
              "    .dataframe tbody tr th:only-of-type {\n",
              "        vertical-align: middle;\n",
              "    }\n",
              "\n",
              "    .dataframe tbody tr th {\n",
              "        vertical-align: top;\n",
              "    }\n",
              "\n",
              "    .dataframe thead th {\n",
              "        text-align: right;\n",
              "    }\n",
              "</style>\n",
              "<table border=\"1\" class=\"dataframe\">\n",
              "  <thead>\n",
              "    <tr style=\"text-align: right;\">\n",
              "      <th></th>\n",
              "      <th>first_class.average</th>\n",
              "      <th>first_class.strike_rate</th>\n",
              "    </tr>\n",
              "  </thead>\n",
              "  <tbody>\n",
              "    <tr>\n",
              "      <th>0</th>\n",
              "      <td>23.75</td>\n",
              "      <td>77.86</td>\n",
              "    </tr>\n",
              "    <tr>\n",
              "      <th>1</th>\n",
              "      <td>32.55</td>\n",
              "      <td>50.50</td>\n",
              "    </tr>\n",
              "    <tr>\n",
              "      <th>2</th>\n",
              "      <td>NaN</td>\n",
              "      <td>NaN</td>\n",
              "    </tr>\n",
              "    <tr>\n",
              "      <th>3</th>\n",
              "      <td>20.75</td>\n",
              "      <td>51.71</td>\n",
              "    </tr>\n",
              "    <tr>\n",
              "      <th>4</th>\n",
              "      <td>34.50</td>\n",
              "      <td>43.94</td>\n",
              "    </tr>\n",
              "    <tr>\n",
              "      <th>5</th>\n",
              "      <td>38.33</td>\n",
              "      <td>37.19</td>\n",
              "    </tr>\n",
              "    <tr>\n",
              "      <th>6</th>\n",
              "      <td>16.11</td>\n",
              "      <td>38.97</td>\n",
              "    </tr>\n",
              "    <tr>\n",
              "      <th>7</th>\n",
              "      <td>24.50</td>\n",
              "      <td>35.00</td>\n",
              "    </tr>\n",
              "    <tr>\n",
              "      <th>8</th>\n",
              "      <td>7.00</td>\n",
              "      <td>26.92</td>\n",
              "    </tr>\n",
              "    <tr>\n",
              "      <th>9</th>\n",
              "      <td>19.30</td>\n",
              "      <td>36.32</td>\n",
              "    </tr>\n",
              "    <tr>\n",
              "      <th>10</th>\n",
              "      <td>NaN</td>\n",
              "      <td>25.00</td>\n",
              "    </tr>\n",
              "    <tr>\n",
              "      <th>11</th>\n",
              "      <td>19.00</td>\n",
              "      <td>73.07</td>\n",
              "    </tr>\n",
              "    <tr>\n",
              "      <th>12</th>\n",
              "      <td>36.00</td>\n",
              "      <td>60.00</td>\n",
              "    </tr>\n",
              "    <tr>\n",
              "      <th>13</th>\n",
              "      <td>NaN</td>\n",
              "      <td>NaN</td>\n",
              "    </tr>\n",
              "    <tr>\n",
              "      <th>14</th>\n",
              "      <td>27.00</td>\n",
              "      <td>100.00</td>\n",
              "    </tr>\n",
              "    <tr>\n",
              "      <th>15</th>\n",
              "      <td>25.85</td>\n",
              "      <td>45.49</td>\n",
              "    </tr>\n",
              "    <tr>\n",
              "      <th>16</th>\n",
              "      <td>39.33</td>\n",
              "      <td>38.56</td>\n",
              "    </tr>\n",
              "    <tr>\n",
              "      <th>17</th>\n",
              "      <td>12.50</td>\n",
              "      <td>59.52</td>\n",
              "    </tr>\n",
              "    <tr>\n",
              "      <th>18</th>\n",
              "      <td>23.25</td>\n",
              "      <td>98.93</td>\n",
              "    </tr>\n",
              "    <tr>\n",
              "      <th>19</th>\n",
              "      <td>NaN</td>\n",
              "      <td>50.00</td>\n",
              "    </tr>\n",
              "    <tr>\n",
              "      <th>20</th>\n",
              "      <td>3.50</td>\n",
              "      <td>24.13</td>\n",
              "    </tr>\n",
              "    <tr>\n",
              "      <th>21</th>\n",
              "      <td>32.33</td>\n",
              "      <td>75.78</td>\n",
              "    </tr>\n",
              "    <tr>\n",
              "      <th>22</th>\n",
              "      <td>28.10</td>\n",
              "      <td>37.76</td>\n",
              "    </tr>\n",
              "    <tr>\n",
              "      <th>23</th>\n",
              "      <td>7.00</td>\n",
              "      <td>21.87</td>\n",
              "    </tr>\n",
              "    <tr>\n",
              "      <th>24</th>\n",
              "      <td>38.50</td>\n",
              "      <td>58.33</td>\n",
              "    </tr>\n",
              "    <tr>\n",
              "      <th>25</th>\n",
              "      <td>26.25</td>\n",
              "      <td>39.56</td>\n",
              "    </tr>\n",
              "    <tr>\n",
              "      <th>26</th>\n",
              "      <td>3.00</td>\n",
              "      <td>66.66</td>\n",
              "    </tr>\n",
              "    <tr>\n",
              "      <th>27</th>\n",
              "      <td>19.00</td>\n",
              "      <td>50.00</td>\n",
              "    </tr>\n",
              "    <tr>\n",
              "      <th>28</th>\n",
              "      <td>18.83</td>\n",
              "      <td>53.80</td>\n",
              "    </tr>\n",
              "    <tr>\n",
              "      <th>29</th>\n",
              "      <td>13.31</td>\n",
              "      <td>42.68</td>\n",
              "    </tr>\n",
              "    <tr>\n",
              "      <th>...</th>\n",
              "      <td>...</td>\n",
              "      <td>...</td>\n",
              "    </tr>\n",
              "    <tr>\n",
              "      <th>58</th>\n",
              "      <td>37.62</td>\n",
              "      <td>67.03</td>\n",
              "    </tr>\n",
              "    <tr>\n",
              "      <th>59</th>\n",
              "      <td>7.00</td>\n",
              "      <td>71.42</td>\n",
              "    </tr>\n",
              "    <tr>\n",
              "      <th>60</th>\n",
              "      <td>0.00</td>\n",
              "      <td>0.00</td>\n",
              "    </tr>\n",
              "    <tr>\n",
              "      <th>61</th>\n",
              "      <td>11.07</td>\n",
              "      <td>32.70</td>\n",
              "    </tr>\n",
              "    <tr>\n",
              "      <th>62</th>\n",
              "      <td>0.00</td>\n",
              "      <td>0.00</td>\n",
              "    </tr>\n",
              "    <tr>\n",
              "      <th>63</th>\n",
              "      <td>33.88</td>\n",
              "      <td>39.27</td>\n",
              "    </tr>\n",
              "    <tr>\n",
              "      <th>64</th>\n",
              "      <td>15.00</td>\n",
              "      <td>57.69</td>\n",
              "    </tr>\n",
              "    <tr>\n",
              "      <th>65</th>\n",
              "      <td>12.00</td>\n",
              "      <td>70.58</td>\n",
              "    </tr>\n",
              "    <tr>\n",
              "      <th>66</th>\n",
              "      <td>3.00</td>\n",
              "      <td>54.54</td>\n",
              "    </tr>\n",
              "    <tr>\n",
              "      <th>67</th>\n",
              "      <td>9.23</td>\n",
              "      <td>26.37</td>\n",
              "    </tr>\n",
              "    <tr>\n",
              "      <th>68</th>\n",
              "      <td>9.50</td>\n",
              "      <td>26.95</td>\n",
              "    </tr>\n",
              "    <tr>\n",
              "      <th>69</th>\n",
              "      <td>45.60</td>\n",
              "      <td>44.27</td>\n",
              "    </tr>\n",
              "    <tr>\n",
              "      <th>70</th>\n",
              "      <td>38.00</td>\n",
              "      <td>74.50</td>\n",
              "    </tr>\n",
              "    <tr>\n",
              "      <th>71</th>\n",
              "      <td>NaN</td>\n",
              "      <td>NaN</td>\n",
              "    </tr>\n",
              "    <tr>\n",
              "      <th>72</th>\n",
              "      <td>10.62</td>\n",
              "      <td>37.28</td>\n",
              "    </tr>\n",
              "    <tr>\n",
              "      <th>73</th>\n",
              "      <td>22.60</td>\n",
              "      <td>37.49</td>\n",
              "    </tr>\n",
              "    <tr>\n",
              "      <th>74</th>\n",
              "      <td>10.00</td>\n",
              "      <td>46.72</td>\n",
              "    </tr>\n",
              "    <tr>\n",
              "      <th>75</th>\n",
              "      <td>NaN</td>\n",
              "      <td>30.00</td>\n",
              "    </tr>\n",
              "    <tr>\n",
              "      <th>76</th>\n",
              "      <td>50.34</td>\n",
              "      <td>46.15</td>\n",
              "    </tr>\n",
              "    <tr>\n",
              "      <th>77</th>\n",
              "      <td>42.00</td>\n",
              "      <td>80.00</td>\n",
              "    </tr>\n",
              "    <tr>\n",
              "      <th>78</th>\n",
              "      <td>50.25</td>\n",
              "      <td>50.40</td>\n",
              "    </tr>\n",
              "    <tr>\n",
              "      <th>79</th>\n",
              "      <td>NaN</td>\n",
              "      <td>108.33</td>\n",
              "    </tr>\n",
              "    <tr>\n",
              "      <th>80</th>\n",
              "      <td>12.50</td>\n",
              "      <td>25.77</td>\n",
              "    </tr>\n",
              "    <tr>\n",
              "      <th>81</th>\n",
              "      <td>7.50</td>\n",
              "      <td>34.68</td>\n",
              "    </tr>\n",
              "    <tr>\n",
              "      <th>82</th>\n",
              "      <td>21.70</td>\n",
              "      <td>37.60</td>\n",
              "    </tr>\n",
              "    <tr>\n",
              "      <th>83</th>\n",
              "      <td>19.43</td>\n",
              "      <td>37.37</td>\n",
              "    </tr>\n",
              "    <tr>\n",
              "      <th>84</th>\n",
              "      <td>NaN</td>\n",
              "      <td>NaN</td>\n",
              "    </tr>\n",
              "    <tr>\n",
              "      <th>85</th>\n",
              "      <td>22.00</td>\n",
              "      <td>64.07</td>\n",
              "    </tr>\n",
              "    <tr>\n",
              "      <th>86</th>\n",
              "      <td>8.71</td>\n",
              "      <td>40.39</td>\n",
              "    </tr>\n",
              "    <tr>\n",
              "      <th>87</th>\n",
              "      <td>3.00</td>\n",
              "      <td>33.33</td>\n",
              "    </tr>\n",
              "  </tbody>\n",
              "</table>\n",
              "<p>88 rows × 2 columns</p>\n",
              "</div>"
            ],
            "text/plain": [
              "    first_class.average  first_class.strike_rate\n",
              "0                 23.75                    77.86\n",
              "1                 32.55                    50.50\n",
              "2                   NaN                      NaN\n",
              "3                 20.75                    51.71\n",
              "4                 34.50                    43.94\n",
              "5                 38.33                    37.19\n",
              "6                 16.11                    38.97\n",
              "7                 24.50                    35.00\n",
              "8                  7.00                    26.92\n",
              "9                 19.30                    36.32\n",
              "10                  NaN                    25.00\n",
              "11                19.00                    73.07\n",
              "12                36.00                    60.00\n",
              "13                  NaN                      NaN\n",
              "14                27.00                   100.00\n",
              "15                25.85                    45.49\n",
              "16                39.33                    38.56\n",
              "17                12.50                    59.52\n",
              "18                23.25                    98.93\n",
              "19                  NaN                    50.00\n",
              "20                 3.50                    24.13\n",
              "21                32.33                    75.78\n",
              "22                28.10                    37.76\n",
              "23                 7.00                    21.87\n",
              "24                38.50                    58.33\n",
              "25                26.25                    39.56\n",
              "26                 3.00                    66.66\n",
              "27                19.00                    50.00\n",
              "28                18.83                    53.80\n",
              "29                13.31                    42.68\n",
              "..                  ...                      ...\n",
              "58                37.62                    67.03\n",
              "59                 7.00                    71.42\n",
              "60                 0.00                     0.00\n",
              "61                11.07                    32.70\n",
              "62                 0.00                     0.00\n",
              "63                33.88                    39.27\n",
              "64                15.00                    57.69\n",
              "65                12.00                    70.58\n",
              "66                 3.00                    54.54\n",
              "67                 9.23                    26.37\n",
              "68                 9.50                    26.95\n",
              "69                45.60                    44.27\n",
              "70                38.00                    74.50\n",
              "71                  NaN                      NaN\n",
              "72                10.62                    37.28\n",
              "73                22.60                    37.49\n",
              "74                10.00                    46.72\n",
              "75                  NaN                    30.00\n",
              "76                50.34                    46.15\n",
              "77                42.00                    80.00\n",
              "78                50.25                    50.40\n",
              "79                  NaN                   108.33\n",
              "80                12.50                    25.77\n",
              "81                 7.50                    34.68\n",
              "82                21.70                    37.60\n",
              "83                19.43                    37.37\n",
              "84                  NaN                      NaN\n",
              "85                22.00                    64.07\n",
              "86                 8.71                    40.39\n",
              "87                 3.00                    33.33\n",
              "\n",
              "[88 rows x 2 columns]"
            ]
          },
          "metadata": {
            "tags": []
          },
          "execution_count": 19
        }
      ]
    },
    {
      "cell_type": "code",
      "metadata": {
        "id": "Pa7ptw6F3iQL",
        "colab_type": "code",
        "colab": {
          "base_uri": "https://localhost:8080/",
          "height": 1000
        },
        "outputId": "c7c95963-6572-4535-ece2-67aed700faae"
      },
      "source": [
        "data_with_imputed_values"
      ],
      "execution_count": 20,
      "outputs": [
        {
          "output_type": "execute_result",
          "data": {
            "text/plain": [
              "array([[ 23.75      ,  77.86      ],\n",
              "       [ 32.55      ,  50.5       ],\n",
              "       [ 18.55582278,  47.16506024],\n",
              "       [ 20.75      ,  51.71      ],\n",
              "       [ 34.5       ,  43.94      ],\n",
              "       [ 38.33      ,  37.19      ],\n",
              "       [ 16.11      ,  38.97      ],\n",
              "       [ 24.5       ,  35.        ],\n",
              "       [  7.        ,  26.92      ],\n",
              "       [ 19.3       ,  36.32      ],\n",
              "       [ 18.55582278,  25.        ],\n",
              "       [ 19.        ,  73.07      ],\n",
              "       [ 36.        ,  60.        ],\n",
              "       [ 18.55582278,  47.16506024],\n",
              "       [ 27.        , 100.        ],\n",
              "       [ 25.85      ,  45.49      ],\n",
              "       [ 39.33      ,  38.56      ],\n",
              "       [ 12.5       ,  59.52      ],\n",
              "       [ 23.25      ,  98.93      ],\n",
              "       [ 18.55582278,  50.        ],\n",
              "       [  3.5       ,  24.13      ],\n",
              "       [ 32.33      ,  75.78      ],\n",
              "       [ 28.1       ,  37.76      ],\n",
              "       [  7.        ,  21.87      ],\n",
              "       [ 38.5       ,  58.33      ],\n",
              "       [ 26.25      ,  39.56      ],\n",
              "       [  3.        ,  66.66      ],\n",
              "       [ 19.        ,  50.        ],\n",
              "       [ 18.83      ,  53.8       ],\n",
              "       [ 13.31      ,  42.68      ],\n",
              "       [  5.29      ,  37.97      ],\n",
              "       [ 10.25      ,  61.19      ],\n",
              "       [  4.        ,  28.57      ],\n",
              "       [  6.8       ,  28.57      ],\n",
              "       [  1.33      ,  15.38      ],\n",
              "       [ 24.        ,  27.9       ],\n",
              "       [  7.66      ,  31.94      ],\n",
              "       [  9.        ,  69.23      ],\n",
              "       [ 11.        , 100.        ],\n",
              "       [ 17.84      ,  47.67      ],\n",
              "       [ 33.71      ,  34.7       ],\n",
              "       [ 10.46      ,  33.49      ],\n",
              "       [  4.6       ,  34.3       ],\n",
              "       [ 18.55582278,  47.16506024],\n",
              "       [  1.        ,   7.69      ],\n",
              "       [  7.25      ,  38.66      ],\n",
              "       [ 28.22      ,  47.92      ],\n",
              "       [  4.5       ,  81.81      ],\n",
              "       [ 45.32      ,  54.27      ],\n",
              "       [ 23.5       ,  45.19      ],\n",
              "       [ 21.2       ,  44.91      ],\n",
              "       [  5.4       ,  33.33      ],\n",
              "       [  8.58      ,  39.67      ],\n",
              "       [ 11.66      ,  42.68      ],\n",
              "       [  3.        ,  60.        ],\n",
              "       [  7.        ,  58.33      ],\n",
              "       [ 28.5       ,  44.07      ],\n",
              "       [ 32.75      ,  70.81      ],\n",
              "       [ 37.62      ,  67.03      ],\n",
              "       [  7.        ,  71.42      ],\n",
              "       [  0.        ,   0.        ],\n",
              "       [ 11.07      ,  32.7       ],\n",
              "       [  0.        ,   0.        ],\n",
              "       [ 33.88      ,  39.27      ],\n",
              "       [ 15.        ,  57.69      ],\n",
              "       [ 12.        ,  70.58      ],\n",
              "       [  3.        ,  54.54      ],\n",
              "       [  9.23      ,  26.37      ],\n",
              "       [  9.5       ,  26.95      ],\n",
              "       [ 45.6       ,  44.27      ],\n",
              "       [ 38.        ,  74.5       ],\n",
              "       [ 18.55582278,  47.16506024],\n",
              "       [ 10.62      ,  37.28      ],\n",
              "       [ 22.6       ,  37.49      ],\n",
              "       [ 10.        ,  46.72      ],\n",
              "       [ 18.55582278,  30.        ],\n",
              "       [ 50.34      ,  46.15      ],\n",
              "       [ 42.        ,  80.        ],\n",
              "       [ 50.25      ,  50.4       ],\n",
              "       [ 18.55582278, 108.33      ],\n",
              "       [ 12.5       ,  25.77      ],\n",
              "       [  7.5       ,  34.68      ],\n",
              "       [ 21.7       ,  37.6       ],\n",
              "       [ 19.43      ,  37.37      ],\n",
              "       [ 18.55582278,  47.16506024],\n",
              "       [ 22.        ,  64.07      ],\n",
              "       [  8.71      ,  40.39      ],\n",
              "       [  3.        ,  33.33      ]])"
            ]
          },
          "metadata": {
            "tags": []
          },
          "execution_count": 20
        }
      ]
    },
    {
      "cell_type": "markdown",
      "metadata": {
        "id": "PXa0p4173iQP",
        "colab_type": "text"
      },
      "source": [
        "# Assignment: Predicting Missing values"
      ]
    },
    {
      "cell_type": "markdown",
      "metadata": {
        "id": "YU75hwlt3iQQ",
        "colab_type": "text"
      },
      "source": [
        "KNN is an algorithm that is useful for matching a point with its closest k neighbors in a multi-dimensional space. It can be used for data that are continuous, discrete, ordinal and categorical which makes it particularly useful for dealing with all kind of missing data.\n",
        "\n",
        "The assumption behind using KNN for missing values is that a point value can be approximated by the values of the points that are closest to it, based on other variables.\n",
        "\n",
        "https://towardsdatascience.com/the-use-of-knn-for-missing-values-cf33d935c637"
      ]
    },
    {
      "cell_type": "code",
      "metadata": {
        "id": "dktddXuF3iQQ",
        "colab_type": "code",
        "colab": {}
      },
      "source": [
        "# Assignment: Use KNN Impute library to fill up the missing data from data/scrapped_data_large.csv\n",
        "\n",
        "import knnimpute"
      ],
      "execution_count": 0,
      "outputs": []
    },
    {
      "cell_type": "markdown",
      "metadata": {
        "id": "Fph9pb6b3iQT",
        "colab_type": "text"
      },
      "source": [
        "### missForest"
      ]
    },
    {
      "cell_type": "markdown",
      "metadata": {
        "id": "NCFOyQwe3iQU",
        "colab_type": "text"
      },
      "source": [
        "Nonparametric Missing Value Imputation Using Random Forest\n",
        "'missForest' is used to impute missing values particularly in the case of mixed-type data. It can be used to impute continuous and/or categorical data including complex interactions and nonlinear relations."
      ]
    },
    {
      "cell_type": "markdown",
      "metadata": {
        "id": "4Q55Kqpw3iQV",
        "colab_type": "text"
      },
      "source": [
        "## Noisy data removal"
      ]
    },
    {
      "cell_type": "code",
      "metadata": {
        "id": "2J9xE8Tg3iQV",
        "colab_type": "code",
        "colab": {}
      },
      "source": [
        "import re\n",
        "def clean_data(s):\n",
        "    s = s.replace('u', '')\n",
        "    s = s.replace('\\'', '')\n",
        "    s = s.upper()\n",
        "    s = s.replace(',', ' ')\n",
        "    s = s.replace('[', '')\n",
        "    s = s.replace(']', '')\n",
        "    # Isolate punctuation\n",
        "    s = re.sub(r'([\\'\\\"\\.\\(\\)\\!\\?\\-\\\\\\/\\,\\$%])', r' \\1 ', s)\n",
        "    # Remove some special characters\n",
        "    s = re.sub(r'([\\;\\:\\|\"Â«\\n])', ' ', s)\n",
        "    return s"
      ],
      "execution_count": 0,
      "outputs": []
    },
    {
      "cell_type": "code",
      "metadata": {
        "id": "teN31AB83iQX",
        "colab_type": "code",
        "colab": {
          "base_uri": "https://localhost:8080/",
          "height": 357
        },
        "outputId": "7c23d68d-3b6d-4dcb-e9b6-df8370094359"
      },
      "source": [
        "import re\n",
        "dataCopyNoisyData = dataCopy.copy()\n",
        "dataCopyNoisyData['born_new'] = dataCopyNoisyData['born'].apply(clean_data)\n",
        "dataCopyNoisyData.head()"
      ],
      "execution_count": 23,
      "outputs": [
        {
          "output_type": "execute_result",
          "data": {
            "text/html": [
              "<div>\n",
              "<style scoped>\n",
              "    .dataframe tbody tr th:only-of-type {\n",
              "        vertical-align: middle;\n",
              "    }\n",
              "\n",
              "    .dataframe tbody tr th {\n",
              "        vertical-align: top;\n",
              "    }\n",
              "\n",
              "    .dataframe thead th {\n",
              "        text-align: right;\n",
              "    }\n",
              "</style>\n",
              "<table border=\"1\" class=\"dataframe\">\n",
              "  <thead>\n",
              "    <tr style=\"text-align: right;\">\n",
              "      <th></th>\n",
              "      <th>name</th>\n",
              "      <th>url</th>\n",
              "      <th>born</th>\n",
              "      <th>teams</th>\n",
              "      <th>first_class.average</th>\n",
              "      <th>first_class.balls_faced</th>\n",
              "      <th>first_class.boundaries</th>\n",
              "      <th>first_class.catches_taken</th>\n",
              "      <th>first_class.fifties</th>\n",
              "      <th>first_class.highest</th>\n",
              "      <th>first_class.hundreds</th>\n",
              "      <th>first_class.inns</th>\n",
              "      <th>first_class.matches</th>\n",
              "      <th>first_class.not_outs</th>\n",
              "      <th>first_class.runs</th>\n",
              "      <th>first_class.sixes</th>\n",
              "      <th>first_class.strike_rate</th>\n",
              "      <th>first_class.stumps</th>\n",
              "      <th>born_new</th>\n",
              "    </tr>\n",
              "  </thead>\n",
              "  <tbody>\n",
              "    <tr>\n",
              "      <th>0</th>\n",
              "      <td>Abhisek Banerjee</td>\n",
              "      <td>http://www.espncricinfo.com/ci/content/player/...</td>\n",
              "      <td>May 18, 1984, Durgapur</td>\n",
              "      <td>Bengal,</td>\n",
              "      <td>23.75</td>\n",
              "      <td>122</td>\n",
              "      <td>14</td>\n",
              "      <td>2</td>\n",
              "      <td>1</td>\n",
              "      <td>68</td>\n",
              "      <td>0</td>\n",
              "      <td>4</td>\n",
              "      <td>4</td>\n",
              "      <td>0</td>\n",
              "      <td>95</td>\n",
              "      <td>0</td>\n",
              "      <td>77.86</td>\n",
              "      <td>0</td>\n",
              "      <td>MAY 18  1984  DRGAPR</td>\n",
              "    </tr>\n",
              "    <tr>\n",
              "      <th>1</th>\n",
              "      <td>Reagan Pinto</td>\n",
              "      <td>http://www.espncricinfo.com/ci/content/player/...</td>\n",
              "      <td>September 21, 1991, Bombay (now Mumbai), Mahar...</td>\n",
              "      <td>Goa</td>\n",
              "      <td>32.55</td>\n",
              "      <td>2772</td>\n",
              "      <td>159</td>\n",
              "      <td>11</td>\n",
              "      <td>7</td>\n",
              "      <td>154</td>\n",
              "      <td>3</td>\n",
              "      <td>47</td>\n",
              "      <td>31</td>\n",
              "      <td>4</td>\n",
              "      <td>1400</td>\n",
              "      <td>10</td>\n",
              "      <td>50.50</td>\n",
              "      <td>0</td>\n",
              "      <td>SEPTEMBER 21  1991  BOMBAY  ( NOW MMBAI )   MA...</td>\n",
              "    </tr>\n",
              "    <tr>\n",
              "      <th>2</th>\n",
              "      <td>Anupam Patel</td>\n",
              "      <td>http://www.espncricinfo.com/ci/content/player/...</td>\n",
              "      <td>May 1, 1985, Jamshedpur, Bihar</td>\n",
              "      <td>Gujarat</td>\n",
              "      <td>NaN</td>\n",
              "      <td>0</td>\n",
              "      <td>0</td>\n",
              "      <td>0</td>\n",
              "      <td>0</td>\n",
              "      <td>0*</td>\n",
              "      <td>0</td>\n",
              "      <td>1</td>\n",
              "      <td>2</td>\n",
              "      <td>1</td>\n",
              "      <td>0</td>\n",
              "      <td>0</td>\n",
              "      <td>NaN</td>\n",
              "      <td>0</td>\n",
              "      <td>MAY 1  1985  JAMSHEDPR  BIHAR</td>\n",
              "    </tr>\n",
              "    <tr>\n",
              "      <th>3</th>\n",
              "      <td>Utkarsh Patel</td>\n",
              "      <td>http://www.espncricinfo.com/ci/content/player/...</td>\n",
              "      <td>October 11, 1987, Paradi, Gujarat</td>\n",
              "      <td>Baroda</td>\n",
              "      <td>20.75</td>\n",
              "      <td>321</td>\n",
              "      <td>21</td>\n",
              "      <td>3</td>\n",
              "      <td>1</td>\n",
              "      <td>53</td>\n",
              "      <td>0</td>\n",
              "      <td>10</td>\n",
              "      <td>7</td>\n",
              "      <td>2</td>\n",
              "      <td>166</td>\n",
              "      <td>2</td>\n",
              "      <td>51.71</td>\n",
              "      <td>0</td>\n",
              "      <td>OCTOBER 11  1987  PARADI  GJARAT</td>\n",
              "    </tr>\n",
              "    <tr>\n",
              "      <th>4</th>\n",
              "      <td>Penta Rao</td>\n",
              "      <td>http://www.espncricinfo.com/ci/content/player/...</td>\n",
              "      <td>May 10, 1985, Vishakapatnam</td>\n",
              "      <td>Services</td>\n",
              "      <td>34.50</td>\n",
              "      <td>314</td>\n",
              "      <td>14</td>\n",
              "      <td>0</td>\n",
              "      <td>1</td>\n",
              "      <td>89</td>\n",
              "      <td>0</td>\n",
              "      <td>5</td>\n",
              "      <td>3</td>\n",
              "      <td>1</td>\n",
              "      <td>138</td>\n",
              "      <td>0</td>\n",
              "      <td>43.94</td>\n",
              "      <td>0</td>\n",
              "      <td>MAY 10  1985  VISHAKAPATNAM</td>\n",
              "    </tr>\n",
              "  </tbody>\n",
              "</table>\n",
              "</div>"
            ],
            "text/plain": [
              "               name  ...                                           born_new\n",
              "0  Abhisek Banerjee  ...                              MAY 18  1984  DRGAPR \n",
              "1      Reagan Pinto  ...  SEPTEMBER 21  1991  BOMBAY  ( NOW MMBAI )   MA...\n",
              "2      Anupam Patel  ...                     MAY 1  1985  JAMSHEDPR  BIHAR \n",
              "3     Utkarsh Patel  ...                  OCTOBER 11  1987  PARADI  GJARAT \n",
              "4         Penta Rao  ...                       MAY 10  1985  VISHAKAPATNAM \n",
              "\n",
              "[5 rows x 19 columns]"
            ]
          },
          "metadata": {
            "tags": []
          },
          "execution_count": 23
        }
      ]
    },
    {
      "cell_type": "code",
      "metadata": {
        "id": "ign2Qdon3iQZ",
        "colab_type": "code",
        "colab": {
          "base_uri": "https://localhost:8080/",
          "height": 357
        },
        "outputId": "666ca017-a6e9-41e7-f8de-8ef1ba4881d4"
      },
      "source": [
        "dataCopy.head()"
      ],
      "execution_count": 24,
      "outputs": [
        {
          "output_type": "execute_result",
          "data": {
            "text/html": [
              "<div>\n",
              "<style scoped>\n",
              "    .dataframe tbody tr th:only-of-type {\n",
              "        vertical-align: middle;\n",
              "    }\n",
              "\n",
              "    .dataframe tbody tr th {\n",
              "        vertical-align: top;\n",
              "    }\n",
              "\n",
              "    .dataframe thead th {\n",
              "        text-align: right;\n",
              "    }\n",
              "</style>\n",
              "<table border=\"1\" class=\"dataframe\">\n",
              "  <thead>\n",
              "    <tr style=\"text-align: right;\">\n",
              "      <th></th>\n",
              "      <th>name</th>\n",
              "      <th>url</th>\n",
              "      <th>born</th>\n",
              "      <th>teams</th>\n",
              "      <th>first_class.average</th>\n",
              "      <th>first_class.balls_faced</th>\n",
              "      <th>first_class.boundaries</th>\n",
              "      <th>first_class.catches_taken</th>\n",
              "      <th>first_class.fifties</th>\n",
              "      <th>first_class.highest</th>\n",
              "      <th>first_class.hundreds</th>\n",
              "      <th>first_class.inns</th>\n",
              "      <th>first_class.matches</th>\n",
              "      <th>first_class.not_outs</th>\n",
              "      <th>first_class.runs</th>\n",
              "      <th>first_class.sixes</th>\n",
              "      <th>first_class.strike_rate</th>\n",
              "      <th>first_class.stumps</th>\n",
              "    </tr>\n",
              "  </thead>\n",
              "  <tbody>\n",
              "    <tr>\n",
              "      <th>0</th>\n",
              "      <td>Abhisek Banerjee</td>\n",
              "      <td>http://www.espncricinfo.com/ci/content/player/...</td>\n",
              "      <td>May 18, 1984, Durgapur</td>\n",
              "      <td>Bengal,</td>\n",
              "      <td>23.75</td>\n",
              "      <td>122</td>\n",
              "      <td>14</td>\n",
              "      <td>2</td>\n",
              "      <td>1</td>\n",
              "      <td>68</td>\n",
              "      <td>0</td>\n",
              "      <td>4</td>\n",
              "      <td>4</td>\n",
              "      <td>0</td>\n",
              "      <td>95</td>\n",
              "      <td>0</td>\n",
              "      <td>77.86</td>\n",
              "      <td>0</td>\n",
              "    </tr>\n",
              "    <tr>\n",
              "      <th>1</th>\n",
              "      <td>Reagan Pinto</td>\n",
              "      <td>http://www.espncricinfo.com/ci/content/player/...</td>\n",
              "      <td>September 21, 1991, Bombay (now Mumbai), Mahar...</td>\n",
              "      <td>Goa</td>\n",
              "      <td>32.55</td>\n",
              "      <td>2772</td>\n",
              "      <td>159</td>\n",
              "      <td>11</td>\n",
              "      <td>7</td>\n",
              "      <td>154</td>\n",
              "      <td>3</td>\n",
              "      <td>47</td>\n",
              "      <td>31</td>\n",
              "      <td>4</td>\n",
              "      <td>1400</td>\n",
              "      <td>10</td>\n",
              "      <td>50.50</td>\n",
              "      <td>0</td>\n",
              "    </tr>\n",
              "    <tr>\n",
              "      <th>2</th>\n",
              "      <td>Anupam Patel</td>\n",
              "      <td>http://www.espncricinfo.com/ci/content/player/...</td>\n",
              "      <td>May 1, 1985, Jamshedpur, Bihar</td>\n",
              "      <td>Gujarat</td>\n",
              "      <td>NaN</td>\n",
              "      <td>0</td>\n",
              "      <td>0</td>\n",
              "      <td>0</td>\n",
              "      <td>0</td>\n",
              "      <td>0*</td>\n",
              "      <td>0</td>\n",
              "      <td>1</td>\n",
              "      <td>2</td>\n",
              "      <td>1</td>\n",
              "      <td>0</td>\n",
              "      <td>0</td>\n",
              "      <td>NaN</td>\n",
              "      <td>0</td>\n",
              "    </tr>\n",
              "    <tr>\n",
              "      <th>3</th>\n",
              "      <td>Utkarsh Patel</td>\n",
              "      <td>http://www.espncricinfo.com/ci/content/player/...</td>\n",
              "      <td>October 11, 1987, Paradi, Gujarat</td>\n",
              "      <td>Baroda</td>\n",
              "      <td>20.75</td>\n",
              "      <td>321</td>\n",
              "      <td>21</td>\n",
              "      <td>3</td>\n",
              "      <td>1</td>\n",
              "      <td>53</td>\n",
              "      <td>0</td>\n",
              "      <td>10</td>\n",
              "      <td>7</td>\n",
              "      <td>2</td>\n",
              "      <td>166</td>\n",
              "      <td>2</td>\n",
              "      <td>51.71</td>\n",
              "      <td>0</td>\n",
              "    </tr>\n",
              "    <tr>\n",
              "      <th>4</th>\n",
              "      <td>Penta Rao</td>\n",
              "      <td>http://www.espncricinfo.com/ci/content/player/...</td>\n",
              "      <td>May 10, 1985, Vishakapatnam</td>\n",
              "      <td>Services</td>\n",
              "      <td>34.50</td>\n",
              "      <td>314</td>\n",
              "      <td>14</td>\n",
              "      <td>0</td>\n",
              "      <td>1</td>\n",
              "      <td>89</td>\n",
              "      <td>0</td>\n",
              "      <td>5</td>\n",
              "      <td>3</td>\n",
              "      <td>1</td>\n",
              "      <td>138</td>\n",
              "      <td>0</td>\n",
              "      <td>43.94</td>\n",
              "      <td>0</td>\n",
              "    </tr>\n",
              "  </tbody>\n",
              "</table>\n",
              "</div>"
            ],
            "text/plain": [
              "               name  ... first_class.stumps\n",
              "0  Abhisek Banerjee  ...                  0\n",
              "1      Reagan Pinto  ...                  0\n",
              "2      Anupam Patel  ...                  0\n",
              "3     Utkarsh Patel  ...                  0\n",
              "4         Penta Rao  ...                  0\n",
              "\n",
              "[5 rows x 18 columns]"
            ]
          },
          "metadata": {
            "tags": []
          },
          "execution_count": 24
        }
      ]
    },
    {
      "cell_type": "markdown",
      "metadata": {
        "id": "4GuBUBZE3iQb",
        "colab_type": "text"
      },
      "source": [
        "# Inconsistent data removal"
      ]
    },
    {
      "cell_type": "markdown",
      "metadata": {
        "id": "WERQuzWh3iQb",
        "colab_type": "text"
      },
      "source": [
        "### Use fuzzy matching to correct inconsistent data entry"
      ]
    },
    {
      "cell_type": "code",
      "metadata": {
        "id": "nc9G1QsQ5d3l",
        "colab_type": "code",
        "colab": {
          "base_uri": "https://localhost:8080/",
          "height": 102
        },
        "outputId": "9dfc6431-820b-45ea-aef8-576f38404fc4"
      },
      "source": [
        "!pip install fuzzywuzzy"
      ],
      "execution_count": 26,
      "outputs": [
        {
          "output_type": "stream",
          "text": [
            "Collecting fuzzywuzzy\n",
            "  Downloading https://files.pythonhosted.org/packages/d8/f1/5a267addb30ab7eaa1beab2b9323073815da4551076554ecc890a3595ec9/fuzzywuzzy-0.17.0-py2.py3-none-any.whl\n",
            "Installing collected packages: fuzzywuzzy\n",
            "Successfully installed fuzzywuzzy-0.17.0\n"
          ],
          "name": "stdout"
        }
      ]
    },
    {
      "cell_type": "markdown",
      "metadata": {
        "id": "mL_M-pYe3iQc",
        "colab_type": "text"
      },
      "source": [
        "I'm going to use the fuzzywuzzy package to help identify which string are closest to each other. This dataset is small enough that we could probably could correct errors by hand, but that approach doesn't scale well. (Would you want to correct a thousand errors by hand? What about ten thousand? Automating things as early as possible is generally a good idea. Plus, it’s fun! :)\n",
        "\n",
        "Fuzzy matching: The process of automatically finding text strings that are very similar to the target string. In general, a string is considered \"closer\" to another one the fewer characters you'd need to change if you were transforming one string into another. So \"apple\" and \"snapple\" are two changes away from each other (add \"s\" and \"n\") while \"in\" and \"on\" and one change away (rplace \"i\" with \"o\"). You won't always be able to rely on fuzzy matching 100%, but it will usually end up saving you at least a little time.\n",
        "\n",
        "Fuzzywuzzy returns a ratio given two strings. The closer the ratio is to 100, the smaller the edit distance between the two strings. "
      ]
    },
    {
      "cell_type": "code",
      "metadata": {
        "id": "ko84itd83iQd",
        "colab_type": "code",
        "colab": {
          "base_uri": "https://localhost:8080/",
          "height": 163
        },
        "outputId": "ba9f3b45-5e39-4108-b40d-327eef1abd62"
      },
      "source": [
        "# fuzz is used to compare TWO strings\n",
        "from fuzzywuzzy import fuzz\n",
        "\n",
        "# process is used to compare a string to MULTIPLE other strings\n",
        "from fuzzywuzzy import process\n",
        "\n",
        "#fuzz.ratio compares the entire string, in order\n",
        "print(fuzz.ratio(\"this is a test\", \"this is a fun\"))\n",
        "#fuzz.partial_ratio compares subsections of the string\n",
        "print(fuzz.partial_ratio(\"this is a test\", \"test a is this\"))\n",
        "#fuzz.token_sort_ratio ignores word order\n",
        "print(fuzz.token_sort_ratio(\"fuzzy wuzzy was a bear\", \"wuzzy fuzzy was a bear\"))\n",
        "print(fuzz.token_sort_ratio(\"fuzzy was a bear\", \"fuzzy fuzzy was a bear\"))\n",
        "#fuzz.token_set_ratio ignores duplicate words\n",
        "print(fuzz.token_set_ratio(\"fuzzy was a bear\", \"fuzzy fuzzy was a bear\"))"
      ],
      "execution_count": 27,
      "outputs": [
        {
          "output_type": "stream",
          "text": [
            "74\n",
            "44\n",
            "100\n",
            "84\n",
            "100\n"
          ],
          "name": "stdout"
        },
        {
          "output_type": "stream",
          "text": [
            "/usr/local/lib/python3.6/dist-packages/fuzzywuzzy/fuzz.py:11: UserWarning:\n",
            "\n",
            "Using slow pure-python SequenceMatcher. Install python-Levenshtein to remove this warning\n",
            "\n"
          ],
          "name": "stderr"
        }
      ]
    },
    {
      "cell_type": "code",
      "metadata": {
        "id": "oLS9_CEo3iQf",
        "colab_type": "code",
        "colab": {}
      },
      "source": [
        "print(fuzz.token_sort_ratio(\"this is a test\", \"test a is this\"))"
      ],
      "execution_count": 0,
      "outputs": []
    },
    {
      "cell_type": "code",
      "metadata": {
        "id": "fX-3bwgB3iQi",
        "colab_type": "code",
        "colab": {}
      },
      "source": [
        ""
      ],
      "execution_count": 0,
      "outputs": []
    }
  ]
}