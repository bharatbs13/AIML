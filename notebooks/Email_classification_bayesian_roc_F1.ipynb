{
  "nbformat": 4,
  "nbformat_minor": 0,
  "metadata": {
    "anaconda-cloud": {},
    "kernelspec": {
      "display_name": "Python 3",
      "language": "python",
      "name": "python3"
    },
    "language_info": {
      "codemirror_mode": {
        "name": "ipython",
        "version": 3
      },
      "file_extension": ".py",
      "mimetype": "text/x-python",
      "name": "python",
      "nbconvert_exporter": "python",
      "pygments_lexer": "ipython3",
      "version": "3.7.3"
    },
    "colab": {
      "name": "Email_classification_bayesian_roc_F1.ipynb",
      "provenance": [],
      "toc_visible": true
    }
  },
  "cells": [
    {
      "cell_type": "markdown",
      "metadata": {
        "id": "zRWDhatlyVyW",
        "colab_type": "text"
      },
      "source": [
        "## What we will do\n",
        "1. **Bayesian Classifier**\n",
        "    * Refresher of Bayesian theorem\n",
        "    * Build a hand-calculated Bayesian Filter\n",
        "    * Building a email spam filter from scratch using naive bayesian classifier\n",
        "    * Classifier performance\n",
        "    * Recode the same classifier using scikit-learn API"
      ]
    },
    {
      "cell_type": "markdown",
      "metadata": {
        "id": "iPwEBaJ4yVyY",
        "colab_type": "text"
      },
      "source": [
        "## Naive Baysian Classifier\n",
        "> It is a type of **probabilistic classifier** that computes **probabilities of each attribute of data belonging to each class** so that it can make prediction of **probability distribution of all classes**.\n",
        "\n",
        "### Why Naive\n",
        "> Due to the assumption that the data attributes are mutually independent. This may sound not completely correct **but it works!**"
      ]
    },
    {
      "cell_type": "markdown",
      "metadata": {
        "id": "PruBq-ZjyVyZ",
        "colab_type": "text"
      },
      "source": [
        "## Bayes Theorem \n",
        "Let A and B are two events. They can be for example, it will rain today, a person will catch a bus etc. Bayes theorem states that:\n",
        "\n",
        "$P(A|B) = P(B|A)P(A)/P(B)$"
      ]
    },
    {
      "cell_type": "markdown",
      "metadata": {
        "id": "pXPF4EQXyVya",
        "colab_type": "text"
      },
      "source": [
        "#### Let us have some fun !!\n",
        "In a factory producing integrated circuits, machine **A** produces **35%**, machine **B** produces **20%** and machine **C** produces **45%** of the products. The fraction of the defective product for machines **A, B and C are 1.5%, 1% and 2% respectively**. An integrated circuit produced by this factory was identified as defective. What are the probabilities that this integrated circuit was manufactured by machines A, B and C respectively?"
      ]
    },
    {
      "cell_type": "markdown",
      "metadata": {
        "id": "4RG0PuP_yVya",
        "colab_type": "text"
      },
      "source": [
        "Let's say the event of an integreated circuit being defective is termed as **D**\n",
        "\n",
        "From Bayes theorem, we get: \n",
        "> P(A|D) = P(D|A)P(A) /  P(D|A)P(A) + P(D|B)P(B) + P(D|C)P(C) = (0.015 \\* 0.35) / (0.015 \\* 0.35)+(0.01 \\* 0.20)+(0.02 \\* 0.45) = 0.323\n",
        "    \n",
        "> P(B|D) = P(D|B)P(B) / P(D|A)P(A) + P(D|B)P(B)+ P(D|C)P(C) = (0.01 \\* 0.20) / (0.015 \\* 0.35)+(0.01 \\* 0.20)+(0.02 \\* 0.45) = 0.123\n",
        "    \n",
        "> P(C|D) = P(D|C)P(C) / P(D|A)P(A) + P(D|B)P(B)+ P(D|C)P(C) = (0.02 \\* 0.45) / (0.015 \\* 0.35)+(0.01 \\* 0.20)+(0.02 \\* 0.45) = 0.554\n",
        "    \n",
        "So, the *probability* of a defective integrated circuit that was manufactured by machines *A, B and C* are **0.323, 0.123 and 0.554** respetively. \n",
        "    "
      ]
    },
    {
      "cell_type": "markdown",
      "metadata": {
        "id": "NPqi903AyVyb",
        "colab_type": "text"
      },
      "source": [
        "## Now, let us hand-calculate a bayesian filter\n",
        "### First, establish the conceptual building blocks \n",
        "Given a data sample *X* with *n* features, *X* represents a vector where *X* = (x*1*, x*2*, x*3*, ......., x*n*)\n",
        "\n",
        "The goal of naive bayes is to determine the probabilities that this sample belongs to *K* possible classes. If the classes are y*1*, y*2*, y*3*, ...., y*k*, where k = 1, 2, 3, ...., the goals of naive bayes is to determine \n",
        "> P(y*k*|*X*)\n",
        "\n",
        "So, applying bayes theorem, we get: \n",
        "> P(y*k*|*X*) = P(*X*|y*k*)P(y*k*) / P(*X*)\n",
        "\n",
        "P(y*k*) shows the class distribution and provides no other knoweldge of observed features. This is termed as **'Priori'**. The value of it can be *predetermined*, usually from a uniformly distributed manner where each class has an equal proability of occurance or it can be *learned* from examples.\n",
        "\n",
        "P(y*k*|*X*) provides extra knowledge based on observation and hence termed as **Posteriori**.\n",
        "\n",
        "P(*X*|y*k*) or, P(x*1*, x*2*, x*3*,.......x*n*|y*k*) is a joint distribution of *n* features given the sample belongs to class y*k*. It means how likely the features can co-exist and hence termed as **likelihood**.\n",
        "\n",
        "> The challenge here is that with large number of features, the calculation becomes very complex. This is where the *'naive'* assumptions comes to help. Because *'naive'* assumes that features can occur independtly, the joint conditional distribution of *n* events becomes joint product of individual conditional distributions. Which means:\n",
        "\n",
        "> P(*X*|y*k*) = P(x*1*|y*k*) * P(x*2*|y*k*) * P(x*3*|y*k*) * ......... * P(x*n*|y*k*)\n",
        "\n",
        "This can be efficiently learned from training samples.\n",
        "\n",
        "P(*X*) completely depends upon the distribution of features and are not specific to certain class. Hence, it is termed as **Evidence**. As a result, posterior is proportional to the prior and likelihood."
      ]
    },
    {
      "cell_type": "markdown",
      "metadata": {
        "id": "ZJ3uTC-4yVyc",
        "colab_type": "text"
      },
      "source": [
        "Now, let us take an example and apply bayesian filter.\n",
        "\n",
        "Given four emails (just a paper example), the following feature information has been extracted. Our job is to predict how likely a new email will be classified as spam.\n",
        "\n",
        "##### Training Data\n",
        "ID   | Terms in email | Is Spam  \n",
        "--- | --- | --- |\n",
        "1   | Click win prize | Yes \n",
        "2  | Click meeting setup meeting | No \n",
        "3  | Prize free prize | Yes  \n",
        "4  | Click prize free | Yes  \n",
        "\n",
        "\n",
        "##### Test Data\n",
        "ID   | Terms in email | Is Spam  \n",
        "--- | --- | --- |\n",
        "5   | Free setup meeting free | ? "
      ]
    },
    {
      "cell_type": "markdown",
      "metadata": {
        "id": "GPMKfF6ryVyd",
        "colab_type": "text"
      },
      "source": [
        "Let us define,\n",
        "> **S** = Event that denotes email is spam\n",
        "\n",
        "> **NS** = Event that denotes email is ham\n",
        "\n",
        "Therefore, \n",
        "> P(S) = 3/4\n",
        "\n",
        "> P(NS) = 1/4\n",
        "\n",
        "Now, we have to calculate, \n",
        "> P(S|X), where, X = ('free','setup', 'meeting')\n",
        "\n",
        "To do that, we have to compute:\n",
        "> P(free|S), P(setup|S), P(meeting|S)\n",
        "\n",
        "That is ratio of of occurance of a term to total number of terms in that class.\n",
        "\n",
        "However, the term 'free' does not appear once in class NS. So, the P(free|NS) will become **0**. And as a result, both P(*X*|NS) and P(NS|*X*) will become **0** and the classifier will wrongly classify a ham as a spam!\n",
        "\n",
        "To avoid such zero multiplication factor, each unseen term is intialized to a term frequency value of **1**, i.e. start counting term frequency from **1**. This method is known as *Laplace Smoothing*.\n",
        "\n",
        "Now let us calculate the following:\n",
        "> P(free|S) = (2 + 1) / (9 + 6) = 3 / 15\n",
        "\n",
        "> P(free|NS) = (0 + 1) / (4 + 6) = 1 / 10\n",
        "\n",
        "> P(setup|S) = (0 + 1) / (9 + 6) = 1 / 15\n",
        "\n",
        "> P(setup|NS) = (1 + 1) / (4 + 6) = 2 / 10 = 1 / 5\n",
        "\n",
        "> P(meeting|S) = (0 + 1) / (9 + 6) = 1 / 15\n",
        "\n",
        "> P(meeting|NS) = (2 + 1) / (4 + 6) = 3 / 10\n",
        "\n",
        "Therefore, the probability of a the test email falling in a class can be calculated by \n",
        "* extracting terms from the email\n",
        "* calculate the ratio of tje terms joint probability to fall under S or NS\n",
        "* calcuate the probability for each each class\n",
        "\n",
        "The test email has four terms: free, setup, meeting, free. Let us calculate:\n",
        "\n",
        "> P(S|*X*) / P(NS|*X*) = P(free|S)P(setup|S)P(meeting|S)P(free|S)P(S) / P(free|NS)P(setup|NS)P(meeting|NS)P(free|NS)P(NS)\n",
        "\n",
        "> = 8 / 9\n",
        "\n",
        "So, the probability of the test email being a spam is:\n",
        "> 8 / 8 + 9 = 8 / 17 = **47.1%**\n"
      ]
    },
    {
      "cell_type": "markdown",
      "metadata": {
        "id": "mCcoxL8jyVye",
        "colab_type": "text"
      },
      "source": [
        "### Implementing a Naive Bayes email spam filter\n",
        "Now, let us write code to implement a working bayesian filter for email spam filtering. We will use a real-life data set taken from Enron email dataset which is available for download at: http://aueb.gr/users/ion/data/enron-spam/preprocessed/enron1.tar.gz. \n",
        "\n",
        "The summary statistics of the data is as follows:\n",
        "\n",
        "#### Legitimate\n",
        "- Owner: farmer-d\n",
        "- Total number: 3672 emails\n",
        "- Date of first email: 1999-12-10\n",
        "- Date of last email: 2002-01-11\n",
        "- Similars deletion: No\n",
        "- Encoding: No\n",
        "\n",
        "#### Spam\n",
        "- Owner: GP\n",
        "- Total number: 1500 emails\n",
        "- Date of first email: 2003-12-18\n",
        "- Date of last email: 2005-09-06\n",
        "- Similars deletion: No\n",
        "- Encoding: No\n",
        "\n",
        "*Spam:Legitimate rate* = **1:3**\n",
        "*Total number of emails (legitimate + spam)*: **5975**"
      ]
    },
    {
      "cell_type": "markdown",
      "metadata": {
        "id": "aqJyk2_2yVyf",
        "colab_type": "text"
      },
      "source": [
        "We will build the filter in steps.\n",
        "\n",
        "** So, first let us see how the spam and ham emails look:**"
      ]
    },
    {
      "cell_type": "code",
      "metadata": {
        "id": "yAK2BJG41W5u",
        "colab_type": "code",
        "colab": {}
      },
      "source": [
        ""
      ],
      "execution_count": 0,
      "outputs": []
    },
    {
      "cell_type": "markdown",
      "metadata": {
        "id": "UUGTWKR83nj5",
        "colab_type": "text"
      },
      "source": [
        "### \n",
        "data is downloaded to google drive from http://aueb.gr/users/ion/data/enron-spam/preprocessed/enron1.tar.gz."
      ]
    },
    {
      "cell_type": "code",
      "metadata": {
        "id": "gDOYGYb34AMY",
        "colab_type": "code",
        "colab": {
          "base_uri": "https://localhost:8080/",
          "height": 33
        },
        "outputId": "27ee3c0c-e184-4010-cad0-285a02f156b0"
      },
      "source": [
        "from google.colab import drive\n",
        "drive.mount('/content/drive/')\n"
      ],
      "execution_count": 7,
      "outputs": [
        {
          "output_type": "stream",
          "text": [
            "Drive already mounted at /content/drive/; to attempt to forcibly remount, call drive.mount(\"/content/drive/\", force_remount=True).\n"
          ],
          "name": "stdout"
        }
      ]
    },
    {
      "cell_type": "code",
      "metadata": {
        "id": "sTD18L_j6vER",
        "colab_type": "code",
        "colab": {}
      },
      "source": [
        "base_dir = '/content/drive/My Drive/projects_data/enron1/'"
      ],
      "execution_count": 0,
      "outputs": []
    },
    {
      "cell_type": "code",
      "metadata": {
        "id": "Jp6-nuy5yVyf",
        "colab_type": "code",
        "colab": {
          "base_uri": "https://localhost:8080/",
          "height": 440
        },
        "outputId": "270cb556-fe1d-4ad3-ba72-5d47e4c5151e"
      },
      "source": [
        "\n",
        "ham_file_path = base_dir+'ham/0013.1999-12-14.farmer.ham.txt'\n",
        "print(ham_file_path)\n",
        "with open(ham_file_path, 'r') as in_file:\n",
        "    ham_sample = in_file.read()\n",
        "\n",
        "print(ham_sample)\n",
        "\n",
        "\n"
      ],
      "execution_count": 21,
      "outputs": [
        {
          "output_type": "stream",
          "text": [
            "/content/drive/My Drive/projects_data/enron1/ham/0013.1999-12-14.farmer.ham.txt\n",
            "Subject: entex transistion\n",
            "the purpose of the email is to recap the kickoff meeting held on yesterday\n",
            "with members from commercial and volume managment concernig the entex account :\n",
            "effective january 2000 , thu nguyen ( x 37159 ) in the volume managment group ,\n",
            "will take over the responsibility of allocating the entex contracts . howard\n",
            "and thu began some training this month and will continue to transition the\n",
            "account over the next few months . entex will be thu ' s primary account\n",
            "especially during these first few months as she learns the allocations\n",
            "process and the contracts .\n",
            "howard will continue with his lead responsibilites within the group and be\n",
            "available for questions or as a backup , if necessary ( thanks howard for all\n",
            "your hard work on the account this year ! ) .\n",
            "in the initial phases of this transistion , i would like to organize an entex\n",
            "\" account \" team . the team ( members from front office to back office ) would\n",
            "meet at some point in the month to discuss any issues relating to the\n",
            "scheduling , allocations , settlements , contracts , deals , etc . this hopefully\n",
            "will give each of you a chance to not only identify and resolve issues before\n",
            "the finalization process , but to learn from each other relative to your\n",
            "respective areas and allow the newcomers to get up to speed on the account as\n",
            "well . i would encourage everyone to attend these meetings initially as i\n",
            "believe this is a critical part to the success of the entex account .\n",
            "i will have my assistant to coordinate the initial meeting for early 1 / 2000 .\n",
            "if anyone has any questions or concerns , please feel free to call me or stop\n",
            "by . thanks in advance for everyone ' s cooperation . . . . . . . . . . .\n",
            "julie - please add thu to the confirmations distributions list\n"
          ],
          "name": "stdout"
        }
      ]
    },
    {
      "cell_type": "code",
      "metadata": {
        "id": "wxeeNWfgyVyk",
        "colab_type": "code",
        "colab": {
          "base_uri": "https://localhost:8080/",
          "height": 196
        },
        "outputId": "6a2029c4-cf73-446c-99c6-09e3731d5aeb"
      },
      "source": [
        "spam_file_path = base_dir+'spam/5143.2005-09-04.GP.spam.txt'\n",
        "\n",
        "with open(spam_file_path, 'r') as in_file:\n",
        "    spam_sample = in_file.read()\n",
        "\n",
        "print(spam_sample)"
      ],
      "execution_count": 22,
      "outputs": [
        {
          "output_type": "stream",
          "text": [
            "Subject: about celebration\n",
            "ready , decide eye , heard . once written son . vowel thank once\n",
            "song mother . far of but , depend large history . general floor\n",
            "differ differ , them letter . sky ball short . sharp feel better .\n",
            "people my man , most cold . help warm for . school trip , walk\n",
            "family dance rail always .\n",
            "- -\n",
            "phone : 579 - 879 - 6567\n",
            "mobile : 171 - 128 - 1758\n",
            "email : prunespurchasers @ verizon . net\n",
            "\n"
          ],
          "name": "stdout"
        }
      ]
    },
    {
      "cell_type": "markdown",
      "metadata": {
        "id": "87oSUTjmyVym",
        "colab_type": "text"
      },
      "source": [
        "**Now, we read all ham and spam data and store the label information in variables. A spam class is represented by 1 and a ham class is represented by 0**"
      ]
    },
    {
      "cell_type": "code",
      "metadata": {
        "id": "OZbFZPl1yVyn",
        "colab_type": "code",
        "colab": {
          "base_uri": "https://localhost:8080/",
          "height": 50
        },
        "outputId": "4f3a72ef-6c27-434a-9d2e-b49bb7a6bc77"
      },
      "source": [
        "import glob\n",
        "import os\n",
        "\n",
        "e_mails, labels = [], []\n",
        "\n",
        "spam_directory = base_dir+'spam'\n",
        "ham_directory = base_dir+'ham'\n",
        "\n",
        "for file_name in glob.glob(os.path.join(spam_directory, '*.txt')):\n",
        "    with open(file_name, 'r', encoding = 'ISO-8859-1') as in_file:\n",
        "        e_mails.append(in_file.read())\n",
        "        labels.append(1)\n",
        "        \n",
        "for file_name in glob.glob(os.path.join(ham_directory, '*.txt')):\n",
        "    with open(file_name, 'r', encoding = 'ISO-8859-1') as in_file:\n",
        "        e_mails.append(in_file.read())\n",
        "        labels.append(0)\n",
        "\n",
        "print(len(e_mails))\n",
        "print(len(labels))"
      ],
      "execution_count": 23,
      "outputs": [
        {
          "output_type": "stream",
          "text": [
            "5172\n",
            "5172\n"
          ],
          "name": "stdout"
        }
      ]
    },
    {
      "cell_type": "markdown",
      "metadata": {
        "id": "AX038I37yVyq",
        "colab_type": "text"
      },
      "source": [
        "**The next step is to preprocess email text. This will include:**\n",
        "* removal of numbers and punctuation\n",
        "* human name removal\n",
        "* stop words removal\n",
        "* lemmatization"
      ]
    },
    {
      "cell_type": "code",
      "metadata": {
        "id": "mSwGwrTPyVyu",
        "colab_type": "code",
        "colab": {}
      },
      "source": [
        "from sklearn.feature_extraction.text import CountVectorizer\n",
        "\n",
        "cv = CountVectorizer(stop_words='english', max_features=500)"
      ],
      "execution_count": 0,
      "outputs": []
    },
    {
      "cell_type": "code",
      "metadata": {
        "id": "vCyAg0a8yVyr",
        "colab_type": "code",
        "colab": {
          "base_uri": "https://localhost:8080/",
          "height": 862
        },
        "outputId": "699bea03-31e0-4608-d6f5-bff916ac8f6e"
      },
      "source": [
        "import nltk\n",
        "nltk.download(\"wordnet\")\n",
        "nltk.download(\"stopwords\")\n",
        "nltk.download(\"names\")\n",
        "from nltk.corpus import names\n",
        "from nltk.stem import WordNetLemmatizer\n",
        "\n",
        "\n",
        "# ********************************\n",
        "def is_letters_only(astr):\n",
        "    return astr.isalpha()\n",
        "\n",
        "all_names = set(names.words())\n",
        "lemmatizer = WordNetLemmatizer()\n",
        "\n",
        "# ********************************\n",
        "def clean_text(docs):\n",
        "    cleaned_docs = []\n",
        "    for doc in docs:\n",
        "        cleaned_docs.append(' '.join([lemmatizer.lemmatize(word.lower())\n",
        "                                        for word in doc.split()\n",
        "                                        if is_letters_only(word)\n",
        "                                        and word not in all_names]))\n",
        "    return cleaned_docs\n",
        "\n",
        "# ********************************\n",
        "cleaned_emails = clean_text(e_mails)\n",
        "term_docs = cv.fit_transform(cleaned_emails)\n",
        "print(term_docs [0])\n",
        "\n",
        "feature_mapping = cv.vocabulary\n",
        "feature_names = cv.get_feature_names()"
      ],
      "execution_count": 27,
      "outputs": [
        {
          "output_type": "stream",
          "text": [
            "[nltk_data] Downloading package wordnet to /root/nltk_data...\n",
            "[nltk_data]   Package wordnet is already up-to-date!\n",
            "[nltk_data] Downloading package stopwords to /root/nltk_data...\n",
            "[nltk_data]   Package stopwords is already up-to-date!\n",
            "[nltk_data] Downloading package names to /root/nltk_data...\n",
            "[nltk_data]   Package names is already up-to-date!\n",
            "  (0, 176)\t1\n",
            "  (0, 286)\t1\n",
            "  (0, 6)\t1\n",
            "  (0, 328)\t2\n",
            "  (0, 243)\t5\n",
            "  (0, 101)\t6\n",
            "  (0, 184)\t2\n",
            "  (0, 158)\t2\n",
            "  (0, 490)\t1\n",
            "  (0, 237)\t2\n",
            "  (0, 71)\t1\n",
            "  (0, 238)\t1\n",
            "  (0, 478)\t2\n",
            "  (0, 185)\t1\n",
            "  (0, 445)\t2\n",
            "  (0, 275)\t1\n",
            "  (0, 114)\t3\n",
            "  (0, 229)\t1\n",
            "  (0, 99)\t2\n",
            "  (0, 39)\t1\n",
            "  (0, 276)\t1\n",
            "  (0, 293)\t1\n",
            "  (0, 338)\t1\n",
            "  (0, 439)\t2\n",
            "  (0, 7)\t1\n",
            "  (0, 86)\t1\n",
            "  (0, 252)\t1\n",
            "  (0, 0)\t1\n",
            "  (0, 473)\t1\n",
            "  (0, 297)\t4\n",
            "  (0, 209)\t1\n",
            "  (0, 496)\t2\n",
            "  (0, 197)\t2\n",
            "  (0, 491)\t2\n",
            "  (0, 70)\t2\n",
            "  (0, 221)\t1\n",
            "  (0, 460)\t1\n",
            "  (0, 121)\t1\n",
            "  (0, 196)\t1\n",
            "  (0, 434)\t1\n",
            "  (0, 359)\t1\n",
            "  (0, 277)\t1\n",
            "  (0, 426)\t1\n",
            "  (0, 340)\t1\n",
            "  (0, 470)\t1\n",
            "  (0, 50)\t1\n"
          ],
          "name": "stdout"
        }
      ]
    },
    {
      "cell_type": "markdown",
      "metadata": {
        "id": "IITHblEsyVyt",
        "colab_type": "text"
      },
      "source": [
        "**Now, we need to remove stop words and extract important features which are term frequencies. The CountVectorizer class of sklearn library is used to do the work. Here we limit to extract 500 most frequent terms. However, we can tewak this parameter for tuning accuracy**"
      ]
    },
    {
      "cell_type": "markdown",
      "metadata": {
        "id": "WzW90AiFyVyx",
        "colab_type": "text"
      },
      "source": [
        "The vectorizer turns the document matrix into a term-document matrix where each row is a term frequency sparse vector in the form of *(row index, term index), value*"
      ]
    },
    {
      "cell_type": "code",
      "metadata": {
        "id": "iaoy2cf9yVyx",
        "colab_type": "code",
        "colab": {
          "base_uri": "https://localhost:8080/",
          "height": 781
        },
        "outputId": "2c2edc27-8542-42ea-c4f9-3b7222d7e446"
      },
      "source": [
        "term_docs = cv.fit_transform(cleaned_emails)\n",
        "\n",
        "print(term_docs.shape[0])\n",
        "print(term_docs[0])"
      ],
      "execution_count": 28,
      "outputs": [
        {
          "output_type": "stream",
          "text": [
            "5172\n",
            "  (0, 176)\t1\n",
            "  (0, 286)\t1\n",
            "  (0, 6)\t1\n",
            "  (0, 328)\t2\n",
            "  (0, 243)\t5\n",
            "  (0, 101)\t6\n",
            "  (0, 184)\t2\n",
            "  (0, 158)\t2\n",
            "  (0, 490)\t1\n",
            "  (0, 237)\t2\n",
            "  (0, 71)\t1\n",
            "  (0, 238)\t1\n",
            "  (0, 478)\t2\n",
            "  (0, 185)\t1\n",
            "  (0, 445)\t2\n",
            "  (0, 275)\t1\n",
            "  (0, 114)\t3\n",
            "  (0, 229)\t1\n",
            "  (0, 99)\t2\n",
            "  (0, 39)\t1\n",
            "  (0, 276)\t1\n",
            "  (0, 293)\t1\n",
            "  (0, 338)\t1\n",
            "  (0, 439)\t2\n",
            "  (0, 7)\t1\n",
            "  (0, 86)\t1\n",
            "  (0, 252)\t1\n",
            "  (0, 0)\t1\n",
            "  (0, 473)\t1\n",
            "  (0, 297)\t4\n",
            "  (0, 209)\t1\n",
            "  (0, 496)\t2\n",
            "  (0, 197)\t2\n",
            "  (0, 491)\t2\n",
            "  (0, 70)\t2\n",
            "  (0, 221)\t1\n",
            "  (0, 460)\t1\n",
            "  (0, 121)\t1\n",
            "  (0, 196)\t1\n",
            "  (0, 434)\t1\n",
            "  (0, 359)\t1\n",
            "  (0, 277)\t1\n",
            "  (0, 426)\t1\n",
            "  (0, 340)\t1\n",
            "  (0, 470)\t1\n",
            "  (0, 50)\t1\n"
          ],
          "name": "stdout"
        }
      ]
    },
    {
      "cell_type": "markdown",
      "metadata": {
        "id": "tJwsWI21yVy0",
        "colab_type": "text"
      },
      "source": [
        "We can see the corrosponding terms by using the following:"
      ]
    },
    {
      "cell_type": "code",
      "metadata": {
        "id": "bTLQp8N9yVy1",
        "colab_type": "code",
        "colab": {
          "base_uri": "https://localhost:8080/",
          "height": 66
        },
        "outputId": "c8c8bb9c-8042-4e73-ebe0-a5aa7d67fa7c"
      },
      "source": [
        "feature_names = cv.get_feature_names()\n",
        "\n",
        "print(feature_names[491])\n",
        "print(feature_names[197])\n",
        "print(feature_names[445])"
      ],
      "execution_count": 29,
      "outputs": [
        {
          "output_type": "stream",
          "text": [
            "www\n",
            "http\n",
            "time\n"
          ],
          "name": "stdout"
        }
      ]
    },
    {
      "cell_type": "markdown",
      "metadata": {
        "id": "u0kLBNqByVy3",
        "colab_type": "text"
      },
      "source": [
        "**With the feature matrix term_docs generated, we can now build and start training our bayes model.**\n",
        "* First we group the priori data by label\n",
        "\n",
        "This will group training sample indices by class"
      ]
    },
    {
      "cell_type": "code",
      "metadata": {
        "id": "JR8pP5toyVy4",
        "colab_type": "code",
        "colab": {
          "base_uri": "https://localhost:8080/",
          "height": 53
        },
        "outputId": "1b8b2357-4685-44da-fbb2-42d55ac545ba"
      },
      "source": [
        "from collections import defaultdict\n",
        "\n",
        "def get_label_index(labels):\n",
        "    label_index = defaultdict(list)\n",
        "    \n",
        "    for index, label in enumerate(labels):\n",
        "        label_index[label].append(index)\n",
        "    return label_index\n",
        "\n",
        "# ********************************\n",
        "label_index = get_label_index(labels)\n",
        "print(label_index)"
      ],
      "execution_count": 30,
      "outputs": [
        {
          "output_type": "stream",
          "text": [
            "defaultdict(<class 'list'>, {1: [0, 1, 2, 3, 4, 5, 6, 7, 8, 9, 10, 11, 12, 13, 14, 15, 16, 17, 18, 19, 20, 21, 22, 23, 24, 25, 26, 27, 28, 29, 30, 31, 32, 33, 34, 35, 36, 37, 38, 39, 40, 41, 42, 43, 44, 45, 46, 47, 48, 49, 50, 51, 52, 53, 54, 55, 56, 57, 58, 59, 60, 61, 62, 63, 64, 65, 66, 67, 68, 69, 70, 71, 72, 73, 74, 75, 76, 77, 78, 79, 80, 81, 82, 83, 84, 85, 86, 87, 88, 89, 90, 91, 92, 93, 94, 95, 96, 97, 98, 99, 100, 101, 102, 103, 104, 105, 106, 107, 108, 109, 110, 111, 112, 113, 114, 115, 116, 117, 118, 119, 120, 121, 122, 123, 124, 125, 126, 127, 128, 129, 130, 131, 132, 133, 134, 135, 136, 137, 138, 139, 140, 141, 142, 143, 144, 145, 146, 147, 148, 149, 150, 151, 152, 153, 154, 155, 156, 157, 158, 159, 160, 161, 162, 163, 164, 165, 166, 167, 168, 169, 170, 171, 172, 173, 174, 175, 176, 177, 178, 179, 180, 181, 182, 183, 184, 185, 186, 187, 188, 189, 190, 191, 192, 193, 194, 195, 196, 197, 198, 199, 200, 201, 202, 203, 204, 205, 206, 207, 208, 209, 210, 211, 212, 213, 214, 215, 216, 217, 218, 219, 220, 221, 222, 223, 224, 225, 226, 227, 228, 229, 230, 231, 232, 233, 234, 235, 236, 237, 238, 239, 240, 241, 242, 243, 244, 245, 246, 247, 248, 249, 250, 251, 252, 253, 254, 255, 256, 257, 258, 259, 260, 261, 262, 263, 264, 265, 266, 267, 268, 269, 270, 271, 272, 273, 274, 275, 276, 277, 278, 279, 280, 281, 282, 283, 284, 285, 286, 287, 288, 289, 290, 291, 292, 293, 294, 295, 296, 297, 298, 299, 300, 301, 302, 303, 304, 305, 306, 307, 308, 309, 310, 311, 312, 313, 314, 315, 316, 317, 318, 319, 320, 321, 322, 323, 324, 325, 326, 327, 328, 329, 330, 331, 332, 333, 334, 335, 336, 337, 338, 339, 340, 341, 342, 343, 344, 345, 346, 347, 348, 349, 350, 351, 352, 353, 354, 355, 356, 357, 358, 359, 360, 361, 362, 363, 364, 365, 366, 367, 368, 369, 370, 371, 372, 373, 374, 375, 376, 377, 378, 379, 380, 381, 382, 383, 384, 385, 386, 387, 388, 389, 390, 391, 392, 393, 394, 395, 396, 397, 398, 399, 400, 401, 402, 403, 404, 405, 406, 407, 408, 409, 410, 411, 412, 413, 414, 415, 416, 417, 418, 419, 420, 421, 422, 423, 424, 425, 426, 427, 428, 429, 430, 431, 432, 433, 434, 435, 436, 437, 438, 439, 440, 441, 442, 443, 444, 445, 446, 447, 448, 449, 450, 451, 452, 453, 454, 455, 456, 457, 458, 459, 460, 461, 462, 463, 464, 465, 466, 467, 468, 469, 470, 471, 472, 473, 474, 475, 476, 477, 478, 479, 480, 481, 482, 483, 484, 485, 486, 487, 488, 489, 490, 491, 492, 493, 494, 495, 496, 497, 498, 499, 500, 501, 502, 503, 504, 505, 506, 507, 508, 509, 510, 511, 512, 513, 514, 515, 516, 517, 518, 519, 520, 521, 522, 523, 524, 525, 526, 527, 528, 529, 530, 531, 532, 533, 534, 535, 536, 537, 538, 539, 540, 541, 542, 543, 544, 545, 546, 547, 548, 549, 550, 551, 552, 553, 554, 555, 556, 557, 558, 559, 560, 561, 562, 563, 564, 565, 566, 567, 568, 569, 570, 571, 572, 573, 574, 575, 576, 577, 578, 579, 580, 581, 582, 583, 584, 585, 586, 587, 588, 589, 590, 591, 592, 593, 594, 595, 596, 597, 598, 599, 600, 601, 602, 603, 604, 605, 606, 607, 608, 609, 610, 611, 612, 613, 614, 615, 616, 617, 618, 619, 620, 621, 622, 623, 624, 625, 626, 627, 628, 629, 630, 631, 632, 633, 634, 635, 636, 637, 638, 639, 640, 641, 642, 643, 644, 645, 646, 647, 648, 649, 650, 651, 652, 653, 654, 655, 656, 657, 658, 659, 660, 661, 662, 663, 664, 665, 666, 667, 668, 669, 670, 671, 672, 673, 674, 675, 676, 677, 678, 679, 680, 681, 682, 683, 684, 685, 686, 687, 688, 689, 690, 691, 692, 693, 694, 695, 696, 697, 698, 699, 700, 701, 702, 703, 704, 705, 706, 707, 708, 709, 710, 711, 712, 713, 714, 715, 716, 717, 718, 719, 720, 721, 722, 723, 724, 725, 726, 727, 728, 729, 730, 731, 732, 733, 734, 735, 736, 737, 738, 739, 740, 741, 742, 743, 744, 745, 746, 747, 748, 749, 750, 751, 752, 753, 754, 755, 756, 757, 758, 759, 760, 761, 762, 763, 764, 765, 766, 767, 768, 769, 770, 771, 772, 773, 774, 775, 776, 777, 778, 779, 780, 781, 782, 783, 784, 785, 786, 787, 788, 789, 790, 791, 792, 793, 794, 795, 796, 797, 798, 799, 800, 801, 802, 803, 804, 805, 806, 807, 808, 809, 810, 811, 812, 813, 814, 815, 816, 817, 818, 819, 820, 821, 822, 823, 824, 825, 826, 827, 828, 829, 830, 831, 832, 833, 834, 835, 836, 837, 838, 839, 840, 841, 842, 843, 844, 845, 846, 847, 848, 849, 850, 851, 852, 853, 854, 855, 856, 857, 858, 859, 860, 861, 862, 863, 864, 865, 866, 867, 868, 869, 870, 871, 872, 873, 874, 875, 876, 877, 878, 879, 880, 881, 882, 883, 884, 885, 886, 887, 888, 889, 890, 891, 892, 893, 894, 895, 896, 897, 898, 899, 900, 901, 902, 903, 904, 905, 906, 907, 908, 909, 910, 911, 912, 913, 914, 915, 916, 917, 918, 919, 920, 921, 922, 923, 924, 925, 926, 927, 928, 929, 930, 931, 932, 933, 934, 935, 936, 937, 938, 939, 940, 941, 942, 943, 944, 945, 946, 947, 948, 949, 950, 951, 952, 953, 954, 955, 956, 957, 958, 959, 960, 961, 962, 963, 964, 965, 966, 967, 968, 969, 970, 971, 972, 973, 974, 975, 976, 977, 978, 979, 980, 981, 982, 983, 984, 985, 986, 987, 988, 989, 990, 991, 992, 993, 994, 995, 996, 997, 998, 999, 1000, 1001, 1002, 1003, 1004, 1005, 1006, 1007, 1008, 1009, 1010, 1011, 1012, 1013, 1014, 1015, 1016, 1017, 1018, 1019, 1020, 1021, 1022, 1023, 1024, 1025, 1026, 1027, 1028, 1029, 1030, 1031, 1032, 1033, 1034, 1035, 1036, 1037, 1038, 1039, 1040, 1041, 1042, 1043, 1044, 1045, 1046, 1047, 1048, 1049, 1050, 1051, 1052, 1053, 1054, 1055, 1056, 1057, 1058, 1059, 1060, 1061, 1062, 1063, 1064, 1065, 1066, 1067, 1068, 1069, 1070, 1071, 1072, 1073, 1074, 1075, 1076, 1077, 1078, 1079, 1080, 1081, 1082, 1083, 1084, 1085, 1086, 1087, 1088, 1089, 1090, 1091, 1092, 1093, 1094, 1095, 1096, 1097, 1098, 1099, 1100, 1101, 1102, 1103, 1104, 1105, 1106, 1107, 1108, 1109, 1110, 1111, 1112, 1113, 1114, 1115, 1116, 1117, 1118, 1119, 1120, 1121, 1122, 1123, 1124, 1125, 1126, 1127, 1128, 1129, 1130, 1131, 1132, 1133, 1134, 1135, 1136, 1137, 1138, 1139, 1140, 1141, 1142, 1143, 1144, 1145, 1146, 1147, 1148, 1149, 1150, 1151, 1152, 1153, 1154, 1155, 1156, 1157, 1158, 1159, 1160, 1161, 1162, 1163, 1164, 1165, 1166, 1167, 1168, 1169, 1170, 1171, 1172, 1173, 1174, 1175, 1176, 1177, 1178, 1179, 1180, 1181, 1182, 1183, 1184, 1185, 1186, 1187, 1188, 1189, 1190, 1191, 1192, 1193, 1194, 1195, 1196, 1197, 1198, 1199, 1200, 1201, 1202, 1203, 1204, 1205, 1206, 1207, 1208, 1209, 1210, 1211, 1212, 1213, 1214, 1215, 1216, 1217, 1218, 1219, 1220, 1221, 1222, 1223, 1224, 1225, 1226, 1227, 1228, 1229, 1230, 1231, 1232, 1233, 1234, 1235, 1236, 1237, 1238, 1239, 1240, 1241, 1242, 1243, 1244, 1245, 1246, 1247, 1248, 1249, 1250, 1251, 1252, 1253, 1254, 1255, 1256, 1257, 1258, 1259, 1260, 1261, 1262, 1263, 1264, 1265, 1266, 1267, 1268, 1269, 1270, 1271, 1272, 1273, 1274, 1275, 1276, 1277, 1278, 1279, 1280, 1281, 1282, 1283, 1284, 1285, 1286, 1287, 1288, 1289, 1290, 1291, 1292, 1293, 1294, 1295, 1296, 1297, 1298, 1299, 1300, 1301, 1302, 1303, 1304, 1305, 1306, 1307, 1308, 1309, 1310, 1311, 1312, 1313, 1314, 1315, 1316, 1317, 1318, 1319, 1320, 1321, 1322, 1323, 1324, 1325, 1326, 1327, 1328, 1329, 1330, 1331, 1332, 1333, 1334, 1335, 1336, 1337, 1338, 1339, 1340, 1341, 1342, 1343, 1344, 1345, 1346, 1347, 1348, 1349, 1350, 1351, 1352, 1353, 1354, 1355, 1356, 1357, 1358, 1359, 1360, 1361, 1362, 1363, 1364, 1365, 1366, 1367, 1368, 1369, 1370, 1371, 1372, 1373, 1374, 1375, 1376, 1377, 1378, 1379, 1380, 1381, 1382, 1383, 1384, 1385, 1386, 1387, 1388, 1389, 1390, 1391, 1392, 1393, 1394, 1395, 1396, 1397, 1398, 1399, 1400, 1401, 1402, 1403, 1404, 1405, 1406, 1407, 1408, 1409, 1410, 1411, 1412, 1413, 1414, 1415, 1416, 1417, 1418, 1419, 1420, 1421, 1422, 1423, 1424, 1425, 1426, 1427, 1428, 1429, 1430, 1431, 1432, 1433, 1434, 1435, 1436, 1437, 1438, 1439, 1440, 1441, 1442, 1443, 1444, 1445, 1446, 1447, 1448, 1449, 1450, 1451, 1452, 1453, 1454, 1455, 1456, 1457, 1458, 1459, 1460, 1461, 1462, 1463, 1464, 1465, 1466, 1467, 1468, 1469, 1470, 1471, 1472, 1473, 1474, 1475, 1476, 1477, 1478, 1479, 1480, 1481, 1482, 1483, 1484, 1485, 1486, 1487, 1488, 1489, 1490, 1491, 1492, 1493, 1494, 1495, 1496, 1497, 1498, 1499], 0: [1500, 1501, 1502, 1503, 1504, 1505, 1506, 1507, 1508, 1509, 1510, 1511, 1512, 1513, 1514, 1515, 1516, 1517, 1518, 1519, 1520, 1521, 1522, 1523, 1524, 1525, 1526, 1527, 1528, 1529, 1530, 1531, 1532, 1533, 1534, 1535, 1536, 1537, 1538, 1539, 1540, 1541, 1542, 1543, 1544, 1545, 1546, 1547, 1548, 1549, 1550, 1551, 1552, 1553, 1554, 1555, 1556, 1557, 1558, 1559, 1560, 1561, 1562, 1563, 1564, 1565, 1566, 1567, 1568, 1569, 1570, 1571, 1572, 1573, 1574, 1575, 1576, 1577, 1578, 1579, 1580, 1581, 1582, 1583, 1584, 1585, 1586, 1587, 1588, 1589, 1590, 1591, 1592, 1593, 1594, 1595, 1596, 1597, 1598, 1599, 1600, 1601, 1602, 1603, 1604, 1605, 1606, 1607, 1608, 1609, 1610, 1611, 1612, 1613, 1614, 1615, 1616, 1617, 1618, 1619, 1620, 1621, 1622, 1623, 1624, 1625, 1626, 1627, 1628, 1629, 1630, 1631, 1632, 1633, 1634, 1635, 1636, 1637, 1638, 1639, 1640, 1641, 1642, 1643, 1644, 1645, 1646, 1647, 1648, 1649, 1650, 1651, 1652, 1653, 1654, 1655, 1656, 1657, 1658, 1659, 1660, 1661, 1662, 1663, 1664, 1665, 1666, 1667, 1668, 1669, 1670, 1671, 1672, 1673, 1674, 1675, 1676, 1677, 1678, 1679, 1680, 1681, 1682, 1683, 1684, 1685, 1686, 1687, 1688, 1689, 1690, 1691, 1692, 1693, 1694, 1695, 1696, 1697, 1698, 1699, 1700, 1701, 1702, 1703, 1704, 1705, 1706, 1707, 1708, 1709, 1710, 1711, 1712, 1713, 1714, 1715, 1716, 1717, 1718, 1719, 1720, 1721, 1722, 1723, 1724, 1725, 1726, 1727, 1728, 1729, 1730, 1731, 1732, 1733, 1734, 1735, 1736, 1737, 1738, 1739, 1740, 1741, 1742, 1743, 1744, 1745, 1746, 1747, 1748, 1749, 1750, 1751, 1752, 1753, 1754, 1755, 1756, 1757, 1758, 1759, 1760, 1761, 1762, 1763, 1764, 1765, 1766, 1767, 1768, 1769, 1770, 1771, 1772, 1773, 1774, 1775, 1776, 1777, 1778, 1779, 1780, 1781, 1782, 1783, 1784, 1785, 1786, 1787, 1788, 1789, 1790, 1791, 1792, 1793, 1794, 1795, 1796, 1797, 1798, 1799, 1800, 1801, 1802, 1803, 1804, 1805, 1806, 1807, 1808, 1809, 1810, 1811, 1812, 1813, 1814, 1815, 1816, 1817, 1818, 1819, 1820, 1821, 1822, 1823, 1824, 1825, 1826, 1827, 1828, 1829, 1830, 1831, 1832, 1833, 1834, 1835, 1836, 1837, 1838, 1839, 1840, 1841, 1842, 1843, 1844, 1845, 1846, 1847, 1848, 1849, 1850, 1851, 1852, 1853, 1854, 1855, 1856, 1857, 1858, 1859, 1860, 1861, 1862, 1863, 1864, 1865, 1866, 1867, 1868, 1869, 1870, 1871, 1872, 1873, 1874, 1875, 1876, 1877, 1878, 1879, 1880, 1881, 1882, 1883, 1884, 1885, 1886, 1887, 1888, 1889, 1890, 1891, 1892, 1893, 1894, 1895, 1896, 1897, 1898, 1899, 1900, 1901, 1902, 1903, 1904, 1905, 1906, 1907, 1908, 1909, 1910, 1911, 1912, 1913, 1914, 1915, 1916, 1917, 1918, 1919, 1920, 1921, 1922, 1923, 1924, 1925, 1926, 1927, 1928, 1929, 1930, 1931, 1932, 1933, 1934, 1935, 1936, 1937, 1938, 1939, 1940, 1941, 1942, 1943, 1944, 1945, 1946, 1947, 1948, 1949, 1950, 1951, 1952, 1953, 1954, 1955, 1956, 1957, 1958, 1959, 1960, 1961, 1962, 1963, 1964, 1965, 1966, 1967, 1968, 1969, 1970, 1971, 1972, 1973, 1974, 1975, 1976, 1977, 1978, 1979, 1980, 1981, 1982, 1983, 1984, 1985, 1986, 1987, 1988, 1989, 1990, 1991, 1992, 1993, 1994, 1995, 1996, 1997, 1998, 1999, 2000, 2001, 2002, 2003, 2004, 2005, 2006, 2007, 2008, 2009, 2010, 2011, 2012, 2013, 2014, 2015, 2016, 2017, 2018, 2019, 2020, 2021, 2022, 2023, 2024, 2025, 2026, 2027, 2028, 2029, 2030, 2031, 2032, 2033, 2034, 2035, 2036, 2037, 2038, 2039, 2040, 2041, 2042, 2043, 2044, 2045, 2046, 2047, 2048, 2049, 2050, 2051, 2052, 2053, 2054, 2055, 2056, 2057, 2058, 2059, 2060, 2061, 2062, 2063, 2064, 2065, 2066, 2067, 2068, 2069, 2070, 2071, 2072, 2073, 2074, 2075, 2076, 2077, 2078, 2079, 2080, 2081, 2082, 2083, 2084, 2085, 2086, 2087, 2088, 2089, 2090, 2091, 2092, 2093, 2094, 2095, 2096, 2097, 2098, 2099, 2100, 2101, 2102, 2103, 2104, 2105, 2106, 2107, 2108, 2109, 2110, 2111, 2112, 2113, 2114, 2115, 2116, 2117, 2118, 2119, 2120, 2121, 2122, 2123, 2124, 2125, 2126, 2127, 2128, 2129, 2130, 2131, 2132, 2133, 2134, 2135, 2136, 2137, 2138, 2139, 2140, 2141, 2142, 2143, 2144, 2145, 2146, 2147, 2148, 2149, 2150, 2151, 2152, 2153, 2154, 2155, 2156, 2157, 2158, 2159, 2160, 2161, 2162, 2163, 2164, 2165, 2166, 2167, 2168, 2169, 2170, 2171, 2172, 2173, 2174, 2175, 2176, 2177, 2178, 2179, 2180, 2181, 2182, 2183, 2184, 2185, 2186, 2187, 2188, 2189, 2190, 2191, 2192, 2193, 2194, 2195, 2196, 2197, 2198, 2199, 2200, 2201, 2202, 2203, 2204, 2205, 2206, 2207, 2208, 2209, 2210, 2211, 2212, 2213, 2214, 2215, 2216, 2217, 2218, 2219, 2220, 2221, 2222, 2223, 2224, 2225, 2226, 2227, 2228, 2229, 2230, 2231, 2232, 2233, 2234, 2235, 2236, 2237, 2238, 2239, 2240, 2241, 2242, 2243, 2244, 2245, 2246, 2247, 2248, 2249, 2250, 2251, 2252, 2253, 2254, 2255, 2256, 2257, 2258, 2259, 2260, 2261, 2262, 2263, 2264, 2265, 2266, 2267, 2268, 2269, 2270, 2271, 2272, 2273, 2274, 2275, 2276, 2277, 2278, 2279, 2280, 2281, 2282, 2283, 2284, 2285, 2286, 2287, 2288, 2289, 2290, 2291, 2292, 2293, 2294, 2295, 2296, 2297, 2298, 2299, 2300, 2301, 2302, 2303, 2304, 2305, 2306, 2307, 2308, 2309, 2310, 2311, 2312, 2313, 2314, 2315, 2316, 2317, 2318, 2319, 2320, 2321, 2322, 2323, 2324, 2325, 2326, 2327, 2328, 2329, 2330, 2331, 2332, 2333, 2334, 2335, 2336, 2337, 2338, 2339, 2340, 2341, 2342, 2343, 2344, 2345, 2346, 2347, 2348, 2349, 2350, 2351, 2352, 2353, 2354, 2355, 2356, 2357, 2358, 2359, 2360, 2361, 2362, 2363, 2364, 2365, 2366, 2367, 2368, 2369, 2370, 2371, 2372, 2373, 2374, 2375, 2376, 2377, 2378, 2379, 2380, 2381, 2382, 2383, 2384, 2385, 2386, 2387, 2388, 2389, 2390, 2391, 2392, 2393, 2394, 2395, 2396, 2397, 2398, 2399, 2400, 2401, 2402, 2403, 2404, 2405, 2406, 2407, 2408, 2409, 2410, 2411, 2412, 2413, 2414, 2415, 2416, 2417, 2418, 2419, 2420, 2421, 2422, 2423, 2424, 2425, 2426, 2427, 2428, 2429, 2430, 2431, 2432, 2433, 2434, 2435, 2436, 2437, 2438, 2439, 2440, 2441, 2442, 2443, 2444, 2445, 2446, 2447, 2448, 2449, 2450, 2451, 2452, 2453, 2454, 2455, 2456, 2457, 2458, 2459, 2460, 2461, 2462, 2463, 2464, 2465, 2466, 2467, 2468, 2469, 2470, 2471, 2472, 2473, 2474, 2475, 2476, 2477, 2478, 2479, 2480, 2481, 2482, 2483, 2484, 2485, 2486, 2487, 2488, 2489, 2490, 2491, 2492, 2493, 2494, 2495, 2496, 2497, 2498, 2499, 2500, 2501, 2502, 2503, 2504, 2505, 2506, 2507, 2508, 2509, 2510, 2511, 2512, 2513, 2514, 2515, 2516, 2517, 2518, 2519, 2520, 2521, 2522, 2523, 2524, 2525, 2526, 2527, 2528, 2529, 2530, 2531, 2532, 2533, 2534, 2535, 2536, 2537, 2538, 2539, 2540, 2541, 2542, 2543, 2544, 2545, 2546, 2547, 2548, 2549, 2550, 2551, 2552, 2553, 2554, 2555, 2556, 2557, 2558, 2559, 2560, 2561, 2562, 2563, 2564, 2565, 2566, 2567, 2568, 2569, 2570, 2571, 2572, 2573, 2574, 2575, 2576, 2577, 2578, 2579, 2580, 2581, 2582, 2583, 2584, 2585, 2586, 2587, 2588, 2589, 2590, 2591, 2592, 2593, 2594, 2595, 2596, 2597, 2598, 2599, 2600, 2601, 2602, 2603, 2604, 2605, 2606, 2607, 2608, 2609, 2610, 2611, 2612, 2613, 2614, 2615, 2616, 2617, 2618, 2619, 2620, 2621, 2622, 2623, 2624, 2625, 2626, 2627, 2628, 2629, 2630, 2631, 2632, 2633, 2634, 2635, 2636, 2637, 2638, 2639, 2640, 2641, 2642, 2643, 2644, 2645, 2646, 2647, 2648, 2649, 2650, 2651, 2652, 2653, 2654, 2655, 2656, 2657, 2658, 2659, 2660, 2661, 2662, 2663, 2664, 2665, 2666, 2667, 2668, 2669, 2670, 2671, 2672, 2673, 2674, 2675, 2676, 2677, 2678, 2679, 2680, 2681, 2682, 2683, 2684, 2685, 2686, 2687, 2688, 2689, 2690, 2691, 2692, 2693, 2694, 2695, 2696, 2697, 2698, 2699, 2700, 2701, 2702, 2703, 2704, 2705, 2706, 2707, 2708, 2709, 2710, 2711, 2712, 2713, 2714, 2715, 2716, 2717, 2718, 2719, 2720, 2721, 2722, 2723, 2724, 2725, 2726, 2727, 2728, 2729, 2730, 2731, 2732, 2733, 2734, 2735, 2736, 2737, 2738, 2739, 2740, 2741, 2742, 2743, 2744, 2745, 2746, 2747, 2748, 2749, 2750, 2751, 2752, 2753, 2754, 2755, 2756, 2757, 2758, 2759, 2760, 2761, 2762, 2763, 2764, 2765, 2766, 2767, 2768, 2769, 2770, 2771, 2772, 2773, 2774, 2775, 2776, 2777, 2778, 2779, 2780, 2781, 2782, 2783, 2784, 2785, 2786, 2787, 2788, 2789, 2790, 2791, 2792, 2793, 2794, 2795, 2796, 2797, 2798, 2799, 2800, 2801, 2802, 2803, 2804, 2805, 2806, 2807, 2808, 2809, 2810, 2811, 2812, 2813, 2814, 2815, 2816, 2817, 2818, 2819, 2820, 2821, 2822, 2823, 2824, 2825, 2826, 2827, 2828, 2829, 2830, 2831, 2832, 2833, 2834, 2835, 2836, 2837, 2838, 2839, 2840, 2841, 2842, 2843, 2844, 2845, 2846, 2847, 2848, 2849, 2850, 2851, 2852, 2853, 2854, 2855, 2856, 2857, 2858, 2859, 2860, 2861, 2862, 2863, 2864, 2865, 2866, 2867, 2868, 2869, 2870, 2871, 2872, 2873, 2874, 2875, 2876, 2877, 2878, 2879, 2880, 2881, 2882, 2883, 2884, 2885, 2886, 2887, 2888, 2889, 2890, 2891, 2892, 2893, 2894, 2895, 2896, 2897, 2898, 2899, 2900, 2901, 2902, 2903, 2904, 2905, 2906, 2907, 2908, 2909, 2910, 2911, 2912, 2913, 2914, 2915, 2916, 2917, 2918, 2919, 2920, 2921, 2922, 2923, 2924, 2925, 2926, 2927, 2928, 2929, 2930, 2931, 2932, 2933, 2934, 2935, 2936, 2937, 2938, 2939, 2940, 2941, 2942, 2943, 2944, 2945, 2946, 2947, 2948, 2949, 2950, 2951, 2952, 2953, 2954, 2955, 2956, 2957, 2958, 2959, 2960, 2961, 2962, 2963, 2964, 2965, 2966, 2967, 2968, 2969, 2970, 2971, 2972, 2973, 2974, 2975, 2976, 2977, 2978, 2979, 2980, 2981, 2982, 2983, 2984, 2985, 2986, 2987, 2988, 2989, 2990, 2991, 2992, 2993, 2994, 2995, 2996, 2997, 2998, 2999, 3000, 3001, 3002, 3003, 3004, 3005, 3006, 3007, 3008, 3009, 3010, 3011, 3012, 3013, 3014, 3015, 3016, 3017, 3018, 3019, 3020, 3021, 3022, 3023, 3024, 3025, 3026, 3027, 3028, 3029, 3030, 3031, 3032, 3033, 3034, 3035, 3036, 3037, 3038, 3039, 3040, 3041, 3042, 3043, 3044, 3045, 3046, 3047, 3048, 3049, 3050, 3051, 3052, 3053, 3054, 3055, 3056, 3057, 3058, 3059, 3060, 3061, 3062, 3063, 3064, 3065, 3066, 3067, 3068, 3069, 3070, 3071, 3072, 3073, 3074, 3075, 3076, 3077, 3078, 3079, 3080, 3081, 3082, 3083, 3084, 3085, 3086, 3087, 3088, 3089, 3090, 3091, 3092, 3093, 3094, 3095, 3096, 3097, 3098, 3099, 3100, 3101, 3102, 3103, 3104, 3105, 3106, 3107, 3108, 3109, 3110, 3111, 3112, 3113, 3114, 3115, 3116, 3117, 3118, 3119, 3120, 3121, 3122, 3123, 3124, 3125, 3126, 3127, 3128, 3129, 3130, 3131, 3132, 3133, 3134, 3135, 3136, 3137, 3138, 3139, 3140, 3141, 3142, 3143, 3144, 3145, 3146, 3147, 3148, 3149, 3150, 3151, 3152, 3153, 3154, 3155, 3156, 3157, 3158, 3159, 3160, 3161, 3162, 3163, 3164, 3165, 3166, 3167, 3168, 3169, 3170, 3171, 3172, 3173, 3174, 3175, 3176, 3177, 3178, 3179, 3180, 3181, 3182, 3183, 3184, 3185, 3186, 3187, 3188, 3189, 3190, 3191, 3192, 3193, 3194, 3195, 3196, 3197, 3198, 3199, 3200, 3201, 3202, 3203, 3204, 3205, 3206, 3207, 3208, 3209, 3210, 3211, 3212, 3213, 3214, 3215, 3216, 3217, 3218, 3219, 3220, 3221, 3222, 3223, 3224, 3225, 3226, 3227, 3228, 3229, 3230, 3231, 3232, 3233, 3234, 3235, 3236, 3237, 3238, 3239, 3240, 3241, 3242, 3243, 3244, 3245, 3246, 3247, 3248, 3249, 3250, 3251, 3252, 3253, 3254, 3255, 3256, 3257, 3258, 3259, 3260, 3261, 3262, 3263, 3264, 3265, 3266, 3267, 3268, 3269, 3270, 3271, 3272, 3273, 3274, 3275, 3276, 3277, 3278, 3279, 3280, 3281, 3282, 3283, 3284, 3285, 3286, 3287, 3288, 3289, 3290, 3291, 3292, 3293, 3294, 3295, 3296, 3297, 3298, 3299, 3300, 3301, 3302, 3303, 3304, 3305, 3306, 3307, 3308, 3309, 3310, 3311, 3312, 3313, 3314, 3315, 3316, 3317, 3318, 3319, 3320, 3321, 3322, 3323, 3324, 3325, 3326, 3327, 3328, 3329, 3330, 3331, 3332, 3333, 3334, 3335, 3336, 3337, 3338, 3339, 3340, 3341, 3342, 3343, 3344, 3345, 3346, 3347, 3348, 3349, 3350, 3351, 3352, 3353, 3354, 3355, 3356, 3357, 3358, 3359, 3360, 3361, 3362, 3363, 3364, 3365, 3366, 3367, 3368, 3369, 3370, 3371, 3372, 3373, 3374, 3375, 3376, 3377, 3378, 3379, 3380, 3381, 3382, 3383, 3384, 3385, 3386, 3387, 3388, 3389, 3390, 3391, 3392, 3393, 3394, 3395, 3396, 3397, 3398, 3399, 3400, 3401, 3402, 3403, 3404, 3405, 3406, 3407, 3408, 3409, 3410, 3411, 3412, 3413, 3414, 3415, 3416, 3417, 3418, 3419, 3420, 3421, 3422, 3423, 3424, 3425, 3426, 3427, 3428, 3429, 3430, 3431, 3432, 3433, 3434, 3435, 3436, 3437, 3438, 3439, 3440, 3441, 3442, 3443, 3444, 3445, 3446, 3447, 3448, 3449, 3450, 3451, 3452, 3453, 3454, 3455, 3456, 3457, 3458, 3459, 3460, 3461, 3462, 3463, 3464, 3465, 3466, 3467, 3468, 3469, 3470, 3471, 3472, 3473, 3474, 3475, 3476, 3477, 3478, 3479, 3480, 3481, 3482, 3483, 3484, 3485, 3486, 3487, 3488, 3489, 3490, 3491, 3492, 3493, 3494, 3495, 3496, 3497, 3498, 3499, 3500, 3501, 3502, 3503, 3504, 3505, 3506, 3507, 3508, 3509, 3510, 3511, 3512, 3513, 3514, 3515, 3516, 3517, 3518, 3519, 3520, 3521, 3522, 3523, 3524, 3525, 3526, 3527, 3528, 3529, 3530, 3531, 3532, 3533, 3534, 3535, 3536, 3537, 3538, 3539, 3540, 3541, 3542, 3543, 3544, 3545, 3546, 3547, 3548, 3549, 3550, 3551, 3552, 3553, 3554, 3555, 3556, 3557, 3558, 3559, 3560, 3561, 3562, 3563, 3564, 3565, 3566, 3567, 3568, 3569, 3570, 3571, 3572, 3573, 3574, 3575, 3576, 3577, 3578, 3579, 3580, 3581, 3582, 3583, 3584, 3585, 3586, 3587, 3588, 3589, 3590, 3591, 3592, 3593, 3594, 3595, 3596, 3597, 3598, 3599, 3600, 3601, 3602, 3603, 3604, 3605, 3606, 3607, 3608, 3609, 3610, 3611, 3612, 3613, 3614, 3615, 3616, 3617, 3618, 3619, 3620, 3621, 3622, 3623, 3624, 3625, 3626, 3627, 3628, 3629, 3630, 3631, 3632, 3633, 3634, 3635, 3636, 3637, 3638, 3639, 3640, 3641, 3642, 3643, 3644, 3645, 3646, 3647, 3648, 3649, 3650, 3651, 3652, 3653, 3654, 3655, 3656, 3657, 3658, 3659, 3660, 3661, 3662, 3663, 3664, 3665, 3666, 3667, 3668, 3669, 3670, 3671, 3672, 3673, 3674, 3675, 3676, 3677, 3678, 3679, 3680, 3681, 3682, 3683, 3684, 3685, 3686, 3687, 3688, 3689, 3690, 3691, 3692, 3693, 3694, 3695, 3696, 3697, 3698, 3699, 3700, 3701, 3702, 3703, 3704, 3705, 3706, 3707, 3708, 3709, 3710, 3711, 3712, 3713, 3714, 3715, 3716, 3717, 3718, 3719, 3720, 3721, 3722, 3723, 3724, 3725, 3726, 3727, 3728, 3729, 3730, 3731, 3732, 3733, 3734, 3735, 3736, 3737, 3738, 3739, 3740, 3741, 3742, 3743, 3744, 3745, 3746, 3747, 3748, 3749, 3750, 3751, 3752, 3753, 3754, 3755, 3756, 3757, 3758, 3759, 3760, 3761, 3762, 3763, 3764, 3765, 3766, 3767, 3768, 3769, 3770, 3771, 3772, 3773, 3774, 3775, 3776, 3777, 3778, 3779, 3780, 3781, 3782, 3783, 3784, 3785, 3786, 3787, 3788, 3789, 3790, 3791, 3792, 3793, 3794, 3795, 3796, 3797, 3798, 3799, 3800, 3801, 3802, 3803, 3804, 3805, 3806, 3807, 3808, 3809, 3810, 3811, 3812, 3813, 3814, 3815, 3816, 3817, 3818, 3819, 3820, 3821, 3822, 3823, 3824, 3825, 3826, 3827, 3828, 3829, 3830, 3831, 3832, 3833, 3834, 3835, 3836, 3837, 3838, 3839, 3840, 3841, 3842, 3843, 3844, 3845, 3846, 3847, 3848, 3849, 3850, 3851, 3852, 3853, 3854, 3855, 3856, 3857, 3858, 3859, 3860, 3861, 3862, 3863, 3864, 3865, 3866, 3867, 3868, 3869, 3870, 3871, 3872, 3873, 3874, 3875, 3876, 3877, 3878, 3879, 3880, 3881, 3882, 3883, 3884, 3885, 3886, 3887, 3888, 3889, 3890, 3891, 3892, 3893, 3894, 3895, 3896, 3897, 3898, 3899, 3900, 3901, 3902, 3903, 3904, 3905, 3906, 3907, 3908, 3909, 3910, 3911, 3912, 3913, 3914, 3915, 3916, 3917, 3918, 3919, 3920, 3921, 3922, 3923, 3924, 3925, 3926, 3927, 3928, 3929, 3930, 3931, 3932, 3933, 3934, 3935, 3936, 3937, 3938, 3939, 3940, 3941, 3942, 3943, 3944, 3945, 3946, 3947, 3948, 3949, 3950, 3951, 3952, 3953, 3954, 3955, 3956, 3957, 3958, 3959, 3960, 3961, 3962, 3963, 3964, 3965, 3966, 3967, 3968, 3969, 3970, 3971, 3972, 3973, 3974, 3975, 3976, 3977, 3978, 3979, 3980, 3981, 3982, 3983, 3984, 3985, 3986, 3987, 3988, 3989, 3990, 3991, 3992, 3993, 3994, 3995, 3996, 3997, 3998, 3999, 4000, 4001, 4002, 4003, 4004, 4005, 4006, 4007, 4008, 4009, 4010, 4011, 4012, 4013, 4014, 4015, 4016, 4017, 4018, 4019, 4020, 4021, 4022, 4023, 4024, 4025, 4026, 4027, 4028, 4029, 4030, 4031, 4032, 4033, 4034, 4035, 4036, 4037, 4038, 4039, 4040, 4041, 4042, 4043, 4044, 4045, 4046, 4047, 4048, 4049, 4050, 4051, 4052, 4053, 4054, 4055, 4056, 4057, 4058, 4059, 4060, 4061, 4062, 4063, 4064, 4065, 4066, 4067, 4068, 4069, 4070, 4071, 4072, 4073, 4074, 4075, 4076, 4077, 4078, 4079, 4080, 4081, 4082, 4083, 4084, 4085, 4086, 4087, 4088, 4089, 4090, 4091, 4092, 4093, 4094, 4095, 4096, 4097, 4098, 4099, 4100, 4101, 4102, 4103, 4104, 4105, 4106, 4107, 4108, 4109, 4110, 4111, 4112, 4113, 4114, 4115, 4116, 4117, 4118, 4119, 4120, 4121, 4122, 4123, 4124, 4125, 4126, 4127, 4128, 4129, 4130, 4131, 4132, 4133, 4134, 4135, 4136, 4137, 4138, 4139, 4140, 4141, 4142, 4143, 4144, 4145, 4146, 4147, 4148, 4149, 4150, 4151, 4152, 4153, 4154, 4155, 4156, 4157, 4158, 4159, 4160, 4161, 4162, 4163, 4164, 4165, 4166, 4167, 4168, 4169, 4170, 4171, 4172, 4173, 4174, 4175, 4176, 4177, 4178, 4179, 4180, 4181, 4182, 4183, 4184, 4185, 4186, 4187, 4188, 4189, 4190, 4191, 4192, 4193, 4194, 4195, 4196, 4197, 4198, 4199, 4200, 4201, 4202, 4203, 4204, 4205, 4206, 4207, 4208, 4209, 4210, 4211, 4212, 4213, 4214, 4215, 4216, 4217, 4218, 4219, 4220, 4221, 4222, 4223, 4224, 4225, 4226, 4227, 4228, 4229, 4230, 4231, 4232, 4233, 4234, 4235, 4236, 4237, 4238, 4239, 4240, 4241, 4242, 4243, 4244, 4245, 4246, 4247, 4248, 4249, 4250, 4251, 4252, 4253, 4254, 4255, 4256, 4257, 4258, 4259, 4260, 4261, 4262, 4263, 4264, 4265, 4266, 4267, 4268, 4269, 4270, 4271, 4272, 4273, 4274, 4275, 4276, 4277, 4278, 4279, 4280, 4281, 4282, 4283, 4284, 4285, 4286, 4287, 4288, 4289, 4290, 4291, 4292, 4293, 4294, 4295, 4296, 4297, 4298, 4299, 4300, 4301, 4302, 4303, 4304, 4305, 4306, 4307, 4308, 4309, 4310, 4311, 4312, 4313, 4314, 4315, 4316, 4317, 4318, 4319, 4320, 4321, 4322, 4323, 4324, 4325, 4326, 4327, 4328, 4329, 4330, 4331, 4332, 4333, 4334, 4335, 4336, 4337, 4338, 4339, 4340, 4341, 4342, 4343, 4344, 4345, 4346, 4347, 4348, 4349, 4350, 4351, 4352, 4353, 4354, 4355, 4356, 4357, 4358, 4359, 4360, 4361, 4362, 4363, 4364, 4365, 4366, 4367, 4368, 4369, 4370, 4371, 4372, 4373, 4374, 4375, 4376, 4377, 4378, 4379, 4380, 4381, 4382, 4383, 4384, 4385, 4386, 4387, 4388, 4389, 4390, 4391, 4392, 4393, 4394, 4395, 4396, 4397, 4398, 4399, 4400, 4401, 4402, 4403, 4404, 4405, 4406, 4407, 4408, 4409, 4410, 4411, 4412, 4413, 4414, 4415, 4416, 4417, 4418, 4419, 4420, 4421, 4422, 4423, 4424, 4425, 4426, 4427, 4428, 4429, 4430, 4431, 4432, 4433, 4434, 4435, 4436, 4437, 4438, 4439, 4440, 4441, 4442, 4443, 4444, 4445, 4446, 4447, 4448, 4449, 4450, 4451, 4452, 4453, 4454, 4455, 4456, 4457, 4458, 4459, 4460, 4461, 4462, 4463, 4464, 4465, 4466, 4467, 4468, 4469, 4470, 4471, 4472, 4473, 4474, 4475, 4476, 4477, 4478, 4479, 4480, 4481, 4482, 4483, 4484, 4485, 4486, 4487, 4488, 4489, 4490, 4491, 4492, 4493, 4494, 4495, 4496, 4497, 4498, 4499, 4500, 4501, 4502, 4503, 4504, 4505, 4506, 4507, 4508, 4509, 4510, 4511, 4512, 4513, 4514, 4515, 4516, 4517, 4518, 4519, 4520, 4521, 4522, 4523, 4524, 4525, 4526, 4527, 4528, 4529, 4530, 4531, 4532, 4533, 4534, 4535, 4536, 4537, 4538, 4539, 4540, 4541, 4542, 4543, 4544, 4545, 4546, 4547, 4548, 4549, 4550, 4551, 4552, 4553, 4554, 4555, 4556, 4557, 4558, 4559, 4560, 4561, 4562, 4563, 4564, 4565, 4566, 4567, 4568, 4569, 4570, 4571, 4572, 4573, 4574, 4575, 4576, 4577, 4578, 4579, 4580, 4581, 4582, 4583, 4584, 4585, 4586, 4587, 4588, 4589, 4590, 4591, 4592, 4593, 4594, 4595, 4596, 4597, 4598, 4599, 4600, 4601, 4602, 4603, 4604, 4605, 4606, 4607, 4608, 4609, 4610, 4611, 4612, 4613, 4614, 4615, 4616, 4617, 4618, 4619, 4620, 4621, 4622, 4623, 4624, 4625, 4626, 4627, 4628, 4629, 4630, 4631, 4632, 4633, 4634, 4635, 4636, 4637, 4638, 4639, 4640, 4641, 4642, 4643, 4644, 4645, 4646, 4647, 4648, 4649, 4650, 4651, 4652, 4653, 4654, 4655, 4656, 4657, 4658, 4659, 4660, 4661, 4662, 4663, 4664, 4665, 4666, 4667, 4668, 4669, 4670, 4671, 4672, 4673, 4674, 4675, 4676, 4677, 4678, 4679, 4680, 4681, 4682, 4683, 4684, 4685, 4686, 4687, 4688, 4689, 4690, 4691, 4692, 4693, 4694, 4695, 4696, 4697, 4698, 4699, 4700, 4701, 4702, 4703, 4704, 4705, 4706, 4707, 4708, 4709, 4710, 4711, 4712, 4713, 4714, 4715, 4716, 4717, 4718, 4719, 4720, 4721, 4722, 4723, 4724, 4725, 4726, 4727, 4728, 4729, 4730, 4731, 4732, 4733, 4734, 4735, 4736, 4737, 4738, 4739, 4740, 4741, 4742, 4743, 4744, 4745, 4746, 4747, 4748, 4749, 4750, 4751, 4752, 4753, 4754, 4755, 4756, 4757, 4758, 4759, 4760, 4761, 4762, 4763, 4764, 4765, 4766, 4767, 4768, 4769, 4770, 4771, 4772, 4773, 4774, 4775, 4776, 4777, 4778, 4779, 4780, 4781, 4782, 4783, 4784, 4785, 4786, 4787, 4788, 4789, 4790, 4791, 4792, 4793, 4794, 4795, 4796, 4797, 4798, 4799, 4800, 4801, 4802, 4803, 4804, 4805, 4806, 4807, 4808, 4809, 4810, 4811, 4812, 4813, 4814, 4815, 4816, 4817, 4818, 4819, 4820, 4821, 4822, 4823, 4824, 4825, 4826, 4827, 4828, 4829, 4830, 4831, 4832, 4833, 4834, 4835, 4836, 4837, 4838, 4839, 4840, 4841, 4842, 4843, 4844, 4845, 4846, 4847, 4848, 4849, 4850, 4851, 4852, 4853, 4854, 4855, 4856, 4857, 4858, 4859, 4860, 4861, 4862, 4863, 4864, 4865, 4866, 4867, 4868, 4869, 4870, 4871, 4872, 4873, 4874, 4875, 4876, 4877, 4878, 4879, 4880, 4881, 4882, 4883, 4884, 4885, 4886, 4887, 4888, 4889, 4890, 4891, 4892, 4893, 4894, 4895, 4896, 4897, 4898, 4899, 4900, 4901, 4902, 4903, 4904, 4905, 4906, 4907, 4908, 4909, 4910, 4911, 4912, 4913, 4914, 4915, 4916, 4917, 4918, 4919, 4920, 4921, 4922, 4923, 4924, 4925, 4926, 4927, 4928, 4929, 4930, 4931, 4932, 4933, 4934, 4935, 4936, 4937, 4938, 4939, 4940, 4941, 4942, 4943, 4944, 4945, 4946, 4947, 4948, 4949, 4950, 4951, 4952, 4953, 4954, 4955, 4956, 4957, 4958, 4959, 4960, 4961, 4962, 4963, 4964, 4965, 4966, 4967, 4968, 4969, 4970, 4971, 4972, 4973, 4974, 4975, 4976, 4977, 4978, 4979, 4980, 4981, 4982, 4983, 4984, 4985, 4986, 4987, 4988, 4989, 4990, 4991, 4992, 4993, 4994, 4995, 4996, 4997, 4998, 4999, 5000, 5001, 5002, 5003, 5004, 5005, 5006, 5007, 5008, 5009, 5010, 5011, 5012, 5013, 5014, 5015, 5016, 5017, 5018, 5019, 5020, 5021, 5022, 5023, 5024, 5025, 5026, 5027, 5028, 5029, 5030, 5031, 5032, 5033, 5034, 5035, 5036, 5037, 5038, 5039, 5040, 5041, 5042, 5043, 5044, 5045, 5046, 5047, 5048, 5049, 5050, 5051, 5052, 5053, 5054, 5055, 5056, 5057, 5058, 5059, 5060, 5061, 5062, 5063, 5064, 5065, 5066, 5067, 5068, 5069, 5070, 5071, 5072, 5073, 5074, 5075, 5076, 5077, 5078, 5079, 5080, 5081, 5082, 5083, 5084, 5085, 5086, 5087, 5088, 5089, 5090, 5091, 5092, 5093, 5094, 5095, 5096, 5097, 5098, 5099, 5100, 5101, 5102, 5103, 5104, 5105, 5106, 5107, 5108, 5109, 5110, 5111, 5112, 5113, 5114, 5115, 5116, 5117, 5118, 5119, 5120, 5121, 5122, 5123, 5124, 5125, 5126, 5127, 5128, 5129, 5130, 5131, 5132, 5133, 5134, 5135, 5136, 5137, 5138, 5139, 5140, 5141, 5142, 5143, 5144, 5145, 5146, 5147, 5148, 5149, 5150, 5151, 5152, 5153, 5154, 5155, 5156, 5157, 5158, 5159, 5160, 5161, 5162, 5163, 5164, 5165, 5166, 5167, 5168, 5169, 5170, 5171]})\n"
          ],
          "name": "stdout"
        }
      ]
    },
    {
      "cell_type": "markdown",
      "metadata": {
        "id": "bzkqRb15yVy8",
        "colab_type": "text"
      },
      "source": [
        "**With this, we calculate prior**"
      ]
    },
    {
      "cell_type": "code",
      "metadata": {
        "id": "mWamKYSryVy8",
        "colab_type": "code",
        "colab": {
          "base_uri": "https://localhost:8080/",
          "height": 33
        },
        "outputId": "7319e835-6be9-484f-de7b-79df864be082"
      },
      "source": [
        "def get_prior(label_index):\n",
        "    \"\"\" Compute prior based on training samples\n",
        "    Args:\n",
        "        label_index (grouped sample indices by class)\n",
        "    Returns:\n",
        "        dictionary, with class label as key, corresponding prior as the value\n",
        "    \"\"\"\n",
        "    prior = {label: len(index) for label, index in label_index.items()}\n",
        "    total_count = sum(prior.values())\n",
        "    \n",
        "    for label in prior:\n",
        "        prior[label] /= float(total_count)\n",
        "    return prior\n",
        "\n",
        "# ********************************\n",
        "prior = get_prior(label_index)\n",
        "print(prior)"
      ],
      "execution_count": 31,
      "outputs": [
        {
          "output_type": "stream",
          "text": [
            "{1: 0.2900232018561485, 0: 0.7099767981438515}\n"
          ],
          "name": "stdout"
        }
      ]
    },
    {
      "cell_type": "code",
      "metadata": {
        "id": "MS4jn6W5yVy-",
        "colab_type": "code",
        "colab": {
          "base_uri": "https://localhost:8080/",
          "height": 82
        },
        "outputId": "c20c5678-b055-4737-97df-836522a0abbd"
      },
      "source": [
        "import numpy as np\n",
        "\n",
        "def get_likelihood(term_document_matrix, label_index, smoothing=0):\n",
        "    \"\"\" Compute likelihood based on training samples\n",
        "    Args:\n",
        "        term_document_matrix (sparse matrix)\n",
        "        label_index (grouped sample indices by class)\n",
        "        smoothing (integer, additive Laplace smoothing parameter)\n",
        "    Returns:\n",
        "        dictionary, with class as key, corresponding conditional probability P(feature|class) vector as value\n",
        "    \"\"\"\n",
        "    likelihood = {}\n",
        "    for label, index in label_index.items():\n",
        "        likelihood[label] = term_document_matrix[index, :].sum(axis=0) + smoothing\n",
        "        \n",
        "        likelihood[label] = np.asarray(likelihood[label])[0]\n",
        "        \n",
        "        total_count = likelihood[label].sum()\n",
        "        \n",
        "        likelihood[label] = likelihood[label] / float(total_count)\n",
        "    return likelihood\n",
        "\n",
        "# ********************************\n",
        "smoothing = 1\n",
        "likelihood = get_likelihood(term_docs, label_index, smoothing)\n",
        "\n",
        "print('Number of features: ', len(likelihood[0]))\n",
        "print('First five element of P(feature|ham): ', likelihood[0][:5])\n",
        "print('First five element of P(feature|spam): ', likelihood[1][:5])\n",
        "print('Feature names: ', feature_names[:5])"
      ],
      "execution_count": 32,
      "outputs": [
        {
          "output_type": "stream",
          "text": [
            "Number of features:  500\n",
            "First five element of P(feature|ham):  [0.00108581 0.00095774 0.00087978 0.00084637 0.00010023]\n",
            "First five element of P(feature|spam):  [0.00108997 0.00141902 0.00456555 0.0005347  0.00421594]\n",
            "Feature names:  ['able', 'access', 'account', 'accounting', 'act']\n"
          ],
          "name": "stdout"
        }
      ]
    },
    {
      "cell_type": "markdown",
      "metadata": {
        "id": "wfcmyr1CyVzB",
        "colab_type": "text"
      },
      "source": [
        "**With Prior and Likelihood ready, we can now calculate Posteriori for test samples and new emails**\n",
        "> Instead of multiplying hundreds and thousands of small value conditional probability which will cause numerical overflow, we will convert multiplication into natural logarithmic sum and convert back to its natural exponential value"
      ]
    },
    {
      "cell_type": "code",
      "metadata": {
        "id": "HJAG24gHyVzB",
        "colab_type": "code",
        "colab": {
          "base_uri": "https://localhost:8080/",
          "height": 33
        },
        "outputId": "4c1351f5-b3c7-4f85-8d8f-58f1cf06f84b"
      },
      "source": [
        "def get_posterior(term_document_matrix, prior, likelihood):\n",
        "    \"\"\"\n",
        "        Compute posteriori of testing samples based on priori and likelihood\n",
        "        \n",
        "        posteriori is proportional to priori * likelihood\n",
        "        = exp(log(priori * likelihood))\n",
        "        = exp(log(prior) + log(likelihood))\n",
        "        \n",
        "        Args:\n",
        "            term_document_matrix\n",
        "            prior\n",
        "            likelihood\n",
        "            \n",
        "        Returns:\n",
        "            {class label : posterior value}\n",
        "    \"\"\"\n",
        "    num_docs = term_document_matrix.shape[0]\n",
        "    # print(num_docs)\n",
        "    \n",
        "    posteriors = []\n",
        "    \n",
        "    for doc_index in range(num_docs):\n",
        "        posterior = {key : np.log(prior_label) for key, prior_label in prior.items()}\n",
        "        \n",
        "        for label, likelihood_label in likelihood.items():\n",
        "            term_document_vector = term_document_matrix.getrow(doc_index)\n",
        "            \n",
        "            counts = term_document_vector.data\n",
        "            indices = term_document_vector.indices\n",
        "            \n",
        "            for count, index in zip(counts, indices):\n",
        "                posterior[label] += np.log(likelihood_label[index]) * count\n",
        "                \n",
        "            min_log_posterior = min(posterior.values())\n",
        "            \n",
        "            for label in posterior:\n",
        "                try:\n",
        "                    posterior[label] = np.exp(posterior[label] - min_log_posterior)\n",
        "                except:\n",
        "                    # If log value execessively large, assign infinity\n",
        "                    posterior[label] = float('inf')\n",
        "            \n",
        "            # Normalize so that it sums upto 1\n",
        "            sum_posterior = sum(posterior.values())\n",
        "            \n",
        "            for label in posterior:\n",
        "                if posterior[label] == float('inf'):\n",
        "                    posterior[label] = 1.0\n",
        "                else:\n",
        "                    posterior[label] /= sum_posterior\n",
        "                \n",
        "            posteriors.append(posterior.copy())\n",
        "            \n",
        "    return posteriors\n",
        "\n",
        "# ********************************        \n",
        "posteriors = get_posterior(term_docs, prior, likelihood)\n",
        "#print(posteriors) "
      ],
      "execution_count": 33,
      "outputs": [
        {
          "output_type": "stream",
          "text": [
            "/usr/local/lib/python3.6/dist-packages/ipykernel_launcher.py:38: RuntimeWarning: overflow encountered in exp\n"
          ],
          "name": "stderr"
        }
      ]
    },
    {
      "cell_type": "markdown",
      "metadata": {
        "id": "9qWR-cEvyVzE",
        "colab_type": "text"
      },
      "source": [
        "**The prediction function is now complete. Let us now test the classifier with test data**"
      ]
    },
    {
      "cell_type": "code",
      "metadata": {
        "id": "IME2a1b6yVzE",
        "colab_type": "code",
        "colab": {}
      },
      "source": [
        "label_index = get_label_index(labels)\n",
        "prior = get_prior(label_index)\n",
        "\n",
        "smoothing = 1\n",
        "likelihood = get_likelihood(term_docs, label_index, smoothing)\n",
        "\n",
        "emails_test = [\n",
        "    '''Subject: flat screens\n",
        "    hello ,\n",
        "    please call or contact regarding the other flat screens requested .\n",
        "    trisha tlapek - eb 3132 b\n",
        "    michael sergeev - eb 3132 a\n",
        "    also the sun blocker that was taken away from eb 3131 a .\n",
        "    trisha should two monitors also michael .\n",
        "    thanks\n",
        "    kevin moore''',\n",
        "    '''Subject: having problems in bed ? we can help !\n",
        "    cialis allows men to enjoy a fully normal conjugal life without problem.\n",
        "    if we let things terrify us , life will not be worth living .\n",
        "    brevity is the soul of lingerie .\n",
        "    suspicion always haunts the guilty mind .''',\n",
        "]\n",
        "\n",
        "cleaned_test = clean_text(emails_test)\n",
        "term_docs_test = cv.transform(cleaned_test)\n",
        "posterior = get_posterior(term_docs_test, prior, likelihood)\n",
        "\n",
        "#print(posterior)"
      ],
      "execution_count": 0,
      "outputs": []
    },
    {
      "cell_type": "markdown",
      "metadata": {
        "id": "l_c7QPWUyVzG",
        "colab_type": "text"
      },
      "source": [
        "**To comprehensively evaluate our classifier's performance, we need to divide the data set randomly into training and test set. That will simulate learning and testing data set**"
      ]
    },
    {
      "cell_type": "code",
      "metadata": {
        "id": "CgqbJnHnyVzH",
        "colab_type": "code",
        "colab": {
          "base_uri": "https://localhost:8080/",
          "height": 50
        },
        "outputId": "05c05358-87e8-4c68-9e58-00ada4202b6a"
      },
      "source": [
        "from sklearn.model_selection import train_test_split\n",
        "X_train, X_test, Y_train, Y_test = train_test_split(cleaned_emails, labels, test_size=0.33, random_state=42)\n",
        "\n",
        "len(X_train), len(Y_train)\n",
        "len(X_test), len(Y_test)\n",
        "\n",
        "term_docs_train = cv.fit_transform(X_train)\n",
        "label_index = get_label_index(Y_train)\n",
        "prior = get_prior(label_index)\n",
        "likelihood = get_likelihood(term_docs_train, label_index, smoothing)\n",
        "\n",
        "term_docs_test = cv.transform(X_test)\n",
        "posterior = get_posterior(term_docs_test, prior, likelihood)\n",
        "\n",
        "correct = 0.0\n",
        "\n",
        "for pred, actual in zip(posterior, Y_test):\n",
        "    if actual == 1:\n",
        "        if pred[1] >= 0.5:\n",
        "            correct += 1\n",
        "    elif pred[0] > 0.5:\n",
        "        correct += 1\n",
        "\n",
        "print('The accuracy on {0} testing samples is: {1:.1f}%'.format(len(Y_test), correct/len(Y_test)*100))"
      ],
      "execution_count": 35,
      "outputs": [
        {
          "output_type": "stream",
          "text": [
            "/usr/local/lib/python3.6/dist-packages/ipykernel_launcher.py:38: RuntimeWarning: overflow encountered in exp\n"
          ],
          "name": "stderr"
        },
        {
          "output_type": "stream",
          "text": [
            "The accuracy on 1707 testing samples is: 49.8%\n"
          ],
          "name": "stdout"
        }
      ]
    },
    {
      "cell_type": "markdown",
      "metadata": {
        "id": "1GsznuigyVzJ",
        "colab_type": "text"
      },
      "source": [
        "So, our handcrafted classifier is not performing that well. We need to check computation especially for numerical overflow. The idea was to show what it takes to build a bayesian classifier. \n",
        "\n",
        "Now, we will use sklearn machine learning library gunction to to the same classification on same data set. The following code show that."
      ]
    },
    {
      "cell_type": "code",
      "metadata": {
        "id": "aOKTnk-HyVzK",
        "colab_type": "code",
        "colab": {
          "base_uri": "https://localhost:8080/",
          "height": 180
        },
        "outputId": "05d5b631-9040-4ec2-9669-c0cd6847bfef"
      },
      "source": [
        "from sklearn.naive_bayes import MultinomialNB\n",
        "clf = MultinomialNB(alpha=1.0, fit_prior=True)\n",
        "clf.fit(term_docs_train, Y_train)\n",
        "prediction_prob = clf.predict_proba(term_docs_test)\n",
        "prediction_prob[0:10]\n",
        "prediction = clf.predict(term_docs_test)\n",
        "prediction[:10]\n",
        "accuracy = clf.score(term_docs_test, Y_test)\n",
        "print('The accuracy using MultinomialNB is: {0:.1f}%'.format(accuracy*100))\n",
        "\n",
        "\n",
        "\n",
        "from sklearn.metrics import confusion_matrix\n",
        "confusion_matrix(Y_test, prediction, labels=[0, 1])\n",
        "\n",
        "from sklearn.metrics import precision_score, recall_score, f1_score\n",
        "precision_score(Y_test, prediction, pos_label=1)\n",
        "recall_score(Y_test, prediction, pos_label=1)\n",
        "f1_score(Y_test, prediction, pos_label=1)\n",
        "\n",
        "f1_score(Y_test, prediction, pos_label=0)\n",
        "\n",
        "from sklearn.metrics import classification_report\n",
        "report = classification_report(Y_test, prediction)\n",
        "print(report)\n",
        "\n",
        "\n",
        "\n",
        "\n",
        "pos_prob = prediction_prob[:, 1]\n",
        "thresholds = np.arange(0.0, 1.2, 0.1)\n",
        "true_pos, false_pos = [0]*len(thresholds), [0]*len(thresholds)\n",
        "for pred, y in zip(pos_prob, Y_test):\n",
        "    for i, threshold in enumerate(thresholds):\n",
        "        if pred >= threshold:\n",
        "            if y == 1:\n",
        "                true_pos[i] += 1\n",
        "            else:\n",
        "                false_pos[i] += 1\n",
        "        else:\n",
        "            break\n",
        "\n",
        "true_pos_rate = [tp / 516.0 for tp in true_pos]\n",
        "false_pos_rate = [fp / 1191.0 for fp in false_pos]\n"
      ],
      "execution_count": 36,
      "outputs": [
        {
          "output_type": "stream",
          "text": [
            "The accuracy using MultinomialNB is: 91.9%\n",
            "              precision    recall  f1-score   support\n",
            "\n",
            "           0       0.95      0.93      0.94      1191\n",
            "           1       0.85      0.89      0.87       516\n",
            "\n",
            "    accuracy                           0.92      1707\n",
            "   macro avg       0.90      0.91      0.90      1707\n",
            "weighted avg       0.92      0.92      0.92      1707\n",
            "\n"
          ],
          "name": "stdout"
        }
      ]
    },
    {
      "cell_type": "code",
      "metadata": {
        "id": "tZoDrlGhyVzN",
        "colab_type": "code",
        "colab": {
          "base_uri": "https://localhost:8080/",
          "height": 311
        },
        "outputId": "aae38c8c-adc4-4747-d3c0-54893e8a2775"
      },
      "source": [
        "import matplotlib.pyplot as plt\n",
        "plt.figure()\n",
        "lw = 2\n",
        "plt.plot(false_pos_rate, true_pos_rate, color='darkorange',\n",
        "         lw=lw)\n",
        "plt.plot([0, 1], [0, 1], color='navy', lw=lw, linestyle='--')\n",
        "plt.xlim([0.0, 1.0])\n",
        "plt.ylim([0.0, 1.05])\n",
        "plt.xlabel('False Positive Rate')\n",
        "plt.ylabel('True Positive Rate')\n",
        "plt.title('Receiver Operating Characteristic')\n",
        "plt.legend(loc=\"lower right\")\n",
        "plt.show()"
      ],
      "execution_count": 37,
      "outputs": [
        {
          "output_type": "stream",
          "text": [
            "No handles with labels found to put in legend.\n"
          ],
          "name": "stderr"
        },
        {
          "output_type": "display_data",
          "data": {
            "image/png": "[encoded data removed]",
            "text/plain": [
              "<Figure size 432x288 with 1 Axes>"
            ]
          },
          "metadata": {
            "tags": []
          }
        }
      ]
    },
    {
      "cell_type": "code",
      "metadata": {
        "id": "k3hBtWSeyVzU",
        "colab_type": "code",
        "colab": {
          "base_uri": "https://localhost:8080/",
          "height": 33
        },
        "outputId": "98d7cc58-eda7-45cf-b183-c190d5249bf9"
      },
      "source": [
        "from sklearn.metrics import roc_auc_score\n",
        "roc_auc_score(Y_test, pos_prob)"
      ],
      "execution_count": 38,
      "outputs": [
        {
          "output_type": "execute_result",
          "data": {
            "text/plain": [
              "0.9627422073822401"
            ]
          },
          "metadata": {
            "tags": []
          },
          "execution_count": 38
        }
      ]
    },
    {
      "cell_type": "code",
      "metadata": {
        "id": "fOEPOBHCyVzW",
        "colab_type": "code",
        "colab": {
          "base_uri": "https://localhost:8080/",
          "height": 460
        },
        "outputId": "3f20c2e6-36cc-434e-ce82-2c05be311128"
      },
      "source": [
        "from sklearn.model_selection import StratifiedKFold\n",
        "k = 10\n",
        "k_fold = StratifiedKFold(n_splits=k)\n",
        "\n",
        "# convert to numpy array for more efficient slicing\n",
        "cleaned_emails_np = np.array(cleaned_emails)\n",
        "labels_np = np.array(labels)\n",
        "\n",
        "max_features_option = [2000, 4000, 8000]\n",
        "smoothing_factor_option = [0.5, 1.0, 1.5, 2.0]\n",
        "fit_prior_option = [True, False]\n",
        "auc_record = {}\n",
        "\n",
        "for train_indices, test_indices in k_fold.split(cleaned_emails, labels):\n",
        "    X_train, X_test = cleaned_emails_np[train_indices], cleaned_emails_np[test_indices]\n",
        "    Y_train, Y_test = labels_np[train_indices], labels_np[test_indices]\n",
        "    \n",
        "    for max_features in max_features_option:\n",
        "        \n",
        "        if max_features not in auc_record:\n",
        "            auc_record[max_features] = {}\n",
        "        \n",
        "        cv = CountVectorizer(stop_words=\"english\", max_features=max_features)\n",
        "        \n",
        "        term_docs_train = cv.fit_transform(X_train)\n",
        "        term_docs_test = cv.transform(X_test)\n",
        "        \n",
        "        for smoothing_factor in smoothing_factor_option:\n",
        "            \n",
        "            if smoothing_factor not in auc_record[max_features]:\n",
        "                auc_record[max_features][smoothing_factor] = {}\n",
        "            \n",
        "            for fit_prior in fit_prior_option:\n",
        "                clf = MultinomialNB(alpha=smoothing_factor, fit_prior=fit_prior)\n",
        "                \n",
        "                clf.fit(term_docs_train, Y_train)\n",
        "                \n",
        "                prediction_prob = clf.predict_proba(term_docs_test)\n",
        "                \n",
        "                pos_prob = prediction_prob[:, 1]\n",
        "                \n",
        "                auc = roc_auc_score(Y_test, pos_prob)\n",
        "                \n",
        "                auc_record[max_features][smoothing_factor][fit_prior] \\\n",
        "                    = auc + auc_record[max_features][smoothing_factor].get(fit_prior, 0.0)\n",
        "\n",
        "print(auc_record)\n",
        "\n",
        "print('max features  smoothing  fit prior  auc')\n",
        "for max_features, max_feature_record in auc_record.items():\n",
        "    for smoothing, smoothing_record in max_feature_record.items():\n",
        "        for fit_prior, auc in smoothing_record.items():\n",
        "            print('       {0}      {1}      {2}    {3:.4f}'.format(max_features, smoothing, fit_prior, auc/k))\n"
      ],
      "execution_count": 39,
      "outputs": [
        {
          "output_type": "stream",
          "text": [
            "{2000: {0.5: {True: 9.750240690281561, False: 9.751066446511077}, 1.0: {True: 9.735152948900208, False: 9.734979712119417}, 1.5: {True: 9.723931233463649, False: 9.724493617462386}, 2.0: {True: 9.71577044583975, False: 9.71536130691466}}, 4000: {0.5: {True: 9.818612476799746, False: 9.81768824290171}, 1.0: {True: 9.804568870197052, False: 9.8031533586068}, 1.5: {True: 9.79265623148916, False: 9.792957316471192}, 2.0: {True: 9.785901157050901, False: 9.785803370453738}}, 8000: {0.5: {True: 9.8579403605418, False: 9.85769498084745}, 1.0: {True: 9.850522425265568, False: 9.849334597006674}, 1.5: {True: 9.8459018974845, False: 9.844484806302571}, 2.0: {True: 9.844158694664928, False: 9.84360452947913}}}\n",
            "max features  smoothing  fit prior  auc\n",
            "       2000      0.5      True    0.9750\n",
            "       2000      0.5      False    0.9751\n",
            "       2000      1.0      True    0.9735\n",
            "       2000      1.0      False    0.9735\n",
            "       2000      1.5      True    0.9724\n",
            "       2000      1.5      False    0.9724\n",
            "       2000      2.0      True    0.9716\n",
            "       2000      2.0      False    0.9715\n",
            "       4000      0.5      True    0.9819\n",
            "       4000      0.5      False    0.9818\n",
            "       4000      1.0      True    0.9805\n",
            "       4000      1.0      False    0.9803\n",
            "       4000      1.5      True    0.9793\n",
            "       4000      1.5      False    0.9793\n",
            "       4000      2.0      True    0.9786\n",
            "       4000      2.0      False    0.9786\n",
            "       8000      0.5      True    0.9858\n",
            "       8000      0.5      False    0.9858\n",
            "       8000      1.0      True    0.9851\n",
            "       8000      1.0      False    0.9849\n",
            "       8000      1.5      True    0.9846\n",
            "       8000      1.5      False    0.9844\n",
            "       8000      2.0      True    0.9844\n",
            "       8000      2.0      False    0.9844\n"
          ],
          "name": "stdout"
        }
      ]
    },
    {
      "cell_type": "code",
      "metadata": {
        "id": "8cltw0QoyVzY",
        "colab_type": "code",
        "colab": {}
      },
      "source": [
        ""
      ],
      "execution_count": 0,
      "outputs": []
    }
  ]
}